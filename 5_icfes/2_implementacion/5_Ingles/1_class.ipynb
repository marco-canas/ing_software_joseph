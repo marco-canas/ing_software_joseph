{
 "cells": [
  {
   "cell_type": "markdown",
   "id": "790a79af",
   "metadata": {},
   "source": [
    "## 🇬🇧 Inglés\n",
    "\n",
    "### Contenidos (Niveles A1-A2):\n",
    "- Vocabulario cotidiano (familia, comida, clima, ropa).\n",
    "- Gramática básica (presente simple, pasado simple).\n",
    "- Comprensión de textos cortos (correos, diálogos, anuncios).\n",
    "- Reconocimiento de estructuras gramaticales simples.\n",
    "- Interpretación de intenciones y contextos comunicativos.\n",
    "\n",
    "---"
   ]
  },
  {
   "cell_type": "markdown",
   "id": "be076127",
   "metadata": {},
   "source": [
    "### 🎯 Objetivo general\n",
    "Medir la comprensión lectora del idioma inglés en niveles **A1 y A2**. No se evalúa producción oral o escrita.\n",
    "\n",
    "### 🧠 Habilidades evaluadas\n",
    "- Comprensión general y específica de textos.\n",
    "- Reconocimiento de vocabulario cotidiano.\n",
    "- Identificación de estructuras gramaticales básicas.\n",
    "- Uso del idioma en contextos comunes (familia, viajes, escuela).\n",
    "\n",
    "### 📚 Temas frecuentes\n",
    "- Familia, comida, clima, actividades diarias.\n",
    "- Horarios, rutinas, lugares, salud.\n",
    "\n",
    "### 📊 Niveles de dificultad\n",
    "- A1: comprensión básica.\n",
    "- A2: comprensión intermedia baja.\n",
    "\n",
    "---\n"
   ]
  },
  {
   "cell_type": "markdown",
   "id": "9908a4d4",
   "metadata": {},
   "source": [
    "> La prueba de inglés no está estructurada por competencias-evidencias como las otras, pero se basa en:\n",
    "- Identificación de información general y específica.\n",
    "- Comprensión de significados en contexto.\n",
    "- Reconocimiento de estructuras gramaticales simples.\n",
    "- Uso del vocabulario cotidiano."
   ]
  },
  {
   "cell_type": "markdown",
   "id": "d9142beb",
   "metadata": {},
   "source": [
    "# Actividad de clase   \n",
    "\n",
    "## Cómo describir hábitos en inglés  "
   ]
  },
  {
   "cell_type": "markdown",
   "id": "2f72d151",
   "metadata": {},
   "source": [
    "En **inglés**, los **hábitos** o **acciones habituales** se describen principalmente con el **Presente Simple** (*Simple Present Tense*), aunque también pueden usarse expresiones adverbiales o construcciones específicas para enfatizar la frecuencia. Aquí tienes las formas más comunes:\n",
    "\n",
    "---\n",
    "\n",
    "### **1. Presente Simple (Simple Present)**  \n",
    "Estructura: **Sujeto + verbo en forma base (o + -s/-es en 3ra persona singular)**.  \n",
    "- **I drink coffee every morning.** *(Tomo café todas las mañanas.)*  \n",
    "- **She works at a hospital.** *(Ella trabaja en un hospital.)*  \n",
    "- **They always check their emails first.** *(Siempre revisan sus correos primero.)*  \n",
    "\n",
    "**Usos:**  \n",
    "- Rutinas diarias.  \n",
    "- Hechos generales o permanentes.  \n",
    "\n",
    "---\n",
    "\n",
    "### **2. Expresiones de Frecuencia**  \n",
    "Se usan adverbios o frases adverbiales para especificar **con qué frecuencia** ocurre la acción:  \n",
    "\n",
    "#### **Adverbios comunes:**  \n",
    "- **Always** (siempre), **usually** (normalmente), **often** (a menudo), **sometimes** (a veces), **rarely** (rara vez), **never** (nunca).  \n",
    "\n",
    "**Ejemplos:**  \n",
    "- **He always brushes his teeth before bed.** *(Siempre se cepilla los dientes antes de dormir.)*  \n",
    "- **We rarely eat fast food.** *(Rara vez comemos comida rápida.)*  \n",
    "\n",
    "#### **Frases adverbiales:**  \n",
    "- **Every day/week/month** (todos los días/semanas/meses).  \n",
    "- **Once/twice a day** (una/dos veces al día).  \n",
    "- **On Mondays** (los lunes).  \n",
    "\n",
    "**Ejemplo:**  \n",
    "- **She goes to the gym three times a week.** *(Ella va al gimnasio tres veces por semana.)*  \n",
    "\n",
    "---\n",
    "\n",
    "### **3. Construcción \"Used to\" (Para hábitos pasados)**  \n",
    "Estructura: **Sujeto + used to + verbo en forma base**.  \n",
    "- **I used to play soccer when I was a child.** *(Solía jugar fútbol cuando era niño.)*  \n",
    "- **They used to live in Paris.** *(Solían vivir en París.)*  \n",
    "\n",
    "**Nota:** Se usa **solo para hábitos del pasado que ya no existen**.  \n",
    "\n",
    "---\n",
    "\n",
    "### **4. \"Will\" para hábitos persistentes (a veces irritantes)**  \n",
    "Estructura: **Sujeto + will + verbo en forma base**.  \n",
    "- **He will leave the lights on!** *(¡Siempre deja las luces encendidas!)*  \n",
    "- **My dog will bark at the mailman.** *(Mi perro no deja de ladrar al cartero.)*  \n",
    "\n",
    "---\n",
    "\n",
    "### **5. Presente Continuo con \"always\" (Énfasis en irritación)**  \n",
    "Estructura: **Sujeto + am/is/are + always + gerundio (-ing)**.  \n",
    "- **You’re always interrupting me!** *(¡Siempre me interrumpes!)*  \n",
    "- **She’s always losing her keys.** *(Siempre está perdiendo sus llaves.)*  \n",
    "\n",
    "---\n",
    "\n",
    "### **Ejemplo Integrado:**  \n",
    "*\"My brother **usually wakes up** at 6 AM. He **drinks** black coffee and **reads** the news **every morning**. However, he **is always forgetting** to turn off the coffee machine!\"*  \n",
    "\n",
    "---\n",
    "\n",
    "### **Errores Comunes:**  \n",
    "- ❌ *\"I am going to the gym every day.\"* (Incorrecto: Presente Continuo no describe hábitos).  \n",
    "- ✅ *\"I go to the gym every day.\"* (Correcto: Presente Simple).  \n",
    "\n",
    "¿Necesitas ejemplos más específicos o ejercicios para practicar? 😊"
   ]
  }
 ],
 "metadata": {
  "celltoolbar": "Slideshow",
  "kernelspec": {
   "display_name": ".venv",
   "language": "python",
   "name": "python3"
  },
  "language_info": {
   "codemirror_mode": {
    "name": "ipython",
    "version": 3
   },
   "file_extension": ".py",
   "mimetype": "text/x-python",
   "name": "python",
   "nbconvert_exporter": "python",
   "pygments_lexer": "ipython3",
   "version": "3.12.6"
  },
  "rise": {
   "enable_chalkboard": true,
   "theme": "sky",
   "transition": "zoom"
  }
 },
 "nbformat": 4,
 "nbformat_minor": 5
}
