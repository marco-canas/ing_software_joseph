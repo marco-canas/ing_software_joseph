{
 "cells": [
  {
   "cell_type": "markdown",
   "id": "790a79af",
   "metadata": {},
   "source": [
    "## 🇬🇧 Inglés\n",
    "\n",
    "### Contenidos (Niveles A1-A2):\n",
    "- Vocabulario cotidiano (familia, comida, clima, ropa).\n",
    "- Gramática básica (presente simple, pasado simple).\n",
    "- Comprensión de textos cortos (correos, diálogos, anuncios).\n",
    "- Reconocimiento de estructuras gramaticales simples.\n",
    "- Interpretación de intenciones y contextos comunicativos.\n",
    "\n",
    "---"
   ]
  },
  {
   "cell_type": "markdown",
   "id": "be076127",
   "metadata": {},
   "source": [
    "### 🎯 Objetivo general\n",
    "Medir la comprensión lectora del idioma inglés en niveles **A1 y A2**. No se evalúa producción oral o escrita.\n",
    "\n",
    "### 🧠 Habilidades evaluadas\n",
    "- Comprensión general y específica de textos.\n",
    "- Reconocimiento de vocabulario cotidiano.\n",
    "- Identificación de estructuras gramaticales básicas.\n",
    "- Uso del idioma en contextos comunes (familia, viajes, escuela).\n",
    "\n",
    "### 📚 Temas frecuentes\n",
    "- Familia, comida, clima, actividades diarias.\n",
    "- Horarios, rutinas, lugares, salud.\n",
    "\n",
    "### 📊 Niveles de dificultad\n",
    "- A1: comprensión básica.\n",
    "- A2: comprensión intermedia baja.\n",
    "\n",
    "---\n"
   ]
  },
  {
   "cell_type": "markdown",
   "id": "9908a4d4",
   "metadata": {},
   "source": [
    "> La prueba de inglés no está estructurada por competencias-evidencias como las otras, pero se basa en:\n",
    "- Identificación de información general y específica.\n",
    "- Comprensión de significados en contexto.\n",
    "- Reconocimiento de estructuras gramaticales simples.\n",
    "- Uso del vocabulario cotidiano."
   ]
  }
 ],
 "metadata": {
  "celltoolbar": "Slideshow",
  "kernelspec": {
   "display_name": ".venv",
   "language": "python",
   "name": "python3"
  },
  "language_info": {
   "codemirror_mode": {
    "name": "ipython",
    "version": 3
   },
   "file_extension": ".py",
   "mimetype": "text/x-python",
   "name": "python",
   "nbconvert_exporter": "python",
   "pygments_lexer": "ipython3",
   "version": "3.12.6"
  },
  "rise": {
   "enable_chalkboard": true,
   "theme": "sky",
   "transition": "zoom"
  }
 },
 "nbformat": 4,
 "nbformat_minor": 5
}
