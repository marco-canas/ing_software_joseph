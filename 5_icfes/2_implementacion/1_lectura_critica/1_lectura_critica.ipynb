{
 "cells": [
  {
   "cell_type": "markdown",
   "id": "7742d148",
   "metadata": {},
   "source": [
    "## 📘 Lectura Crítica\n",
    "\n",
    "### Competencias:\n",
    "- **Identificar y entender contenidos locales**  \n",
    "  - Comprensión de palabras, frases y expresiones explícitas.  \n",
    "  - Identificación de información literal (¿qué?, ¿quién?, ¿cuándo?).\n",
    "\n",
    "- **Comprender la estructura global del texto**  \n",
    "  - Coherencia entre ideas.  \n",
    "  - Función de párrafos, secciones, etc.  \n",
    "  - Reconocimiento de ideas principales y secundarias.\n",
    "\n",
    "- **Reflexionar y evaluar críticamente**  \n",
    "  - Intención del autor.  \n",
    "  - Validez de argumentos y contraargumentos.  \n",
    "  - Estrategias discursivas y retóricas.\n",
    "\n",
    "### Tipos de textos:\n",
    "- Continuos: narrativos, expositivos, filosóficos.\n",
    "- Discontinuos: cómics, caricaturas, infografías, tablas, manuales.\n",
    "\n",
    "---\n",
    "\n"
   ]
  },
  {
   "cell_type": "markdown",
   "id": "d0f7e282",
   "metadata": {},
   "source": [
    "\n",
    "\n",
    "### 🎯 Objetivo general\n",
    "Evaluar las capacidades de comprensión, interpretación y evaluación de textos cotidianos y académicos no especializados. Se enfoca en habilidades lectoras, no en gramática.\n",
    "\n",
    "### 🧠 Competencias evaluadas\n",
    "1. **Identificar y entender contenidos locales**\n",
    "   - Comprensión literal del texto.\n",
    "   - Reconocimiento de elementos explícitos (qué, quién, cuándo).\n",
    "\n",
    "2. **Comprender la estructura global del texto**\n",
    "   - Coherencia entre ideas.\n",
    "   - Función de párrafos y oraciones.\n",
    "   - Relación entre ideas principales y secundarias.\n",
    "\n",
    "3. **Reflexionar y evaluar críticamente**\n",
    "   - Intención del autor.\n",
    "   - Evaluación de argumentos.\n",
    "   - Análisis del tono, propósito y estructura retórica.\n",
    "\n",
    "### 📄 Tipos de textos\n",
    "- Continuos: novelas, cuentos, ensayos, columnas.\n",
    "- Discontinuos: cómics, infografías, caricaturas, manuales.\n",
    "- Informativos filosóficos: análisis de ideas y posturas.\n",
    "\n",
    "### 📊 Distribución por competencia\n",
    "- Contenidos locales: **25%**\n",
    "- Sentido global: **42%**\n",
    "- Evaluación crítica: **33%**\n",
    "\n",
    "---"
   ]
  },
  {
   "cell_type": "markdown",
   "id": "8e2fbb1b",
   "metadata": {},
   "source": [
    "### 1. Identificar y entender contenidos locales\n",
    "**Evidencias:**\n",
    "- 1.1 Entiende el significado de palabras, frases o expresiones explícitas.\n",
    "- 1.2 Identifica eventos narrados y personajes presentes en textos.\n",
    "\n",
    "### 2. Comprender cómo se articulan las partes de un texto\n",
    "**Evidencias:**\n",
    "- 2.1 Reconoce la estructura formal del texto y función de sus partes.\n",
    "- 2.2 Identifica diferentes voces o situaciones en el texto.\n",
    "- 2.3 Establece relaciones entre frases o párrafos.\n",
    "- 2.4 Reconoce ideas principales y secundarias.\n",
    "- 2.5 Analiza relaciones entre elementos de un texto discontinuo.\n",
    "\n",
    "### 3. Reflexionar a partir de un texto y evaluar su contenido\n",
    "**Evidencias:**\n",
    "- 3.1 Evalúa validez de afirmaciones o argumentos.\n",
    "- 3.2 Relaciona el texto con otros textos o situaciones.\n",
    "- 3.3 Reconoce valoraciones presentes en el texto.\n",
    "- 3.4 Identifica estrategias discursivas.\n",
    "- 3.5 Contextualiza el texto o su información.\n",
    "\n",
    "---"
   ]
  },
  {
   "cell_type": "markdown",
   "id": "f7be72cd",
   "metadata": {},
   "source": []
  },
  {
   "cell_type": "code",
   "execution_count": null,
   "id": "d55bdd51",
   "metadata": {
    "vscode": {
     "languageId": "plaintext"
    }
   },
   "outputs": [],
   "source": [
    "1+2"
   ]
  }
 ],
 "metadata": {
  "celltoolbar": "Slideshow",
  "kernelspec": {
   "display_name": ".venv",
   "language": "python",
   "name": "python3"
  },
  "language_info": {
   "codemirror_mode": {
    "name": "ipython",
    "version": 3
   },
   "file_extension": ".py",
   "mimetype": "text/x-python",
   "name": "python",
   "nbconvert_exporter": "python",
   "pygments_lexer": "ipython3",
   "version": "3.12.6"
  },
  "rise": {
   "enable_chalkboard": true,
   "theme": "sky",
   "transition": "zoom"
  }
 },
 "nbformat": 4,
 "nbformat_minor": 5
}
