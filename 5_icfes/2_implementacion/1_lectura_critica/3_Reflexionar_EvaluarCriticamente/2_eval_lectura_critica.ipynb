{
 "cells": [
  {
   "cell_type": "markdown",
   "id": "dc06dec7",
   "metadata": {
    "slideshow": {
     "slide_type": "slide"
    }
   },
   "source": [
    "<table align=\"left\">\n",
    "  <td>\n",
    "    <a href=\"https://colab.research.google.com/github/marco-canas/didactica_ciencia_datos/blob/main/1_curso_machine_learning/1_evaluacion_oral_tarea_quiz_parcial.ipynb\" target=\"_parent\"><img src=\"https://colab.research.google.com/assets/colab-badge.svg\" alt=\"Open In Colab\"/></a>\n",
    "  </td>\n",
    "  <td>\n",
    "    <a target=\"_blank\" href=\"https://kaggle.com/kernels/welcome?src=https://github.com/marco-canas/didactica_ciencia_datos/blob/main/1_curso_machine_learning/1_evaluacion_oral_tarea_quiz_parcial.ipynb\"><img src=\"https://kaggle.com/static/images/open-in-kaggle.svg\" /></a>\n",
    "  </td>\n",
    "</table>"
   ]
  },
  {
   "cell_type": "markdown",
   "id": "e0c5b198",
   "metadata": {
    "slideshow": {
     "slide_type": "slide"
    }
   },
   "source": [
    "### [Video de apoyo a la lectura interactiva y experimental de este cuaderno]()"
   ]
  },
  {
   "cell_type": "markdown",
   "id": "41e82203",
   "metadata": {
    "slideshow": {
     "slide_type": "slide"
    }
   },
   "source": [
    "## [Vínculo al programa del curso:  ]()"
   ]
  },
  {
   "cell_type": "markdown",
   "id": "ca46c23b",
   "metadata": {
    "slideshow": {
     "slide_type": "slide"
    }
   },
   "source": [
    "# Modelo general de clase: [aula invertida](https://www3.gobiernodecanarias.org/medusa/ecoescuela/pedagotic/aprendizaje-invertido-flipped-classroom/)\n"
   ]
  },
  {
   "cell_type": "markdown",
   "id": "7f9be90f",
   "metadata": {
    "slideshow": {
     "slide_type": "slide"
    }
   },
   "source": [
    "# Fomento de la lectura literaria asociada a Ingeniería agropecuaria y licenciatura en Matemáticas y administración de empresas\n",
    "\n",
    "[Hábitos atómicos](https://github.com/marco-canas/habitos_atomicos/blob/main/13_como_dejar_de_postergar_usando_la_regla_de_los_dos_minutos/1_13_como_dejar_de_postergar_usando_la_regla_de_los_dos_minutos.ipynb)"
   ]
  },
  {
   "cell_type": "markdown",
   "id": "cf101603",
   "metadata": {},
   "source": [
    "# Prompt para pedir el diseño de evaluación de acuerdo a la metodología de \"Enseñanza basada en proyectos\"    \n",
    "\n",
    "Dame, por favor, un diseño de clase, con el enfoque: \"Aula Invertida, STEAMS y de Aprendizaje Basado en Problemas y Proyectos(ABPP)\" sobre: \" \", siguiendo la estructura:  \n",
    "\n",
    "1. Título de la clase \n",
    "2. Objetivos de aprendizaje que incluyan los indicadores del logro de estos objetivos.\n",
    "3. Un mapa conceptual que resuma la clase elaborado en Graphviz de Python con nodos y edges de diferentes formas, colores y rellenos y renderizado en la siguiente ubicación: `\"C:/Users/marco/Downloads\"`. No olvides el parámetro `view = True` para el método `render()` de Graphviz. Para este mapa controla las superposiciones de los nodos con: graph [overlap=false]; // Elimina superposiciones (puede aumentar el espacio)\n",
    "graph [overlap=\"scalexy\"]; // Escala el gráfico para evitar overlaps\n",
    "graph [overlap=\"compress\"]; // Comprime el grafo sin overlaps   \n",
    "\n",
    "4. Elementos históricos y epistemológicos relevantes para la clase pero contados como un cuento al estilo de un cuentero antioqueño en Colombia. Incluye imágenes de los protagonistas históricos de esta clase.   \n",
    "    \n",
    "5. Contenido de la clase. Centra el contenido, en lo que se necesita para adquirir las habilidades necesarias para presentar el prueba del ICFES en Colombia. \n",
    "6. Actividades de aprendizaje. Centra las actividades de aprendizaje, en lo que se necesita mi hijo para adquirir las habilidades necesarias para presentar el prueba del ICFES en Colombia. \n",
    "7. Incluye una canción o un poema que ayude a interiorizar y fijar los conceptos asociados a esta clase. \n",
    "8. Tarea o actividades de ejercitación y fijación. Centra las tares, en lo que se necesita para adquirir las habilidades necesarias para presentar el prueba del ICFES en Colombia. \n",
    "9.  Evaluación incluyendo diez proyectos, un ejemplo de quiz (de tres preguntas) y un ejemplo de parcial (de cinco puntos). Centra las actividades evaluativas, en lo que se necesita para adquirir las habilidades necesarias para presentar el prueba del ICFES en Colombia. \n",
    "10. Diseño de actividad de retroalimentación. \n",
    "11. Dame un vocabulario y frases del idioma inglés asociadas a esta clase.   \n",
    "12. Incluye apéndice para la clase sobre desarrollo de habilidades para trabajar en equipo y de asertividad y empatía para relacionarnos. Desarrollar capacidades de argumentación verbal u oral. \n",
    "13. Incluye 10 referentes en didáctica de la matemática que estén de acuerdo a la propuesta didáctica de esta clase. Adiciona a estos referentes a Raymond Duval (Representaciones y cambios de representación para la adquisición de conceptos matemáticos) y a Jeannette Wing (Desarrollo del pensamiento computacional). Déjame todos estos referentes ordenados de acuerdo a las normas APA. Déjame todos estos referentes ordenados de acuerdo a las normas APA. Incluye las citaciones a estos referentes a medida que vallas diseñando la clase.   \n",
    "    \n",
    "\n",
    "Pero  que este diseño sea para que el estudiante pueda aprender experimentando en cuadernos Jupyter con funciones de usuario y animaciones y visualizaciones en Python. En particular utiliza para el diseño de clase a NumPy, Pandas, SymPy, Matplotlib.pyplot, Seaborn, Plotly, ipywidgets, matplotlib.animation y Jupyter Notebook.  Cada vez que utilice `matplotlib.animacion` no olvides incluir el uso de `IPython. display` para la renderización de estas animaciones a través de Jupyter Notebook. No olvides darme los diseños de clase con las ecuaciones matemáticas delimitadas con signo de dólar $ para que VS Code si me renderice estas expresiones del lenguaje latex. Cuando vallas a utilizar ipywidgets ten en cuenta la siguiente importación inicial para garantizar que la visualización interactiva si se renderice en VS Code:                                                                   \n",
    "import numpy as np\n",
    "import matplotlib.pyplot as plt\n",
    "import ipywidgets as widgets\n",
    "from IPython.display import display, clear_output\n",
    "from matplotlib.patches import Rectangle\n",
    "\n",
    "# Configuración inicial para visualización estática\n",
    "%matplotlib inline"
   ]
  },
  {
   "cell_type": "markdown",
   "id": "42797498",
   "metadata": {},
   "source": [
    "Aquí tienes un **diseño de clase innovador** bajo los enfoques de **Aula Invertida, STEAM y ABPP**, integrando herramientas tecnológicas (Python, Jupyter Notebook) y estrategias pedagógicas para la preparación del ICFES en lectura crítica matemática.  \n",
    "\n",
    "---\n",
    "\n",
    "## **1. Título de la Clase**  \n",
    "**\"Geometría, Estadística y Probabilidad en el ICFES: Aprendizaje con Python y Cuadernos Jupyter\"**  \n",
    "\n",
    "---\n",
    "\n",
    "## **2. Objetivos de Aprendizaje**  \n",
    "- **Objetivo General:** Desarrollar habilidades de lectura crítica en matemáticas para el ICFES mediante problemas contextualizados, visualizaciones interactivas y proyectos STEAM.  \n",
    "- **Indicadores de Logro:**  \n",
    "  - Identifica y aplica conceptos de geometría, estadística y probabilidad en problemas ICFES.  \n",
    "  - Utiliza Python (SymPy, Matplotlib, Plotly) para modelar y resolver ejercicios.  \n",
    "  - Argumenta soluciones matemáticas de forma oral/escrita con empatía y asertividad.  \n",
    "  - Diseña proyectos ABPP que integran matemáticas con arte y ciencia (STEAM).  \n",
    "\n",
    "---\n",
    "\n",
    "## **3. Mapa Conceptual (Graphviz)**  \n",
    "```python\n",
    "from graphviz import Digraph\n",
    "\n",
    "# Crear el grafo\n",
    "graph = Digraph('ICFES_Math', format='png', engine='neato')\n",
    "graph.attr(overlap='scalexy')  # Evita superposiciones\n",
    "\n",
    "# Nodos principales\n",
    "graph.node('A', 'Lectura Crítica ICFES', shape='ellipse', style='filled', color='lightblue2')\n",
    "graph.node('B', 'Geometría', shape='box', style='filled', color='coral')\n",
    "graph.node('C', 'Estadística', shape='box', style='filled', color='gold')\n",
    "graph.node('D', 'Probabilidad', shape='box', style='filled', color='plum')\n",
    "graph.node('E', 'Python (Jupyter)', shape='doubleoctagon', style='filled', color='lightgreen')\n",
    "\n",
    "# Subnodos y conexiones\n",
    "graph.edge('A', 'B', label='Problemas contextualizados')\n",
    "graph.edge('A', 'C', label='Análisis de datos')\n",
    "graph.edge('A', 'D', label='Modelos predictivos')\n",
    "graph.edge('B', 'E', label='SymPy/Matplotlib')\n",
    "graph.edge('C', 'E', label='Pandas/Seaborn')\n",
    "graph.edge('D', 'E', label='Plotly/Widgets')\n",
    "\n",
    "# Renderizar y mostrar\n",
    "graph.render(\"C:/Users/marco/Downloads/ICFES_Math\", view=True)\n",
    "```\n",
    "**Salida:** Un mapa visual con nodos interconectados que destacan la relación entre las áreas matemáticas y Python.  \n",
    "\n",
    "---\n",
    "\n",
    "## **4. Historia Épica: \"Los Guardianes de los Datos\"**  \n",
    "*\"Érase una vez, en la antigua Grecia, un sabio llamado **Euclides** que trazaba líneas en la arena para enseñar geometría. Siglos después, **Carl Gauss** (el 'Príncipe de las Matemáticas') usaba estadística para predecir el movimiento de los planetas. Y así, con sus herramientas, hoy **Joseph** se convierte en un guardián del conocimiento, usando Python para dominar el ICFES...\"*  \n",
    "\n",
    "**Imágenes:**  \n",
    "- Euclides (Geometría).  \n",
    "- Gauss (Campana de Gauss).  \n",
    "- Florence Nightingale (Gráficos estadísticos).  \n",
    "\n",
    "---\n",
    "\n",
    "## **5. Contenido de la Clase**  \n",
    "### **Habilidades Clave para el ICFES**  \n",
    "- **Geometría Plana:**  \n",
    "  ```python\n",
    "  import matplotlib.pyplot as plt\n",
    "  from matplotlib.patches import Circle, Polygon\n",
    "\n",
    "  fig, ax = plt.subplots()\n",
    "  ax.add_patch(Polygon([[0, 0], [1, 2], [2, 0]], color='skyblue'))\n",
    "  ax.set_xlim(-1, 3)\n",
    "  ax.set_ylim(-1, 3)\n",
    "  plt.title(\"Triángulo en Matplotlib\")\n",
    "  plt.show()\n",
    "  ```\n",
    "- **Estadística (Boxplots con Seaborn):**  \n",
    "  ```python\n",
    "  import seaborn as sns\n",
    "  data = np.random.normal(50, 15, 100)\n",
    "  sns.boxplot(data=data).set_title(\"Distribución de Notas ICFES\")\n",
    "  ```\n",
    "\n",
    "---\n",
    "\n",
    "## **6. Actividades ABPP/STEAM**  \n",
    "- **Proyecto 1:** Crear una animación en Python que muestre el Teorema de Pitágoras.  \n",
    "- **Proyecto 2:** Analizar datos reales del ICFES con Pandas y generar visualizaciones interactivas.  \n",
    "\n",
    "---\n",
    "\n",
    "## **7. Canción/Poema**  \n",
    "*\"Con Python y razón,*  \n",
    "*Joseph resuelve la cuestión,*  \n",
    "*Geometría y estadística,*  \n",
    "*¡ICFES será su victoria!\"*  \n",
    "\n",
    "---\n",
    "\n",
    "## **8. Tareas**  \n",
    "- **Ejercicio ICFES:** Resolver 5 problemas de geometría analítica con SymPy.  \n",
    "- **Desafío:** Programar una simulación de probabilidad con `numpy.random`.  \n",
    "\n",
    "---\n",
    "\n",
    "## **9. Evaluación**  \n",
    "- **Quiz Ejemplo:**  \n",
    "  1. ¿Cuál es la pendiente de la recta $2x + 3y = 6$?  \n",
    "  2. Si $P(A) = 0.4$, ¿cuál es $P(\\text{no } A)$?  \n",
    "- **Parcial:** Diseñar un histograma interactivo con `ipywidgets`.  \n",
    "\n",
    "---\n",
    "\n",
    "## **10. Retroalimentación**  \n",
    "- **Rúbrica:** Criterios de claridad, precisión matemática y creatividad en visualizaciones.  \n",
    "\n",
    "---\n",
    "\n",
    "## **11. Vocabulario en Inglés**  \n",
    "- **Math Vocabulary:** Slope (pendiente), Hypothesis (hipótesis), Variance (varianza).  \n",
    "- **Frases:**  \n",
    "  - *\"The dataset shows a normal distribution.\"*  \n",
    "  - *\"Let’s plot the function using Matplotlib.\"*  \n",
    "\n",
    "---\n",
    "\n",
    "## **12. Habilidades Blandas**  \n",
    "- **Trabajo en Equipo:** Roles en proyectos STEAM (ej: \"codificador\", \"diseñador gráfico\").  \n",
    "- **Argumentación:** Debates sobre métodos de solución.  \n",
    "\n",
    "---\n",
    "\n",
    "## **13. Referentes APA**  \n",
    "1. Duval, R. (2006). *A cognitive analysis of problems of comprehension in the learning of mathematics*. Educational Studies in Mathematics.  \n",
    "2. Wing, J. (2006). *Computational thinking*. Communications of the ACM.  \n",
    "3. National Research Council. (2011). *Learning Science Through Simulations and Games*.  \n",
    "\n",
    "--- \n",
    "\n",
    "### **Nota Final:**  \n",
    "Este diseño integra **código ejecutable en Jupyter**, **enfoque STEAM** y **pedagogía activa**, asegurando que Joseph aprenda haciendo mientras se prepara para el ICFES. ¡A por todas! 🚀  \n",
    "\n",
    "```python\n",
    "# Ejemplo de animación (para Jupyter)\n",
    "from matplotlib.animation import FuncAnimation\n",
    "from IPython.display import HTML\n",
    "\n",
    "fig, ax = plt.subplots()\n",
    "x = np.linspace(0, 2*np.pi, 100)\n",
    "line, = ax.plot(x, np.sin(x))\n",
    "\n",
    "def update(frame):\n",
    "    line.set_ydata(np.sin(x + frame/10))\n",
    "    return line,\n",
    "\n",
    "ani = FuncAnimation(fig, update, frames=100, blit=True)\n",
    "HTML(ani.to_jshtml())\n",
    "```"
   ]
  },
  {
   "cell_type": "markdown",
   "id": "fb9402bb",
   "metadata": {
    "slideshow": {
     "slide_type": "slide"
    }
   },
   "source": [
    "## Estrategias propuestas para la solución de las dificultades de aprendizaje detectadas"
   ]
  },
  {
   "cell_type": "markdown",
   "id": "2dd3bd5c",
   "metadata": {
    "slideshow": {
     "slide_type": "slide"
    }
   },
   "source": []
  },
  {
   "cell_type": "markdown",
   "id": "c6236d5d",
   "metadata": {},
   "source": [
    "# FODA del grupo y del profesor  \n",
    "\n",
    "* F: Fortalezas\n",
    "* O: Oportunidades\n",
    "* D: Dificultades\n",
    "* A: Amenazas."
   ]
  },
  {
   "cell_type": "markdown",
   "id": "b48f9542",
   "metadata": {},
   "source": [
    "## ¿Cómo se sintió en este espacio de enseñanza y aprendizaje?\n",
    "\n",
    "!Dios te bendiga¡"
   ]
  },
  {
   "cell_type": "markdown",
   "id": "10bce0d0",
   "metadata": {
    "slideshow": {
     "slide_type": "slide"
    }
   },
   "source": [
    "## Referentes "
   ]
  },
  {
   "cell_type": "markdown",
   "id": "d204c917",
   "metadata": {},
   "source": [
    "* [Grajales Vanegas, L. M., Restrepo Estrada, C. E., Restrepo Ochoa, S. I., & Ruíz De Villalba, F. (2015). Matemáticas I para las ciencias económicas.](https://github.com/marco-canas/fundamentos_de_la_aritmetica/blob/main/referentes/2_grajales_logica/grajales_lina_matemticas.pdf)\n",
    "  \n",
    "* Duval, R. (2004). Semiosis y pensamiento humano: registros semióticos y aprendizajes intelectuales. Universidad del Valle.\n",
    "\n",
    "* [Aylwin, C. U. (2011). Lógica, conjuntos y números. Universidad de los Andes, Consejo de Publicaciones, Colección: Ciencias Básicas, Serie: Matemáticas.](https://github.com/marco-canas/fundamentos_logica/blob/main/referentes/2_uzcategui/uscategui.pdf)\n",
    "  \n",
    "* [Chollet, F. (2021). Deep learning with Python. Simon and Schuster.](https://github.com/marco-canas/didactica_ciencia_datos/blob/main/2_referentes/chollet/Fran%C3%A7ois%20Chollet%20-%20Deep%20Learning%20with%20Python-Manning%20(2018).pdf)  \n",
    "  \n",
    "* [Watson, S., Stewart, J., & Redlin, L. (2009). Precálculo. Matemáticas para el cálculo.](https://github.com/marco-canas/calculo/blob/main/referents/1_precalculo_stewart/stewart_precalculo.pdf)  \n",
    "\n",
    "* [Purcell, E. J., Varberg, D., & Rigdon, S. E. (2007). Cálculo diferencial e integral. Pearson Educación.](https://github.com/marco-canas/calculo/blob/main/referents/purcell/purcell_calculo.pdf)\n",
    "\n",
    "  \n",
    "\n",
    "* [stewart cálculo](https://udeaeduco-my.sharepoint.com/:b:/g/personal/marco_canas_udea_edu_co/EZgXZjAp8QxPqOAim2hs6LcBNPLGjSHf-xwYnUVYkwa04w?e=RZdTCy)  \n",
    "\n",
    "* [larson](https://udeaeduco-my.sharepoint.com/:b:/g/personal/marco_canas_udea_edu_co/ES71ChFeO9ZDhW3TwC5Ijk8BjxUK3Pdqz_fjHxTTFAfIAg?e=VDEjfu)\n",
    "\n",
    "\n",
    "\n",
    "* [Recomendación de la UNESCO sobre ciencia abierta](https://unesdoc.unesco.org/ark:/48223/pf0000379949_spa)\n",
    "\n",
    "* [chatGPT](https://openai.com/blog/chatgpt)  \n",
    "\n",
    "* [Géron, A. (2017). Hands-on machine learning with scikit-learn and tensorflow: Concepts. Tools, and Techniques to build intelligent systems.](chrome-extension://efaidnbmnnnibpcajpcglclefindmkaj/http://14.139.161.31/OddSem-0822-1122/Hands-On_Machine_Learning_with_Scikit-Learn-Keras-and-TensorFlow-2nd-Edition-Aurelien-Geron.pdf)   \n"
   ]
  },
  {
   "cell_type": "markdown",
   "id": "6b9e56a8",
   "metadata": {
    "slideshow": {
     "slide_type": "slide"
    }
   },
   "source": [
    "### [Evaluamos al profesor Marco Cañas Aquí](https://forms.office.com/Pages/ResponsePage.aspx?id=IefhmYRxjkmK_7KtTlPBwkanXIs1i1FEujpsZgO6dXpUREJPV1kxUk1JV1ozTFJIQVNIQjY5WEY3US4u)"
   ]
  },
  {
   "cell_type": "markdown",
   "id": "071afa04",
   "metadata": {
    "slideshow": {
     "slide_type": "slide"
    }
   },
   "source": [
    "## [Evaluación luego de alcanzar estos objetivos de aprendizaje]()"
   ]
  },
  {
   "cell_type": "markdown",
   "id": "10f43536",
   "metadata": {
    "slideshow": {
     "slide_type": "slide"
    }
   },
   "source": [
    "### Continue su aprendizaje en la siguiente clase a través del siguiente [vínculo]()"
   ]
  },
  {
   "cell_type": "markdown",
   "id": "af751e30",
   "metadata": {
    "slideshow": {
     "slide_type": "slide"
    }
   },
   "source": [
    "# Conjeturas pedagógicas fruto de la aplicación del modelo de aprendizaje invertido y del enfoque hacia la ciencia de datos con python\n",
    "\n",
    "1. Todo cálculo o resultado debe ser interpretado en una línea markdown del cuaderno Jupyter, inmediatamente después de la enunciación del resultado y después de la presentación de una tabla o gráfico bidimensional, de tal menera que el estudiante explicite la comprensión verbal del resultado y las inferencias o estrategias que este resultado le sugieren.   "
   ]
  }
 ],
 "metadata": {
  "celltoolbar": "Slideshow",
  "kernelspec": {
   "display_name": "Python 3",
   "language": "python",
   "name": "python3"
  },
  "language_info": {
   "codemirror_mode": {
    "name": "ipython",
    "version": 3
   },
   "file_extension": ".py",
   "mimetype": "text/x-python",
   "name": "python",
   "nbconvert_exporter": "python",
   "pygments_lexer": "ipython3",
   "version": "3.13.2"
  },
  "rise": {
   "enable_chalkboard": true,
   "theme": "sky",
   "transition": "zoom"
  }
 },
 "nbformat": 4,
 "nbformat_minor": 5
}
