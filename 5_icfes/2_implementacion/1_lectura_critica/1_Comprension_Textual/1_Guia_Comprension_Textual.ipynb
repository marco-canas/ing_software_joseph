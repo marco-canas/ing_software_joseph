{
 "cells": [
  {
   "cell_type": "markdown",
   "id": "6db63a5f",
   "metadata": {},
   "source": [
    "## Competencia 1: Identificar y entender contenidos locales\n",
    "# ¿Qué es?\n",
    "Es saber extraer información literal del texto. Es decir, reconocer datos que están expresamente escritos.\n",
    "\n",
    "# Prueba rápida:\n",
    "Lee este mini texto y responde:\n",
    "\n",
    "\"Camila salió temprano de su casa para tomar el bus que la llevaría a su clase de música. En el trayecto, recordó que no había llevado su cuaderno y decidió regresar.\"\n",
    "\n",
    "# Pregunta: ¿A dónde se dirigía Camila antes de devolverse? \n",
    "- a) A la casa de su amiga\n",
    "- b) A la tienda\n",
    "- c) A su clase de música\n",
    "- d) A la biblioteca\n",
    "\n",
    "# C\n",
    "Porque en el texto dice implicitamente que camila se dirigia a su clase de musica.\n",
    "\n",
    "Porque no las otras:\n",
    "\n",
    "- A) No se menciona que Camila fuera a la casa de su amiga.\n",
    "- B) No se menciona que Camila fuera a la tienda.\n",
    "- D) No se menciona que Camila fuera a la biblioteca."
   ]
  },
  {
   "cell_type": "markdown",
   "id": "1c1a0b6e",
   "metadata": {},
   "source": [
    "## Ejercicio 2\n",
    "Lee el siguiente texto con atención:\n",
    "\n",
    "\"Durante las últimas décadas, el calentamiento global ha generado una serie de cambios en los patrones climáticos. Según un informe del Panel Intergubernamental sobre Cambio Climático, la temperatura promedio del planeta ha aumentado cerca de 1,1 °C desde la era preindustrial. Este incremento ha provocado el derretimiento de los glaciares y un aumento significativo del nivel del mar, afectando a millones de personas que viven en zonas costeras.\"\n",
    "\n",
    "# Pregunta:\n",
    "\n",
    "Según el texto, ¿cuál ha sido uno de los efectos del aumento de la temperatura global?\n",
    "\n",
    "- a) La contaminación atmosférica en zonas industriales\n",
    "- b) La destrucción de la capa de ozono\n",
    "- c) El aumento del nivel del mar\n",
    "- d) La disminución del oxígeno en la atmósfera\n",
    "\n",
    "\n",
    "\n",
    "# C\n",
    "Viendo la informacion proporcionada en una parte clave que es \"Este incremento ha provocado el derretimiento de los glaciares y un aumento significativo del nivel del mar\" en esta parte es implicito cual es el efecto de el aumento de la temperatura global.\n",
    "La respuesta correcta es la opción C. El aumento del nivel del mar.\n",
    "\n",
    "Porque no las otras:\n",
    "\n",
    "- La contaminación atmosférica en zonas industriales no es mencionada en el texto\n",
    "- La destrucción de la capa de ozono no es mencionada en el texto\n",
    "- La disminución del oxígeno no va en el tema\n",
    "\n"
   ]
  },
  {
   "cell_type": "markdown",
   "id": "c787d400",
   "metadata": {},
   "source": [
    "## Ejercicio 3\n",
    "\n",
    "Lee con atención el siguiente texto:\n",
    "\n",
    "\"Cuando Clara entró al viejo desván, una mezcla de polvo y nostalgia la envolvió. Su abuelo solía contarle historias fantásticas sobre objetos antiguos que guardaban secretos de generaciones pasadas. Ella recorrió las estanterías cubiertas de telarañas hasta que algo llamó su atención: una caja de madera con la inscripción 'Recuerdos'. Al abrirla, encontró cartas fechadas entre 1940 y 1945, todas firmadas por alguien llamado Emilia. Con el corazón acelerado, Clara empezó a leerlas. Descubrió que Emilia fue una joven que vivió durante la Segunda Guerra Mundial, y que las cartas estaban dirigidas a un soldado que nunca regresó.\"\n",
    "\n",
    "#Pregunta:\n",
    "¿Cuál fue el primer objeto que captó la atención de Clara en el desván?\n",
    "\n",
    "- a) Un álbum de fotografías\n",
    "- b) Una lámpara cubierta de polvo\n",
    "- c) Una caja de madera con la inscripción \"Recuerdos\"\n",
    "- d) Un reloj antiguo de pared\n",
    "\n",
    "# C\n",
    "La respuesta correcta es la opción C. Una caja de madera con la inscripción \"Recuerdos\".\n",
    "Porque en el texto dice \"algo llamó su atención: una caja de madera con la inscripción 'Recuerdos'\".\n",
    "\n",
    "Porque no las otras:\n",
    "- A) No se menciona un álbum de fotografías en el texto.\n",
    "- B) No se menciona una lámpara cubierta de polvo en el texto.\n",
    "- D) No se menciona un reloj antiguo de pared en el texto."
   ]
  }
 ],
 "metadata": {
  "celltoolbar": "Slideshow",
  "kernelspec": {
   "display_name": ".venv",
   "language": "python",
   "name": "python3"
  },
  "language_info": {
   "codemirror_mode": {
    "name": "ipython",
    "version": 3
   },
   "file_extension": ".py",
   "mimetype": "text/x-python",
   "name": "python",
   "nbconvert_exporter": "python",
   "pygments_lexer": "ipython3",
   "version": "3.12.6"
  },
  "rise": {
   "enable_chalkboard": true,
   "theme": "sky",
   "transition": "zoom"
  }
 },
 "nbformat": 4,
 "nbformat_minor": 5
}
