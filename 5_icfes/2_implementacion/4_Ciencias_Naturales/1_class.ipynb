{
 "cells": [
  {
   "cell_type": "markdown",
   "id": "40747883",
   "metadata": {},
   "source": [
    "## 🧪 Ciencias Naturales\n",
    "\n",
    "### Componentes:\n",
    "\n",
    "#### 1. Biología\n",
    "- Célula, tejidos y sistemas.\n",
    "- Reproducción, herencia y genética.\n",
    "- Ecosistemas y biodiversidad.\n",
    "- Evolución y selección natural.\n",
    "\n",
    "#### 2. Química\n",
    "- Cambios físicos y químicos.\n",
    "- Tabla periódica y enlaces.\n",
    "- Soluciones, pH y reacciones químicas.\n",
    "\n",
    "#### 3. Física\n",
    "- Movimiento (MRU, MRUV).\n",
    "- Fuerzas y leyes de Newton.\n",
    "- Trabajo, energía y potencia.\n",
    "- Electricidad y circuitos básicos.\n",
    "\n",
    "#### 4. Ciencias del Ambiente\n",
    "- Problemas ambientales.\n",
    "- Recursos naturales y sostenibilidad.\n",
    "- Cambio climático.\n",
    "\n",
    "---"
   ]
  },
  {
   "cell_type": "markdown",
   "id": "3f487898",
   "metadata": {},
   "source": [
    "### 🎯 Objetivo general\n",
    "Evaluar la capacidad de aplicar el conocimiento científico para explicar fenómenos, analizar problemas y tomar decisiones informadas.\n",
    "\n",
    "### 🧠 Competencias evaluadas\n",
    "1. **Explicación de fenómenos**\n",
    "   - Aplicación de conceptos científicos para explicar lo natural.\n",
    "\n",
    "2. **Uso comprensivo del conocimiento**\n",
    "   - Interpretar y usar conocimientos en biología, química, física y medioambiente.\n",
    "\n",
    "3. **Indagación**\n",
    "   - Formular preguntas y analizar resultados de investigaciones.\n",
    "\n",
    "### 🧬 Componentes de la prueba\n",
    "\n",
    "#### Biología\n",
    "- Célula, tejidos, sistemas.\n",
    "- Genética, ecosistemas, evolución.\n",
    "\n",
    "#### Química\n",
    "- Estados de la materia.\n",
    "- Tabla periódica, reacciones, pH, enlaces.\n",
    "\n",
    "#### Física\n",
    "- Movimiento, leyes de Newton.\n",
    "- Energía, calor, electricidad.\n",
    "\n",
    "#### Ciencias del Ambiente\n",
    "- Contaminación, cambio climático.\n",
    "- Recursos naturales, sostenibilidad.\n",
    "\n",
    "---"
   ]
  },
  {
   "cell_type": "markdown",
   "id": "d24854f2",
   "metadata": {},
   "source": [
    "### 1. Explicación de fenómenos\n",
    "**Evidencias:**\n",
    "- Explica fenómenos usando modelos o teorías científicas.\n",
    "\n",
    "### 2. Uso comprensivo del conocimiento\n",
    "**Evidencias:**\n",
    "- Aplica conocimientos de biología, química o física en contextos nuevos.\n",
    "\n",
    "### 3. Indagación\n",
    "**Evidencias:**\n",
    "- Formula hipótesis o preguntas científicas.\n",
    "- Analiza datos, variables o resultados de experimentos.\n",
    "\n",
    "---"
   ]
  }
 ],
 "metadata": {
  "celltoolbar": "Slideshow",
  "kernelspec": {
   "display_name": ".venv",
   "language": "python",
   "name": "python3"
  },
  "language_info": {
   "codemirror_mode": {
    "name": "ipython",
    "version": 3
   },
   "file_extension": ".py",
   "mimetype": "text/x-python",
   "name": "python",
   "nbconvert_exporter": "python",
   "pygments_lexer": "ipython3",
   "version": "3.12.6"
  },
  "rise": {
   "enable_chalkboard": true,
   "theme": "sky",
   "transition": "zoom"
  }
 },
 "nbformat": 4,
 "nbformat_minor": 5
}
