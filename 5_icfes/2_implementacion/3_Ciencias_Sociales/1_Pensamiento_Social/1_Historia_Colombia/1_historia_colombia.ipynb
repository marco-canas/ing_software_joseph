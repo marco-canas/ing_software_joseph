{
 "cells": [
  {
   "cell_type": "markdown",
   "id": "dc06dec7",
   "metadata": {
    "slideshow": {
     "slide_type": "slide"
    }
   },
   "source": [
    "<table align=\"left\">\n",
    "  <td>\n",
    "    <a href=\"https://colab.research.google.com/github/ageron/handson-ml3/blob/main/tools_numpy.ipynb\" target=\"_parent\"><img src=\"https://colab.research.google.com/assets/colab-badge.svg\" alt=\"Open In Colab\"/></a>\n",
    "  </td>\n",
    "  <td>\n",
    "    <a target=\"_blank\" href=\"https://kaggle.com/kernels/welcome?src=https://github.com/ageron/handson-ml3/blob/main/tools_numpy.ipynb\"><img src=\"https://kaggle.com/static/images/open-in-kaggle.svg\" /></a>\n",
    "  </td>\n",
    "</table>"
   ]
  },
  {
   "cell_type": "markdown",
   "id": "e0c5b198",
   "metadata": {
    "slideshow": {
     "slide_type": "slide"
    }
   },
   "source": [
    "### [Video de apoyo a la lectura interactiva y experimental de este cuaderno]()"
   ]
  },
  {
   "cell_type": "markdown",
   "id": "41e82203",
   "metadata": {
    "slideshow": {
     "slide_type": "slide"
    }
   },
   "source": [
    "### [Vínculo al programa del curso:  ]()\n",
    "\n"
   ]
  },
  {
   "cell_type": "markdown",
   "id": "d11ab06d",
   "metadata": {
    "slideshow": {
     "slide_type": "slide"
    }
   },
   "source": [
    "Un reconocimiento a mis estudiantes que han construido conmigo este saber pedagógico:\n",
    "\n",
    "<img src = ''> \n",
    "\n"
   ]
  },
  {
   "cell_type": "markdown",
   "id": "8a74a56c-0ce6-4ad6-b985-553fd7fb68bb",
   "metadata": {},
   "source": [
    "Reconocimiento a las profesoras destacadas en enseñanza de la matemática en Colombia\n"
   ]
  },
  {
   "cell_type": "code",
   "execution_count": 1,
   "id": "6cb89c0b",
   "metadata": {},
   "outputs": [
    {
     "data": {
      "application/vnd.microsoft.datawrangler.viewer.v0+json": {
       "columns": [
        {
         "name": "index",
         "rawType": "int64",
         "type": "integer"
        },
        {
         "name": "Cedula",
         "rawType": "int64",
         "type": "integer"
        },
        {
         "name": "Nombre",
         "rawType": "object",
         "type": "string"
        },
        {
         "name": "Email",
         "rawType": "object",
         "type": "string"
        },
        {
         "name": "Parcial",
         "rawType": "float64",
         "type": "float"
        },
        {
         "name": "Asistencia",
         "rawType": "float64",
         "type": "float"
        }
       ],
       "conversionMethod": "pd.DataFrame",
       "ref": "6b84fd7a-7d91-41e7-acd8-76d316e02aff",
       "rows": [
        [
         "1",
         "1007528664",
         "AYALA MENDOZA MARISOL YACIRA",
         "marisol.ayala@udea.edu.co",
         "0.0",
         null
        ],
        [
         "2",
         "1064188463",
         "MASS MIRANDA RIVALDO JOSE",
         "rivaldo.mass@udea.edu.co",
         "0.0",
         null
        ],
        [
         "3",
         "1066570075",
         "MONTERROSA SOTO ABRIL",
         "a.monterrosa@udea.edu.co",
         "0.0",
         null
        ],
        [
         "4",
         "1193404816",
         "AMARIS FERNANDEZ SEBASTIAN CAMILO",
         "sebastian.amaris@udea.edu.co",
         null,
         null
        ]
       ],
       "shape": {
        "columns": 5,
        "rows": 4
       }
      },
      "text/html": [
       "<div>\n",
       "<style scoped>\n",
       "    .dataframe tbody tr th:only-of-type {\n",
       "        vertical-align: middle;\n",
       "    }\n",
       "\n",
       "    .dataframe tbody tr th {\n",
       "        vertical-align: top;\n",
       "    }\n",
       "\n",
       "    .dataframe thead th {\n",
       "        text-align: right;\n",
       "    }\n",
       "</style>\n",
       "<table border=\"1\" class=\"dataframe\">\n",
       "  <thead>\n",
       "    <tr style=\"text-align: right;\">\n",
       "      <th></th>\n",
       "      <th>Cedula</th>\n",
       "      <th>Nombre</th>\n",
       "      <th>Email</th>\n",
       "      <th>Parcial</th>\n",
       "      <th>Asistencia</th>\n",
       "    </tr>\n",
       "  </thead>\n",
       "  <tbody>\n",
       "    <tr>\n",
       "      <th>1</th>\n",
       "      <td>1007528664</td>\n",
       "      <td>AYALA MENDOZA MARISOL YACIRA</td>\n",
       "      <td>marisol.ayala@udea.edu.co</td>\n",
       "      <td>0.0</td>\n",
       "      <td>NaN</td>\n",
       "    </tr>\n",
       "    <tr>\n",
       "      <th>2</th>\n",
       "      <td>1064188463</td>\n",
       "      <td>MASS MIRANDA RIVALDO JOSE</td>\n",
       "      <td>rivaldo.mass@udea.edu.co</td>\n",
       "      <td>0.0</td>\n",
       "      <td>NaN</td>\n",
       "    </tr>\n",
       "    <tr>\n",
       "      <th>3</th>\n",
       "      <td>1066570075</td>\n",
       "      <td>MONTERROSA SOTO ABRIL</td>\n",
       "      <td>a.monterrosa@udea.edu.co</td>\n",
       "      <td>0.0</td>\n",
       "      <td>NaN</td>\n",
       "    </tr>\n",
       "    <tr>\n",
       "      <th>4</th>\n",
       "      <td>1193404816</td>\n",
       "      <td>AMARIS FERNANDEZ SEBASTIAN CAMILO</td>\n",
       "      <td>sebastian.amaris@udea.edu.co</td>\n",
       "      <td>NaN</td>\n",
       "      <td>NaN</td>\n",
       "    </tr>\n",
       "  </tbody>\n",
       "</table>\n",
       "</div>"
      ],
      "text/plain": [
       "       Cedula                             Nombre  \\\n",
       "1  1007528664       AYALA MENDOZA MARISOL YACIRA   \n",
       "2  1064188463          MASS MIRANDA RIVALDO JOSE   \n",
       "3  1066570075              MONTERROSA SOTO ABRIL   \n",
       "4  1193404816  AMARIS FERNANDEZ SEBASTIAN CAMILO   \n",
       "\n",
       "                          Email  Parcial  Asistencia  \n",
       "1     marisol.ayala@udea.edu.co      0.0         NaN  \n",
       "2      rivaldo.mass@udea.edu.co      0.0         NaN  \n",
       "3      a.monterrosa@udea.edu.co      0.0         NaN  \n",
       "4  sebastian.amaris@udea.edu.co      NaN         NaN  "
      ]
     },
     "execution_count": 1,
     "metadata": {},
     "output_type": "execute_result"
    }
   ],
   "source": [
    "import pandas as pd\n",
    "import numpy as np\n",
    "\n",
    "# Cargar la lista de estudiantes desde el archivo CSV\n",
    "path = 'C:/Users/marco/Documentos/docencia/groups_list/vectorial.xlsx'\n",
    "estudiantes = pd.read_excel(path)\n",
    "estudiantes.index = range(1, len(estudiantes) + 1)\n",
    "estudiantes.head(17) "
   ]
  },
  {
   "cell_type": "markdown",
   "id": "d7598d0a-d9b7-4ae0-b029-a0ed6ed1130b",
   "metadata": {},
   "source": [
    "\n",
    "# Principios de mi labor docente"
   ]
  },
  {
   "cell_type": "markdown",
   "id": "4f9d8cf9",
   "metadata": {
    "slideshow": {
     "slide_type": "slide"
    }
   },
   "source": [
    "## Modelo general de clase: [aula invertida](https://www3.gobiernodecanarias.org/medusa/ecoescuela/pedagotic/aprendizaje-invertido-flipped-classroom/)"
   ]
  },
  {
   "cell_type": "markdown",
   "id": "eb6ed03a",
   "metadata": {},
   "source": [
    "<img src = 'https://resources.maneuveringthemiddle.com/wp-content/uploads/2020/07/04212706/1-5.png' width = 200>  \n",
    "\n"
   ]
  },
  {
   "cell_type": "markdown",
   "id": "34319cce-a71b-4f64-aab8-b53e521efa40",
   "metadata": {},
   "source": [
    "# Metodología de enseñanza que busca el Aprendizaje Basada en Problemas y Proyectos (ABPP)\n"
   ]
  },
  {
   "cell_type": "markdown",
   "id": "c4f73d81",
   "metadata": {},
   "source": [
    "\n",
    "<img src = 'https://www.unir.net/wp-content/uploads/2020/07/aprendizaje-problemas2-1-1-1-1.jpeg' width = 200>"
   ]
  },
  {
   "cell_type": "markdown",
   "id": "841a985c-bd9b-4dd3-8e4c-893983980af2",
   "metadata": {},
   "source": [
    "# Desarrollo del pensamiento computacional con Lenguajes Python, R y,  con archivos R Markdown orientado a la formación en ciencia de datos \n",
    "\n"
   ]
  },
  {
   "cell_type": "markdown",
   "id": "3d0eba94",
   "metadata": {},
   "source": [
    "\n",
    "<img src = 'https://i.ytimg.com/vi/mcG_wcR4e6M/maxresdefault.jpg' width = 200>"
   ]
  },
  {
   "cell_type": "markdown",
   "id": "65aa0404-f7ae-495e-864c-1aec01b4255e",
   "metadata": {},
   "source": [
    "# Principio de fomento a la ciencia abierta, enseñar en el acceso a los datos públicos y el uso de software de código abierto  \n"
   ]
  },
  {
   "cell_type": "markdown",
   "id": "18ae9b87",
   "metadata": {},
   "source": [
    "\n",
    "<img src = 'https://unesdoc.unesco.org/in/rest/Thumb/image?id=p%3A%3Ausmarcdef_0000379949_spa&author=UNESCO&title=Recomendaci%C3%B3n+de+la+UNESCO+sobre+la+Ciencia+Abierta&year=2021&publisher=UNESCO&TypeOfDocument=UnescoPhysicalDocument&mat=PGD&ct=true&size=512&isPhysical=1' width = 200>"
   ]
  },
  {
   "cell_type": "markdown",
   "id": "d9559f85",
   "metadata": {},
   "source": [
    "El enfoque STEAMS en educación preescolar, primaria y secundaria es una extensión del enfoque STEM (Ciencia, Tecnología, Ingeniería y Matemáticas) y su variante STEAM, que incorpora el Arte. "
   ]
  },
  {
   "cell_type": "markdown",
   "id": "72e1cfd2",
   "metadata": {},
   "source": [
    "El acrónimo STEAMS incluye:\n"
   ]
  },
  {
   "cell_type": "markdown",
   "id": "03182fd1",
   "metadata": {},
   "source": [
    "\n",
    "1. **Science (Ciencia):** Fomenta la curiosidad por el mundo natural y el desarrollo de habilidades científicas, como la observación, experimentación y análisis.\n"
   ]
  },
  {
   "cell_type": "markdown",
   "id": "1306d0fa",
   "metadata": {},
   "source": [
    "\n",
    "2. **Technology (Tecnología):** Integra herramientas tecnológicas para potenciar el aprendizaje y la resolución de problemas, promoviendo la alfabetización digital desde edades tempranas.\n"
   ]
  },
  {
   "cell_type": "markdown",
   "id": "3b1a53e8",
   "metadata": {},
   "source": [
    "\n",
    "3. **Engineering (Ingeniería):** Introduce el pensamiento lógico y la resolución de problemas estructurados, fomentando habilidades como el diseño y la construcción de soluciones.\n"
   ]
  },
  {
   "cell_type": "markdown",
   "id": "0196de87",
   "metadata": {},
   "source": [
    "\n",
    "4. **Arts (Arte):** Añade creatividad y pensamiento crítico, permitiendo a los estudiantes expresarse y explorar el aprendizaje a través de formas artísticas (plásticas, música, teatro).\n"
   ]
  },
  {
   "cell_type": "markdown",
   "id": "8bcc485a",
   "metadata": {},
   "source": [
    "\n",
    "5. **Mathematics (Matemáticas):** Refuerza las habilidades numéricas y el razonamiento lógico, fundamentales en la resolución de problemas y comprensión de conceptos abstractos.\n"
   ]
  },
  {
   "cell_type": "markdown",
   "id": "907935f4",
   "metadata": {},
   "source": [
    "\n",
    "6. **Social Sciences (Ciencias Sociales):** Incorpora la comprensión del entorno social, político, cultural y económico, promoviendo el desarrollo de la conciencia crítica sobre el mundo y su historia, además de habilidades de empatía y ciudadanía.\n"
   ]
  },
  {
   "cell_type": "markdown",
   "id": "39967d63",
   "metadata": {},
   "source": [
    "\n",
    "El enfoque STEAMS pretende desarrollar un aprendizaje **interdisciplinario** que integre estas áreas para fomentar un pensamiento más holístico y práctico. "
   ]
  },
  {
   "cell_type": "markdown",
   "id": "5145f077",
   "metadata": {},
   "source": [
    "Se busca que los estudiantes no solo aprendan conocimientos técnicos, sino también cómo aplicarlos creativa y críticamente en situaciones reales, promoviendo habilidades como el trabajo en equipo, la comunicación y la innovación. "
   ]
  },
  {
   "cell_type": "markdown",
   "id": "9d556584",
   "metadata": {},
   "source": [
    "En educación preescolar, primaria, secundaria y superior, se adapta a las diferentes etapas de desarrollo cognitivo y emocional de los estudiantes, promoviendo el aprendizaje activo y contextualizado.  \n"
   ]
  },
  {
   "cell_type": "markdown",
   "id": "0130ec1b",
   "metadata": {},
   "source": [
    "\n",
    "<img src = 'https://www.campuseducacion.com/blog/wp-content/uploads/2023/03/foto01-1.jpg' width = 200>"
   ]
  },
  {
   "cell_type": "markdown",
   "id": "9d15c10d-2c02-4158-9419-b1ed79b4c1ee",
   "metadata": {},
   "source": [
    "# Qué estamos haciendo por la internalización en esta clase y este curso  \n"
   ]
  },
  {
   "cell_type": "markdown",
   "id": "6e4feef2",
   "metadata": {},
   "source": [
    "Estas son mis acciones como docente de matemáticas en la Universidad de Antioquia con miras a la **internacionalización** de mi práctica docente y el desarrollo de competencias internacionales para mis estudiantes, ls cuales he estructurado con el siguiente enfoque:\n"
   ]
  },
  {
   "cell_type": "markdown",
   "id": "964d9de7-53ee-4255-9bcd-d8e6454f2993",
   "metadata": {},
   "source": [
    "### 1. **Visión Global en la Formación Académica**\n"
   ]
  },
  {
   "cell_type": "markdown",
   "id": "d9bdd3e2",
   "metadata": {},
   "source": [
    "   - **Competencias Internacionales**: Asegúrate de que el contenido de tus cursos fomente habilidades que sean reconocidas globalmente. "
   ]
  },
  {
   "cell_type": "markdown",
   "id": "843e9311",
   "metadata": {},
   "source": [
    "Al educar a los estudiantes en **Python, LaTeX, Markdown y Jupyter Notebooks** y en la **introducción a la ciencia de datos y técnicas de Machine Learning**, estás proporcionando competencias altamente demandadas en los sectores tecnológicos y académicos a nivel internacional.\n"
   ]
  },
  {
   "cell_type": "markdown",
   "id": "39b55206",
   "metadata": {},
   "source": [
    "   - **Relevancia de los Contenidos**: Destaca cómo los temas que enseñas, como el **desarrollo del pensamiento computacional** y la **ciencia de datos**, están alineados con las necesidades globales actuales en diversas industrias, desde la tecnología hasta las ciencias naturales y sociales.\n"
   ]
  },
  {
   "cell_type": "markdown",
   "id": "a054599e",
   "metadata": {},
   "source": [
    "   - **Referencias a Estándares Internacionales**: Puedes vincular tu enseñanza a estándares internacionales de competencias en programación y ciencia de datos (por ejemplo, frameworks del **IEEE, ACM**, y estándares de la **data science** o la **computación en la nube**)."
   ]
  },
  {
   "cell_type": "markdown",
   "id": "0f1d110c-3142-48fe-9e7d-5fbd9e8bb931",
   "metadata": {},
   "source": [
    "### 2. **Innovación Pedagógica con Enfoque Internacional**\n"
   ]
  },
  {
   "cell_type": "markdown",
   "id": "fae6ae34",
   "metadata": {},
   "source": [
    "   - **Aula Invertida y ABP**: Presenta cómo tu enfoque de **aula invertida** y **aprendizaje basado en problemas (ABP)** permite a los estudiantes trabajar de manera autónoma y colaborativa, lo que los prepara para escenarios laborales internacionales que requieren autoaprendizaje y habilidades de resolución de problemas en equipo.\n"
   ]
  },
  {
   "cell_type": "markdown",
   "id": "c83062d9",
   "metadata": {},
   "source": [
    "   - **Uso de Jupyter Notebooks**: El uso de **Jupyter Notebooks** en tus clases no solo facilita la **integración de código, matemáticas y texto**, sino que también es una plataforma utilizada globalmente en ambientes académicos y profesionales, lo que hace a tus estudiantes más competitivos internacionalmente."
   ]
  },
  {
   "cell_type": "markdown",
   "id": "960d52b7-03cd-4eb3-965e-5cdfeb7d9f8e",
   "metadata": {},
   "source": [
    "### 3. **Tecnología y Herramientas de Uso Global**\n"
   ]
  },
  {
   "cell_type": "markdown",
   "id": "4be7269f",
   "metadata": {},
   "source": [
    "   - **Lenguaje Python**: Python es uno de los lenguajes de programación más usados a nivel mundial, tanto en la academia como en la industria. "
   ]
  },
  {
   "cell_type": "markdown",
   "id": "5abb1c38",
   "metadata": {},
   "source": [
    "Al formar a tus estudiantes en Python para ciencia de datos y machine learning, los preparas para operar en entornos tecnológicos globales.\n"
   ]
  },
  {
   "cell_type": "markdown",
   "id": "102655af",
   "metadata": {},
   "source": [
    "   - **Herramientas de Ciencia Abierta**: Resalta cómo herramientas como **GitHub**, **Google Colab** y otras plataformas de código abierto están alineadas con el movimiento de **ciencia abierta**, el cual es internacionalmente reconocido y permite que los estudiantes colaboren y compartan proyectos a nivel global."
   ]
  },
  {
   "cell_type": "markdown",
   "id": "3b2ffa32-7a6f-4545-ba7b-c6a69f51109f",
   "metadata": {},
   "source": [
    "### 4. **Investigación y Publicaciones Internacionales**\n"
   ]
  },
  {
   "cell_type": "markdown",
   "id": "bdbf52a5",
   "metadata": {},
   "source": [
    "   - **Promoción de la Investigación**: Detalla cómo promueves que tus estudiantes participen en proyectos de **investigación aplicada**, con posibilidad de publicación en revistas internacionales. "
   ]
  },
  {
   "cell_type": "markdown",
   "id": "1bb10e37",
   "metadata": {},
   "source": [
    "Esto contribuye a la reputación internacional de la Universidad de Antioquia.\n"
   ]
  },
  {
   "cell_type": "markdown",
   "id": "ea01fcbc",
   "metadata": {},
   "source": [
    "   - **Colaboraciones Internacionales**: Si has colaborado con investigadores de otras instituciones o universidades en el extranjero, menciona estos proyectos y cómo han enriquecido tu enseñanza y proporcionado a los estudiantes una visión más globalizada."
   ]
  },
  {
   "cell_type": "markdown",
   "id": "5d1e396e-aece-4bf7-9421-32fa7809eaf4",
   "metadata": {},
   "source": [
    "## 5. **Uso del Inglés para la Internacionalización**\n"
   ]
  },
  {
   "cell_type": "markdown",
   "id": "29cabf26",
   "metadata": {},
   "source": [
    "   - **Comunicación Científica en Inglés**: "
   ]
  },
  {
   "cell_type": "markdown",
   "id": "8ec53ff3",
   "metadata": {},
   "source": [
    "Fomentar el aprendizaje del inglés como lengua científica es clave para que tus estudiantes puedan acceder a publicaciones internacionales, conferencias, y material académico que no está disponible en español. "
   ]
  },
  {
   "cell_type": "markdown",
   "id": "3319ddb0",
   "metadata": {},
   "source": [
    "Esto es esencial para que adquieran competencias que les permitan desempeñarse en cualquier contexto internacional.\n"
   ]
  },
  {
   "cell_type": "markdown",
   "id": "b831224f",
   "metadata": {},
   "source": [
    "   - **Material Bilingüe**: Al generar material educativo en Python, LaTeX y Markdown, considera ofrecer algunos de estos recursos en inglés, para que los estudiantes se familiaricen con el vocabulario técnico y científico internacional."
   ]
  },
  {
   "cell_type": "markdown",
   "id": "c6a8c3b0-426a-4692-a384-3065aea81c9a",
   "metadata": {},
   "source": [
    "### 6. **Certificaciones y Estándares Internacionales**\n"
   ]
  },
  {
   "cell_type": "markdown",
   "id": "b1f41da5",
   "metadata": {},
   "source": [
    "   - **Participación en Certificaciones Internacionales**: Impulsa que los estudiantes busquen certificaciones internacionales en Python o ciencia de datos (como las ofrecidas por **Coursera, edX,** o **Google**). "
   ]
  },
  {
   "cell_type": "markdown",
   "id": "3c935f24",
   "metadata": {},
   "source": [
    "Estas certificaciones no solo validan sus competencias, sino que también incrementan el reconocimiento de la Universidad de Antioquia en el contexto internacional.\n"
   ]
  },
  {
   "cell_type": "markdown",
   "id": "7cc66317",
   "metadata": {},
   "source": [
    "   - **Alineación con Acreditaciones Internacionales**: Vincula tu trabajo docente con los estándares de acreditación y certificación que garantizan que la universidad siga siendo reconocida internacionalmente. "
   ]
  },
  {
   "cell_type": "markdown",
   "id": "0f330d59",
   "metadata": {},
   "source": [
    "Puedes vincularte con organizaciones internacionales que promuevan la excelencia en la educación y tecnología, como **ABET** para la acreditación en ingeniería y ciencias computacionales."
   ]
  },
  {
   "cell_type": "markdown",
   "id": "65d3d9e1-ea84-43e0-8197-a2a9c9e21594",
   "metadata": {},
   "source": [
    "### 7. **Proyectos Abiertos y Ciencia Reproducible**\n"
   ]
  },
  {
   "cell_type": "markdown",
   "id": "f03f7b20",
   "metadata": {},
   "source": [
    "   - **GitHub y Open Science**: La utilización de **GitHub** para almacenar los proyectos y materiales de enseñanza en repositorios públicos permite que otros investigadores y educadores internacionales puedan revisar y replicar tu trabajo. "
   ]
  },
  {
   "cell_type": "markdown",
   "id": "b15e6443",
   "metadata": {},
   "source": [
    "Esto contribuye a la creación de una red de colaboración científica abierta.\n"
   ]
  },
  {
   "cell_type": "markdown",
   "id": "9fb139ef",
   "metadata": {},
   "source": [
    "   - **Transparencia y Reproducibilidad**: La ciencia de datos y machine learning están profundamente ligados a la reproducibilidad. "
   ]
  },
  {
   "cell_type": "markdown",
   "id": "6dcc0d62",
   "metadata": {},
   "source": [
    "Asegura que tus estudiantes desarrollen prácticas de transparencia y documentación en la investigación, que son pilares en la comunidad científica global.\n"
   ]
  },
  {
   "cell_type": "markdown",
   "id": "215cb551",
   "metadata": {},
   "source": [
    "\n",
    "### 8. **Participación en Redes y Conferencias Internacionales**\n"
   ]
  },
  {
   "cell_type": "markdown",
   "id": "489c0b8c",
   "metadata": {},
   "source": [
    "   - **Presentación en Conferencias Internacionales**: Destaca cómo tu participación en conferencias internacionales (como la **ASCOLFA** o eventos sobre educación en matemáticas) contribuye al prestigio de la universidad y permite que tus prácticas sean evaluadas y reconocidas a nivel global.\n"
   ]
  },
  {
   "cell_type": "markdown",
   "id": "cdf46e29",
   "metadata": {},
   "source": [
    "   - **Promoción de Estudiantes en Eventos Internacionales**: Impulsa la participación de tus estudiantes en competiciones internacionales de programación o hackathons, como los organizados por **Google**, **ACM** o **Kaggle**. "
   ]
  },
  {
   "cell_type": "markdown",
   "id": "2b0eb8a9",
   "metadata": {},
   "source": [
    "Esto no solo desarrolla sus habilidades, sino que también visibiliza el talento de la Universidad de Antioquia a nivel global.\n",
    "\n",
    "---"
   ]
  },
  {
   "cell_type": "markdown",
   "id": "233294a4-1983-4641-a7ad-866825e02315",
   "metadata": {},
   "source": [
    "Con esta estrategia, presento mis acciones docentes en términos de:  \n",
    "\n",
    "* competencias internacionales, \n",
    "* innovación pedagógica, \n",
    "* tecnología, \n",
    "* investigación y \n",
    "* participación en redes globales, \n",
    "  \n",
    "asegurando que mi práctica esté alineada con los estándares internacionales y que mis estudiantes estén preparados para competir en contextos internacionales."
   ]
  },
  {
   "cell_type": "markdown",
   "id": "77da458b",
   "metadata": {},
   "source": [
    "### **Metodología de Enseñanza: Aprendizaje Basado en Problemas y Proyectos (ABPP)**\n"
   ]
  },
  {
   "cell_type": "markdown",
   "id": "c943d273",
   "metadata": {},
   "source": [
    "\n",
    "El **Aprendizaje Basado en Problemas y Proyectos (ABPP)** es una metodología educativa que integra los enfoques del **Aprendizaje Basado en Problemas (ABP)** y el **Aprendizaje Basado en Proyectos (PBL, por sus siglas en inglés)**. "
   ]
  },
  {
   "cell_type": "markdown",
   "id": "ad0e0bf3",
   "metadata": {},
   "source": [
    "Es especialmente útil para la formación de futuros docentes, ingenieros y administradores, ya que combina el desarrollo de habilidades prácticas con el pensamiento crítico y reflexivo. "
   ]
  },
  {
   "cell_type": "markdown",
   "id": "137b18e2",
   "metadata": {},
   "source": [
    "A continuación, se presenta una descripción adaptada a la enseñanza de las matemáticas en educación infantil, Licenciatura en Matemáticas, Ingeniería Agropecuaria y Administración de Empresas:\n",
    "\n",
    "---\n"
   ]
  },
  {
   "cell_type": "markdown",
   "id": "0eeba3f5",
   "metadata": {},
   "source": [
    "\n",
    "### **1. Fundamentos del ABPP**\n"
   ]
  },
  {
   "cell_type": "markdown",
   "id": "fb051f2b",
   "metadata": {},
   "source": [
    "El ABPP se basa en:\n",
    "- **Resolución de Problemas Reales:** Los estudiantes analizan y resuelven problemas auténticos relacionados con su área de formación, fomentando la aplicación práctica del conocimiento.\n"
   ]
  },
  {
   "cell_type": "markdown",
   "id": "47bb5fcc",
   "metadata": {},
   "source": [
    "- **Proyectos como Herramientas Integradoras:** Los proyectos permiten desarrollar habilidades interdisciplinarias y ofrecer soluciones concretas a los problemas planteados.\n"
   ]
  },
  {
   "cell_type": "markdown",
   "id": "96775931",
   "metadata": {
    "slideshow": {
     "slide_type": "slide"
    }
   },
   "source": [
    "## Título de la clase: Historia de Colombia\n",
    "\n"
   ]
  },
  {
   "cell_type": "markdown",
   "id": "10e55ccf",
   "metadata": {},
   "source": [
    "# Estructura general para todas las clases  \n",
    "\n",
    "Dame, por favor, un diseño de clase, con el enfoque: \"Preparación a la prueba sobre Historia de Colombia del ICFES\", siguiendo la estructura:  \n",
    "\n",
    "1. Título de la clase \n",
    "2. Objetivos de aprendizaje que incluyan los indicadores del logro de estos objetivos.  \n",
    "   Enfoca la clase hacia  el desarrollo del: \n",
    "   * Pensamiento social\n",
    "   * Interpretación y análisis de perspectivas \n",
    "   * Pensamiento reflexivo y sistémico\n",
    "   Además, forza la clase hacia  \n",
    "      1. Comprende modelos conceptuales, sus características y contextos de aplicación.\n",
    "      2.  Comprende dimensiones espaciales y temporales de  eventos, problemáticas y prácticas sociales.\n",
    "3. Un mapa conceptual que resuma la clase elaborado en Graphviz de Python con nodos y edges de diferentes formas, colores y rellenos y renderizado en la siguiente ubicación: `\"C:/Users/marco/Downloads\"`. No olvides el parámetro `view = True` para el método `render()` de Graphviz. Para este mapa controla las superposiciones de los nodos con: graph [overlap=false]; // Elimina superposiciones (puede aumentar el espacio)\n",
    "graph [overlap=\"scalexy\"]; // Escala el gráfico para evitar overlaps\n",
    "graph [overlap=\"compress\"]; // Comprime el grafo sin overlaps   \n",
    "\n",
    "1. Elementos históricos y epistemológicos relevantes para la clase pero contados como un cuento al estilo de un cuentero antioqueño en Colombia. Incluye imágenes de los protagonistas históricos de esta clase.   \n",
    "\n",
    "2. Contenido de la clase. Que el contenido parta de una situación real para llegar a una constitución del modelo matemático que represente tal situación real. \n",
    "3. Actividades de aprendizaje\n",
    "4. Incluye una canción o un poema que ayude a interiorizar y fijar los conceptos asociados a esta clase. \n",
    "5. Tarea o actividades de ejercitación y fijación\n",
    "6.  Evaluación incluyendo diez proyectos, un ejemplo de quiz (de tres preguntas) y un ejemplo de parcial (de cinco puntos)\n",
    "7.  Diseño de actividad de retroalimentación. \n",
    "8.  Dame un vocabulario y frases del idioma inglés asociadas a esta clase.   \n",
    "9.  Incluye apéndice para la clase sobre desarrollo de habilidades para trabajar en equipo y de asertividad y empatía para relacionarnos. También elementos de la inteligencia emocional para presentar pruebas sin temor y sin realizar fraude en ellas. \n",
    "10. Incluye 10 referentes en didáctica de la matemática que estén de acuerdo a la propuesta didáctica de esta clase. Adiciona a estos referentes a Raymond Duval (Representaciones y cambios de representación para la adquisición de conceptos matemáticos) y a Jeannette Wing (Desarrollo del pensamiento computacional). Déjame todos estos referentes ordenados de acuerdo a las normas APA. Déjame todos estos referentes ordenados de acuerdo a las normas APA. Incluye las citaciones a estos referentes a medida que vallas diseñando la clase.   \n",
    "    \n",
    "\n",
    "Pero  que este diseño sea para que el estudiante pueda aprender experimentando en cuadernos Jupyter con funciones de usuario y animaciones y visualizaciones en Python. En particular utiliza para el diseño de clase a NumPy, Pandas, SymPy, Matplotlib.pyplot, Seaborn, Plotly, ipywidgets, matplotlib.animation y Jupyter Notebook.  Cada vez que utilice `matplotlib.animacion` no olvides incluir el uso de `IPython. display` para la renderización de estas animaciones a través de Jupyter Notebook. No olvides darme los diseños de clase con las ecuaciones matemáticas delimitadas con signo de dólar $ para que VS Code si me renderice estas expresiones del lenguaje latex. Cuando vallas a utilizar ipywidgets ten en cuenta la siguiente importación inicial para garantizar que la visualización interactiva si se renderice en VS Code:                                                                   \n",
    "import numpy as np\n",
    "import matplotlib.pyplot as plt\n",
    "import ipywidgets as widgets\n",
    "from IPython.display import display, clear_output\n",
    "from matplotlib.patches import Rectangle\n",
    "\n",
    "# Configuración inicial para visualización estática\n",
    "%matplotlib inline"
   ]
  },
  {
   "cell_type": "code",
   "execution_count": null,
   "id": "81235e9f",
   "metadata": {},
   "outputs": [],
   "source": [
    "path_image = r'C:/Users/marco/Downloads'\n",
    "def save_fig(nombre_archivo_imagen):\n",
    "    import os \n",
    "    import matplotlib.pyplot as plt \n",
    "    imagen_path = os.path.join(path_image, nombre_archivo_imagen)\n",
    "    plt.savefig(imagen_path, bbox_inches='tight')"
   ]
  },
  {
   "cell_type": "markdown",
   "id": "073109fa",
   "metadata": {},
   "source": [
    "# Actividad de aprendizaje 1  \n",
    "\n",
    "Aquí tienes **10 ejemplos de preguntas tipo ICFES** que evalúan la habilidad de **localizar en el tiempo y el espacio eventos históricos y prácticas sociales** en el contexto de Colombia. Cada pregunta incluye opciones de respuesta y justificación de la correcta:\n",
    "\n",
    "---\n",
    "\n",
    "### **1. Período Prehispánico**  \n",
    "**Pregunta:**  \n",
    "*¿En qué región de Colombia se desarrolló la cultura Muisca, conocida por su sistema de comercio basado en trueque y su culto al Sol y la Luna?*  \n",
    "a) Amazonía  \n",
    "b) Caribe  \n",
    "c) Altiplano Cundiboyacense  \n",
    "d) Pacífico  \n",
    "\n",
    "**Respuesta correcta:** **c) Altiplano Cundiboyacense**  \n",
    "*Justificación:* Los Muiscas habitaron la región andina, especialmente Cundinamarca y Boyacá, donde desarrollaron una sociedad agrícola y comercial.  \n",
    "\n",
    "---\n",
    "\n",
    "### **2. Conquista Española**  \n",
    "**Pregunta:**  \n",
    "*¿En qué año llegó Gonzalo Jiménez de Quesada al territorio muisca, fundando posteriormente Santafé de Bogotá?*  \n",
    "a) 1492  \n",
    "b) 1538  \n",
    "c) 1549  \n",
    "d) 1600  \n",
    "\n",
    "**Respuesta correcta:** **b) 1538**  \n",
    "*Justificación:* Jiménez de Quesada llegó al altiplano en 1537-1538, fundando Santafé en 1538.  \n",
    "\n",
    "---\n",
    "\n",
    "### **3. Independencia**  \n",
    "**Pregunta:**  \n",
    "*¿Cuál de estos eventos ocurrió **antes** del Grito de Independencia (20 de julio de 1810)?*  \n",
    "a) Batalla de Boyacá (1819)  \n",
    "b) Revolución de los Comuneros (1781)  \n",
    "c) Constitución de Cúcuta (1821)  \n",
    "d) Muerte de Bolívar (1830)  \n",
    "\n",
    "**Respuesta correcta:** **b) Revolución de los Comuneros (1781)**  \n",
    "*Justificación:* Fue un levantamiento popular previo a la Independencia, contra los impuestos españoles.  \n",
    "\n",
    "---\n",
    "\n",
    "### **4. Siglo XIX**  \n",
    "**Pregunta:**  \n",
    "*¿Qué práctica social caracterizó a los terratenientes durante la República del siglo XIX?*  \n",
    "a) Abolición de la esclavitud inmediata  \n",
    "b) Uso del sistema de encomiendas  \n",
    "c) Concentración de tierras en haciendas  \n",
    "d) Industrialización masiva  \n",
    "\n",
    "**Respuesta correcta:** **c) Concentración de tierras en haciendas**  \n",
    "*Justificación:* La economía se basaba en latifundios controlados por élites.  \n",
    "\n",
    "---\n",
    "\n",
    "### **5. Violencia Bipartidista**  \n",
    "**Pregunta:**  \n",
    "*¿En qué década se intensificó la \"Violencia\" en Colombia, marcada por conflictos entre liberales y conservadores?*  \n",
    "a) 1920-1930  \n",
    "b) 1948-1958  \n",
    "c) 1960-1970  \n",
    "d) 1980-1990  \n",
    "\n",
    "**Respuesta correcta:** **b) 1948-1958**  \n",
    "*Justificación:* El asesinato de Gaitán (1948) desencadenó este período.  \n",
    "\n",
    "---\n",
    "\n",
    "### **6. Conflicto Armado**  \n",
    "**Pregunta:**  \n",
    "*¿En qué región colombiana se fundaron las FARC en 1964?*  \n",
    "a) Sierra Nevada de Santa Marta  \n",
    "b) Selva Amazónica  \n",
    "c) Marquetalia (Tolima)  \n",
    "d) Llanos Orientales  \n",
    "\n",
    "**Respuesta correcta:** **c) Marquetalia (Tolima)**  \n",
    "*Justificación:* Surgieron como guerrilla campesina en esta zona.  \n",
    "\n",
    "---\n",
    "\n",
    "### **7. Prácticas Culturales**  \n",
    "**Pregunta:**  \n",
    "*¿Cuál de estas prácticas sociales es típica del Carnaval de Barranquilla?*  \n",
    "a) La \"Toma del Panela\"  \n",
    "b) La \"Batalla de Flores\"  \n",
    "c) El \"Festival del Mono Núñez\"  \n",
    "d) El \"Desfile de Mitos y Leyendas\"  \n",
    "\n",
    "**Respuesta correcta:** **b) La \"Batalla de Flores\"**  \n",
    "*Justificación:* Es el evento central del Carnaval, iniciado en 1903.  \n",
    "\n",
    "---\n",
    "\n",
    "### **8. Movimientos Sociales**  \n",
    "**Pregunta:**  \n",
    "*¿Qué movimiento social de los años 70 reclamaba derechos para los campesinos y acceso a la tierra?*  \n",
    "a) ANUC (Asociación Nacional de Usuarios Campesinos)  \n",
    "b) Centrales Obreras  \n",
    "c) Movimiento Estudiantil del 71  \n",
    "d) Grupo de Barrancabermeja  \n",
    "\n",
    "**Respuesta correcta:** **a) ANUC**  \n",
    "*Justificación:* Fundada en 1967, lideró protestas por reforma agraria.  \n",
    "\n",
    "---\n",
    "\n",
    "### **9. Geografía Histórica**  \n",
    "**Pregunta:**  \n",
    "*¿Qué puerto fue el principal punto de entrada de esclavizados africanos durante la Colonia?*  \n",
    "a) Cartagena  \n",
    "b) Buenaventura  \n",
    "c) Santa Marta  \n",
    "d) Barranquilla  \n",
    "\n",
    "**Respuesta correcta:** **a) Cartagena**  \n",
    "*Justificación:* Declarada patrimonio de la humanidad por su historia colonial y tráfico esclavista.  \n",
    "\n",
    "---\n",
    "\n",
    "### **10. Procesos de Paz**  \n",
    "**Pregunta:**  \n",
    "*¿En qué año se firmó el Acuerdo de Paz entre el gobierno colombiano y las FARC?*  \n",
    "a) 2002  \n",
    "b) 2012  \n",
    "c) 2016  \n",
    "d) 2018  \n",
    "\n",
    "**Respuesta correcta:** **c) 2016**  \n",
    "*Justificación:* Firmado en noviembre de 2016, bajo el gobierno de Santos.  \n",
    "\n",
    "---\n",
    "\n",
    "### **Clave de Evaluación**  \n",
    "Estas preguntas miden:  \n",
    "- **Ubicación temporal** (fechas, orden cronológico).  \n",
    "- **Ubicación espacial** (regiones, ciudades).  \n",
    "- **Comprensión de prácticas sociales** (economía, cultura, conflictos).  \n",
    "\n",
    "**Tip ICFES:** Usa mapas históricos y líneas de tiempo interactivas en Python para reforzar estos conceptos. Por ejemplo:  \n",
    "```python\n",
    "import plotly.express as px\n",
    "fig = px.timeline(\n",
    "    events=[\"Conquista (1538)\", \"Independencia (1810)\", \"Violencia (1948)\", \"Acuerdo de Paz (2016)\"],\n",
    "    dates=[\"1538\", \"1810\", \"1948\", \"2016\"],\n",
    "    title=\"Eventos Clave de Colombia\"\n",
    ")\n",
    "fig.show()\n",
    "``` \n",
    "\n",
    "¿Necesitas adaptar alguna pregunta a un tema específico? 😊"
   ]
  },
  {
   "cell_type": "markdown",
   "id": "d5b9c4a2",
   "metadata": {},
   "source": [
    "# Segunda Actividad de aprendizaje  \n",
    "### **10 Preguntas Tipo ICFES: Relación entre Dimensiones Históricas y Geográficas de Problemáticas Sociales en Colombia**  \n",
    "\n",
    "Cada pregunta integra **tiempo, espacio y dinámicas sociales**, evaluando la capacidad de análisis interdisciplinar.  \n",
    "\n",
    "---\n",
    "\n",
    "#### **1. Conflicto Agrario y Geografía**  \n",
    "**Pregunta:**  \n",
    "*¿Cómo se relaciona la concentración de tierras en el Valle del Cauca (siglo XX) con el surgimiento de grupos armados en esta región?*  \n",
    "a) La industrialización redujo la violencia.  \n",
    "b) Los campesinos sin tierra migraron a ciudades, evitando conflictos.  \n",
    "c) La desigualdad en la tenencia de tierra alimentó reclutamiento forzado por grupos guerrilleros.  \n",
    "d) El gobierno distribuyó tierras equitativamente en los años 60.  \n",
    "\n",
    "**Respuesta correcta:** **c)**  \n",
    "*Justificación:* La concentración de tierras en manos de pocos (ej. caña de azúcar) generó pobreza rural, facilitando el reclutamiento por las FARC y ELN.  \n",
    "\n",
    "---\n",
    "\n",
    "#### **2. Independencia y Región Andina**  \n",
    "**Pregunta:**  \n",
    "*¿Por qué la Cordillera de los Andes fue estratégica para los ejércitos patriotas durante la Independencia (1810-1819)?*  \n",
    "a) Su clima frío impedía el avance español.  \n",
    "b) Sus pasos estrechos permitían emboscadas (ej. Batalla de Boyacá).  \n",
    "c) Los españoles no conocían la región.  \n",
    "d) Allí se concentraban todos los recursos mineros.  \n",
    "\n",
    "**Respuesta correcta:** **b)**  \n",
    "*Justificación:* El relieve andino facilitó tácticas de guerrilla patriota, como en el Puente de Boyacá (1819).  \n",
    "\n",
    "---\n",
    "\n",
    "#### **3. Tráfico de Esclavizados y Caribe**  \n",
    "**Pregunta:**  \n",
    "*¿Qué relación hubo entre la geografía de Cartagena (siglo XVI-XVIII) y su rol en el tráfico de esclavizados?*  \n",
    "a) Su ubicación costera la hizo puerto clave para el comercio transatlántico.  \n",
    "b) Su clima tropical evitó enfermedades en los esclavizados.  \n",
    "c) Fue el único puerto permitido por la Corona española.  \n",
    "d) Allí se prohibió la esclavitud en 1600.  \n",
    "\n",
    "**Respuesta correcta:** **a)**  \n",
    "*Justificación:* Cartagena era escala obligada de rutas esclavistas por su posición en el Caribe y murallas defensivas.  \n",
    "\n",
    "---\n",
    "\n",
    "#### **4. Violencia Bipartidista y Zonas Cafeteras**  \n",
    "**Pregunta:**  \n",
    "*¿Por qué el Eje Cafetero fue escenario de la Violencia bipartidista (1948-1958)?*  \n",
    "a) Los cultivos de café atraían inversión extranjera pacífica.  \n",
    "b) Era zona de conflicto por tierras entre liberales y conservadores.  \n",
    "c) Allí se firmaron los primeros acuerdos de paz.  \n",
    "d) No hubo violencia en esta región.  \n",
    "\n",
    "**Respuesta correcta:** **b)**  \n",
    "*Justificación:* La disputa por el control político y económico de zonas cafeteras (ej. Caldas) intensificó masacres.  \n",
    "\n",
    "---\n",
    "\n",
    "#### **5. Cultivos Ilícitos y Amazonía**  \n",
    "**Pregunta:**  \n",
    "*¿Cómo influyó la selva amazónica en la expansión de cultivos de coca (1980-2000)?*  \n",
    "a) Su aislamiento geográfico dificultó el control estatal.  \n",
    "b) La fertilidad del suelo permitió solo agricultura legal.  \n",
    "c) Era zona de turismo ecológico protegida.  \n",
    "d) Las FARC prohibieron los cultivos ilícitos allí.  \n",
    "\n",
    "**Respuesta correcta:** **a)**  \n",
    "*Justificación:* La densa vegetación y lejanía de centros urbanos facilitó la siembra de coca y operaciones guerrilleras.  \n",
    "\n",
    "---\n",
    "\n",
    "#### **6. Movimiento Estudiantil y Bogotá**  \n",
    "**Pregunta:**  \n",
    "*¿Por qué Bogotá fue epicentro del movimiento estudiantil de 1971?*  \n",
    "a) Era la única ciudad con universidades.  \n",
    "b) Concentraba sedes de gobierno y universidades públicas (ej. UNAL).  \n",
    "c) No hubo protestas estudiantiles en Colombia.  \n",
    "d) Los estudiantes preferían manifestarse en zonas rurales.  \n",
    "\n",
    "**Respuesta correcta:** **b)**  \n",
    "*Justificación:* La capital albergaba instituciones educativas y políticas, clave para demandas como educación pública.  \n",
    "\n",
    "---\n",
    "\n",
    "#### **7. Desplazamiento Forzado y Pacífico**  \n",
    "**Pregunta:**  \n",
    "*¿Qué característica geográfica del Pacífico colombiano exacerbó el desplazamiento forzado durante el conflicto armado?*  \n",
    "a) Su infraestructura vial facilitó la huida de comunidades.  \n",
    "b) La presencia de puertos impidió acciones armadas.  \n",
    "c) Su aislamiento y pobreza limitaron la protección estatal.  \n",
    "d) Allí no hubo desplazamiento.  \n",
    "\n",
    "**Respuesta correcta:** **c)**  \n",
    "*Justificación:* La falta de acceso a servicios y presencia estatal dejó a comunidades vulnerables a grupos armados.  \n",
    "\n",
    "---\n",
    "\n",
    "#### **8. Minería y Conflictos Ambientales**  \n",
    "**Pregunta:**  \n",
    "*¿Cómo se relaciona la minería de carbón en El Cerrejón (La Guajira) con problemáticas sociales actuales?*  \n",
    "a) Generó empleo masivo sin impactos ambientales.  \n",
    "b) Su explotación ha afectado territorios indígenas y recursos hídricos.  \n",
    "c) Es ejemplo de desarrollo sostenible.  \n",
    "d) Allí no hay comunidades indígenas.  \n",
    "\n",
    "**Respuesta correcta:** **b)**  \n",
    "*Justificación:* La minería a cielo abierto ha desplazado a comunidades Wayúu y contaminado agua.  \n",
    "\n",
    "---\n",
    "\n",
    "#### **9. Paro Nacional y Ciudades**  \n",
    "**Pregunta:**  \n",
    "*¿Por qué en 2021 el Paro Nacional tuvo mayor impacto en ciudades como Cali?*  \n",
    "a) Fue la única ciudad con protestas.  \n",
    "b) Su desigualdad socioeconómica y diversidad étnica alimentaron reclamos.  \n",
    "c) Allí no hubo represión policial.  \n",
    "d) El gobierno priorizó esta región.  \n",
    "\n",
    "**Respuesta correcta:** **b)**  \n",
    "*Justificación:* Cali combinaba pobreza urbana, población afro e indígena, y descontento por reformas económicas.  \n",
    "\n",
    "---\n",
    "\n",
    "#### **10. Culturas Indígenas y Sierra Nevada**  \n",
    "**Pregunta:**  \n",
    "*¿Por qué la Sierra Nevada de Santa Marta es territorio sagrado para los pueblos Kogui y Arhuaco?*  \n",
    "a) Allí se concentran todas las minas de oro del país.  \n",
    "b) Su ecosistema único es base de su cosmovisión y resistencia cultural.  \n",
    "c) Fue declarada zona de exclusión militar en 1900.  \n",
    "d) No hay indígenas en esta región.  \n",
    "\n",
    "**Respuesta correcta:** **b)**  \n",
    "*Justificación:* La Sierra Nevada es \"corazón del mundo\" para estas culturas, integrando naturaleza y espiritualidad.  \n",
    "\n",
    "---\n",
    "\n",
    "### **Clave de Análisis**  \n",
    "Estas preguntas requieren:  \n",
    "1. **Ubicar geográficamente** el evento (ej. Pacífico, Sierra Nevada).  \n",
    "2. **Relacionarlo con procesos históricos** (esclavitud, conflicto armado).  \n",
    "3. **Inferir causas/consecuencias sociales** (desigualdad, resistencia cultural).  \n",
    "\n",
    "**Herramienta didáctica:** Usa `geopandas` en Python para mapear conflictos:  \n"
   ]
  },
  {
   "cell_type": "code",
   "execution_count": 22,
   "id": "42d40ccc",
   "metadata": {},
   "outputs": [
    {
     "data": {
      "image/png": "[encoded data removed]",
      "text/plain": [
       "<Figure size 1000x1000 with 1 Axes>"
      ]
     },
     "metadata": {},
     "output_type": "display_data"
    },
    {
     "name": "stdout",
     "output_type": "stream",
     "text": [
      "Mapa guardado como 'mapa_colombia.png'\n"
     ]
    }
   ],
   "source": [
    "import geopandas as gpd # para manejar datos geoespaciales\n",
    "import matplotlib.pyplot as plt # para visualización\n",
    "\n",
    "# Cargar el Shapefile global\n",
    "world = gpd.read_file(\"ne_10m_admin_0_countries.shp\") # Asegúrate de que el archivo esté en el directorio correcto o proporciona la ruta completa \n",
    "\n",
    "# Opción 1: Filtrar Colombia por nombre (si existe la columna ADMIN)\n",
    "try:\n",
    "    colombia = world[world['ADMIN'] == 'Colombia'] # \n",
    "except KeyError:\n",
    "    # Opción 2: Filtrar por código ISO (alternativa más robusta)\n",
    "    colombia = world[world['ISO_A3'] == 'COL']\n",
    "\n",
    "# Guardar como GeoJSON\n",
    "colombia.to_file(\"colombia.geojson\", driver='GeoJSON') # \n",
    "\n",
    "# --------------------------------------------\n",
    "# VISUALIZACIÓN MEJORADA DEL MAPA\n",
    "# --------------------------------------------\n",
    "\n",
    "# Configurar el gráfico\n",
    "fig, ax = plt.subplots(figsize=(10, 10))\n",
    "\n",
    "# Estilo del mapa base\n",
    "colombia.plot(\n",
    "    ax=ax,\n",
    "    color='#B3E5FC',  # Azul claro para el territorio\n",
    "    edgecolor='#01579B',  # Azul oscuro para bordes\n",
    "    linewidth=1.5,\n",
    "    alpha=0.8\n",
    ")\n",
    "\n",
    "# Resaltar características geográficas\n",
    "ax.set_title('Mapa de Colombia', fontsize=16, pad=20)\n",
    "ax.annotate('Fuente: Natural Earth Data', \n",
    "            xy=(0.7, 0.05), \n",
    "            xycoords='axes fraction',\n",
    "            fontsize=8,\n",
    "            color='gray')\n",
    "\n",
    "# Añadir elementos decorativos\n",
    "ax.grid(True, linestyle='--', alpha=0.5)\n",
    "ax.set_axis_on()\n",
    "\n",
    "# Opcional: Marcar ciudades importantes (ejemplo)\n",
    "ciudades = {\n",
    "    'Bogotá': (-74.0721, 4.7110),\n",
    "    'Medellín': (-75.5812, 6.2442),\n",
    "    'Cali': (-76.5225, 3.4372),\n",
    "    'Santa Marta': (-74.1993, 11.2408),\n",
    "    'Barranquilla': (-74.8064, 10.9639),\n",
    "    'La Ceja': (-75.4275, 6.0308)\n",
    "}\n",
    "\n",
    "for ciudad, (lon, lat) in ciudades.items():\n",
    "    ax.plot(lon, lat, 'ro', markersize=5)  # Puntos rojos\n",
    "    ax.text(lon + 0.2, lat, ciudad, fontsize=9)  # Etiquetas\n",
    "\n",
    "# Mostrar el mapa\n",
    "plt.tight_layout() # Ajustar el diseño\n",
    "plt.show()\n",
    "\n",
    "# Opcional: Guardar la imagen\n",
    "fig.savefig(r\"C:/Users/marco/Downloads/mapa_colombia.png\", dpi=300, bbox_inches='tight')\n",
    "print(\"Mapa guardado como 'mapa_colombia.png'\")\n"
   ]
  },
  {
   "cell_type": "markdown",
   "id": "10bce0d0",
   "metadata": {
    "slideshow": {
     "slide_type": "slide"
    }
   },
   "source": [
    "## Referentes "
   ]
  },
  {
   "cell_type": "markdown",
   "id": "1db3c468",
   "metadata": {
    "slideshow": {
     "slide_type": "slide"
    }
   },
   "source": [
    "* [Ciencias Sociales y Ciudadanas](file:///C:/Users/marco/Documentos/investigacion/ing_software_joseph/5_icfes/2_implementacion/07-Noviembre-Guia-de-Orientacion-Saber-11-2025-1.pdf)\n",
    "\n",
    "* [Cómo enseñar matemáticas con calculadora Casio LA991 cw](chrome-extension://efaidnbmnnnibpcajpcglclefindmkaj/https://bibliotecadigital.udea.edu.co/bitstream/10495/32857/4/ParraZapata_2024_DesarrolloPensamientoMatematico2aed_versionweb.pdf)  \n",
    "\n",
    "* [CALCULO I DE UNA VARIABLE Ron Larson-Bruce Edwards. Mc Graw Hill. 9º Edición](https://www.academia.edu/42139251/CALCULO_I_DE_UNA_VARIABLE_Ron_Larson_Bruce_Edwards_Mc_Graw_Hill_9o_Edici%C3%B3n)   \n",
    "  \n",
    "\n",
    "* [Grajales Vanegas, L. M., Restrepo Estrada, C. E., Restrepo Ochoa, S. I., & Ruíz De Villalba, F. (2015). Matemáticas I para las ciencias económicas.](https://bibliotecadigital.udea.edu.co/handle/10495/3010)\n",
    "  \n",
    "* R. Duval y Semiosis y pensamiento humano, 2.ª ed. Cali, Colombia: Programa Editorial Universidad del Valle, 2017. [En línea]. Disponible en: https://programaeditorial.univalle.edu.co/gpd-semiosis-y-pensamiento-humano-9789587655278-63324cdb0f6b3.html\n",
    "\n",
    "* [Aylwin, C. U. (2011). Lógica, conjuntos y números. Universidad de los Andes, Consejo de Publicaciones, Colección: Ciencias Básicas, Serie: Matemáticas.](chrome-extension://efaidnbmnnnibpcajpcglclefindmkaj/https://www.u-cursos.cl/ciencias/2011/1/MC110/1/material_docente/bajar?id_material=574722)\n",
    "  \n",
    "* [Recomendación de la UNESCO sobre ciencia abierta](https://unesdoc.unesco.org/ark:/48223/pf0000379949_spa)\n",
    "\n",
    "* [chatGPT](https://openai.com/blog/chatgpt)  \n",
    "* \n",
    "\n",
    "* [Géron, A. (2017). Hands-on machine learning with scikit-learn and tensorflow: Concepts. Tools, and Techniques to build intelligent systems.](chrome-extension://efaidnbmnnnibpcajpcglclefindmkaj/http://14.139.161.31/OddSem-0822-1122/Hands-On_Machine_Learning_with_Scikit-Learn-Keras-and-TensorFlow-2nd-Edition-Aurelien-Geron.pdf)   \n"
   ]
  },
  {
   "cell_type": "markdown",
   "id": "df925560",
   "metadata": {},
   "source": [
    "\n",
    "* [McKinney, W. (2012). Python for data analysis: Data wrangling with Pandas, NumPy, and IPython. \" O'Reilly Media, Inc.\".](https://wesmckinney.com/book/) "
   ]
  },
  {
   "cell_type": "markdown",
   "id": "8e65d6f9",
   "metadata": {},
   "source": [
    "# Como estudiante, encuentro que...   \n",
    "\n",
    "F: Mis Fortalezas son:     \n",
    "O: Mis Oportunidades son:    \n",
    "D: Mis Debilidades son:    \n",
    "A: Lo que Amenazas mi aprendizaje es:  "
   ]
  },
  {
   "cell_type": "markdown",
   "id": "6b9e56a8",
   "metadata": {
    "slideshow": {
     "slide_type": "slide"
    }
   },
   "source": [
    "### [Evaluamos al profesor Marco Cañas Aquí](https://forms.office.com/Pages/ResponsePage.aspx?id=IefhmYRxjkmK_7KtTlPBwkanXIs1i1FEujpsZgO6dXpUREJPV1kxUk1JV1ozTFJIQVNIQjY5WEY3US4u)"
   ]
  },
  {
   "cell_type": "markdown",
   "id": "10f43536",
   "metadata": {
    "slideshow": {
     "slide_type": "slide"
    }
   },
   "source": [
    "### Continue su aprendizaje en la siguiente clase a través del siguiente [vínculo]()"
   ]
  },
  {
   "cell_type": "markdown",
   "id": "53cc9115",
   "metadata": {
    "slideshow": {
     "slide_type": "slide"
    }
   },
   "source": [
    "## Agradecimientos  \n",
    "\n",
    "Doy gracias a Dios por la vida de mi Hijo Joseph Cañas Osorio y la madurez que ha alcanzado. Este hijo me enorgullece y me hace falta abrazarlo cada día. \n",
    "\n",
    "Y a mi esposa Yasmira Emperatriz Barboza Mogollón por su apoyo, orientación y acompañamiento. "
   ]
  }
 ],
 "metadata": {
  "celltoolbar": "Slideshow",
  "kernelspec": {
   "display_name": ".venv",
   "language": "python",
   "name": "python3"
  },
  "language_info": {
   "codemirror_mode": {
    "name": "ipython",
    "version": 3
   },
   "file_extension": ".py",
   "mimetype": "text/x-python",
   "name": "python",
   "nbconvert_exporter": "python",
   "pygments_lexer": "ipython3",
   "version": "3.12.6"
  },
  "rise": {
   "enable_chalkboard": true,
   "theme": "sky",
   "transition": "zoom"
  }
 },
 "nbformat": 4,
 "nbformat_minor": 5
}
