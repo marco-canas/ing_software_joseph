{
 "cells": [
  {
   "cell_type": "markdown",
   "id": "46867530",
   "metadata": {},
   "source": [
    "## 🌍 Sociales y Ciudadanas\n",
    "\n",
    "### Competencias y Temas:\n",
    "\n",
    "#### 1. Pensamiento Social\n",
    "- Constitución Política de Colombia.\n",
    "- Ramas del poder público y organismos de control.\n",
    "- Derechos y deberes ciudadanos.\n",
    "- Mecanismos de participación democrática.\n",
    "\n",
    "#### 2. Interpretación y análisis de perspectivas\n",
    "- Perspectivas de actores sociales.\n",
    "- Prejuicios e ideologías.\n",
    "- Evaluación de argumentos en conflictos sociales.\n",
    "\n",
    "#### 3. Pensamiento Reflexivo y Sistémico\n",
    "- Causas y consecuencias sociales.\n",
    "- Relación entre política, economía y cultura.\n",
    "- Análisis histórico y contextualización de eventos.\n",
    "\n",
    "---\n"
   ]
  },
  {
   "cell_type": "markdown",
   "id": "aa888211",
   "metadata": {},
   "source": [
    "### 🎯 Objetivo general\n",
    "Evaluar el conocimiento del entorno social y la capacidad para actuar como ciudadano informado, reflexivo y crítico.\n",
    "\n",
    "### 🧠 Competencias evaluadas\n",
    "1. **Pensamiento Social**\n",
    "   - Constitución, Estado, derechos y deberes.\n",
    "   - Mecanismos de participación ciudadana.\n",
    "   - Uso de conceptos sociales (económicos, políticos, culturales).\n",
    "\n",
    "2. **Interpretación y análisis de perspectivas**\n",
    "   - Comparación de posturas e ideologías.\n",
    "   - Evaluación de fuentes, argumentos y prejuicios.\n",
    "\n",
    "3. **Pensamiento reflexivo y sistémico**\n",
    "   - Causas y consecuencias sociales.\n",
    "   - Análisis de eventos históricos y actuales.\n",
    "   - Relación entre política, economía y cultura.\n",
    "\n",
    "### 🔍 Fuentes comunes\n",
    "- Textos históricos, mapas, gráficos, tablas, ilustraciones.\n",
    "\n",
    "### 📊 Distribución por competencia\n",
    "- Pensamiento social: **~33%**\n",
    "- Análisis de perspectivas: **~33%**\n",
    "- Reflexión sistémica: **~34%**\n",
    "\n",
    "---"
   ]
  },
  {
   "cell_type": "markdown",
   "id": "68990386",
   "metadata": {},
   "source": [
    "### 1. Pensamiento social\n",
    "**Evidencias:**\n",
    "- 1.1 Usa conceptos básicos sociales (económicos, políticos, culturales).\n",
    "- 1.2 Conoce el Estado Social de Derecho en Colombia.\n",
    "- 1.3 Reconoce funciones de las ramas del poder público.\n",
    "- 1.4 Identifica mecanismos de participación ciudadana.\n",
    "\n",
    "### 2. Interpretación y análisis de perspectivas\n",
    "**Evidencias:**\n",
    "- 2.1 Contextualiza fuentes en su marco político, económico o cultural.\n",
    "- 2.2 Evalúa uso de fuentes como soporte de argumentos.\n",
    "- 2.3 Detecta prejuicios e intenciones en discursos.\n",
    "- 2.4 Reconoce y compara perspectivas de actores sociales.\n",
    "- 2.5 Relaciona posturas ideológicas con propuestas de solución.\n",
    "\n",
    "### 3. Pensamiento reflexivo y sistémico\n",
    "**Evidencias:**\n",
    "- *(La guía no desglosa evidencias específicas aquí, pero incluye la comprensión de relaciones entre dimensiones sociales, causas y consecuencias, y análisis de sistemas sociales complejos).*\n",
    "\n",
    "---"
   ]
  }
 ],
 "metadata": {
  "celltoolbar": "Slideshow",
  "kernelspec": {
   "display_name": ".venv",
   "language": "python",
   "name": "python3"
  },
  "language_info": {
   "codemirror_mode": {
    "name": "ipython",
    "version": 3
   },
   "file_extension": ".py",
   "mimetype": "text/x-python",
   "name": "python",
   "nbconvert_exporter": "python",
   "pygments_lexer": "ipython3",
   "version": "3.12.6"
  },
  "rise": {
   "enable_chalkboard": true,
   "theme": "sky",
   "transition": "zoom"
  }
 },
 "nbformat": 4,
 "nbformat_minor": 5
}
