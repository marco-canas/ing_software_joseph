{
 "cells": [
  {
   "cell_type": "markdown",
   "id": "dc06dec7",
   "metadata": {
    "slideshow": {
     "slide_type": "slide"
    }
   },
   "source": [
    "<table align=\"left\">\n",
    "  <td>\n",
    "    <a href=\"https://colab.research.google.com/github/ageron/handson-ml3/blob/main/tools_numpy.ipynb\" target=\"_parent\"><img src=\"https://colab.research.google.com/assets/colab-badge.svg\" alt=\"Open In Colab\"/></a>\n",
    "  </td>\n",
    "  <td>\n",
    "    <a target=\"_blank\" href=\"https://kaggle.com/kernels/welcome?src=https://github.com/ageron/handson-ml3/blob/main/tools_numpy.ipynb\"><img src=\"https://kaggle.com/static/images/open-in-kaggle.svg\" /></a>\n",
    "  </td>\n",
    "</table>"
   ]
  },
  {
   "cell_type": "markdown",
   "id": "e0c5b198",
   "metadata": {
    "slideshow": {
     "slide_type": "slide"
    }
   },
   "source": [
    "### [Video de apoyo a la lectura interactiva y experimental de este cuaderno]()"
   ]
  },
  {
   "cell_type": "markdown",
   "id": "41e82203",
   "metadata": {
    "slideshow": {
     "slide_type": "slide"
    }
   },
   "source": [
    "### [Vínculo al programa del curso:  ]()\n",
    "\n"
   ]
  },
  {
   "cell_type": "markdown",
   "id": "d11ab06d",
   "metadata": {
    "slideshow": {
     "slide_type": "slide"
    }
   },
   "source": [
    "Un reconocimiento a mis estudiantes que han construido conmigo este saber pedagógico:\n",
    "\n",
    "<img src = ''> \n",
    "\n"
   ]
  },
  {
   "cell_type": "markdown",
   "id": "8a74a56c-0ce6-4ad6-b985-553fd7fb68bb",
   "metadata": {},
   "source": [
    "Reconocimiento a las profesoras destacadas en enseñanza de la matemática en Colombia\n"
   ]
  },
  {
   "cell_type": "code",
   "execution_count": 1,
   "id": "6cb89c0b",
   "metadata": {},
   "outputs": [
    {
     "data": {
      "application/vnd.microsoft.datawrangler.viewer.v0+json": {
       "columns": [
        {
         "name": "index",
         "rawType": "int64",
         "type": "integer"
        },
        {
         "name": "Cedula",
         "rawType": "int64",
         "type": "integer"
        },
        {
         "name": "Nombre",
         "rawType": "object",
         "type": "string"
        },
        {
         "name": "Email",
         "rawType": "object",
         "type": "string"
        },
        {
         "name": "Parcial",
         "rawType": "float64",
         "type": "float"
        },
        {
         "name": "Asistencia",
         "rawType": "float64",
         "type": "float"
        }
       ],
       "conversionMethod": "pd.DataFrame",
       "ref": "6b84fd7a-7d91-41e7-acd8-76d316e02aff",
       "rows": [
        [
         "1",
         "1007528664",
         "AYALA MENDOZA MARISOL YACIRA",
         "marisol.ayala@udea.edu.co",
         "0.0",
         null
        ],
        [
         "2",
         "1064188463",
         "MASS MIRANDA RIVALDO JOSE",
         "rivaldo.mass@udea.edu.co",
         "0.0",
         null
        ],
        [
         "3",
         "1066570075",
         "MONTERROSA SOTO ABRIL",
         "a.monterrosa@udea.edu.co",
         "0.0",
         null
        ],
        [
         "4",
         "1193404816",
         "AMARIS FERNANDEZ SEBASTIAN CAMILO",
         "sebastian.amaris@udea.edu.co",
         null,
         null
        ]
       ],
       "shape": {
        "columns": 5,
        "rows": 4
       }
      },
      "text/html": [
       "<div>\n",
       "<style scoped>\n",
       "    .dataframe tbody tr th:only-of-type {\n",
       "        vertical-align: middle;\n",
       "    }\n",
       "\n",
       "    .dataframe tbody tr th {\n",
       "        vertical-align: top;\n",
       "    }\n",
       "\n",
       "    .dataframe thead th {\n",
       "        text-align: right;\n",
       "    }\n",
       "</style>\n",
       "<table border=\"1\" class=\"dataframe\">\n",
       "  <thead>\n",
       "    <tr style=\"text-align: right;\">\n",
       "      <th></th>\n",
       "      <th>Cedula</th>\n",
       "      <th>Nombre</th>\n",
       "      <th>Email</th>\n",
       "      <th>Parcial</th>\n",
       "      <th>Asistencia</th>\n",
       "    </tr>\n",
       "  </thead>\n",
       "  <tbody>\n",
       "    <tr>\n",
       "      <th>1</th>\n",
       "      <td>1007528664</td>\n",
       "      <td>AYALA MENDOZA MARISOL YACIRA</td>\n",
       "      <td>marisol.ayala@udea.edu.co</td>\n",
       "      <td>0.0</td>\n",
       "      <td>NaN</td>\n",
       "    </tr>\n",
       "    <tr>\n",
       "      <th>2</th>\n",
       "      <td>1064188463</td>\n",
       "      <td>MASS MIRANDA RIVALDO JOSE</td>\n",
       "      <td>rivaldo.mass@udea.edu.co</td>\n",
       "      <td>0.0</td>\n",
       "      <td>NaN</td>\n",
       "    </tr>\n",
       "    <tr>\n",
       "      <th>3</th>\n",
       "      <td>1066570075</td>\n",
       "      <td>MONTERROSA SOTO ABRIL</td>\n",
       "      <td>a.monterrosa@udea.edu.co</td>\n",
       "      <td>0.0</td>\n",
       "      <td>NaN</td>\n",
       "    </tr>\n",
       "    <tr>\n",
       "      <th>4</th>\n",
       "      <td>1193404816</td>\n",
       "      <td>AMARIS FERNANDEZ SEBASTIAN CAMILO</td>\n",
       "      <td>sebastian.amaris@udea.edu.co</td>\n",
       "      <td>NaN</td>\n",
       "      <td>NaN</td>\n",
       "    </tr>\n",
       "  </tbody>\n",
       "</table>\n",
       "</div>"
      ],
      "text/plain": [
       "       Cedula                             Nombre  \\\n",
       "1  1007528664       AYALA MENDOZA MARISOL YACIRA   \n",
       "2  1064188463          MASS MIRANDA RIVALDO JOSE   \n",
       "3  1066570075              MONTERROSA SOTO ABRIL   \n",
       "4  1193404816  AMARIS FERNANDEZ SEBASTIAN CAMILO   \n",
       "\n",
       "                          Email  Parcial  Asistencia  \n",
       "1     marisol.ayala@udea.edu.co      0.0         NaN  \n",
       "2      rivaldo.mass@udea.edu.co      0.0         NaN  \n",
       "3      a.monterrosa@udea.edu.co      0.0         NaN  \n",
       "4  sebastian.amaris@udea.edu.co      NaN         NaN  "
      ]
     },
     "execution_count": 1,
     "metadata": {},
     "output_type": "execute_result"
    }
   ],
   "source": [
    "import pandas as pd\n",
    "import numpy as np\n",
    "\n",
    "# Cargar la lista de estudiantes desde el archivo CSV\n",
    "path = 'C:/Users/marco/Documentos/docencia/groups_list/vectorial.xlsx'\n",
    "estudiantes = pd.read_excel(path)\n",
    "estudiantes.index = range(1, len(estudiantes) + 1)\n",
    "estudiantes.head(17) "
   ]
  },
  {
   "cell_type": "code",
   "execution_count": 2,
   "id": "7604880f",
   "metadata": {
    "slideshow": {
     "slide_type": "slide"
    }
   },
   "outputs": [
    {
     "name": "stdout",
     "output_type": "stream",
     "text": [
      "Llamando a AYALA MENDOZA MARISOL YACIRA...\n",
      "Llamando a MASS MIRANDA RIVALDO JOSE...\n",
      "Llamando a MONTERROSA SOTO ABRIL...\n",
      "Llamando a AMARIS FERNANDEZ SEBASTIAN CAMILO...\n",
      "Cambios guardados en el archivo CSV.\n"
     ]
    }
   ],
   "source": [
    "# Convertir la columna 'Nombre' a una lista de Python\n",
    "lista_estudiantes = estudiantes['Nombre'].tolist()\n",
    "\n",
    "# Función para llamar a un estudiante aleatoriamente y registrar su nota de seguimiento\n",
    "def asistencia():\n",
    "    global lista_estudiantes\n",
    "    if lista_estudiantes:\n",
    "        estudiante_aleatorio = np.random.choice(lista_estudiantes)\n",
    "        print(f\"Llamando a {estudiante_aleatorio}...\")\n",
    "        asistencia = input(f\"¿Asistió {estudiante_aleatorio}? (s/n): \").strip().lower()\n",
    "        \n",
    "        # Validación de entrada\n",
    "        if asistencia == 'n':\n",
    "            # Obtener el índice del estudiante en el DataFrame\n",
    "            indice = estudiantes[estudiantes['Nombre'] == estudiante_aleatorio].index[0]\n",
    "            # Incrementar su valor en la columna 'Parcial'\n",
    "            estudiantes.at[indice, 'Asistencia'] += 4\n",
    "            print(f\"Actualizado: {estudiante_aleatorio} ahora tiene {estudiantes.at[indice,\\\n",
    "                'Asistencia']} en la columna 'Asistencia'.\")\n",
    "        \n",
    "        elif asistencia != 's':\n",
    "            print(\"Entrada inválida. Por favor, introduce 's' para sí o 'n' para no.\")\n",
    "            return  # Volver a preguntar para el mismo estudiante si la entrada es inválida\n",
    "        \n",
    "        # Remover al estudiante de la lista para no llamarlo de nuevo\n",
    "        lista_estudiantes.remove(estudiante_aleatorio)\n",
    "    else:\n",
    "        print(\"Se han llamado a todos los estudiantes del grupo completo.\")\n",
    "\n",
    "# Función para guardar cambios al final de la sesión\n",
    "def guardar_cambios():\n",
    "    estudiantes.to_csv(path, index=False)\n",
    "    print(\"Cambios guardados en el archivo CSV.\")\n",
    "\n",
    "# Ejemplo de uso\n",
    "while lista_estudiantes:\n",
    "    asistencia()\n",
    "\n",
    "# Guardar los cambios una vez que todos los estudiantes hayan sido llamados\n",
    "guardar_cambios()\n",
    "\n"
   ]
  },
  {
   "cell_type": "markdown",
   "id": "d7598d0a-d9b7-4ae0-b029-a0ed6ed1130b",
   "metadata": {},
   "source": [
    "\n",
    "# Principios de mi labor docente"
   ]
  },
  {
   "cell_type": "markdown",
   "id": "4f9d8cf9",
   "metadata": {
    "slideshow": {
     "slide_type": "slide"
    }
   },
   "source": [
    "## Modelo general de clase: [aula invertida](https://www3.gobiernodecanarias.org/medusa/ecoescuela/pedagotic/aprendizaje-invertido-flipped-classroom/)"
   ]
  },
  {
   "cell_type": "markdown",
   "id": "eb6ed03a",
   "metadata": {},
   "source": [
    "<img src = 'https://resources.maneuveringthemiddle.com/wp-content/uploads/2020/07/04212706/1-5.png' width = 200>  \n",
    "\n"
   ]
  },
  {
   "cell_type": "markdown",
   "id": "34319cce-a71b-4f64-aab8-b53e521efa40",
   "metadata": {},
   "source": [
    "# Metodología de enseñanza que busca el Aprendizaje Basada en Problemas y Proyectos (ABPP)\n"
   ]
  },
  {
   "cell_type": "markdown",
   "id": "c4f73d81",
   "metadata": {},
   "source": [
    "\n",
    "<img src = 'https://www.unir.net/wp-content/uploads/2020/07/aprendizaje-problemas2-1-1-1-1.jpeg' width = 200>"
   ]
  },
  {
   "cell_type": "markdown",
   "id": "841a985c-bd9b-4dd3-8e4c-893983980af2",
   "metadata": {},
   "source": [
    "# Desarrollo del pensamiento computacional con Lenguajes Python, R y,  con archivos R Markdown orientado a la formación en ciencia de datos \n",
    "\n"
   ]
  },
  {
   "cell_type": "markdown",
   "id": "3d0eba94",
   "metadata": {},
   "source": [
    "\n",
    "<img src = 'https://i.ytimg.com/vi/mcG_wcR4e6M/maxresdefault.jpg' width = 200>"
   ]
  },
  {
   "cell_type": "markdown",
   "id": "65aa0404-f7ae-495e-864c-1aec01b4255e",
   "metadata": {},
   "source": [
    "# Principio de fomento a la ciencia abierta, enseñar en el acceso a los datos públicos y el uso de software de código abierto  \n"
   ]
  },
  {
   "cell_type": "markdown",
   "id": "18ae9b87",
   "metadata": {},
   "source": [
    "\n",
    "<img src = 'https://unesdoc.unesco.org/in/rest/Thumb/image?id=p%3A%3Ausmarcdef_0000379949_spa&author=UNESCO&title=Recomendaci%C3%B3n+de+la+UNESCO+sobre+la+Ciencia+Abierta&year=2021&publisher=UNESCO&TypeOfDocument=UnescoPhysicalDocument&mat=PGD&ct=true&size=512&isPhysical=1' width = 200>"
   ]
  },
  {
   "cell_type": "markdown",
   "id": "d9559f85",
   "metadata": {},
   "source": [
    "El enfoque STEAMS en educación preescolar, primaria y secundaria es una extensión del enfoque STEM (Ciencia, Tecnología, Ingeniería y Matemáticas) y su variante STEAM, que incorpora el Arte. "
   ]
  },
  {
   "cell_type": "markdown",
   "id": "72e1cfd2",
   "metadata": {},
   "source": [
    "El acrónimo STEAMS incluye:\n"
   ]
  },
  {
   "cell_type": "markdown",
   "id": "03182fd1",
   "metadata": {},
   "source": [
    "\n",
    "1. **Science (Ciencia):** Fomenta la curiosidad por el mundo natural y el desarrollo de habilidades científicas, como la observación, experimentación y análisis.\n"
   ]
  },
  {
   "cell_type": "markdown",
   "id": "1306d0fa",
   "metadata": {},
   "source": [
    "\n",
    "2. **Technology (Tecnología):** Integra herramientas tecnológicas para potenciar el aprendizaje y la resolución de problemas, promoviendo la alfabetización digital desde edades tempranas.\n"
   ]
  },
  {
   "cell_type": "markdown",
   "id": "3b1a53e8",
   "metadata": {},
   "source": [
    "\n",
    "3. **Engineering (Ingeniería):** Introduce el pensamiento lógico y la resolución de problemas estructurados, fomentando habilidades como el diseño y la construcción de soluciones.\n"
   ]
  },
  {
   "cell_type": "markdown",
   "id": "0196de87",
   "metadata": {},
   "source": [
    "\n",
    "4. **Arts (Arte):** Añade creatividad y pensamiento crítico, permitiendo a los estudiantes expresarse y explorar el aprendizaje a través de formas artísticas (plásticas, música, teatro).\n"
   ]
  },
  {
   "cell_type": "markdown",
   "id": "8bcc485a",
   "metadata": {},
   "source": [
    "\n",
    "5. **Mathematics (Matemáticas):** Refuerza las habilidades numéricas y el razonamiento lógico, fundamentales en la resolución de problemas y comprensión de conceptos abstractos.\n"
   ]
  },
  {
   "cell_type": "markdown",
   "id": "907935f4",
   "metadata": {},
   "source": [
    "\n",
    "6. **Social Sciences (Ciencias Sociales):** Incorpora la comprensión del entorno social, político, cultural y económico, promoviendo el desarrollo de la conciencia crítica sobre el mundo y su historia, además de habilidades de empatía y ciudadanía.\n"
   ]
  },
  {
   "cell_type": "markdown",
   "id": "39967d63",
   "metadata": {},
   "source": [
    "\n",
    "El enfoque STEAMS pretende desarrollar un aprendizaje **interdisciplinario** que integre estas áreas para fomentar un pensamiento más holístico y práctico. "
   ]
  },
  {
   "cell_type": "markdown",
   "id": "5145f077",
   "metadata": {},
   "source": [
    "Se busca que los estudiantes no solo aprendan conocimientos técnicos, sino también cómo aplicarlos creativa y críticamente en situaciones reales, promoviendo habilidades como el trabajo en equipo, la comunicación y la innovación. "
   ]
  },
  {
   "cell_type": "markdown",
   "id": "9d556584",
   "metadata": {},
   "source": [
    "En educación preescolar, primaria, secundaria y superior, se adapta a las diferentes etapas de desarrollo cognitivo y emocional de los estudiantes, promoviendo el aprendizaje activo y contextualizado.  \n"
   ]
  },
  {
   "cell_type": "markdown",
   "id": "0130ec1b",
   "metadata": {},
   "source": [
    "\n",
    "<img src = 'https://www.campuseducacion.com/blog/wp-content/uploads/2023/03/foto01-1.jpg' width = 200>"
   ]
  },
  {
   "cell_type": "markdown",
   "id": "9d15c10d-2c02-4158-9419-b1ed79b4c1ee",
   "metadata": {},
   "source": [
    "# Qué estamos haciendo por la internalización en esta clase y este curso  \n"
   ]
  },
  {
   "cell_type": "markdown",
   "id": "6e4feef2",
   "metadata": {},
   "source": [
    "Estas son mis acciones como docente de matemáticas en la Universidad de Antioquia con miras a la **internacionalización** de mi práctica docente y el desarrollo de competencias internacionales para mis estudiantes, ls cuales he estructurado con el siguiente enfoque:\n"
   ]
  },
  {
   "cell_type": "markdown",
   "id": "964d9de7-53ee-4255-9bcd-d8e6454f2993",
   "metadata": {},
   "source": [
    "### 1. **Visión Global en la Formación Académica**\n"
   ]
  },
  {
   "cell_type": "markdown",
   "id": "d9bdd3e2",
   "metadata": {},
   "source": [
    "   - **Competencias Internacionales**: Asegúrate de que el contenido de tus cursos fomente habilidades que sean reconocidas globalmente. "
   ]
  },
  {
   "cell_type": "markdown",
   "id": "843e9311",
   "metadata": {},
   "source": [
    "Al educar a los estudiantes en **Python, LaTeX, Markdown y Jupyter Notebooks** y en la **introducción a la ciencia de datos y técnicas de Machine Learning**, estás proporcionando competencias altamente demandadas en los sectores tecnológicos y académicos a nivel internacional.\n"
   ]
  },
  {
   "cell_type": "markdown",
   "id": "39b55206",
   "metadata": {},
   "source": [
    "   - **Relevancia de los Contenidos**: Destaca cómo los temas que enseñas, como el **desarrollo del pensamiento computacional** y la **ciencia de datos**, están alineados con las necesidades globales actuales en diversas industrias, desde la tecnología hasta las ciencias naturales y sociales.\n"
   ]
  },
  {
   "cell_type": "markdown",
   "id": "a054599e",
   "metadata": {},
   "source": [
    "   - **Referencias a Estándares Internacionales**: Puedes vincular tu enseñanza a estándares internacionales de competencias en programación y ciencia de datos (por ejemplo, frameworks del **IEEE, ACM**, y estándares de la **data science** o la **computación en la nube**)."
   ]
  },
  {
   "cell_type": "markdown",
   "id": "0f1d110c-3142-48fe-9e7d-5fbd9e8bb931",
   "metadata": {},
   "source": [
    "### 2. **Innovación Pedagógica con Enfoque Internacional**\n"
   ]
  },
  {
   "cell_type": "markdown",
   "id": "fae6ae34",
   "metadata": {},
   "source": [
    "   - **Aula Invertida y ABP**: Presenta cómo tu enfoque de **aula invertida** y **aprendizaje basado en problemas (ABP)** permite a los estudiantes trabajar de manera autónoma y colaborativa, lo que los prepara para escenarios laborales internacionales que requieren autoaprendizaje y habilidades de resolución de problemas en equipo.\n"
   ]
  },
  {
   "cell_type": "markdown",
   "id": "c83062d9",
   "metadata": {},
   "source": [
    "   - **Uso de Jupyter Notebooks**: El uso de **Jupyter Notebooks** en tus clases no solo facilita la **integración de código, matemáticas y texto**, sino que también es una plataforma utilizada globalmente en ambientes académicos y profesionales, lo que hace a tus estudiantes más competitivos internacionalmente."
   ]
  },
  {
   "cell_type": "markdown",
   "id": "960d52b7-03cd-4eb3-965e-5cdfeb7d9f8e",
   "metadata": {},
   "source": [
    "### 3. **Tecnología y Herramientas de Uso Global**\n"
   ]
  },
  {
   "cell_type": "markdown",
   "id": "4be7269f",
   "metadata": {},
   "source": [
    "   - **Lenguaje Python**: Python es uno de los lenguajes de programación más usados a nivel mundial, tanto en la academia como en la industria. "
   ]
  },
  {
   "cell_type": "markdown",
   "id": "5abb1c38",
   "metadata": {},
   "source": [
    "Al formar a tus estudiantes en Python para ciencia de datos y machine learning, los preparas para operar en entornos tecnológicos globales.\n"
   ]
  },
  {
   "cell_type": "markdown",
   "id": "102655af",
   "metadata": {},
   "source": [
    "   - **Herramientas de Ciencia Abierta**: Resalta cómo herramientas como **GitHub**, **Google Colab** y otras plataformas de código abierto están alineadas con el movimiento de **ciencia abierta**, el cual es internacionalmente reconocido y permite que los estudiantes colaboren y compartan proyectos a nivel global."
   ]
  },
  {
   "cell_type": "markdown",
   "id": "3b2ffa32-7a6f-4545-ba7b-c6a69f51109f",
   "metadata": {},
   "source": [
    "### 4. **Investigación y Publicaciones Internacionales**\n"
   ]
  },
  {
   "cell_type": "markdown",
   "id": "bdbf52a5",
   "metadata": {},
   "source": [
    "   - **Promoción de la Investigación**: Detalla cómo promueves que tus estudiantes participen en proyectos de **investigación aplicada**, con posibilidad de publicación en revistas internacionales. "
   ]
  },
  {
   "cell_type": "markdown",
   "id": "1bb10e37",
   "metadata": {},
   "source": [
    "Esto contribuye a la reputación internacional de la Universidad de Antioquia.\n"
   ]
  },
  {
   "cell_type": "markdown",
   "id": "ea01fcbc",
   "metadata": {},
   "source": [
    "   - **Colaboraciones Internacionales**: Si has colaborado con investigadores de otras instituciones o universidades en el extranjero, menciona estos proyectos y cómo han enriquecido tu enseñanza y proporcionado a los estudiantes una visión más globalizada."
   ]
  },
  {
   "cell_type": "markdown",
   "id": "5d1e396e-aece-4bf7-9421-32fa7809eaf4",
   "metadata": {},
   "source": [
    "## 5. **Uso del Inglés para la Internacionalización**\n"
   ]
  },
  {
   "cell_type": "markdown",
   "id": "29cabf26",
   "metadata": {},
   "source": [
    "   - **Comunicación Científica en Inglés**: "
   ]
  },
  {
   "cell_type": "markdown",
   "id": "8ec53ff3",
   "metadata": {},
   "source": [
    "Fomentar el aprendizaje del inglés como lengua científica es clave para que tus estudiantes puedan acceder a publicaciones internacionales, conferencias, y material académico que no está disponible en español. "
   ]
  },
  {
   "cell_type": "markdown",
   "id": "3319ddb0",
   "metadata": {},
   "source": [
    "Esto es esencial para que adquieran competencias que les permitan desempeñarse en cualquier contexto internacional.\n"
   ]
  },
  {
   "cell_type": "markdown",
   "id": "b831224f",
   "metadata": {},
   "source": [
    "   - **Material Bilingüe**: Al generar material educativo en Python, LaTeX y Markdown, considera ofrecer algunos de estos recursos en inglés, para que los estudiantes se familiaricen con el vocabulario técnico y científico internacional."
   ]
  },
  {
   "cell_type": "markdown",
   "id": "c6a8c3b0-426a-4692-a384-3065aea81c9a",
   "metadata": {},
   "source": [
    "### 6. **Certificaciones y Estándares Internacionales**\n"
   ]
  },
  {
   "cell_type": "markdown",
   "id": "b1f41da5",
   "metadata": {},
   "source": [
    "   - **Participación en Certificaciones Internacionales**: Impulsa que los estudiantes busquen certificaciones internacionales en Python o ciencia de datos (como las ofrecidas por **Coursera, edX,** o **Google**). "
   ]
  },
  {
   "cell_type": "markdown",
   "id": "3c935f24",
   "metadata": {},
   "source": [
    "Estas certificaciones no solo validan sus competencias, sino que también incrementan el reconocimiento de la Universidad de Antioquia en el contexto internacional.\n"
   ]
  },
  {
   "cell_type": "markdown",
   "id": "7cc66317",
   "metadata": {},
   "source": [
    "   - **Alineación con Acreditaciones Internacionales**: Vincula tu trabajo docente con los estándares de acreditación y certificación que garantizan que la universidad siga siendo reconocida internacionalmente. "
   ]
  },
  {
   "cell_type": "markdown",
   "id": "0f330d59",
   "metadata": {},
   "source": [
    "Puedes vincularte con organizaciones internacionales que promuevan la excelencia en la educación y tecnología, como **ABET** para la acreditación en ingeniería y ciencias computacionales."
   ]
  },
  {
   "cell_type": "markdown",
   "id": "65d3d9e1-ea84-43e0-8197-a2a9c9e21594",
   "metadata": {},
   "source": [
    "### 7. **Proyectos Abiertos y Ciencia Reproducible**\n"
   ]
  },
  {
   "cell_type": "markdown",
   "id": "f03f7b20",
   "metadata": {},
   "source": [
    "   - **GitHub y Open Science**: La utilización de **GitHub** para almacenar los proyectos y materiales de enseñanza en repositorios públicos permite que otros investigadores y educadores internacionales puedan revisar y replicar tu trabajo. "
   ]
  },
  {
   "cell_type": "markdown",
   "id": "b15e6443",
   "metadata": {},
   "source": [
    "Esto contribuye a la creación de una red de colaboración científica abierta.\n"
   ]
  },
  {
   "cell_type": "markdown",
   "id": "9fb139ef",
   "metadata": {},
   "source": [
    "   - **Transparencia y Reproducibilidad**: La ciencia de datos y machine learning están profundamente ligados a la reproducibilidad. "
   ]
  },
  {
   "cell_type": "markdown",
   "id": "6dcc0d62",
   "metadata": {},
   "source": [
    "Asegura que tus estudiantes desarrollen prácticas de transparencia y documentación en la investigación, que son pilares en la comunidad científica global.\n"
   ]
  },
  {
   "cell_type": "markdown",
   "id": "215cb551",
   "metadata": {},
   "source": [
    "\n",
    "### 8. **Participación en Redes y Conferencias Internacionales**\n"
   ]
  },
  {
   "cell_type": "markdown",
   "id": "489c0b8c",
   "metadata": {},
   "source": [
    "   - **Presentación en Conferencias Internacionales**: Destaca cómo tu participación en conferencias internacionales (como la **ASCOLFA** o eventos sobre educación en matemáticas) contribuye al prestigio de la universidad y permite que tus prácticas sean evaluadas y reconocidas a nivel global.\n"
   ]
  },
  {
   "cell_type": "markdown",
   "id": "cdf46e29",
   "metadata": {},
   "source": [
    "   - **Promoción de Estudiantes en Eventos Internacionales**: Impulsa la participación de tus estudiantes en competiciones internacionales de programación o hackathons, como los organizados por **Google**, **ACM** o **Kaggle**. "
   ]
  },
  {
   "cell_type": "markdown",
   "id": "2b0eb8a9",
   "metadata": {},
   "source": [
    "Esto no solo desarrolla sus habilidades, sino que también visibiliza el talento de la Universidad de Antioquia a nivel global.\n",
    "\n",
    "---"
   ]
  },
  {
   "cell_type": "markdown",
   "id": "233294a4-1983-4641-a7ad-866825e02315",
   "metadata": {},
   "source": [
    "Con esta estrategia, presento mis acciones docentes en términos de:  \n",
    "\n",
    "* competencias internacionales, \n",
    "* innovación pedagógica, \n",
    "* tecnología, \n",
    "* investigación y \n",
    "* participación en redes globales, \n",
    "  \n",
    "asegurando que mi práctica esté alineada con los estándares internacionales y que mis estudiantes estén preparados para competir en contextos internacionales."
   ]
  },
  {
   "cell_type": "markdown",
   "id": "77da458b",
   "metadata": {},
   "source": [
    "### **Metodología de Enseñanza: Aprendizaje Basado en Problemas y Proyectos (ABPP)**\n"
   ]
  },
  {
   "cell_type": "markdown",
   "id": "c943d273",
   "metadata": {},
   "source": [
    "\n",
    "El **Aprendizaje Basado en Problemas y Proyectos (ABPP)** es una metodología educativa que integra los enfoques del **Aprendizaje Basado en Problemas (ABP)** y el **Aprendizaje Basado en Proyectos (PBL, por sus siglas en inglés)**. "
   ]
  },
  {
   "cell_type": "markdown",
   "id": "ad0e0bf3",
   "metadata": {},
   "source": [
    "Es especialmente útil para la formación de futuros docentes, ingenieros y administradores, ya que combina el desarrollo de habilidades prácticas con el pensamiento crítico y reflexivo. "
   ]
  },
  {
   "cell_type": "markdown",
   "id": "137b18e2",
   "metadata": {},
   "source": [
    "A continuación, se presenta una descripción adaptada a la enseñanza de las matemáticas en educación infantil, Licenciatura en Matemáticas, Ingeniería Agropecuaria y Administración de Empresas:\n",
    "\n",
    "---\n"
   ]
  },
  {
   "cell_type": "markdown",
   "id": "0eeba3f5",
   "metadata": {},
   "source": [
    "\n",
    "### **1. Fundamentos del ABPP**\n"
   ]
  },
  {
   "cell_type": "markdown",
   "id": "fb051f2b",
   "metadata": {},
   "source": [
    "El ABPP se basa en:\n",
    "- **Resolución de Problemas Reales:** Los estudiantes analizan y resuelven problemas auténticos relacionados con su área de formación, fomentando la aplicación práctica del conocimiento.\n"
   ]
  },
  {
   "cell_type": "markdown",
   "id": "47bb5fcc",
   "metadata": {},
   "source": [
    "- **Proyectos como Herramientas Integradoras:** Los proyectos permiten desarrollar habilidades interdisciplinarias y ofrecer soluciones concretas a los problemas planteados.\n"
   ]
  },
  {
   "cell_type": "markdown",
   "id": "9f77ec82",
   "metadata": {},
   "source": [
    "- **Aprendizaje Activo:** Los estudiantes son responsables de su aprendizaje y participan activamente en el proceso de investigación, diseño y solución.\n",
    "\n",
    "---\n"
   ]
  },
  {
   "cell_type": "markdown",
   "id": "3728d010",
   "metadata": {},
   "source": [
    "\n",
    "### **2. Aplicación del ABPP en Áreas Específicas**\n"
   ]
  },
  {
   "cell_type": "markdown",
   "id": "695a22f2",
   "metadata": {},
   "source": [
    "\n",
    "#### **Educación Infantil (Licenciatura en Educación Infantil)**\n"
   ]
  },
  {
   "cell_type": "markdown",
   "id": "d8eeda88",
   "metadata": {},
   "source": [
    "- **Enfoque:** Desarrollo del pensamiento matemático en la infancia desde contextos lúdicos, familiares y culturales.\n"
   ]
  },
  {
   "cell_type": "markdown",
   "id": "06b737e1",
   "metadata": {},
   "source": [
    "- **Problemas típicos:** \n",
    "  - ¿Cómo enseñar los números naturales mediante actividades prácticas y juegos?\n",
    "  - ¿Qué estrategias pueden emplearse para abordar el concepto de cantidad en edades tempranas?\n"
   ]
  },
  {
   "cell_type": "markdown",
   "id": "e92ccc6d",
   "metadata": {},
   "source": [
    "- **Proyectos:** Diseño de secuencias didácticas que usen Python, Jupyter Notebooks y materiales manipulativos para enseñar matemáticas de forma interactiva.\n"
   ]
  },
  {
   "cell_type": "markdown",
   "id": "9c58539c",
   "metadata": {},
   "source": [
    "- **Competencias desarrolladas:** \n",
    "  - Uso de herramientas tecnológicas para diseñar actividades educativas.\n",
    "  - Comprensión del desarrollo cognitivo infantil y su relación con las matemáticas.\n"
   ]
  },
  {
   "cell_type": "markdown",
   "id": "481f614a",
   "metadata": {},
   "source": [
    "\n",
    "#### **Licenciatura en Matemáticas**\n"
   ]
  },
  {
   "cell_type": "markdown",
   "id": "ef50ed64",
   "metadata": {},
   "source": [
    "- **Enfoque:** Resolución de problemas matemáticos aplicados y profundización teórica en áreas como análisis matemático y modelado.\n"
   ]
  },
  {
   "cell_type": "markdown",
   "id": "69305cb7",
   "metadata": {},
   "source": [
    "- **Problemas típicos:**\n",
    "  - ¿Cómo se pueden resolver ecuaciones diferenciales aplicadas a modelos físicos o económicos?\n",
    "  - ¿Cómo modelar fenómenos naturales mediante funciones matemáticas?\n"
   ]
  },
  {
   "cell_type": "markdown",
   "id": "1e4ab50a",
   "metadata": {},
   "source": [
    "- **Proyectos:** \n",
    "  - Desarrollo de software educativo para explorar conceptos matemáticos.\n",
    "  - Aplicación de modelado matemático para resolver problemas reales en otras disciplinas.\n"
   ]
  },
  {
   "cell_type": "markdown",
   "id": "d7fa6846",
   "metadata": {},
   "source": [
    "- **Competencias desarrolladas:**\n",
    "  - Dominio de la matemática teórica y aplicada.\n",
    "  - Uso de tecnología para la enseñanza y la investigación.\n"
   ]
  },
  {
   "cell_type": "markdown",
   "id": "83ab236f",
   "metadata": {},
   "source": [
    "\n",
    "#### **Ingeniería Agropecuaria**\n",
    "- **Enfoque:** Modelado matemático y análisis de datos para mejorar la producción agrícola y la gestión de recursos.\n"
   ]
  },
  {
   "cell_type": "markdown",
   "id": "bd9a5958",
   "metadata": {},
   "source": [
    "- **Problemas típicos:**\n",
    "  - ¿Cómo modelar el crecimiento de cultivos considerando variables climáticas?\n",
    "  - ¿Cómo optimizar el uso del agua en sistemas de riego mediante análisis matemático?\n"
   ]
  },
  {
   "cell_type": "markdown",
   "id": "658211a3",
   "metadata": {},
   "source": [
    "- **Proyectos:** \n",
    "  - Desarrollo de modelos predictivos con Python y bibliotecas de aprendizaje automático.\n",
    "  - Implementación de proyectos que combinen matemáticas y ciencias de datos para resolver problemas agrícolas.\n"
   ]
  },
  {
   "cell_type": "markdown",
   "id": "f2c01339",
   "metadata": {},
   "source": [
    "- **Competencias desarrolladas:**\n",
    "  - Integración de matemáticas con tecnologías avanzadas.\n",
    "  - Resolución de problemas agropecuarios mediante análisis y modelado.\n"
   ]
  },
  {
   "cell_type": "markdown",
   "id": "c4519bb3",
   "metadata": {},
   "source": [
    "\n",
    "#### **Administración de Empresas**\n"
   ]
  },
  {
   "cell_type": "markdown",
   "id": "cab1407c",
   "metadata": {},
   "source": [
    "- **Enfoque:** Uso de las matemáticas y la ciencia de datos para la toma de decisiones estratégicas.\n"
   ]
  },
  {
   "cell_type": "markdown",
   "id": "fb28dc0c",
   "metadata": {},
   "source": [
    "- **Problemas típicos:**\n",
    "  - ¿Cómo identificar patrones de comportamiento del consumidor usando series de tiempo?\n",
    "  - ¿Qué estrategias matemáticas pueden optimizar la asignación de recursos en una empresa?\n"
   ]
  },
  {
   "cell_type": "markdown",
   "id": "4de70bc1",
   "metadata": {},
   "source": [
    "- **Proyectos:** \n",
    "  - Implementación de modelos de análisis financiero y simulaciones.\n",
    "  - Desarrollo de dashboards interactivos para la gestión de datos empresariales.\n"
   ]
  },
  {
   "cell_type": "markdown",
   "id": "5bcb6e9e",
   "metadata": {},
   "source": [
    "- **Competencias desarrolladas:**\n",
    "  - Habilidad para interpretar datos matemáticos en contextos de negocio.\n",
    "  - Capacidad para diseñar soluciones basadas en datos.\n",
    "\n",
    "---\n"
   ]
  },
  {
   "cell_type": "markdown",
   "id": "19be58d4",
   "metadata": {},
   "source": [
    "\n",
    "### **3. Beneficios del ABPP**\n"
   ]
  },
  {
   "cell_type": "markdown",
   "id": "4880978f",
   "metadata": {},
   "source": [
    "- **Desarrollo de competencias clave:**\n"
   ]
  },
  {
   "cell_type": "markdown",
   "id": "3ca107e2",
   "metadata": {},
   "source": [
    "  - Pensamiento crítico y creativo.\n",
    "  - Trabajo colaborativo.\n",
    "  - Comunicación efectiva.\n",
    "  - Uso de herramientas tecnológicas avanzadas.\n"
   ]
  },
  {
   "cell_type": "markdown",
   "id": "7cfc1250",
   "metadata": {},
   "source": [
    "- **Adaptación al contexto laboral:** Los estudiantes aprenden a enfrentar desafíos del mundo real y a diseñar soluciones prácticas y aplicables.\n"
   ]
  },
  {
   "cell_type": "markdown",
   "id": "da40f888",
   "metadata": {},
   "source": [
    "- **Flexibilidad e interdisciplinariedad:** La metodología se adapta a diversas áreas, fomentando el aprendizaje integrado.\n",
    "\n",
    "---\n"
   ]
  },
  {
   "cell_type": "markdown",
   "id": "e36034c3",
   "metadata": {},
   "source": [
    "\n",
    "### **4. Ejemplo General de Implementación**\n"
   ]
  },
  {
   "cell_type": "markdown",
   "id": "76763c0f",
   "metadata": {},
   "source": [
    "1. **Identificación del problema:** Se plantea un desafío concreto, como modelar el crecimiento poblacional de una comunidad rural (Ingeniería Agropecuaria) o diseñar una estrategia para enseñar fracciones a niños de 8 años (Educación Infantil).\n"
   ]
  },
  {
   "cell_type": "markdown",
   "id": "efe1e5dd",
   "metadata": {},
   "source": [
    "2. **Formación de equipos:** Los estudiantes trabajan en grupos, distribuyendo roles y tareas.\n"
   ]
  },
  {
   "cell_type": "markdown",
   "id": "9004e59b",
   "metadata": {},
   "source": [
    "3. **Investigación y diseño:** Los estudiantes investigan el problema, proponen soluciones y diseñan un proyecto.\n"
   ]
  },
  {
   "cell_type": "markdown",
   "id": "b3e682e4",
   "metadata": {},
   "source": [
    "4. **Implementación:** Se desarrolla el proyecto, como una herramienta tecnológica o una propuesta pedagógica.\n"
   ]
  },
  {
   "cell_type": "markdown",
   "id": "2e627c98",
   "metadata": {},
   "source": [
    "5. **Evaluación:** Los estudiantes presentan sus resultados en un informe o una exposición, recibiendo retroalimentación de sus compañeros y docentes.\n",
    "\n",
    "---\n"
   ]
  },
  {
   "cell_type": "markdown",
   "id": "5a8bc842",
   "metadata": {},
   "source": [
    "\n",
    "El ABPP es una metodología versátil que conecta el conocimiento teórico con la práctica, preparando a los estudiantes para los retos de sus profesiones en la enseñanza de la matemática, la ingeniería y la administración."
   ]
  },
  {
   "cell_type": "markdown",
   "id": "8d97dc80",
   "metadata": {
    "slideshow": {
     "slide_type": "slide"
    }
   },
   "source": [
    "## Fomento de la lectura literaria asociada a Ingeniería agropecuaria y licenciatura en Matemáticas\n",
    "\n",
    "[Inteligencia Emocional. Daniel Goleman]()"
   ]
  },
  {
   "cell_type": "markdown",
   "id": "96775931",
   "metadata": {
    "slideshow": {
     "slide_type": "slide"
    }
   },
   "source": [
    "## Título de la clase: \n",
    "\n"
   ]
  },
  {
   "cell_type": "markdown",
   "id": "10e55ccf",
   "metadata": {},
   "source": [
    "# Estructura general para todas las clases  \n",
    "\n",
    "Dame, por favor, un diseño de clase, con el enfoque: \"Aula Invertida, STEAMS y de Aprendizaje Basado en Problemas y Proyectos(ABPP)\" sobre: \" \", siguiendo la estructura:  \n",
    "\n",
    "1. Título de la clase \n",
    "2. Objetivos de aprendizaje que incluyan los indicadores del logro de estos objetivos.\n",
    "3. Un mapa conceptual que resuma la clase elaborado en Graphviz de Python con nodos y edges de diferentes formas, colores y rellenos y renderizado en la siguiente ubicación: `\"C:/Users/marco/Downloads\"`. No olvides el parámetro `view = True` para el método `render()` de Graphviz. Para este mapa controla las superposiciones de los nodos con: graph [overlap=false]; // Elimina superposiciones (puede aumentar el espacio)\n",
    "graph [overlap=\"scalexy\"]; // Escala el gráfico para evitar overlaps\n",
    "graph [overlap=\"compress\"]; // Comprime el grafo sin overlaps   \n",
    "\n",
    "4. Elementos históricos y epistemológicos relevantes para la clase pero contados como un cuento al estilo de un cuentero antioqueño en Colombia. Incluye imágenes de los protagonistas históricos de esta clase.   \n",
    "    \n",
    "5. Contenido de la clase. Centra el contenido, en lo que se necesita para adquirir las habilidades necesarias para presentar el prueba del ICFES en Colombia. \n",
    "6. Actividades de aprendizaje. Centra las actividades de aprendizaje, en lo que se necesita mi hijo para adquirir las habilidades necesarias para presentar el prueba del ICFES en Colombia. \n",
    "7. Incluye una canción o un poema que ayude a interiorizar y fijar los conceptos asociados a esta clase. \n",
    "8. Tarea o actividades de ejercitación y fijación. Centra las tares, en lo que se necesita para adquirir las habilidades necesarias para presentar el prueba del ICFES en Colombia. \n",
    "9.  Evaluación incluyendo diez proyectos, un ejemplo de quiz (de tres preguntas) y un ejemplo de parcial (de cinco puntos). Centra las actividades evaluativas, en lo que se necesita para adquirir las habilidades necesarias para presentar el prueba del ICFES en Colombia. \n",
    "10. Diseño de actividad de retroalimentación. \n",
    "11. Dame un vocabulario y frases del idioma inglés asociadas a esta clase.   \n",
    "12. Incluye apéndice para la clase sobre desarrollo de habilidades para trabajar en equipo y de asertividad y empatía para relacionarnos. Desarrollar capacidades de argumentación verbal u oral. \n",
    "13. Incluye 10 referentes en didáctica de la matemática que estén de acuerdo a la propuesta didáctica de esta clase. Adiciona a estos referentes a Raymond Duval (Representaciones y cambios de representación para la adquisición de conceptos matemáticos) y a Jeannette Wing (Desarrollo del pensamiento computacional). Déjame todos estos referentes ordenados de acuerdo a las normas APA. Déjame todos estos referentes ordenados de acuerdo a las normas APA. Incluye las citaciones a estos referentes a medida que vallas diseñando la clase.   \n",
    "    \n",
    "\n",
    "Pero  que este diseño sea para que el estudiante pueda aprender experimentando en cuadernos Jupyter con funciones de usuario y animaciones y visualizaciones en Python. En particular utiliza para el diseño de clase a NumPy, Pandas, SymPy, Matplotlib.pyplot, Seaborn, Plotly, ipywidgets, matplotlib.animation y Jupyter Notebook.  Cada vez que utilice `matplotlib.animacion` no olvides incluir el uso de `IPython. display` para la renderización de estas animaciones a través de Jupyter Notebook. No olvides darme los diseños de clase con las ecuaciones matemáticas delimitadas con signo de dólar $ para que VS Code si me renderice estas expresiones del lenguaje latex. Cuando vallas a utilizar ipywidgets ten en cuenta la siguiente importación inicial para garantizar que la visualización interactiva si se renderice en VS Code:                                                                   \n",
    "import numpy as np\n",
    "import matplotlib.pyplot as plt\n",
    "import ipywidgets as widgets\n",
    "from IPython.display import display, clear_output\n",
    "from matplotlib.patches import Rectangle\n",
    "\n",
    "# Configuración inicial para visualización estática\n",
    "%matplotlib inline"
   ]
  },
  {
   "cell_type": "code",
   "execution_count": null,
   "id": "81235e9f",
   "metadata": {},
   "outputs": [],
   "source": [
    "path_image = r'C:/Users/marco/Downloads'\n",
    "def save_fig(nombre_archivo_imagen):\n",
    "    import os \n",
    "    import matplotlib.pyplot as plt \n",
    "    imagen_path = os.path.join(path_image, nombre_archivo_imagen)\n",
    "    plt.savefig(imagen_path, bbox_inches='tight')"
   ]
  },
  {
   "cell_type": "code",
   "execution_count": 1,
   "id": "8d07aeec",
   "metadata": {},
   "outputs": [
    {
     "name": "stdout",
     "output_type": "stream",
     "text": [
      "Requirement already satisfied: pillow in c:\\users\\marco\\documentos\\investigacion\\investigacion_en_asesoria\\.venv\\lib\\site-packages (11.1.0)\n"
     ]
    }
   ],
   "source": [
    "!pip install pillow\n"
   ]
  },
  {
   "cell_type": "code",
   "execution_count": 2,
   "id": "d74d5c3a",
   "metadata": {},
   "outputs": [
    {
     "name": "stdout",
     "output_type": "stream",
     "text": [
      "Error al convertir la imagen: [Errno 2] No such file or directory: 'imagen.webp'\n"
     ]
    }
   ],
   "source": [
    "from PIL import Image\n",
    "\n",
    "def convertir_webp_a_jpeg(ruta_webp, ruta_jpeg, calidad=95):\n",
    "    \"\"\"\n",
    "    Convierte una imagen .webp a .jpeg.\n",
    "\n",
    "    Parámetros:\n",
    "    - ruta_webp (str): Ruta de la imagen .webp de entrada.\n",
    "    - ruta_jpeg (str): Ruta donde se guardará la imagen .jpeg.\n",
    "    - calidad (int): Calidad de la imagen .jpeg (por defecto 95).\n",
    "\n",
    "    Retorna:\n",
    "    - None\n",
    "    \"\"\"\n",
    "    try:\n",
    "        # Abrir la imagen .webp\n",
    "        with Image.open(ruta_webp) as img:\n",
    "            # Convertir y guardar como .jpeg\n",
    "            img.convert(\"RGB\").save(ruta_jpeg, \"JPEG\", quality=calidad)\n",
    "        print(f\"Imagen convertida y guardada en: {ruta_jpeg}\")\n",
    "    except Exception as e:\n",
    "        print(f\"Error al convertir la imagen: {e}\")\n",
    "\n",
    "# Ejemplo de uso\n",
    "convertir_webp_a_jpeg(\"imagen.webp\", \"imagen_convertida.jpeg\")"
   ]
  },
  {
   "cell_type": "markdown",
   "id": "f227c429",
   "metadata": {},
   "source": []
  },
  {
   "cell_type": "markdown",
   "id": "c12ae0df",
   "metadata": {},
   "source": [
    "[Video de apoyo a la lectura de la estructura de esta asesoría]()"
   ]
  },
  {
   "cell_type": "markdown",
   "id": "c5751e1a",
   "metadata": {},
   "source": [
    "# Implementación de esta estructura de asesoría  \n",
    "\n"
   ]
  },
  {
   "cell_type": "markdown",
   "id": "5db191fc",
   "metadata": {},
   "source": [
    "# Actividad 1 de aprendizaje  \n",
    "\n",
    "¡Excelente, Marco Julio! Vamos a hacer una representación **simple y educativa** de un escorpión en 3D usando **Python**, especialmente con las librerías `plotly` y `ipywidgets` para que sea interactiva dentro de un cuaderno Jupyter.\n"
   ]
  },
  {
   "cell_type": "markdown",
   "id": "96ced927",
   "metadata": {},
   "source": [
    "\n",
    "Aunque modelar con gran detalle anatómico sería trabajo para software de diseño 3D como Blender, podemos **aproximar las partes del escorpión** con **formas geométricas básicas** (esferas y cilindros) y distribuirlas en el espacio para representar su estructura.\n",
    "\n",
    "---\n"
   ]
  },
  {
   "cell_type": "markdown",
   "id": "9998347d",
   "metadata": {},
   "source": [
    "\n",
    "## 🛠️ Requisitos\n",
    "\n",
    "Primero, asegúrate de tener instaladas estas librerías (en tu entorno Anaconda, Colab o Jupyter):\n"
   ]
  },
  {
   "cell_type": "code",
   "execution_count": 1,
   "id": "f71d978b",
   "metadata": {},
   "outputs": [
    {
     "name": "stdout",
     "output_type": "stream",
     "text": [
      "Collecting plotly\n",
      "  Using cached plotly-6.0.1-py3-none-any.whl.metadata (6.7 kB)\n",
      "Collecting ipywidgets\n",
      "  Downloading ipywidgets-8.1.6-py3-none-any.whl.metadata (2.4 kB)\n",
      "Collecting narwhals>=1.15.1 (from plotly)\n",
      "  Downloading narwhals-1.35.0-py3-none-any.whl.metadata (9.2 kB)\n",
      "Requirement already satisfied: packaging in c:\\users\\marco\\documentos\\investigacion\\ing_software_joseph\\.venv\\lib\\site-packages (from plotly) (24.2)\n",
      "Requirement already satisfied: comm>=0.1.3 in c:\\users\\marco\\documentos\\investigacion\\ing_software_joseph\\.venv\\lib\\site-packages (from ipywidgets) (0.2.2)\n",
      "Requirement already satisfied: ipython>=6.1.0 in c:\\users\\marco\\documentos\\investigacion\\ing_software_joseph\\.venv\\lib\\site-packages (from ipywidgets) (9.1.0)\n",
      "Requirement already satisfied: traitlets>=4.3.1 in c:\\users\\marco\\documentos\\investigacion\\ing_software_joseph\\.venv\\lib\\site-packages (from ipywidgets) (5.14.3)\n",
      "Collecting widgetsnbextension~=4.0.14 (from ipywidgets)\n",
      "  Downloading widgetsnbextension-4.0.14-py3-none-any.whl.metadata (1.6 kB)\n",
      "Collecting jupyterlab_widgets~=3.0.14 (from ipywidgets)\n",
      "  Downloading jupyterlab_widgets-3.0.14-py3-none-any.whl.metadata (4.1 kB)\n",
      "Requirement already satisfied: colorama in c:\\users\\marco\\documentos\\investigacion\\ing_software_joseph\\.venv\\lib\\site-packages (from ipython>=6.1.0->ipywidgets) (0.4.6)\n",
      "Requirement already satisfied: decorator in c:\\users\\marco\\documentos\\investigacion\\ing_software_joseph\\.venv\\lib\\site-packages (from ipython>=6.1.0->ipywidgets) (5.2.1)\n",
      "Requirement already satisfied: ipython-pygments-lexers in c:\\users\\marco\\documentos\\investigacion\\ing_software_joseph\\.venv\\lib\\site-packages (from ipython>=6.1.0->ipywidgets) (1.1.1)\n",
      "Requirement already satisfied: jedi>=0.16 in c:\\users\\marco\\documentos\\investigacion\\ing_software_joseph\\.venv\\lib\\site-packages (from ipython>=6.1.0->ipywidgets) (0.19.2)\n",
      "Requirement already satisfied: matplotlib-inline in c:\\users\\marco\\documentos\\investigacion\\ing_software_joseph\\.venv\\lib\\site-packages (from ipython>=6.1.0->ipywidgets) (0.1.7)\n",
      "Requirement already satisfied: prompt_toolkit<3.1.0,>=3.0.41 in c:\\users\\marco\\documentos\\investigacion\\ing_software_joseph\\.venv\\lib\\site-packages (from ipython>=6.1.0->ipywidgets) (3.0.50)\n",
      "Requirement already satisfied: pygments>=2.4.0 in c:\\users\\marco\\documentos\\investigacion\\ing_software_joseph\\.venv\\lib\\site-packages (from ipython>=6.1.0->ipywidgets) (2.19.1)\n",
      "Requirement already satisfied: stack_data in c:\\users\\marco\\documentos\\investigacion\\ing_software_joseph\\.venv\\lib\\site-packages (from ipython>=6.1.0->ipywidgets) (0.6.3)\n",
      "Requirement already satisfied: parso<0.9.0,>=0.8.4 in c:\\users\\marco\\documentos\\investigacion\\ing_software_joseph\\.venv\\lib\\site-packages (from jedi>=0.16->ipython>=6.1.0->ipywidgets) (0.8.4)\n",
      "Requirement already satisfied: wcwidth in c:\\users\\marco\\documentos\\investigacion\\ing_software_joseph\\.venv\\lib\\site-packages (from prompt_toolkit<3.1.0,>=3.0.41->ipython>=6.1.0->ipywidgets) (0.2.13)\n",
      "Requirement already satisfied: executing>=1.2.0 in c:\\users\\marco\\documentos\\investigacion\\ing_software_joseph\\.venv\\lib\\site-packages (from stack_data->ipython>=6.1.0->ipywidgets) (2.2.0)\n",
      "Requirement already satisfied: asttokens>=2.1.0 in c:\\users\\marco\\documentos\\investigacion\\ing_software_joseph\\.venv\\lib\\site-packages (from stack_data->ipython>=6.1.0->ipywidgets) (3.0.0)\n",
      "Requirement already satisfied: pure-eval in c:\\users\\marco\\documentos\\investigacion\\ing_software_joseph\\.venv\\lib\\site-packages (from stack_data->ipython>=6.1.0->ipywidgets) (0.2.3)\n",
      "Using cached plotly-6.0.1-py3-none-any.whl (14.8 MB)\n",
      "Downloading ipywidgets-8.1.6-py3-none-any.whl (139 kB)\n",
      "Downloading jupyterlab_widgets-3.0.14-py3-none-any.whl (213 kB)\n",
      "Downloading narwhals-1.35.0-py3-none-any.whl (325 kB)\n",
      "Downloading widgetsnbextension-4.0.14-py3-none-any.whl (2.2 MB)\n",
      "   ---------------------------------------- 0.0/2.2 MB ? eta -:--:--\n",
      "   ---- ----------------------------------- 0.3/2.2 MB ? eta -:--:--\n",
      "   --------- ------------------------------ 0.5/2.2 MB 1.5 MB/s eta 0:00:02\n",
      "   -------------- ------------------------- 0.8/2.2 MB 1.3 MB/s eta 0:00:02\n",
      "   ----------------------- ---------------- 1.3/2.2 MB 1.6 MB/s eta 0:00:01\n",
      "   --------------------------------- ------ 1.8/2.2 MB 1.8 MB/s eta 0:00:01\n",
      "   ---------------------------------------- 2.2/2.2 MB 1.8 MB/s eta 0:00:00\n",
      "Installing collected packages: widgetsnbextension, narwhals, jupyterlab_widgets, plotly, ipywidgets\n",
      "Successfully installed ipywidgets-8.1.6 jupyterlab_widgets-3.0.14 narwhals-1.35.0 plotly-6.0.1 widgetsnbextension-4.0.14\n"
     ]
    }
   ],
   "source": [
    "\n",
    "\n",
    "!pip install plotly ipywidgets\n",
    "\n"
   ]
  },
  {
   "cell_type": "markdown",
   "id": "aeba42e9",
   "metadata": {},
   "source": [
    "\n",
    "---\n",
    "\n",
    "## 🐍 Código: Modelo 3D simple de un escorpión\n",
    "\n",
    "```python\n"
   ]
  },
  {
   "cell_type": "code",
   "execution_count": 2,
   "id": "fa8e06ea",
   "metadata": {},
   "outputs": [
    {
     "data": {
      "application/vnd.plotly.v1+json": {
       "config": {
        "plotlyServerURL": "https://plot.ly"
       },
       "data": [
        {
         "colorscale": [
          [
           0,
           "brown"
          ],
          [
           1,
           "brown"
          ]
         ],
         "showscale": false,
         "type": "surface",
         "x": {
          "bdata": "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",
          "dtype": "f8",
          "shape": "20, 20"
         },
         "y": {
          "bdata": "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",
          "dtype": "f8",
          "shape": "20, 20"
         },
         "z": {
          "bdata": "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",
          "dtype": "f8",
          "shape": "20, 20"
         }
        },
        {
         "colorscale": [
          [
           0,
           "brown"
          ],
          [
           1,
           "brown"
          ]
         ],
         "showscale": false,
         "type": "surface",
         "x": {
          "bdata": "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",
          "dtype": "f8",
          "shape": "20, 20"
         },
         "y": {
          "bdata": "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",
          "dtype": "f8",
          "shape": "20, 20"
         },
         "z": {
          "bdata": "AAAAAAAA4D+y8oSURZDfP+EbI4UiRN4/+enjIqYk3D8jzfmYo0DZP/8cCmdKrNU/ysh3bJmA0T/rlvW5YLXJP0HIdIURbL8/+vUghOsjpT/x9SCE6yOlvz3IdIURbL+/5pb1uWC1yb/IyHdsmYDRv/0cCmdKrNW/Is35mKNA2b/46eMipiTcv+EbI4UiRN6/svKElEWQ378AAAAAAADgvwAAAAAAAOA/svKElEWQ3z/hGyOFIkTeP/np4yKmJNw/I835mKNA2T//HApnSqzVP8rId2yZgNE/65b1uWC1yT9ByHSFEWy/P/r1IITrI6U/8fUghOsjpb89yHSFEWy/v+aW9blgtcm/yMh3bJmA0b/9HApnSqzVvyLN+ZijQNm/+OnjIqYk3L/hGyOFIkTev7LyhJRFkN+/AAAAAAAA4L8AAAAAAADgP7LyhJRFkN8/4RsjhSJE3j/56eMipiTcPyPN+ZijQNk//xwKZ0qs1T/KyHdsmYDRP+uW9blgtck/Qch0hRFsvz/69SCE6yOlP/H1IITrI6W/Pch0hRFsv7/mlvW5YLXJv8jId2yZgNG//RwKZ0qs1b8izfmYo0DZv/jp4yKmJNy/4RsjhSJE3r+y8oSURZDfvwAAAAAAAOC/AAAAAAAA4D+y8oSURZDfP+EbI4UiRN4/+enjIqYk3D8jzfmYo0DZP/8cCmdKrNU/ysh3bJmA0T/rlvW5YLXJP0HIdIURbL8/+vUghOsjpT/x9SCE6yOlvz3IdIURbL+/5pb1uWC1yb/IyHdsmYDRv/0cCmdKrNW/Is35mKNA2b/46eMipiTcv+EbI4UiRN6/svKElEWQ378AAAAAAADgvwAAAAAAAOA/svKElEWQ3z/hGyOFIkTeP/np4yKmJNw/I835mKNA2T//HApnSqzVP8rId2yZgNE/65b1uWC1yT9ByHSFEWy/P/r1IITrI6U/8fUghOsjpb89yHSFEWy/v+aW9blgtcm/yMh3bJmA0b/9HApnSqzVvyLN+ZijQNm/+OnjIqYk3L/hGyOFIkTev7LyhJRFkN+/AAAAAAAA4L8AAAAAAADgP7LyhJRFkN8/4RsjhSJE3j/56eMipiTcPyPN+ZijQNk//xwKZ0qs1T/KyHdsmYDRP+uW9blgtck/Qch0hRFsvz/69SCE6yOlP/H1IITrI6W/Pch0hRFsv7/mlvW5YLXJv8jId2yZgNG//RwKZ0qs1b8izfmYo0DZv/jp4yKmJNy/4RsjhSJE3r+y8oSURZDfvwAAAAAAAOC/AAAAAAAA4D+y8oSURZDfP+EbI4UiRN4/+enjIqYk3D8jzfmYo0DZP/8cCmdKrNU/ysh3bJmA0T/rlvW5YLXJP0HIdIURbL8/+vUghOsjpT/x9SCE6yOlvz3IdIURbL+/5pb1uWC1yb/IyHdsmYDRv/0cCmdKrNW/Is35mKNA2b/46eMipiTcv+EbI4UiRN6/svKElEWQ378AAAAAAADgvwAAAAAAAOA/svKElEWQ3z/hGyOFIkTeP/np4yKmJNw/I835mKNA2T//HApnSqzVP8rId2yZgNE/65b1uWC1yT9ByHSFEWy/P/r1IITrI6U/8fUghOsjpb89yHSFEWy/v+aW9blgtcm/yMh3bJmA0b/9HApnSqzVvyLN+ZijQNm/+OnjIqYk3L/hGyOFIkTev7LyhJRFkN+/AAAAAAAA4L8AAAAAAADgP7LyhJRFkN8/4RsjhSJE3j/56eMipiTcPyPN+ZijQNk//xwKZ0qs1T/KyHdsmYDRP+uW9blgtck/Qch0hRFsvz/69SCE6yOlP/H1IITrI6W/Pch0hRFsv7/mlvW5YLXJv8jId2yZgNG//RwKZ0qs1b8izfmYo0DZv/jp4yKmJNy/4RsjhSJE3r+y8oSURZDfvwAAAAAAAOC/AAAAAAAA4D+y8oSURZDfP+EbI4UiRN4/+enjIqYk3D8jzfmYo0DZP/8cCmdKrNU/ysh3bJmA0T/rlvW5YLXJP0HIdIURbL8/+vUghOsjpT/x9SCE6yOlvz3IdIURbL+/5pb1uWC1yb/IyHdsmYDRv/0cCmdKrNW/Is35mKNA2b/46eMipiTcv+EbI4UiRN6/svKElEWQ378AAAAAAADgvwAAAAAAAOA/svKElEWQ3z/hGyOFIkTeP/np4yKmJNw/I835mKNA2T//HApnSqzVP8rId2yZgNE/65b1uWC1yT9ByHSFEWy/P/r1IITrI6U/8fUghOsjpb89yHSFEWy/v+aW9blgtcm/yMh3bJmA0b/9HApnSqzVvyLN+ZijQNm/+OnjIqYk3L/hGyOFIkTev7LyhJRFkN+/AAAAAAAA4L8AAAAAAADgP7LyhJRFkN8/4RsjhSJE3j/56eMipiTcPyPN+ZijQNk//xwKZ0qs1T/KyHdsmYDRP+uW9blgtck/Qch0hRFsvz/69SCE6yOlP/H1IITrI6W/Pch0hRFsv7/mlvW5YLXJv8jId2yZgNG//RwKZ0qs1b8izfmYo0DZv/jp4yKmJNy/4RsjhSJE3r+y8oSURZDfvwAAAAAAAOC/AAAAAAAA4D+y8oSURZDfP+EbI4UiRN4/+enjIqYk3D8jzfmYo0DZP/8cCmdKrNU/ysh3bJmA0T/rlvW5YLXJP0HIdIURbL8/+vUghOsjpT/x9SCE6yOlvz3IdIURbL+/5pb1uWC1yb/IyHdsmYDRv/0cCmdKrNW/Is35mKNA2b/46eMipiTcv+EbI4UiRN6/svKElEWQ378AAAAAAADgvwAAAAAAAOA/svKElEWQ3z/hGyOFIkTeP/np4yKmJNw/I835mKNA2T//HApnSqzVP8rId2yZgNE/65b1uWC1yT9ByHSFEWy/P/r1IITrI6U/8fUghOsjpb89yHSFEWy/v+aW9blgtcm/yMh3bJmA0b/9HApnSqzVvyLN+ZijQNm/+OnjIqYk3L/hGyOFIkTev7LyhJRFkN+/AAAAAAAA4L8AAAAAAADgP7LyhJRFkN8/4RsjhSJE3j/56eMipiTcPyPN+ZijQNk//xwKZ0qs1T/KyHdsmYDRP+uW9blgtck/Qch0hRFsvz/69SCE6yOlP/H1IITrI6W/Pch0hRFsv7/mlvW5YLXJv8jId2yZgNG//RwKZ0qs1b8izfmYo0DZv/jp4yKmJNy/4RsjhSJE3r+y8oSURZDfvwAAAAAAAOC/AAAAAAAA4D+y8oSURZDfP+EbI4UiRN4/+enjIqYk3D8jzfmYo0DZP/8cCmdKrNU/ysh3bJmA0T/rlvW5YLXJP0HIdIURbL8/+vUghOsjpT/x9SCE6yOlvz3IdIURbL+/5pb1uWC1yb/IyHdsmYDRv/0cCmdKrNW/Is35mKNA2b/46eMipiTcv+EbI4UiRN6/svKElEWQ378AAAAAAADgvwAAAAAAAOA/svKElEWQ3z/hGyOFIkTeP/np4yKmJNw/I835mKNA2T//HApnSqzVP8rId2yZgNE/65b1uWC1yT9ByHSFEWy/P/r1IITrI6U/8fUghOsjpb89yHSFEWy/v+aW9blgtcm/yMh3bJmA0b/9HApnSqzVvyLN+ZijQNm/+OnjIqYk3L/hGyOFIkTev7LyhJRFkN+/AAAAAAAA4L8AAAAAAADgP7LyhJRFkN8/4RsjhSJE3j/56eMipiTcPyPN+ZijQNk//xwKZ0qs1T/KyHdsmYDRP+uW9blgtck/Qch0hRFsvz/69SCE6yOlP/H1IITrI6W/Pch0hRFsv7/mlvW5YLXJv8jId2yZgNG//RwKZ0qs1b8izfmYo0DZv/jp4yKmJNy/4RsjhSJE3r+y8oSURZDfvwAAAAAAAOC/AAAAAAAA4D+y8oSURZDfP+EbI4UiRN4/+enjIqYk3D8jzfmYo0DZP/8cCmdKrNU/ysh3bJmA0T/rlvW5YLXJP0HIdIURbL8/+vUghOsjpT/x9SCE6yOlvz3IdIURbL+/5pb1uWC1yb/IyHdsmYDRv/0cCmdKrNW/Is35mKNA2b/46eMipiTcv+EbI4UiRN6/svKElEWQ378AAAAAAADgvwAAAAAAAOA/svKElEWQ3z/hGyOFIkTeP/np4yKmJNw/I835mKNA2T//HApnSqzVP8rId2yZgNE/65b1uWC1yT9ByHSFEWy/P/r1IITrI6U/8fUghOsjpb89yHSFEWy/v+aW9blgtcm/yMh3bJmA0b/9HApnSqzVvyLN+ZijQNm/+OnjIqYk3L/hGyOFIkTev7LyhJRFkN+/AAAAAAAA4L8=",
          "dtype": "f8",
          "shape": "20, 20"
         }
        },
        {
         "colorscale": [
          [
           0,
           "brown"
          ],
          [
           1,
           "brown"
          ]
         ],
         "showscale": false,
         "type": "surface",
         "x": {
          "bdata": "AAAAAAAAAEDGavl7i6gAQPsMhQR+TAFAv9fewF7nAUCEKGct9HQCQMLn3Jth8QJAvMdVK0JZA0BhIaJ7wKkDQMPFm3aq4ANAVag0pYD8A0BVqDSlgPwDQMPFm3aq4ANAYSGie8CpA0C9x1UrQlkDQMLn3Jth8QJAhChnLfR0AkC/197AXucBQPsMhQR+TAFAxmr5e4uoAEAAAAAAAAAAQAAAAAAAAABAfLZyommfAEBClLMWejoBQEQp64v2zAFAXGrtF+BSAkCQfECej8gCQCR3AVLPKgNADMiIIPF2A0AJOEVo4aoDQJLzHnk1xQNAkvMeeTXFA0AJOEVo4aoDQAzIiCDxdgNAJHcBUs8qA0CQfECej8gCQFxq7RfgUgJARCnri/bMAUBClLMWejoBQHy2cqJpnwBAAAAAAAAAAEAAAAAAAAAAQAIIf20BhQBAYV1oE2IGAUBNW9R/moABQOLiTTtV8AFAjgmXEIZSAkCo2txUf6QCQMFOvZsE5AJA86SEVFoPA0C/V5njUSUDQL9XmeNRJQNA86SEVFoPA0DBTr2bBOQCQKja3FR/pAJAjgmXEIZSAkDi4k07VfABQE5b1H+agAFAYV1oE2IGAUACCH9tAYUAQAAAAAAAAABAAAAAAAAAAEDQnOJvL1wAQJ9OmiTbtQBAS+gq8pAKAUCtzVdQAVgBQH4tUX0PnAFAsRDRPeDUAUBBmafT5gACQF76MNDvHgJAIgAjdykuAkAiACN3KS4CQF76MNDvHgJAQZmn0+YAAkCxENE94NQBQH4tUX0PnAFArc1XUAFYAUBL6CrykAoBQJ9OmiTbtQBA0Jziby9cAEAAAAAAAAAAQAAAAAAAAABAekPJFGApAEBMcO88n1EAQAFvX22kdwBAbnwdJ2aaAED/dzu18bgAQGTtq8tx0gBA3962WDTmAEDga29gr/MAQOA7P8CE+gBA4Ds/wIT6AEDga29gr/MAQN/etlg05gBAZO2ry3HSAED/dzu18bgAQG58HSdmmgBAAW9fbaR3AEBMcO88n1EAQHpDyRRgKQBAAAAAAAAAAEAAAAAAAAAAQG4dZ9Ep5P8/nlsGBRbJ/z9cprOvga//PwUgh3AfmP8/w0CKkZKD/z87r3eTanL/Pzw1pkMfZf8/zF10dw1c/z86lQaEdFf/PzqVBoR0V/8/zF10dw1c/z88NaZDH2X/Pzuvd5Nqcv8/w0CKkZKD/z8FIIdwH5j/P1yms6+Br/8/nlsGBRbJ/z9uHWfRKeT/PwAAAAAAAABAAAAAAAAAAED6Abq0l3j/P20/qPbg9P4/L4AyiHN4/j/8EUNKtAb+P5rr4oi9ov0/CqOjUElP/T8+GCNkng79P7Zsn1aA4vw/RxucOiPM/D9HG5w6I8z8P7Zsn1aA4vw/PhgjZJ4O/T8Ko6NQSU/9P5rr4oi9ov0//BFDSrQG/j8vgDKIc3j+P20/qPbg9P4/+QG6tJd4/z8AAAAAAAAAQAAAAAAAAABAyGARArIb/z9etjxFnj3+PzhH6Y3Ta/0/ccLE1gqs/D+rV8tafwP8P3fPag3Kdvs/pdHYf8EJ+z+FYMsTX7/6P7rvuzaqmfo/uu+7NqqZ+j+FYMsTX7/6P6XR2H/BCfs/d89qDcp2+z+rV8tafwP8P3HCxNYKrPw/OEfpjdNr/T9etjxFnj3+P8hgEQKyG/8/AAAAAAAAAEAAAAAAAAAAQHbkHdeJ1/4/BIMc4Cm3/T9EOKrUvab8P9lzZAi0rfs/Qi3fhNfS+j/sf+yZIBz6PycvZC2Ljvk/e1KH7fMt+T/jFghZ/fz4P+MWCFn9/Pg/e1KH7fMt+T8mL2Qti475P+x/7JkgHPo/Qi3fhNfS+j/Zc2QItK37P0M4qtS9pvw/BIMc4Cm3/T925B3Xidf+PwAAAAAAAABAAAAAAAAAAEAF83r7gbP+P3u9J8MVcP0/gcoTzo0+/D9/QESjPyf7P78PQ6fJMfo/3faA6N1k+T+Acg5eE8b4P0o2Kd++Wfg/6JEv5NQi+D/okS/k1CL4P0o2Kd++Wfg/gHIOXhPG+D/d9oDo3WT5P78PQ6fJMfo/f0BEoz8n+z+ByhPOjT78P3u9J8MVcP0/BfN6+4Gz/j8AAAAAAAAAQAAAAAAAAABABfN6+4Gz/j97vSfDFXD9P4HKE86NPvw/f0BEoz8n+z+/D0OnyTH6P932gOjdZPk/gHIOXhPG+D9KNinfvln4P+iRL+TUIvg/6JEv5NQi+D9KNinfvln4P4ByDl4Txvg/3faA6N1k+T+/D0OnyTH6P39ARKM/J/s/gcoTzo0+/D97vSfDFXD9PwXzevuBs/4/AAAAAAAAAEAAAAAAAAAAQHbkHdeJ1/4/BIMc4Cm3/T9EOKrUvab8P9lzZAi0rfs/Qi3fhNfS+j/sf+yZIBz6PyYvZC2Ljvk/e1KH7fMt+T/iFghZ/fz4P+IWCFn9/Pg/e1KH7fMt+T8mL2Qti475P+x/7JkgHPo/Qi3fhNfS+j/Yc2QItK37P0M4qtS9pvw/BIMc4Cm3/T925B3Xidf+PwAAAAAAAABAAAAAAAAAAEDIYBECshv/P162PEWePf4/N0fpjdNr/T9wwsTWCqz8P6pXy1p/A/w/ds9qDcp2+z+k0dh/wQn7P4RgyxNfv/o/ue+7NqqZ+j+577s2qpn6P4RgyxNfv/o/pNHYf8EJ+z92z2oNynb7P6pXy1p/A/w/cMLE1gqs/D83R+mN02v9P122PEWePf4/yGARArIb/z8AAAAAAAAAQAAAAAAAAABA+QG6tJd4/z9sP6j24PT+Py+AMohzeP4/+xFDSrQG/j+Z6+KIvaL9Pwmjo1BJT/0/PRgjZJ4O/T+1bJ9WgOL8P0YbnDojzPw/RhucOiPM/D+1bJ9WgOL8Pz0YI2SeDv0/CaOjUElP/T+Z6+KIvaL9P/sRQ0q0Bv4/L4AyiHN4/j9sP6j24PT+P/kBurSXeP8/AAAAAAAAAEAAAAAAAAAAQG4dZ9Ep5P8/nlsGBRbJ/z9bprOvga//PwUgh3AfmP8/wkCKkZKD/z86r3eTanL/Pzs1pkMfZf8/y110dw1c/z85lQaEdFf/PzmVBoR0V/8/y110dw1c/z87NaZDH2X/Pzqvd5Nqcv8/wkCKkZKD/z8FIIdwH5j/P1ums6+Br/8/nlsGBRbJ/z9uHWfRKeT/PwAAAAAAAABAAAAAAAAAAEB6Q8kUYCkAQExw7zyfUQBAAG9fbaR3AEBufB0nZpoAQP93O7XxuABAY+2ry3HSAEDf3rZYNOYAQN9rb2Cv8wBA4Ds/wIT6AEDgOz/AhPoAQN9rb2Cv8wBA3962WDTmAEBj7avLcdIAQP93O7XxuABAbnwdJ2aaAEAAb19tpHcAQExw7zyfUQBAekPJFGApAEAAAAAAAAAAQAAAAAAAAABA0Jziby9cAECfTpok27UAQEvoKvKQCgFArc1XUAFYAUB+LVF9D5wBQLAQ0T3g1AFAQZmn0+YAAkBe+jDQ7x4CQCEAI3cpLgJAIQAjdykuAkBe+jDQ7x4CQEGZp9PmAAJAsBDRPeDUAUB+LVF9D5wBQK3NV1ABWAFAS+gq8pAKAUCfTpok27UAQNCc4m8vXABAAAAAAAAAAEAAAAAAAAAAQAIIf20BhQBAYV1oE2IGAUBNW9R/moABQOHiTTtV8AFAjgmXEIZSAkCo2txUf6QCQMFOvZsE5AJA8qSEVFoPA0C/V5njUSUDQL9XmeNRJQNA8qSEVFoPA0DBTr2bBOQCQKja3FR/pAJAjgmXEIZSAkDh4k07VfABQE1b1H+agAFAYV1oE2IGAUACCH9tAYUAQAAAAAAAAABAAAAAAAAAAEB8tnKiaZ8AQEKUsxZ6OgFARCnri/bMAUBcau0X4FICQJB8QJ6PyAJAJHcBUs8qA0AMyIgg8XYDQAk4RWjhqgNAkvMeeTXFA0CS8x55NcUDQAk4RWjhqgNADMiIIPF2A0AkdwFSzyoDQJB8QJ6PyAJAXGrtF+BSAkBEKeuL9swBQEKUsxZ6OgFAfLZyommfAEAAAAAAAAAAQAAAAAAAAABAxmr5e4uoAED7DIUEfkwBQL/X3sBe5wFAhChnLfR0AkDC59ybYfECQLzHVStCWQNAYSGie8CpA0DDxZt2quADQFWoNKWA/ANAVag0pYD8A0DDxZt2quADQGEhonvAqQNAvcdVK0JZA0DC59ybYfECQIQoZy30dAJAv9fewF7nAUD7DIUEfkwBQMZq+XuLqABAAAAAAAAAAEA=",
          "dtype": "f8",
          "shape": "20, 20"
         },
         "y": {
          "bdata": "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",
          "dtype": "f8",
          "shape": "20, 20"
         },
         "z": {
          "bdata": "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",
          "dtype": "f8",
          "shape": "20, 20"
         }
        },
        {
         "colorscale": [
          [
           0,
           "brown"
          ],
          [
           1,
           "brown"
          ]
         ],
         "showscale": false,
         "type": "surface",
         "x": {
          "bdata": "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",
          "dtype": "f8",
          "shape": "20, 20"
         },
         "y": {
          "bdata": "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",
          "dtype": "f8",
          "shape": "20, 20"
         },
         "z": {
          "bdata": "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",
          "dtype": "f8",
          "shape": "20, 20"
         }
        },
        {
         "colorscale": [
          [
           0,
           "brown"
          ],
          [
           1,
           "brown"
          ]
         ],
         "showscale": false,
         "type": "surface",
         "x": {
          "bdata": "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",
          "dtype": "f8",
          "shape": "20, 20"
         },
         "y": {
          "bdata": "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",
          "dtype": "f8",
          "shape": "20, 20"
         },
         "z": {
          "bdata": "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",
          "dtype": "f8",
          "shape": "20, 20"
         }
        },
        {
         "colorscale": [
          [
           0,
           "brown"
          ],
          [
           1,
           "brown"
          ]
         ],
         "showscale": false,
         "type": "surface",
         "x": {
          "bdata": "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",
          "dtype": "f8",
          "shape": "20, 20"
         },
         "y": {
          "bdata": "AAAAAAAAAAAAAAAAAAAAAAAAAAAAAAAAAAAAAAAAAAAAAAAAAAAAAAAAAAAAAAAAAAAAAAAAAAAAAAAAAAAAAAAAAAAAAAAAAAAAAAAAAAAAAAAAAAAAAAAAAAAAAAAAAAAAAAAAAAAAAAAAAAAAAAAAAAAAAAAAAAAAAAAAAAAAAAAAAAAAAAAAAAAAAAAAAAAAAAAAAAAAAAAAAAAAAAAAAAAAAAAAy0UIjftcmz9yyxiccf2qP2ar9Vr2x7M/L6ZWMRKHuT8HPdKL65O+PxObnDefZcE/P/6F9swHwz+H5/vcFiXEP4T9V760tcQ/hP1XvrS1xD+H5/vcFiXEP0D+hfbMB8M/FJucN59lwT8IPdKL65O+PzCmVjESh7k/aKv1WvbHsz92yxiccf2qP9JFCI37XJs/E1vQoCnsdjwAAAAAAAAAAOkzZ+9u4ak/L6ZWMRKHuT89J4o3lbXCP/HNop77JMg/89MAJMjrzD9QndP6T3TQPwSOIELV/9E/TEz6+qkN0z/k8sDpcZbTP+TywOlxltM/TEz6+qkN0z8FjiBC1f/RP1Cd0/pPdNA/9dMAJMjrzD/yzaKe+yTIPz8nijeVtcI/M6ZWMRKHuT/vM2fvbuGpP0z+g5k1roU8AAAAAAAAAAAUox4UNKOxPxObnDefZcE/OstfsiiAyT9QndP6T3TQP2AS8fqktdM/umV9Llht1j+9XX6Ab4jYP3CcFnY2+Nk/jtvu3aSy2j+O2+7dpLLaP3CcFnY2+Nk/vl1+gG+I2D+7ZX0uWG3WP2ES8fqktdM/UZ3T+k900D88y1+yKIDJPxabnDefZcE/GKMeFDSjsT/fVtXZ4oyNPAAAAAAAAAAAbFnt2GVstD+H5/vcFiXEPw1PZ8hOh80/TEz6+qkN0z9h2a3Hn9LWP3CcFnY2+Nk/6l+/lnRo3D/89HERUxLeP0oH1Aw06t4/SgfUDDTq3j/89HERUxLeP+tfv5Z0aNw/cJwWdjb42T9i2a3Hn9LWP01M+vqpDdM/EE9nyE6HzT+K5/vcFiXEP3FZ7dhlbLQ/xuknIuUbkTwAAAAAAAAAAJyhwqMD/7Q/hP1XvrS1xD8+lHLJSVvOP+TywOlxltM/EfUBAHd21z+O2+7dpLLaP+2CA1RkNN0/SgfUDDTq3j9ZeULKIsjfP1l5QsoiyN8/SgfUDDTq3j/uggNUZDTdP4/b7t2ksto/EvUBAHd21z/l8sDpcZbTP0GUcslJW84/h/1XvrS1xD+hocKjA/+0P52olaq3lpE8AAAAAAAAAAB1LTUWKkuzP0D+hfbMB8M/4ut9CSHlyz8FjiBC1f/RP6vzDnFpj9U/vl1+gG+I2D+ADoUzJdbaP+tfv5Z0aNw/7oIDVGQ03T/uggNUZDTdP+tfv5Z0aNw/gQ6FMyXW2j+/XX6Ab4jYP6zzDnFpj9U/Bo4gQtX/0T/l630JIeXLP0P+hfbMB8M/eS01FipLsz/8Z+e8mSmQPAAAAAAAAAAAZxEIsigArz8IPdKL65O+P9LpxSMeacY/9dMAJMjrzD9gD0K4PlLRP2ES8fqktdM/q/MOcWmP1T9i2a3Hn9LWPxL1AQB3dtc/EvUBAHd21z9i2a3Hn9LWP6zzDnFpj9U/YhLx+qS10z9gD0K4PlLRP/bTACTI68w/1OnFIx5pxj8NPdKL65O+P28RCLIoAK8/uxDGhzj4iTwAAAAAAAAAAPo6pbD7DaQ/aKv1WvbHsz9ubhAnzf68Pz8nijeVtcI/0+nFIx5pxj88y1+yKIDJP+TrfQkh5cs/EE9nyE6HzT9BlHLJSVvOP0GUcslJW84/EE9nyE6HzT/l630JIeXLPz3LX7IogMk/1OnFIx5pxj9AJ4o3lbXCP3FuECfN/rw/a6v1WvbHsz//OqWw+w2kP9gLlnzNzIA8AAAAAAAAAADwQc6t172LP9JFCI37XJs//TqlsPsNpD/vM2fvbuGpP20RCLIoAK8/GKMeFDSjsT95LTUWKkuzP3FZ7dhlbLQ/oaHCowP/tD+hocKjA/+0P3FZ7dhlbLQ/eS01FipLsz8Zox4UNKOxP28RCLIoAK8/8DNn727hqT//OqWw+w2kP9ZFCI37XJs/90HOrde9iz861ZKoTT1nPAAAAAAAAAAA5UHOrde9i7/GRQiN+1ybv/Q6pbD7DaS/5DNn727hqb9gEQiyKACvvxCjHhQ0o7G/cC01FipLs79oWe3YZWy0v5ihwqMD/7S/mKHCowP/tL9oWe3YZWy0v3EtNRYqS7O/EaMeFDSjsb9hEQiyKACvv+UzZ+9u4am/9jqlsPsNpL/KRQiN+1ybv+tBzq3XvYu/MNWSqE09Z7wAAAAAAAAAAPg6pbD7DaS/Zqv1WvbHs79rbhAnzf68vz0nijeVtcK/0OnFIx5pxr85y1+yKIDJv+DrfQkh5cu/DE9nyE6Hzb89lHLJSVvOvz2UcslJW86/DE9nyE6Hzb/h630JIeXLvzrLX7IogMm/0enFIx5pxr8+J4o3lbXCv21uECfN/ry/aav1WvbHs7/8OqWw+w2kv9YLlnzNzIC8AAAAAAAAAABiEQiyKACvvwM90ovrk76/zunFIx5pxr/w0wAkyOvMv10PQrg+UtG/XhLx+qS107+o8w5xaY/Vv17Zrcef0ta/DvUBAHd2178O9QEAd3bXv17Zrcef0ta/qPMOcWmP1b9fEvH6pLXTv10PQrg+UtG/8dMAJMjrzL/Q6cUjHmnGvwg90ovrk76/aREIsigAr7+2EMaHOPiJvAAAAAAAAAAAcy01FipLs78//oX2zAfDv+DrfQkh5cu/A44gQtX/0b+q8w5xaY/Vv71dfoBviNi/fg6FMyXW2r/pX7+WdGjcv+yCA1RkNN2/7IIDVGQ03b/pX7+WdGjcv38OhTMl1tq/vl1+gG+I2L+r8w5xaY/VvwSOIELV/9G/4+t9CSHly79B/oX2zAfDv3gtNRYqS7O/+2fnvJkpkLwAAAAAAAAAAJyhwqMD/7S/hP1XvrS1xL8+lHLJSVvOv+TywOlxltO/EfUBAHd217+O2+7dpLLav+2CA1RkNN2/SgfUDDTq3r9ZeULKIsjfv1l5QsoiyN+/SgfUDDTq3r/uggNUZDTdv4/b7t2kstq/EvUBAHd217/l8sDpcZbTv0GUcslJW86/h/1XvrS1xL+hocKjA/+0v52olaq3lpG8AAAAAAAAAABtWe3YZWy0v4jn+9wWJcS/Dk9nyE6Hzb9MTPr6qQ3Tv2HZrcef0ta/cJwWdjb42b/rX7+WdGjcv/30cRFTEt6/SwfUDDTq3r9LB9QMNOrev/30cRFTEt6/7F+/lnRo3L9xnBZ2NvjZv2LZrcef0ta/TUz6+qkN078RT2fITofNv4vn+9wWJcS/clnt2GVstL/H6Sci5RuRvAAAAAAAAAAAFaMeFDSjsb8Um5w3n2XBvzvLX7IogMm/UZ3T+k900L9iEvH6pLXTv7xlfS5Ybda/v11+gG+I2L9xnBZ2NvjZv5Db7t2kstq/kNvu3aSy2r9xnBZ2NvjZv8BdfoBviNi/vGV9Llht1r9jEvH6pLXTv1Kd0/pPdNC/PstfsiiAyb8Xm5w3n2XBvxmjHhQ0o7G/4VbV2eKMjbwAAAAAAAAAAOszZ+9u4am/MaZWMRKHub8/J4o3lbXCv/PNop77JMi/9tMAJMjrzL9SndP6T3TQvwaOIELV/9G/Tkz6+qkN07/m8sDpcZbTv+bywOlxltO/Tkz6+qkN078GjiBC1f/Rv1Kd0/pPdNC/+NMAJMjrzL/0zaKe+yTIv0EnijeVtcK/NaZWMRKHub/xM2fvbuGpv07+g5k1roW8AAAAAAAAAADSRQiN+1ybv3jLGJxx/aq/a6v1WvbHs781plYxEoe5vw490ovrk76/F5ucN59lwb9E/oX2zAfDv4zn+9wWJcS/if1XvrS1xL+J/Ve+tLXEv4zn+9wWJcS/Rf6F9swHw78Ym5w3n2XBvxA90ovrk76/NqZWMRKHub9tq/Va9sezv3zLGJxx/aq/2EUIjftcm78ZW9CgKex2vAAAAAAAAAAANNWSqE09d7wTW9CgKeyGvNYLlnzNzJC8TP6DmTWulby5EMaHOPiZvN9W1dnijJ28+2fnvJkpoLzG6Sci5RuhvJ2olaq3lqG8naiVqreWobzG6Sci5RuhvPxn57yZKaC84FbV2eKMnby7EMaHOPiZvE3+g5k1rpW82AuWfM3MkLwXW9CgKeyGvDrVkqhNPXe8SF2Khc53U7k=",
          "dtype": "f8",
          "shape": "20, 20"
         },
         "z": {
          "bdata": "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",
          "dtype": "f8",
          "shape": "20, 20"
         }
        },
        {
         "colorscale": [
          [
           0,
           "gray"
          ],
          [
           1,
           "gray"
          ]
         ],
         "showscale": false,
         "type": "surface",
         "x": {
          "bdata": "CmP/URgasr8Q1JfHAR+xv+FQUXjnkay/1o3vLTjNo79klt+KacaRvxJYlHXj6nc/TiM0ovoVnT9OlFSeLIWoP0YNbTwh168/aLsoWeTasT9ouyhZ5NqxP0cNbTwh168/U5RUniyFqD9aIzSi+hWdPzhYlHXj6nc/XJbfimnGkb/Tje8tOM2jv95QUXjnkay/ENSXxwEfsb8KY/9RGBqyvzH2H4WhIfG/QX15HPAR8b+HisI7j+Twv298b8FpnvC/Wn4rphlH8L9Q1xQ5KtDvv+Ze7ipQF++/u7YaNq137r8sLznsjQLuv5Po2nSjxO2/k+jadKPE7b8sLznsjQLuv7u2Gjatd+6/5V7uKlAX779Q1xQ5KtDvv1l+K6YZR/C/b3xvwWme8L+HisI7j+Twv0F9eRzwEfG/MfYfhaEh8b8=",
          "dtype": "f8",
          "shape": "2, 20"
         },
         "y": {
          "bdata": "CmP/URgasr8Q1JfHAR+xv+FQUXjnkay/1o3vLTjNo79klt+KacaRvxJYlHXj6nc/TiM0ovoVnT9OlFSeLIWoP0YNbTwh168/aLsoWeTasT9ouyhZ5NqxP0cNbTwh168/U5RUniyFqD9aIzSi+hWdPzhYlHXj6nc/XJbfimnGkb/Tje8tOM2jv95QUXjnkay/ENSXxwEfsb8KY/9RGBqyv58TwPW8vO0/fgUNxx/c7T/y6nqI4TbuPyMHIX0sw+4/TQOps8xx7z9YlHXj6hfwP43QiOpXdPA/oqTyZCnE8D9qaOMJuf7wP7aLkkWuHfE/touSRa4d8T9qaOMJuf7wP6Ok8mQpxPA/jdCI6ld08D9YlHXj6hfwP00DqbPMce8/IwchfSzD7j/y6nqI4TbuP34FDccf3O0/nxPA9by87T8=",
          "dtype": "f8",
          "shape": "2, 20"
         },
         "z": {
          "bdata": "AAAAAAAAAAAhpkCg5p+gv58Gwt6bcq+/t2SLSHRutb+t8eTDD9G4v1U1hFQ3g7m/O2/asJxxt79Ay4Xlo9Wyv43JinFWXqi/1RPxmL/akL/OE/GYv9qQP4rJinFWXqg/PcuF5aPVsj85b9qwnHG3P1U1hFQ3g7k/rvHkww/RuD+4ZItIdG61P6IGwt6bcq8/JaZAoOafoD9yxlPrCT18PAAAAAAAAAAAIaZAoOafoL+fBsLem3Kvv7dki0h0brW/rfHkww/RuL9VNYRUN4O5vztv2rCccbe/QMuF5aPVsr+NyYpxVl6ov9UT8Zi/2pC/zhPxmL/akD+KyYpxVl6oPz3LheWj1bI/OW/asJxxtz9VNYRUN4O5P67x5MMP0bg/uGSLSHRutT+iBsLem3KvPyWmQKDmn6A/csZT6wk9fDw=",
          "dtype": "f8",
          "shape": "2, 20"
         }
        },
        {
         "colorscale": [
          [
           0,
           "black"
          ],
          [
           1,
           "black"
          ]
         ],
         "showscale": false,
         "type": "surface",
         "x": {
          "bdata": "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",
          "dtype": "f8",
          "shape": "20, 20"
         },
         "y": {
          "bdata": "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",
          "dtype": "f8",
          "shape": "20, 20"
         },
         "z": {
          "bdata": "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",
          "dtype": "f8",
          "shape": "20, 20"
         }
        },
        {
         "colorscale": [
          [
           0,
           "gray"
          ],
          [
           1,
           "gray"
          ]
         ],
         "showscale": false,
         "type": "surface",
         "x": {
          "bdata": "CmP/URgasr8Q1JfHAR+xv+FQUXjnkay/1o3vLTjNo79klt+KacaRvxJYlHXj6nc/TiM0ovoVnT9OlFSeLIWoP0YNbTwh168/aLsoWeTasT9ouyhZ5NqxP0cNbTwh168/U5RUniyFqD9aIzSi+hWdPzhYlHXj6nc/XJbfimnGkb/Tje8tOM2jv95QUXjnkay/ENSXxwEfsb8KY/9RGBqyvzH2H4WhIfG/QX15HPAR8b+HisI7j+Twv298b8FpnvC/Wn4rphlH8L9Q1xQ5KtDvv+Ze7ipQF++/u7YaNq137r8sLznsjQLuv5Po2nSjxO2/k+jadKPE7b8sLznsjQLuv7u2Gjatd+6/5V7uKlAX779Q1xQ5KtDvv1l+K6YZR/C/b3xvwWme8L+HisI7j+Twv0F9eRzwEfG/MfYfhaEh8b8=",
          "dtype": "f8",
          "shape": "2, 20"
         },
         "y": {
          "bdata": "CmP/URgasj8Q1JfHAR+xP+FQUXjnkaw/1o3vLTjNoz9klt+KacaRPxJYlHXj6ne/TiM0ovoVnb9OlFSeLIWov0YNbTwh16+/aLsoWeTasb9ouyhZ5Nqxv0cNbTwh16+/U5RUniyFqL9aIzSi+hWdvzhYlHXj6ne/XJbfimnGkT/Tje8tOM2jP95QUXjnkaw/ENSXxwEfsT8KY/9RGBqyP58TwPW8vO2/fgUNxx/c7b/y6nqI4TbuvyMHIX0sw+6/TQOps8xx779YlHXj6hfwv43QiOpXdPC/oqTyZCnE8L9qaOMJuf7wv7aLkkWuHfG/touSRa4d8b9qaOMJuf7wv6Ok8mQpxPC/jdCI6ld08L9YlHXj6hfwv00DqbPMce+/IwchfSzD7r/y6nqI4Tbuv34FDccf3O2/nxPA9by87b8=",
          "dtype": "f8",
          "shape": "2, 20"
         },
         "z": {
          "bdata": "AAAAAAAAAAAhpkCg5p+gP58Gwt6bcq8/t2SLSHRutT+t8eTDD9G4P1U1hFQ3g7k/O2/asJxxtz9Ay4Xlo9WyP43JinFWXqg/1RPxmL/akD/OE/GYv9qQv4rJinFWXqi/PcuF5aPVsr85b9qwnHG3v1U1hFQ3g7m/rvHkww/RuL+4ZItIdG61v6IGwt6bcq+/JaZAoOafoL9yxlPrCT18vAAAAAAAAAAAIaZAoOafoD+fBsLem3KvP7dki0h0brU/rfHkww/RuD9VNYRUN4O5Pztv2rCccbc/QMuF5aPVsj+NyYpxVl6oP9UT8Zi/2pA/zhPxmL/akL+KyYpxVl6ovz3LheWj1bK/OW/asJxxt79VNYRUN4O5v67x5MMP0bi/uGSLSHRutb+iBsLem3KvvyWmQKDmn6C/csZT6wk9fLw=",
          "dtype": "f8",
          "shape": "2, 20"
         }
        },
        {
         "colorscale": [
          [
           0,
           "black"
          ],
          [
           1,
           "black"
          ]
         ],
         "showscale": false,
         "type": "surface",
         "x": {
          "bdata": "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",
          "dtype": "f8",
          "shape": "20, 20"
         },
         "y": {
          "bdata": "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",
          "dtype": "f8",
          "shape": "20, 20"
         },
         "z": {
          "bdata": "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",
          "dtype": "f8",
          "shape": "20, 20"
         }
        },
        {
         "colorscale": [
          [
           0,
           "brown"
          ],
          [
           1,
           "brown"
          ]
         ],
         "showscale": false,
         "type": "surface",
         "x": {
          "bdata": "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",
          "dtype": "f8",
          "shape": "20, 20"
         },
         "y": {
          "bdata": "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",
          "dtype": "f8",
          "shape": "20, 20"
         },
         "z": {
          "bdata": "MzMzMzMz4z+cFVt5rhHjP/YhJFsKruI/mCwRpP4K4j+KvRfh/SzhP0yiHFIWGuA/rKsUQY+z3T8TepYEnenaPz1Rnm3P6dc/pkVPEBjJ1D/BIBdWTp3RP1QqkPEt+cw/qdifw5L5xj92daNKrmXBPzqHtAjnyLg/SK3bkKoxsD/AaSDySIOiP5An4gEbpZA/wMsO7FzCcD8AAAAAAAAAADMzMzMzM+M/nBVbea4R4z/2ISRbCq7iP5gsEaT+CuI/ir0X4f0s4T9MohxSFhrgP6yrFEGPs90/E3qWBJ3p2j89UZ5tz+nXP6ZFTxAYydQ/wSAXVk6d0T9UKpDxLfnMP6nYn8OS+cY/dnWjSq5lwT86h7QI58i4P0it25CqMbA/wGkg8kiDoj+QJ+IBG6WQP8DLDuxcwnA/AAAAAAAAAAAzMzMzMzPjP5wVW3muEeM/9iEkWwqu4j+YLBGk/griP4q9F+H9LOE/TKIcUhYa4D+sqxRBj7PdPxN6lgSd6do/PVGebc/p1z+mRU8QGMnUP8EgF1ZOndE/VCqQ8S35zD+p2J/DkvnGP3Z1o0quZcE/Ooe0COfIuD9IrduQqjGwP8BpIPJIg6I/kCfiARulkD/Ayw7sXMJwPwAAAAAAAAAAMzMzMzMz4z+cFVt5rhHjP/YhJFsKruI/mCwRpP4K4j+KvRfh/SzhP0yiHFIWGuA/rKsUQY+z3T8TepYEnenaPz1Rnm3P6dc/pkVPEBjJ1D/BIBdWTp3RP1QqkPEt+cw/qdifw5L5xj92daNKrmXBPzqHtAjnyLg/SK3bkKoxsD/AaSDySIOiP5An4gEbpZA/wMsO7FzCcD8AAAAAAAAAADMzMzMzM+M/nBVbea4R4z/2ISRbCq7iP5gsEaT+CuI/ir0X4f0s4T9MohxSFhrgP6yrFEGPs90/E3qWBJ3p2j89UZ5tz+nXP6ZFTxAYydQ/wSAXVk6d0T9UKpDxLfnMP6nYn8OS+cY/dnWjSq5lwT86h7QI58i4P0it25CqMbA/wGkg8kiDoj+QJ+IBG6WQP8DLDuxcwnA/AAAAAAAAAAAzMzMzMzPjP5wVW3muEeM/9iEkWwqu4j+YLBGk/griP4q9F+H9LOE/TKIcUhYa4D+sqxRBj7PdPxN6lgSd6do/PVGebc/p1z+mRU8QGMnUP8EgF1ZOndE/VCqQ8S35zD+p2J/DkvnGP3Z1o0quZcE/Ooe0COfIuD9IrduQqjGwP8BpIPJIg6I/kCfiARulkD/Ayw7sXMJwPwAAAAAAAAAAMzMzMzMz4z+cFVt5rhHjP/YhJFsKruI/mCwRpP4K4j+KvRfh/SzhP0yiHFIWGuA/rKsUQY+z3T8TepYEnenaPz1Rnm3P6dc/pkVPEBjJ1D/BIBdWTp3RP1QqkPEt+cw/qdifw5L5xj92daNKrmXBPzqHtAjnyLg/SK3bkKoxsD/AaSDySIOiP5An4gEbpZA/wMsO7FzCcD8AAAAAAAAAADMzMzMzM+M/nBVbea4R4z/2ISRbCq7iP5gsEaT+CuI/ir0X4f0s4T9MohxSFhrgP6yrFEGPs90/E3qWBJ3p2j89UZ5tz+nXP6ZFTxAYydQ/wSAXVk6d0T9UKpDxLfnMP6nYn8OS+cY/dnWjSq5lwT86h7QI58i4P0it25CqMbA/wGkg8kiDoj+QJ+IBG6WQP8DLDuxcwnA/AAAAAAAAAAAzMzMzMzPjP5wVW3muEeM/9iEkWwqu4j+YLBGk/griP4q9F+H9LOE/TKIcUhYa4D+sqxRBj7PdPxN6lgSd6do/PVGebc/p1z+mRU8QGMnUP8EgF1ZOndE/VCqQ8S35zD+p2J/DkvnGP3Z1o0quZcE/Ooe0COfIuD9IrduQqjGwP8BpIPJIg6I/kCfiARulkD/Ayw7sXMJwPwAAAAAAAAAAMzMzMzMz4z+cFVt5rhHjP/YhJFsKruI/mCwRpP4K4j+KvRfh/SzhP0yiHFIWGuA/rKsUQY+z3T8TepYEnenaPz1Rnm3P6dc/pkVPEBjJ1D/BIBdWTp3RP1QqkPEt+cw/qdifw5L5xj92daNKrmXBPzqHtAjnyLg/SK3bkKoxsD/AaSDySIOiP5An4gEbpZA/wMsO7FzCcD8AAAAAAAAAADMzMzMzM+M/nBVbea4R4z/2ISRbCq7iP5gsEaT+CuI/ir0X4f0s4T9MohxSFhrgP6yrFEGPs90/E3qWBJ3p2j89UZ5tz+nXP6ZFTxAYydQ/wSAXVk6d0T9UKpDxLfnMP6nYn8OS+cY/dnWjSq5lwT86h7QI58i4P0it25CqMbA/wGkg8kiDoj+QJ+IBG6WQP8DLDuxcwnA/AAAAAAAAAAAzMzMzMzPjP5wVW3muEeM/9iEkWwqu4j+YLBGk/griP4q9F+H9LOE/TKIcUhYa4D+sqxRBj7PdPxN6lgSd6do/PVGebc/p1z+mRU8QGMnUP8EgF1ZOndE/VCqQ8S35zD+p2J/DkvnGP3Z1o0quZcE/Ooe0COfIuD9IrduQqjGwP8BpIPJIg6I/kCfiARulkD/Ayw7sXMJwPwAAAAAAAAAAMzMzMzMz4z+cFVt5rhHjP/YhJFsKruI/mCwRpP4K4j+KvRfh/SzhP0yiHFIWGuA/rKsUQY+z3T8TepYEnenaPz1Rnm3P6dc/pkVPEBjJ1D/BIBdWTp3RP1QqkPEt+cw/qdifw5L5xj92daNKrmXBPzqHtAjnyLg/SK3bkKoxsD/AaSDySIOiP5An4gEbpZA/wMsO7FzCcD8AAAAAAAAAADMzMzMzM+M/nBVbea4R4z/2ISRbCq7iP5gsEaT+CuI/ir0X4f0s4T9MohxSFhrgP6yrFEGPs90/E3qWBJ3p2j89UZ5tz+nXP6ZFTxAYydQ/wSAXVk6d0T9UKpDxLfnMP6nYn8OS+cY/dnWjSq5lwT86h7QI58i4P0it25CqMbA/wGkg8kiDoj+QJ+IBG6WQP8DLDuxcwnA/AAAAAAAAAAAzMzMzMzPjP5wVW3muEeM/9iEkWwqu4j+YLBGk/griP4q9F+H9LOE/TKIcUhYa4D+sqxRBj7PdPxN6lgSd6do/PVGebc/p1z+mRU8QGMnUP8EgF1ZOndE/VCqQ8S35zD+p2J/DkvnGP3Z1o0quZcE/Ooe0COfIuD9IrduQqjGwP8BpIPJIg6I/kCfiARulkD/Ayw7sXMJwPwAAAAAAAAAAMzMzMzMz4z+cFVt5rhHjP/YhJFsKruI/mCwRpP4K4j+KvRfh/SzhP0yiHFIWGuA/rKsUQY+z3T8TepYEnenaPz1Rnm3P6dc/pkVPEBjJ1D/BIBdWTp3RP1QqkPEt+cw/qdifw5L5xj92daNKrmXBPzqHtAjnyLg/SK3bkKoxsD/AaSDySIOiP5An4gEbpZA/wMsO7FzCcD8AAAAAAAAAADMzMzMzM+M/nBVbea4R4z/2ISRbCq7iP5gsEaT+CuI/ir0X4f0s4T9MohxSFhrgP6yrFEGPs90/E3qWBJ3p2j89UZ5tz+nXP6ZFTxAYydQ/wSAXVk6d0T9UKpDxLfnMP6nYn8OS+cY/dnWjSq5lwT86h7QI58i4P0it25CqMbA/wGkg8kiDoj+QJ+IBG6WQP8DLDuxcwnA/AAAAAAAAAAAzMzMzMzPjP5wVW3muEeM/9iEkWwqu4j+YLBGk/griP4q9F+H9LOE/TKIcUhYa4D+sqxRBj7PdPxN6lgSd6do/PVGebc/p1z+mRU8QGMnUP8EgF1ZOndE/VCqQ8S35zD+p2J/DkvnGP3Z1o0quZcE/Ooe0COfIuD9IrduQqjGwP8BpIPJIg6I/kCfiARulkD/Ayw7sXMJwPwAAAAAAAAAAMzMzMzMz4z+cFVt5rhHjP/YhJFsKruI/mCwRpP4K4j+KvRfh/SzhP0yiHFIWGuA/rKsUQY+z3T8TepYEnenaPz1Rnm3P6dc/pkVPEBjJ1D/BIBdWTp3RP1QqkPEt+cw/qdifw5L5xj92daNKrmXBPzqHtAjnyLg/SK3bkKoxsD/AaSDySIOiP5An4gEbpZA/wMsO7FzCcD8AAAAAAAAAADMzMzMzM+M/nBVbea4R4z/2ISRbCq7iP5gsEaT+CuI/ir0X4f0s4T9MohxSFhrgP6yrFEGPs90/E3qWBJ3p2j89UZ5tz+nXP6ZFTxAYydQ/wSAXVk6d0T9UKpDxLfnMP6nYn8OS+cY/dnWjSq5lwT86h7QI58i4P0it25CqMbA/wGkg8kiDoj+QJ+IBG6WQP8DLDuxcwnA/AAAAAAAAAAA=",
          "dtype": "f8",
          "shape": "20, 20"
         }
        },
        {
         "colorscale": [
          [
           0,
           "brown"
          ],
          [
           1,
           "brown"
          ]
         ],
         "showscale": false,
         "type": "surface",
         "x": {
          "bdata": "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",
          "dtype": "f8",
          "shape": "20, 20"
         },
         "y": {
          "bdata": "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",
          "dtype": "f8",
          "shape": "20, 20"
         },
         "z": {
          "bdata": "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",
          "dtype": "f8",
          "shape": "20, 20"
         }
        },
        {
         "colorscale": [
          [
           0,
           "brown"
          ],
          [
           1,
           "brown"
          ]
         ],
         "showscale": false,
         "type": "surface",
         "x": {
          "bdata": "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",
          "dtype": "f8",
          "shape": "20, 20"
         },
         "y": {
          "bdata": "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",
          "dtype": "f8",
          "shape": "20, 20"
         },
         "z": {
          "bdata": "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",
          "dtype": "f8",
          "shape": "20, 20"
         }
        },
        {
         "colorscale": [
          [
           0,
           "brown"
          ],
          [
           1,
           "brown"
          ]
         ],
         "showscale": false,
         "type": "surface",
         "x": {
          "bdata": "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",
          "dtype": "f8",
          "shape": "20, 20"
         },
         "y": {
          "bdata": "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",
          "dtype": "f8",
          "shape": "20, 20"
         },
         "z": {
          "bdata": "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",
          "dtype": "f8",
          "shape": "20, 20"
         }
        },
        {
         "colorscale": [
          [
           0,
           "black"
          ],
          [
           1,
           "black"
          ]
         ],
         "showscale": false,
         "type": "surface",
         "x": {
          "bdata": "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",
          "dtype": "f8",
          "shape": "20, 20"
         },
         "y": {
          "bdata": "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",
          "dtype": "f8",
          "shape": "20, 20"
         },
         "z": {
          "bdata": "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",
          "dtype": "f8",
          "shape": "20, 20"
         }
        }
       ],
       "layout": {
        "scene": {
         "aspectratio": {
          "x": 2,
          "y": 1,
          "z": 1
         },
         "xaxis": {
          "visible": false
         },
         "yaxis": {
          "visible": false
         },
         "zaxis": {
          "visible": false
         }
        },
        "showlegend": false,
        "template": {
         "data": {
          "bar": [
           {
            "error_x": {
             "color": "#2a3f5f"
            },
            "error_y": {
             "color": "#2a3f5f"
            },
            "marker": {
             "line": {
              "color": "#E5ECF6",
              "width": 0.5
             },
             "pattern": {
              "fillmode": "overlay",
              "size": 10,
              "solidity": 0.2
             }
            },
            "type": "bar"
           }
          ],
          "barpolar": [
           {
            "marker": {
             "line": {
              "color": "#E5ECF6",
              "width": 0.5
             },
             "pattern": {
              "fillmode": "overlay",
              "size": 10,
              "solidity": 0.2
             }
            },
            "type": "barpolar"
           }
          ],
          "carpet": [
           {
            "aaxis": {
             "endlinecolor": "#2a3f5f",
             "gridcolor": "white",
             "linecolor": "white",
             "minorgridcolor": "white",
             "startlinecolor": "#2a3f5f"
            },
            "baxis": {
             "endlinecolor": "#2a3f5f",
             "gridcolor": "white",
             "linecolor": "white",
             "minorgridcolor": "white",
             "startlinecolor": "#2a3f5f"
            },
            "type": "carpet"
           }
          ],
          "choropleth": [
           {
            "colorbar": {
             "outlinewidth": 0,
             "ticks": ""
            },
            "type": "choropleth"
           }
          ],
          "contour": [
           {
            "colorbar": {
             "outlinewidth": 0,
             "ticks": ""
            },
            "colorscale": [
             [
              0,
              "#0d0887"
             ],
             [
              0.1111111111111111,
              "#46039f"
             ],
             [
              0.2222222222222222,
              "#7201a8"
             ],
             [
              0.3333333333333333,
              "#9c179e"
             ],
             [
              0.4444444444444444,
              "#bd3786"
             ],
             [
              0.5555555555555556,
              "#d8576b"
             ],
             [
              0.6666666666666666,
              "#ed7953"
             ],
             [
              0.7777777777777778,
              "#fb9f3a"
             ],
             [
              0.8888888888888888,
              "#fdca26"
             ],
             [
              1,
              "#f0f921"
             ]
            ],
            "type": "contour"
           }
          ],
          "contourcarpet": [
           {
            "colorbar": {
             "outlinewidth": 0,
             "ticks": ""
            },
            "type": "contourcarpet"
           }
          ],
          "heatmap": [
           {
            "colorbar": {
             "outlinewidth": 0,
             "ticks": ""
            },
            "colorscale": [
             [
              0,
              "#0d0887"
             ],
             [
              0.1111111111111111,
              "#46039f"
             ],
             [
              0.2222222222222222,
              "#7201a8"
             ],
             [
              0.3333333333333333,
              "#9c179e"
             ],
             [
              0.4444444444444444,
              "#bd3786"
             ],
             [
              0.5555555555555556,
              "#d8576b"
             ],
             [
              0.6666666666666666,
              "#ed7953"
             ],
             [
              0.7777777777777778,
              "#fb9f3a"
             ],
             [
              0.8888888888888888,
              "#fdca26"
             ],
             [
              1,
              "#f0f921"
             ]
            ],
            "type": "heatmap"
           }
          ],
          "histogram": [
           {
            "marker": {
             "pattern": {
              "fillmode": "overlay",
              "size": 10,
              "solidity": 0.2
             }
            },
            "type": "histogram"
           }
          ],
          "histogram2d": [
           {
            "colorbar": {
             "outlinewidth": 0,
             "ticks": ""
            },
            "colorscale": [
             [
              0,
              "#0d0887"
             ],
             [
              0.1111111111111111,
              "#46039f"
             ],
             [
              0.2222222222222222,
              "#7201a8"
             ],
             [
              0.3333333333333333,
              "#9c179e"
             ],
             [
              0.4444444444444444,
              "#bd3786"
             ],
             [
              0.5555555555555556,
              "#d8576b"
             ],
             [
              0.6666666666666666,
              "#ed7953"
             ],
             [
              0.7777777777777778,
              "#fb9f3a"
             ],
             [
              0.8888888888888888,
              "#fdca26"
             ],
             [
              1,
              "#f0f921"
             ]
            ],
            "type": "histogram2d"
           }
          ],
          "histogram2dcontour": [
           {
            "colorbar": {
             "outlinewidth": 0,
             "ticks": ""
            },
            "colorscale": [
             [
              0,
              "#0d0887"
             ],
             [
              0.1111111111111111,
              "#46039f"
             ],
             [
              0.2222222222222222,
              "#7201a8"
             ],
             [
              0.3333333333333333,
              "#9c179e"
             ],
             [
              0.4444444444444444,
              "#bd3786"
             ],
             [
              0.5555555555555556,
              "#d8576b"
             ],
             [
              0.6666666666666666,
              "#ed7953"
             ],
             [
              0.7777777777777778,
              "#fb9f3a"
             ],
             [
              0.8888888888888888,
              "#fdca26"
             ],
             [
              1,
              "#f0f921"
             ]
            ],
            "type": "histogram2dcontour"
           }
          ],
          "mesh3d": [
           {
            "colorbar": {
             "outlinewidth": 0,
             "ticks": ""
            },
            "type": "mesh3d"
           }
          ],
          "parcoords": [
           {
            "line": {
             "colorbar": {
              "outlinewidth": 0,
              "ticks": ""
             }
            },
            "type": "parcoords"
           }
          ],
          "pie": [
           {
            "automargin": true,
            "type": "pie"
           }
          ],
          "scatter": [
           {
            "fillpattern": {
             "fillmode": "overlay",
             "size": 10,
             "solidity": 0.2
            },
            "type": "scatter"
           }
          ],
          "scatter3d": [
           {
            "line": {
             "colorbar": {
              "outlinewidth": 0,
              "ticks": ""
             }
            },
            "marker": {
             "colorbar": {
              "outlinewidth": 0,
              "ticks": ""
             }
            },
            "type": "scatter3d"
           }
          ],
          "scattercarpet": [
           {
            "marker": {
             "colorbar": {
              "outlinewidth": 0,
              "ticks": ""
             }
            },
            "type": "scattercarpet"
           }
          ],
          "scattergeo": [
           {
            "marker": {
             "colorbar": {
              "outlinewidth": 0,
              "ticks": ""
             }
            },
            "type": "scattergeo"
           }
          ],
          "scattergl": [
           {
            "marker": {
             "colorbar": {
              "outlinewidth": 0,
              "ticks": ""
             }
            },
            "type": "scattergl"
           }
          ],
          "scattermap": [
           {
            "marker": {
             "colorbar": {
              "outlinewidth": 0,
              "ticks": ""
             }
            },
            "type": "scattermap"
           }
          ],
          "scattermapbox": [
           {
            "marker": {
             "colorbar": {
              "outlinewidth": 0,
              "ticks": ""
             }
            },
            "type": "scattermapbox"
           }
          ],
          "scatterpolar": [
           {
            "marker": {
             "colorbar": {
              "outlinewidth": 0,
              "ticks": ""
             }
            },
            "type": "scatterpolar"
           }
          ],
          "scatterpolargl": [
           {
            "marker": {
             "colorbar": {
              "outlinewidth": 0,
              "ticks": ""
             }
            },
            "type": "scatterpolargl"
           }
          ],
          "scatterternary": [
           {
            "marker": {
             "colorbar": {
              "outlinewidth": 0,
              "ticks": ""
             }
            },
            "type": "scatterternary"
           }
          ],
          "surface": [
           {
            "colorbar": {
             "outlinewidth": 0,
             "ticks": ""
            },
            "colorscale": [
             [
              0,
              "#0d0887"
             ],
             [
              0.1111111111111111,
              "#46039f"
             ],
             [
              0.2222222222222222,
              "#7201a8"
             ],
             [
              0.3333333333333333,
              "#9c179e"
             ],
             [
              0.4444444444444444,
              "#bd3786"
             ],
             [
              0.5555555555555556,
              "#d8576b"
             ],
             [
              0.6666666666666666,
              "#ed7953"
             ],
             [
              0.7777777777777778,
              "#fb9f3a"
             ],
             [
              0.8888888888888888,
              "#fdca26"
             ],
             [
              1,
              "#f0f921"
             ]
            ],
            "type": "surface"
           }
          ],
          "table": [
           {
            "cells": {
             "fill": {
              "color": "#EBF0F8"
             },
             "line": {
              "color": "white"
             }
            },
            "header": {
             "fill": {
              "color": "#C8D4E3"
             },
             "line": {
              "color": "white"
             }
            },
            "type": "table"
           }
          ]
         },
         "layout": {
          "annotationdefaults": {
           "arrowcolor": "#2a3f5f",
           "arrowhead": 0,
           "arrowwidth": 1
          },
          "autotypenumbers": "strict",
          "coloraxis": {
           "colorbar": {
            "outlinewidth": 0,
            "ticks": ""
           }
          },
          "colorscale": {
           "diverging": [
            [
             0,
             "#8e0152"
            ],
            [
             0.1,
             "#c51b7d"
            ],
            [
             0.2,
             "#de77ae"
            ],
            [
             0.3,
             "#f1b6da"
            ],
            [
             0.4,
             "#fde0ef"
            ],
            [
             0.5,
             "#f7f7f7"
            ],
            [
             0.6,
             "#e6f5d0"
            ],
            [
             0.7,
             "#b8e186"
            ],
            [
             0.8,
             "#7fbc41"
            ],
            [
             0.9,
             "#4d9221"
            ],
            [
             1,
             "#276419"
            ]
           ],
           "sequential": [
            [
             0,
             "#0d0887"
            ],
            [
             0.1111111111111111,
             "#46039f"
            ],
            [
             0.2222222222222222,
             "#7201a8"
            ],
            [
             0.3333333333333333,
             "#9c179e"
            ],
            [
             0.4444444444444444,
             "#bd3786"
            ],
            [
             0.5555555555555556,
             "#d8576b"
            ],
            [
             0.6666666666666666,
             "#ed7953"
            ],
            [
             0.7777777777777778,
             "#fb9f3a"
            ],
            [
             0.8888888888888888,
             "#fdca26"
            ],
            [
             1,
             "#f0f921"
            ]
           ],
           "sequentialminus": [
            [
             0,
             "#0d0887"
            ],
            [
             0.1111111111111111,
             "#46039f"
            ],
            [
             0.2222222222222222,
             "#7201a8"
            ],
            [
             0.3333333333333333,
             "#9c179e"
            ],
            [
             0.4444444444444444,
             "#bd3786"
            ],
            [
             0.5555555555555556,
             "#d8576b"
            ],
            [
             0.6666666666666666,
             "#ed7953"
            ],
            [
             0.7777777777777778,
             "#fb9f3a"
            ],
            [
             0.8888888888888888,
             "#fdca26"
            ],
            [
             1,
             "#f0f921"
            ]
           ]
          },
          "colorway": [
           "#636efa",
           "#EF553B",
           "#00cc96",
           "#ab63fa",
           "#FFA15A",
           "#19d3f3",
           "#FF6692",
           "#B6E880",
           "#FF97FF",
           "#FECB52"
          ],
          "font": {
           "color": "#2a3f5f"
          },
          "geo": {
           "bgcolor": "white",
           "lakecolor": "white",
           "landcolor": "#E5ECF6",
           "showlakes": true,
           "showland": true,
           "subunitcolor": "white"
          },
          "hoverlabel": {
           "align": "left"
          },
          "hovermode": "closest",
          "mapbox": {
           "style": "light"
          },
          "paper_bgcolor": "white",
          "plot_bgcolor": "#E5ECF6",
          "polar": {
           "angularaxis": {
            "gridcolor": "white",
            "linecolor": "white",
            "ticks": ""
           },
           "bgcolor": "#E5ECF6",
           "radialaxis": {
            "gridcolor": "white",
            "linecolor": "white",
            "ticks": ""
           }
          },
          "scene": {
           "xaxis": {
            "backgroundcolor": "#E5ECF6",
            "gridcolor": "white",
            "gridwidth": 2,
            "linecolor": "white",
            "showbackground": true,
            "ticks": "",
            "zerolinecolor": "white"
           },
           "yaxis": {
            "backgroundcolor": "#E5ECF6",
            "gridcolor": "white",
            "gridwidth": 2,
            "linecolor": "white",
            "showbackground": true,
            "ticks": "",
            "zerolinecolor": "white"
           },
           "zaxis": {
            "backgroundcolor": "#E5ECF6",
            "gridcolor": "white",
            "gridwidth": 2,
            "linecolor": "white",
            "showbackground": true,
            "ticks": "",
            "zerolinecolor": "white"
           }
          },
          "shapedefaults": {
           "line": {
            "color": "#2a3f5f"
           }
          },
          "ternary": {
           "aaxis": {
            "gridcolor": "white",
            "linecolor": "white",
            "ticks": ""
           },
           "baxis": {
            "gridcolor": "white",
            "linecolor": "white",
            "ticks": ""
           },
           "bgcolor": "#E5ECF6",
           "caxis": {
            "gridcolor": "white",
            "linecolor": "white",
            "ticks": ""
           }
          },
          "title": {
           "x": 0.05
          },
          "xaxis": {
           "automargin": true,
           "gridcolor": "white",
           "linecolor": "white",
           "ticks": "",
           "title": {
            "standoff": 15
           },
           "zerolinecolor": "white",
           "zerolinewidth": 2
          },
          "yaxis": {
           "automargin": true,
           "gridcolor": "white",
           "linecolor": "white",
           "ticks": "",
           "title": {
            "standoff": 15
           },
           "zerolinecolor": "white",
           "zerolinewidth": 2
          }
         }
        },
        "title": {
         "text": "Modelo 3D simple de un escorpión"
        }
       }
      }
     },
     "metadata": {},
     "output_type": "display_data"
    }
   ],
   "source": [
    "import plotly.graph_objects as go\n",
    "import numpy as np\n",
    "\n",
    "def esfera(x0, y0, z0, r, color):\n",
    "    phi = np.linspace(0, np.pi, 20)\n",
    "    theta = np.linspace(0, 2 * np.pi, 20)\n",
    "    phi, theta = np.meshgrid(phi, theta)\n",
    "\n",
    "    x = x0 + r * np.sin(phi) * np.cos(theta)\n",
    "    y = y0 + r * np.sin(phi) * np.sin(theta)\n",
    "    z = z0 + r * np.cos(phi)\n",
    "\n",
    "    return go.Surface(x=x, y=y, z=z, colorscale=[[0, color], [1, color]], showscale=False)\n",
    "\n",
    "def cilindro(p1, p2, r=0.2, color='black'):\n",
    "    v = np.array(p2) - np.array(p1)\n",
    "    mag = np.linalg.norm(v)\n",
    "    v = v / mag\n",
    "    not_v = np.array([1, 0, 0]) if abs(v[0]) < 0.99 else np.array([0, 1, 0])\n",
    "    n1 = np.cross(v, not_v)\n",
    "    n1 /= np.linalg.norm(n1)\n",
    "    n2 = np.cross(v, n1)\n",
    "\n",
    "    t = np.linspace(0, 2 * np.pi, 20)\n",
    "    z = np.linspace(0, mag, 2)\n",
    "    t, z = np.meshgrid(t, z)\n",
    "\n",
    "    X, Y, Z = [p1[i] + v[i]*z + r*np.sin(t)*n1[i] + r*np.cos(t)*n2[i] for i in range(3)]\n",
    "\n",
    "    return go.Surface(x=X, y=Y, z=Z, colorscale=[[0, color], [1, color]], showscale=False)\n",
    "\n",
    "# Crear figuras\n",
    "fig = go.Figure()\n",
    "\n",
    "# Cuerpo segmentado del escorpión\n",
    "for i in range(6):\n",
    "    fig.add_trace(esfera(x0=i, y0=0, z0=0, r=0.5, color='brown'))\n",
    "\n",
    "# Pinzas\n",
    "fig.add_trace(cilindro(p1=[0, 0, 0], p2=[-1, 1, 0], r=0.1, color='gray'))\n",
    "fig.add_trace(esfera(-1.3, 1.3, 0, r=0.2, color='black'))\n",
    "\n",
    "fig.add_trace(cilindro(p1=[0, 0, 0], p2=[-1, -1, 0], r=0.1, color='gray'))\n",
    "fig.add_trace(esfera(-1.3, -1.3, 0, r=0.2, color='black'))\n",
    "\n",
    "# Cola articulada\n",
    "for j in range(6, 10):\n",
    "    fig.add_trace(esfera(x0=j, y0=0, z0=0.3*(j-5)**2, r=0.3, color='brown'))\n",
    "\n",
    "# Aguijón\n",
    "fig.add_trace(esfera(x0=10, y0=0, z0=7.5, r=0.2, color='black'))\n",
    "\n",
    "# Configuración del gráfico\n",
    "fig.update_layout(\n",
    "    title='Modelo 3D simple de un escorpión',\n",
    "    scene=dict(\n",
    "        xaxis=dict(visible=False),\n",
    "        yaxis=dict(visible=False),\n",
    "        zaxis=dict(visible=False),\n",
    "        aspectratio=dict(x=2, y=1, z=1)\n",
    "    ),\n",
    "    showlegend=False\n",
    ")\n",
    "\n",
    "fig.show()\n",
    "\n"
   ]
  },
  {
   "cell_type": "markdown",
   "id": "9b5773de",
   "metadata": {},
   "source": [
    "\n",
    "---\n",
    "\n",
    "## 🔍 ¿Qué representa este modelo?\n",
    "\n",
    "- **Cuerpo**: 6 esferas (tórax y abdomen segmentado).\n",
    "- **Pinzas**: cilindros y esferas para las garras.\n",
    "- **Cola**: esferas dispuestas en una curva ascendente.\n",
    "- **Aguijón**: última esfera negra al final de la cola.\n",
    "\n",
    "---\n",
    "\n",
    "## 🎒 Usos en clase\n",
    "\n",
    "Este tipo de modelo se puede usar para:\n",
    "- Fomentar la **visualización espacial y geométrica** en primaria o secundaria.\n",
    "- Integrar **biología con programación** en cursos interdisciplinares.\n",
    "- Hablar de **segmentación corporal y simetría bilateral**.\n",
    "- Introducir el uso de `plotly` para modelado 3D simple.\n",
    "\n",
    "---\n",
    "\n",
    "¿Quieres que le agreguemos patas, movimiento con `ipywidgets`, o una animación? 😄"
   ]
  },
  {
   "cell_type": "markdown",
   "id": "239427f7",
   "metadata": {},
   "source": [
    "# ARTÍCULO 1. Definir el calendario académico para los diferentes programas de pregrado de los campus\n",
    "regionalizados, correspondiente al primer periodo académico del año 2025, así:\n",
    "* Oferta 28 de enero de 2025\n",
    "* Matrícula 30 de enero de 2025\n",
    "* Ajustes 03 al 10 de febrero de 2025\n",
    "* Inicio de clases 10 de febrero de 2025\n",
    "* Límite evaluación del 40% 06 de abril de 2025\n",
    "* Terminación de clases 08 de junio de 2025\n",
    "* Exámenes finales 09 al 15 de junio de 2025\n",
    "* Habilitación y validación 16 al 22 de junio de 2025\n",
    "* Terminación oficial 23 de junio de 2025"
   ]
  },
  {
   "cell_type": "markdown",
   "id": "8ba64aed",
   "metadata": {},
   "source": [
    "# Cursos que orienta el profesor Marco Julio Cañas Campillo en 2025  \n",
    "\n",
    "1. Práctica Pedagógica V para Licenciatura en Educación Infantil\n",
    "2. Fundamentos de Lógica para Licenciatura en Matemáticas \n",
    "3. Análisis Numérico para Licenciatura en Matemáticas. \n",
    "4. Cálculo Vectorial para Ingeniería Agropecuaria"
   ]
  },
  {
   "cell_type": "markdown",
   "id": "8d41fe58",
   "metadata": {
    "slideshow": {
     "slide_type": "slide"
    }
   },
   "source": [
    "# Horario de clases del profesor Marco\n",
    "\n",
    "* Lunes 8-12: Cálculo Vectorial\n",
    "* Martes 8-12 M: Fundamentos de Aritmética. \n",
    "* Miércoles 8 a 12 M: Fundamentos de la Lógica\n",
    "* Jueves 2 a 6 PM: Desarrollo del pensamiento matemático en la infancia. \n",
    "* Viernes 8 - 12 M: Desarrollo del pensamiento matemático en la infancia. \n",
    "* Sábados 8-12 Asesorías y espacio para retroalimentación y apoyo al trabajo independiente. "
   ]
  },
  {
   "cell_type": "markdown",
   "id": "ae114e14",
   "metadata": {
    "slideshow": {
     "slide_type": "slide"
    }
   },
   "source": [
    "# Horarios de monitoría y asesoría  \n",
    "\n",
    "Coordinador de los cursos de la Facultad de Educación para regiones:    \n",
    "\n",
    "Andrés Vélez: regioneducacion.fedu@udea.edu.co  \n",
    "Coordinador Regiones  \n",
    "Facultad de Educación  \n",
    "Universidad de Antioquia  "
   ]
  },
  {
   "cell_type": "markdown",
   "id": "b1db4b6c",
   "metadata": {
    "slideshow": {
     "slide_type": "slide"
    }
   },
   "source": [
    "## Monitores  \n",
    "* Manuel San Juan Serrano: Contactar escribiendo al correo: manuel.serrano1@udea.edu.co\n",
    "* Yaifry Uribe: yeifry.uribe@udea.edu.co"
   ]
  },
  {
   "cell_type": "markdown",
   "id": "39559692",
   "metadata": {
    "slideshow": {
     "slide_type": "slide"
    }
   },
   "source": [
    "Martes y jueves de 8 - 12  \n",
    "Miércoles 10 - 12 y de 2 a 4 PM  \n",
    "Sábado: 8 - 12"
   ]
  },
  {
   "cell_type": "markdown",
   "id": "10bce0d0",
   "metadata": {
    "slideshow": {
     "slide_type": "slide"
    }
   },
   "source": [
    "## Referentes "
   ]
  },
  {
   "cell_type": "markdown",
   "id": "1db3c468",
   "metadata": {
    "slideshow": {
     "slide_type": "slide"
    }
   },
   "source": [
    "* [Cómo enseñar matemáticas con calculadora Casio LA991 cw](chrome-extension://efaidnbmnnnibpcajpcglclefindmkaj/https://bibliotecadigital.udea.edu.co/bitstream/10495/32857/4/ParraZapata_2024_DesarrolloPensamientoMatematico2aed_versionweb.pdf)  \n",
    "\n",
    "* [CALCULO I DE UNA VARIABLE Ron Larson-Bruce Edwards. Mc Graw Hill. 9º Edición](https://www.academia.edu/42139251/CALCULO_I_DE_UNA_VARIABLE_Ron_Larson_Bruce_Edwards_Mc_Graw_Hill_9o_Edici%C3%B3n)   \n",
    "  \n",
    "\n",
    "* [Grajales Vanegas, L. M., Restrepo Estrada, C. E., Restrepo Ochoa, S. I., & Ruíz De Villalba, F. (2015). Matemáticas I para las ciencias económicas.](https://bibliotecadigital.udea.edu.co/handle/10495/3010)\n",
    "  \n",
    "* R. Duval y Semiosis y pensamiento humano, 2.ª ed. Cali, Colombia: Programa Editorial Universidad del Valle, 2017. [En línea]. Disponible en: https://programaeditorial.univalle.edu.co/gpd-semiosis-y-pensamiento-humano-9789587655278-63324cdb0f6b3.html\n",
    "\n",
    "* [Aylwin, C. U. (2011). Lógica, conjuntos y números. Universidad de los Andes, Consejo de Publicaciones, Colección: Ciencias Básicas, Serie: Matemáticas.](chrome-extension://efaidnbmnnnibpcajpcglclefindmkaj/https://www.u-cursos.cl/ciencias/2011/1/MC110/1/material_docente/bajar?id_material=574722)\n",
    "  \n",
    "* [Recomendación de la UNESCO sobre ciencia abierta](https://unesdoc.unesco.org/ark:/48223/pf0000379949_spa)\n",
    "\n",
    "* [chatGPT](https://openai.com/blog/chatgpt)  \n",
    "* \n",
    "\n",
    "* [Géron, A. (2017). Hands-on machine learning with scikit-learn and tensorflow: Concepts. Tools, and Techniques to build intelligent systems.](chrome-extension://efaidnbmnnnibpcajpcglclefindmkaj/http://14.139.161.31/OddSem-0822-1122/Hands-On_Machine_Learning_with_Scikit-Learn-Keras-and-TensorFlow-2nd-Edition-Aurelien-Geron.pdf)   \n"
   ]
  },
  {
   "cell_type": "markdown",
   "id": "df925560",
   "metadata": {},
   "source": [
    "\n",
    "* [McKinney, W. (2012). Python for data analysis: Data wrangling with Pandas, NumPy, and IPython. \" O'Reilly Media, Inc.\".](https://wesmckinney.com/book/) "
   ]
  },
  {
   "cell_type": "markdown",
   "id": "8e65d6f9",
   "metadata": {},
   "source": [
    "# Como estudiante, encuentro que...   \n",
    "\n",
    "F: Mis Fortalezas son:     \n",
    "O: Mis Oportunidades son:    \n",
    "D: Mis Debilidades son:    \n",
    "A: Lo que Amenazas mi aprendizaje es:  "
   ]
  },
  {
   "cell_type": "markdown",
   "id": "6b9e56a8",
   "metadata": {
    "slideshow": {
     "slide_type": "slide"
    }
   },
   "source": [
    "### [Evaluamos al profesor Marco Cañas Aquí](https://forms.office.com/Pages/ResponsePage.aspx?id=IefhmYRxjkmK_7KtTlPBwkanXIs1i1FEujpsZgO6dXpUREJPV1kxUk1JV1ozTFJIQVNIQjY5WEY3US4u)"
   ]
  },
  {
   "cell_type": "markdown",
   "id": "10f43536",
   "metadata": {
    "slideshow": {
     "slide_type": "slide"
    }
   },
   "source": [
    "### Continue su aprendizaje en la siguiente clase a través del siguiente [vínculo]()"
   ]
  },
  {
   "cell_type": "markdown",
   "id": "53cc9115",
   "metadata": {
    "slideshow": {
     "slide_type": "slide"
    }
   },
   "source": [
    "## Agradecimientos  \n",
    "\n",
    "Doy gracias a Dios por la vida de mi Hijo Joseph Cañas Osorio y la madurez que ha alcanzado. Este hijo me enorgullece y me hace falta abrazarlo cada día. \n",
    "\n",
    "Y a mi esposa Yasmira Emperatriz Barboza Mogollón por su apoyo, orientación y acompañamiento. "
   ]
  },
  {
   "cell_type": "markdown",
   "id": "b6ba1c23",
   "metadata": {},
   "source": [
    "# Apéndice sobre calendarios y coordinaciones \n",
    "\n",
    "A continuación le envío el horario de la asignatura Cálculo Vectorial  \n",
    "\n",
    "Días:  \n",
    "Lunes - Hora: 7:00 a 12:00M  \n",
    "Fechas:  \n",
    "Febrero: 10-17-24                                          \n",
    " Marzo: 3-10-17-31                                                  \n",
    "Abril:7-21-28                                                   \n",
    "Mayo:5-12-19  \n",
    "\n",
    "Agradezco su apoyo, y si presenta alguna dificultad puede contactarme.  \n",
    "\n",
    "Cordialmente,  \n",
    "Juan Felipe Rivera Hernández  \n",
    "Contacto: 3106314300  "
   ]
  },
  {
   "cell_type": "markdown",
   "id": "0e66cd7c",
   "metadata": {},
   "source": [
    "# Clase de análisis numérico los Martes de 8 a 12 del medio día. "
   ]
  },
  {
   "cell_type": "markdown",
   "id": "c5ff61b1",
   "metadata": {},
   "source": []
  }
 ],
 "metadata": {
  "celltoolbar": "Slideshow",
  "kernelspec": {
   "display_name": ".venv",
   "language": "python",
   "name": "python3"
  },
  "language_info": {
   "codemirror_mode": {
    "name": "ipython",
    "version": 3
   },
   "file_extension": ".py",
   "mimetype": "text/x-python",
   "name": "python",
   "nbconvert_exporter": "python",
   "pygments_lexer": "ipython3",
   "version": "3.12.6"
  },
  "rise": {
   "enable_chalkboard": true,
   "theme": "sky",
   "transition": "zoom"
  }
 },
 "nbformat": 4,
 "nbformat_minor": 5
}
