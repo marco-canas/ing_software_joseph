{
 "cells": [
  {
   "cell_type": "markdown",
   "id": "dc06dec7",
   "metadata": {
    "slideshow": {
     "slide_type": "slide"
    }
   },
   "source": [
    "<table align=\"left\">\n",
    "  <td>\n",
    "    <a href=\"https://colab.research.google.com/github/ageron/handson-ml3/blob/main/tools_numpy.ipynb\" target=\"_parent\"><img src=\"https://colab.research.google.com/assets/colab-badge.svg\" alt=\"Open In Colab\"/></a>\n",
    "  </td>\n",
    "  <td>\n",
    "    <a target=\"_blank\" href=\"https://kaggle.com/kernels/welcome?src=https://github.com/ageron/handson-ml3/blob/main/tools_numpy.ipynb\"><img src=\"https://kaggle.com/static/images/open-in-kaggle.svg\" /></a>\n",
    "  </td>\n",
    "</table>"
   ]
  },
  {
   "cell_type": "markdown",
   "id": "e0c5b198",
   "metadata": {
    "slideshow": {
     "slide_type": "slide"
    }
   },
   "source": [
    "### [Video de apoyo a la lectura interactiva y experimental de este cuaderno]()"
   ]
  },
  {
   "cell_type": "markdown",
   "id": "41e82203",
   "metadata": {
    "slideshow": {
     "slide_type": "slide"
    }
   },
   "source": [
    "### [Vínculo al programa del curso:  ]()\n",
    "\n"
   ]
  },
  {
   "cell_type": "markdown",
   "id": "d11ab06d",
   "metadata": {
    "slideshow": {
     "slide_type": "slide"
    }
   },
   "source": [
    "Un reconocimiento a mis estudiantes que han construido conmigo este saber pedagógico:\n",
    "\n",
    "<img src = ''> \n",
    "\n"
   ]
  },
  {
   "cell_type": "markdown",
   "id": "8a74a56c-0ce6-4ad6-b985-553fd7fb68bb",
   "metadata": {},
   "source": [
    "Reconocimiento a las profesoras destacadas en enseñanza de la matemática en Colombia\n"
   ]
  },
  {
   "cell_type": "markdown",
   "id": "d7598d0a-d9b7-4ae0-b029-a0ed6ed1130b",
   "metadata": {},
   "source": [
    "\n",
    "# Principios de mi labor docente"
   ]
  },
  {
   "cell_type": "markdown",
   "id": "4f9d8cf9",
   "metadata": {
    "slideshow": {
     "slide_type": "slide"
    }
   },
   "source": [
    "## Modelo general de clase: [aula invertida](https://www3.gobiernodecanarias.org/medusa/ecoescuela/pedagotic/aprendizaje-invertido-flipped-classroom/)"
   ]
  },
  {
   "cell_type": "markdown",
   "id": "eb6ed03a",
   "metadata": {},
   "source": [
    "<img src = 'https://resources.maneuveringthemiddle.com/wp-content/uploads/2020/07/04212706/1-5.png' width = 200>  \n",
    "\n"
   ]
  },
  {
   "cell_type": "markdown",
   "id": "34319cce-a71b-4f64-aab8-b53e521efa40",
   "metadata": {},
   "source": [
    "# Metodología de enseñanza que busca el Aprendizaje Basada en Problemas y Proyectos (ABPP)\n"
   ]
  },
  {
   "cell_type": "markdown",
   "id": "c4f73d81",
   "metadata": {},
   "source": [
    "\n",
    "<img src = 'https://www.unir.net/wp-content/uploads/2020/07/aprendizaje-problemas2-1-1-1-1.jpeg' width = 200>"
   ]
  },
  {
   "cell_type": "markdown",
   "id": "96775931",
   "metadata": {
    "slideshow": {
     "slide_type": "slide"
    }
   },
   "source": [
    "# Título de la clase: Coordenadas polares como preparación a la prueba estandarizada ICFES en Colombia\n",
    "\n"
   ]
  },
  {
   "cell_type": "markdown",
   "id": "10e55ccf",
   "metadata": {},
   "source": [
    "# Estructura general para todas las clases  \n",
    "\n",
    "Dame, por favor, un diseño de clase, con el enfoque: \"Aula Invertida, STEAMS y De aprendizaje basado en problemas y proyectos(ABPP)\" sobre: \"Coordenadas polares como preparación a la prueba estandarizada ICFES en Colombia\", siguiendo la estructura:  \n",
    "\n",
    "1. Título de la clase \n",
    "2. Objetivos de aprendizaje que incluyan los indicadores del logro de estos objetivos.\n",
    "3. Un mapa conceptual que resuma la clase elaborado en Graphviz de Python con nodos y edges de diferentes formas, colores y rellenos y renderizado en la siguiente ubicación: `\"C:/Users/marco/Downloads\"`. No olvides el parámetro `view = True` para el método `render()` de Graphviz. Para este mapa controla las superposiciones de los nodos con: graph [overlap=false]; // Elimina superposiciones (puede aumentar el espacio)\n",
    "graph [overlap=\"scalexy\"]; // Escala el gráfico para evitar overlaps\n",
    "graph [overlap=\"compress\"]; // Comprime el grafo sin overlaps   \n",
    "\n",
    "4. Elementos históricos y epistemológicos relevantes para la clase pero contados como un cuento al estilo de un cuentero antioqueño en Colombia. Incluye imágenes de los protagonistas históricos de esta clase. . \n",
    "5. Contenido de la clase. Que el contenido parta de una situación real para llegar a una constitución del modelo matemático que represente tal situación real. \n",
    "6. Actividades de aprendizaje\n",
    "7. Incluye una canción o un poema que ayude a interiorizar y fijar los conceptos asociados a esta clase. \n",
    "8. Tarea o actividades de ejercitación y fijación\n",
    "9. Evaluación incluyendo diez proyectos, un ejemplo de quiz (de tres preguntas) y un ejemplo de parcial (de cinco puntos)\n",
    "10. Diseño de actividad de retroalimentación. \n",
    "11. Dame un vocabulario y frases del idioma inglés asociadas a esta clase.   \n",
    "12. Incluye apéndice para la clase sobre desarrollo de habilidades para trabajar en equipo y de asertividad y empatía para relacionarnos. También elementos de la inteligencia emocional para presentar pruebas sin temor y sin realizar fraude en ellas. \n",
    "13. Incluye 10 referentes en didáctica de la matemática que estén de acuerdo a la propuesta didáctica de esta clase. Adiciona a estos referentes a Raymond Duval (Representaciones y cambios de representación para la adquisición de conceptos matemáticos) y a Jeannette Wing (Desarrollo del pensamiento computacional). Déjame todos estos referentes ordenados de acuerdo a las normas APA. Déjame todos estos referentes ordenados de acuerdo a las normas APA. Incluye las citaciones a estos referentes a medida que vallas diseñando la clase.   \n",
    "    \n",
    "\n",
    "Pero  que este diseño sea para que el estudiante pueda aprender experimentando en cuadernos Jupyter con funciones de usuario y animaciones y visualizaciones en Python. En particular utiliza para el diseño de clase a NumPy, Pandas, SymPy, Matplotlib.pyplot, Seaborn, Plotly, ipywidgets, matplotlib.animation y Jupyter Notebook.  Cada vez que utilice `matplotlib.animacion` no olvides incluir el uso de `IPython. display` para la renderización de estas animaciones a través de Jupyter Notebook. No olvides darme los diseños de clase con las ecuaciones matemáticas delimitadas con signo de dólar $ para que VS Code si me renderice estas expresiones del lenguaje latex. Cuando vallas a utilizar ipywidgets ten en cuenta la siguiente importación inicial para garantizar que la visualización interactiva si se renderice en VS Code:                                                                   \n",
    "import numpy as np\n",
    "import matplotlib.pyplot as plt\n",
    "import ipywidgets as widgets\n",
    "from IPython.display import display, clear_output\n",
    "from matplotlib.patches import Rectangle\n",
    "\n",
    "# Configuración inicial para visualización estática\n",
    "%matplotlib inline"
   ]
  },
  {
   "cell_type": "code",
   "execution_count": 1,
   "id": "81235e9f",
   "metadata": {},
   "outputs": [],
   "source": [
    "path_image = r'C:/Users/marco/Downloads'\n",
    "def save_fig(nombre_archivo_imagen):\n",
    "    import os \n",
    "    import matplotlib.pyplot as plt \n",
    "    imagen_path = os.path.join(path_image, nombre_archivo_imagen)\n",
    "    plt.savefig(imagen_path, bbox_inches='tight')"
   ]
  },
  {
   "cell_type": "code",
   "execution_count": 3,
   "id": "68e014b2",
   "metadata": {},
   "outputs": [
    {
     "data": {
      "text/plain": [
       "'C:\\\\Users\\\\marco\\\\Downloads\\\\mapa_conceptual_coordenadas_polares.png'"
      ]
     },
     "execution_count": 3,
     "metadata": {},
     "output_type": "execute_result"
    }
   ],
   "source": [
    "from graphviz import Digraph\n",
    "\n",
    "# Crear el mapa conceptual con Graphviz\n",
    "dot = Digraph(comment='Mapa Conceptual: Coordenadas Polares', format='png', directory='C:/Users/marco/Downloads')\n",
    "dot.attr(overlap='compress')  # Comprime el grafo sin overlaps\n",
    "\n",
    "# Estilos\n",
    "dot.attr('node', style='filled', shape='box', color='lightblue', fontname='Arial')\n",
    "dot.node('A', 'Coordenadas Polares')\n",
    "dot.node('B', 'Representación (r, θ)', color='lightgreen', shape='ellipse')\n",
    "dot.node('C', 'Conversión a Cartesianas', color='lightyellow')\n",
    "dot.node('D', 'Conversión desde Cartesianas', color='lightyellow')\n",
    "dot.node('E', 'Ubicación por Cuadrantes', color='orange')\n",
    "dot.node('F', 'Aplicaciones en la vida real', color='pink')\n",
    "dot.node('G', 'Modelado Matemático', color='lightcoral', shape='diamond')\n",
    "dot.node('H', 'Simulaciones en Python', color='violet', shape='parallelogram')\n",
    "dot.node('I', 'Preparación Prueba ICFES', color='gray', shape='octagon')\n",
    "\n",
    "# Relaciones\n",
    "dot.edges([('A', 'B'), ('B', 'C'), ('B', 'D'), ('B', 'E'), ('E', 'F'), ('F', 'G'), ('G', 'H'), ('H', 'I')])\n",
    "\n",
    "# Renderizar\n",
    "dot.render('mapa_conceptual_coordenadas_polares', view=True, directory='C:/Users/marco/Downloads')\n"
   ]
  },
  {
   "cell_type": "markdown",
   "id": "bb8414eb",
   "metadata": {},
   "source": [
    "\n",
    "# 5. **Contenido de la clase**\n"
   ]
  },
  {
   "cell_type": "markdown",
   "id": "458aba3e",
   "metadata": {},
   "source": [
    "\n",
    "### 💡 **Situación real: Drones en búsqueda y rescate**\n",
    "\n",
    "En Caucasia, un grupo de jóvenes está diseñando un sistema de drones para hacer búsqueda y rescate en zonas inundadas. Para planear las trayectorias de vuelo, necesitan representar puntos de interés (víctimas, árboles, obstáculos) y rutas circulares. Aquí es donde las **coordenadas polares** permiten modelar **trayectorias circulares y espirales** de forma natural y precisa.\n",
    "\n",
    "---\n"
   ]
  },
  {
   "cell_type": "markdown",
   "id": "109cafee",
   "metadata": {},
   "source": [
    "\n",
    "### 🔢 **Modelo matemático: Coordenadas polares**\n"
   ]
  },
  {
   "cell_type": "markdown",
   "id": "a6cb8c20",
   "metadata": {},
   "source": [
    "\n",
    "Para representar un punto $P$ en coordenadas polares usamos el par ordenado $(r, \\theta)$:\n",
    "\n",
    "- $r$: distancia desde el origen\n",
    "- $\\theta$: ángulo desde el eje positivo $x$\n"
   ]
  },
  {
   "cell_type": "markdown",
   "id": "56c51296",
   "metadata": {},
   "source": [
    "\n",
    "Las relaciones entre coordenadas cartesianas y polares son:\n",
    "\n",
    "$$\n",
    "x = r \\cos(\\theta) \\quad y = r \\sin(\\theta)\n",
    "$$\n",
    "\n",
    "$$\n",
    "r = \\sqrt{x^2 + y^2} \\quad \\theta = \\arctan\\left(\\frac{y}{x}\\right)\n",
    "$$\n",
    "\n",
    "---\n"
   ]
  },
  {
   "cell_type": "markdown",
   "id": "80eb76cb",
   "metadata": {},
   "source": [
    "\n",
    "## 6. **Actividades de aprendizaje**\n",
    "\n",
    "Con enfoque de **Aula Invertida + ABPP + STEAMS**, cada estudiante trabaja en:\n",
    "\n",
    "- 📺 **Antes de clase**:  \n",
    "  - Ver video sobre coordenadas polares (hosteado en canal DiMathData)\n",
    "  - Leer guía interactiva en GitHub con ejemplos en Jupyter Notebook\n",
    "\n",
    "- 🧠 **Durante la clase (presencial o virtual):**  \n",
    "  - Taller en Jupyter para crear una función en Python que grafique puntos polares\n",
    "  - Crear una visualización con `matplotlib` y `ipywidgets` de una espiral\n",
    "  - Simular trayectorias con `matplotlib.animation` + `IPython.display`\n",
    "\n",
    "- 🛠️ **Después de clase**:\n",
    "  - Resolver reto de modelar la ruta de un dron que escanea en espiral una zona inundada\n",
    "\n",
    "---\n",
    "\n",
    "## 7. **Canción / poema**\n",
    "\n",
    "🎵 *Poema tipo rap matemático: “Polar me transformó”*\n",
    "\n",
    "> En el plano polar me encontré,  \n",
    "> con un ángulo que giré.  \n",
    "> Ya no pienso en x ni en y,  \n",
    "> ahora es $r$ y $\\theta$, ¿lo ve'?  \n",
    "> Si quiero girar o avanzar,  \n",
    "> con seno y coseno voy a llegar.  \n",
    "> ¡Matemáticas en acción!  \n",
    "> ¡Polar me dio la solución!\n",
    "\n",
    "---\n",
    "\n",
    "## 8. **Tarea o ejercicios de fijación**\n",
    "\n",
    "🔢 **Ejercicios tipo notebook interactivo**\n",
    "\n",
    "- Crear una función en Python que convierta $(r, \\theta)$ a $(x, y)$\n",
    "- Usar `ipywidgets` para cambiar $r$ y $\\theta$ y ver el punto en el plano\n",
    "- Dibujar trayectorias en espiral: $r(\\theta) = a + b\\theta$\n",
    "- Resolver 5 ejercicios tipo ICFES (como los que ya pediste antes)\n",
    "\n",
    "---\n",
    "\n",
    "## 9. **Evaluación**\n",
    "\n",
    "### 🔬 **Diez ideas de proyectos cortos**\n",
    "\n",
    "1. Trayectoria de un ventilador\n",
    "2. Movimiento de un dron circular\n",
    "3. Ruta de un robot limpiador\n",
    "4. Simulación de satélites\n",
    "5. Visualización artística con ecuaciones polares (cardioide, rosa polar)\n",
    "6. Cálculo de áreas en polar con SymPy\n",
    "7. Sistema de localización por radio\n",
    "8. Descripción de constelaciones en coordenadas polares\n",
    "9. Simulación de radar\n",
    "10. Diseño de un sistema de vigilancia en 360°\n",
    "\n",
    "---\n",
    "\n",
    "### ✍️ **Ejemplo de quiz (3 preguntas)**\n",
    "\n",
    "1. ¿Cuál es la representación en coordenadas cartesianas del punto $(4, \\frac{\\pi}{3})$?\n",
    "2. ¿Qué valor de $r$ se obtiene para el punto $(x=3, y=4)$?\n",
    "3. Diga si el punto $(r=-2, \\theta=\\frac{5\\pi}{6})$ está en el mismo lugar que algún punto con $r>0$\n",
    "\n",
    "---\n",
    "\n",
    "### 🧪 **Ejemplo de parcial (5 preguntas)**\n",
    "\n",
    "1. Explique con un dibujo cómo se representa un punto en coordenadas polares.\n",
    "2. Escriba la fórmula de conversión de $(r, \\theta)$ a $(x, y)$ y viceversa.\n",
    "3. Programe en Python una función que haga esta conversión.\n",
    "4. Grafique $r(\\theta) = 2 + \\cos(3\\theta)$ para $\\theta \\in [0, 2\\pi]$\n",
    "5. Interprete el resultado de esta curva en un contexto real.\n",
    "\n",
    "---\n",
    "\n",
    "## 10. **Diseño de actividad de retroalimentación**\n",
    "\n",
    "- En Jupyter, los estudiantes revisan un notebook de otro compañero (código y gráfica).\n",
    "- Usan casillas tipo checklist para dar retroalimentación empática.\n",
    "- Profesor guía con rubrica de calidad: claridad, funcionalidad, visualización y contexto aplicado.\n",
    "\n",
    "---\n",
    "\n",
    "## 11. **Vocabulario y frases en inglés**\n",
    "\n",
    "| Español | Inglés |\n",
    "|---------|--------|\n",
    "| Coordenadas polares | Polar coordinates |\n",
    "| Ángulo | Angle |\n",
    "| Distancia desde el origen | Distance from the origin |\n",
    "| Conversión | Conversion |\n",
    "| Visualización | Visualization |\n",
    "| Trayectoria circular | Circular path |\n",
    "| Función en Python | Python function |\n",
    "| Representación gráfica | Graphical representation |\n",
    "\n",
    "📘 **Frases útiles:**\n",
    "- \"Let's convert polar coordinates to Cartesian ones.\"\n",
    "- \"This function visualizes a spiral using matplotlib.\"\n",
    "- \"Adjust the angle using this interactive widget.\"\n",
    "\n",
    "---\n",
    "\n",
    "## 12. **Apéndice: Trabajo en equipo, empatía, inteligencia emocional**\n",
    "\n",
    "🧠 **Actividades para trabajo en equipo y empatía**\n",
    "\n",
    "- Dinámica “¡Construyamos juntos una espiral!” en grupos, donde cada uno programa una parte\n",
    "- Diario emocional antes del ICFES: “¿Cómo me siento hoy frente a la prueba?”\n",
    "- Juego de roles: “Apoyo a mi compañero cuando se bloquea”\n",
    "\n",
    "😌 **Inteligencia emocional**\n",
    "\n",
    "- Estrategias de respiración antes de la evaluación\n",
    "- Charlas breves sobre ética y honestidad académica\n",
    "- Espacios seguros para expresar miedos y preocupaciones\n",
    "\n",
    "---\n",
    "\n",
    "## 13. **Referentes en didáctica de la matemática (Normas APA)**\n",
    "\n",
    "- Duval, R. (1999). *Semiosis y pensamiento humano: registros semióticos y aprendizajes intelectuales*. Bogotá: Universidad Distrital Francisco José de Caldas.\n",
    "- Wing, J. M. (2006). *Computational thinking*. Communications of the ACM, 49(3), 33–35.\n",
    "- Brousseau, G. (1997). *Theory of didactical situations in mathematics*. Springer.\n",
    "- Godino, J. D., Batanero, C., & Font, V. (2007). *Fundamentos de la enseñanza y el aprendizaje de las matemáticas*. Granada: Universidad de Granada.\n",
    "- Chevallard, Y. (1985). *La transposición didáctica: Del saber sabio al saber enseñado*. Aique.\n",
    "- Vergnaud, G. (1990). *La teoría de los campos conceptuales*. Recherches en Didactique des Mathématiques, 10(2/3), 133–170.\n",
    "- Sfard, A. (1991). *On the dual nature of mathematical conceptions: Reflections on processes and objects as different sides of the same coin*. Educational Studies in Mathematics, 22(1), 1–36.\n",
    "- Niss, M. (2007). *Reflections on the state of and trends in research on mathematics teaching and learning*. In Lester, F. (Ed.), *Second Handbook of Research on Mathematics Teaching and Learning*.\n",
    "- Artigue, M. (2009). *Didactical design in mathematics education*. Nordic Studies in Mathematics Education, 14(1), 7–16.\n",
    "- Schoenfeld, A. H. (1992). *Learning to think mathematically: Problem solving, metacognition, and sense-making in mathematics*. In Grouws, D. A. (Ed.), *Handbook of research on mathematics teaching and learning*.\n",
    "\n",
    "---\n",
    "\n",
    "¿Te gustaría que prepare este diseño completo como un archivo Markdown o `.ipynb` (notebook de Jupyter) para que lo puedas usar directamente en tus clases o subirlo a GitHub?"
   ]
  },
  {
   "cell_type": "markdown",
   "id": "f11b8e3c",
   "metadata": {},
   "source": [
    "# Actividad de aprendizaje    \n",
    "\n",
    "Claro, Marco Julio. Aquí tienes **10 ejercicios tipo ICFES sobre coordenadas polares**, diseñados para ajustarse al **nivel y estilo del ICFES colombiano**, con opciones tipo múltiple con única respuesta, y orientados a medir comprensión conceptual, interpretación gráfica, y conversión entre coordenadas polares y cartesianas.\n",
    "\n",
    "---\n",
    "\n",
    "### 🔢 **EJERCICIOS TIPO ICFES – COORDENADAS POLARES**\n",
    "\n",
    "---\n",
    "\n",
    "#### **1. Una coordenada polar está dada por (r, θ) = (4, 60°). ¿Cuál es su representación aproximada en coordenadas cartesianas (x, y)?**\n",
    "\n",
    "A. (2, 2√3)  \n",
    "B. (4, 3)  \n",
    "C. (2√3, 2)  \n",
    "D. (4, √3)\n",
    "\n",
    "---\n",
    "\n",
    "#### **2. ¿Cuál de las siguientes afirmaciones es VERDADERA sobre las coordenadas polares?**\n",
    "\n",
    "A. La distancia \\( r \\) siempre debe ser negativa.  \n",
    "B. El ángulo \\( \\theta \\) solo puede expresarse en grados.  \n",
    "C. Un mismo punto puede tener múltiples representaciones en coordenadas polares.  \n",
    "D. Las coordenadas polares solo funcionan en el plano cartesiano positivo.\n",
    "\n",
    "---\n",
    "\n",
    "#### **3. ¿Cuál de los siguientes puntos en coordenadas polares se encuentra en el segundo cuadrante del plano?**\n",
    "\n",
    "A. (2, 30°)  \n",
    "B. (3, 120°)  \n",
    "C. (4, 315°)  \n",
    "D. (5, –60°)\n",
    "\n",
    "---\n",
    "\n",
    "#### **4. Si un punto tiene coordenadas polares (r, θ) = (5, 225°), ¿cuál es su ubicación en el plano cartesiano?**\n",
    "\n",
    "A. Primer cuadrante  \n",
    "B. Segundo cuadrante  \n",
    "C. Tercer cuadrante  \n",
    "D. Cuarto cuadrante\n",
    "\n",
    "---\n",
    "\n",
    "#### **5. ¿Cuál de los siguientes puntos polares representa el origen del plano?**\n",
    "\n",
    "A. (0, 30°)  \n",
    "B. (1, 0°)  \n",
    "C. (1, 90°)  \n",
    "D. (0, 90°)\n",
    "\n",
    "---\n",
    "\n",
    "#### **6. ¿Cuál de las siguientes parejas (r, θ) representa el MISMO punto que (2, 30°)?**\n",
    "\n",
    "A. (2, 390°)  \n",
    "B. (2, –150°)  \n",
    "C. (–2, 210°)  \n",
    "D. Todas las anteriores\n",
    "\n",
    "---\n",
    "\n",
    "#### **7. ¿Cuál es la representación en coordenadas polares del punto (–√2, –√2)?**\n",
    "\n",
    "A. (2, 135°)  \n",
    "B. (2, –135°)  \n",
    "C. (2, 225°)  \n",
    "D. (√2, –45°)\n",
    "\n",
    "---\n",
    "\n",
    "#### **8. El gráfico de la ecuación polar $ r = 3 \\cos(\\theta) $ representa:**\n",
    "\n",
    "A. Una recta  \n",
    "B. Un círculo  \n",
    "C. Una parábola  \n",
    "D. Una espiral\n",
    "\n",
    "---\n"
   ]
  },
  {
   "cell_type": "markdown",
   "id": "0d300441",
   "metadata": {},
   "source": [
    "\n",
    "#### **9. En coordenadas polares, el punto (–3, 45°) se encuentra en:**\n",
    "\n",
    "A. Primer cuadrante  \n",
    "B. Segundo cuadrante  \n",
    "C. Tercer cuadrante  \n",
    "D. Cuarto cuadrante\n",
    "\n",
    "---\n"
   ]
  },
  {
   "cell_type": "code",
   "execution_count": 5,
   "id": "1cb007fa",
   "metadata": {},
   "outputs": [],
   "source": [
    "import numpy as np\n",
    "\n",
    "import matplotlib.pyplot as plt\n",
    "\n",
    "def plot_polar_point(r, theta_deg):\n",
    "    \"\"\"\n",
    "    Traza un punto en el plano polar dado (r, θ) con θ en grados sexagesimales.\n",
    "\n",
    "    Args:\n",
    "        r (float): Distancia radial.\n",
    "        theta_deg (float): Ángulo en grados sexagesimales.\n",
    "    \"\"\"\n",
    "    # Convertir el ángulo de grados a radianes\n",
    "    theta_rad = np.deg2rad(theta_deg)\n",
    "    \n",
    "    # Crear la figura y el eje polar\n",
    "    fig, ax = plt.subplots(subplot_kw={'projection': 'polar'})\n",
    "    \n",
    "    # Trazar el punto\n",
    "    ax.plot(theta_rad, r, 'ro', label=f'({r}, {theta_deg}°)')\n",
    "    \n",
    "    # Configurar el título y la leyenda\n",
    "    ax.set_title('Plano Polar', va='bottom')\n",
    "    ax.legend(loc='upper right')\n",
    "    \n",
    "    # Mostrar el gráfico\n",
    "    plt.show()\n"
   ]
  },
  {
   "cell_type": "code",
   "execution_count": 6,
   "id": "9bc4cc75",
   "metadata": {},
   "outputs": [
    {
     "data": {
      "image/png": "[encoded data removed]",
      "text/plain": [
       "<Figure size 640x480 with 1 Axes>"
      ]
     },
     "metadata": {},
     "output_type": "display_data"
    }
   ],
   "source": [
    "\n",
    "# Ejemplo de uso\n",
    "plot_polar_point(3, 45+180)"
   ]
  },
  {
   "cell_type": "markdown",
   "id": "9748562b",
   "metadata": {},
   "source": [
    "¡Claro, Marco Julio! El problema con tu función está en cómo `matplotlib` maneja los valores negativos de `r` en coordenadas polares: **no los refleja automáticamente** como lo harías matemáticamente, es decir, que $(r, \\theta)$ y $(-r, \\theta + \\pi)$ son el mismo punto en el plano.\n",
    "\n",
    "Entonces, para que la función grafique correctamente puntos con $r < 0$, debes **ajustar el ángulo sumándole π radianes** y convertir $r$ en positivo.\n",
    "\n",
    "Aquí te dejo la función corregida:\n",
    "\n",
    "```python\n",
    "import numpy as np\n",
    "import matplotlib.pyplot as plt\n",
    "\n",
    "def plot_polar_point(r, theta_deg):\n",
    "    \"\"\"\n",
    "    Traza un punto en el plano polar dado (r, θ) con θ en grados sexagesimales.\n",
    "    Si r es negativo, se ajusta el ángulo θ para reflejarlo correctamente.\n",
    "\n",
    "    Args:\n",
    "        r (float): Distancia radial.\n",
    "        theta_deg (float): Ángulo en grados sexagesimales.\n",
    "    \"\"\"\n",
    "    # Convertir el ángulo a radianes\n",
    "    theta_rad = np.deg2rad(theta_deg)\n",
    "\n",
    "    # Ajustar si r es negativo\n",
    "    if r < 0:\n",
    "        r = -r\n",
    "        theta_rad += np.pi  # rotación de 180 grados\n",
    "\n",
    "    # Crear la figura y el eje polar\n",
    "    fig, ax = plt.subplots(subplot_kw={'projection': 'polar'})\n",
    "\n",
    "    # Trazar el punto\n",
    "    ax.plot(theta_rad, r, 'ro', label=f'({r}, {theta_deg}° ajustado)')\n",
    "\n",
    "    # Configurar el título y la leyenda\n",
    "    ax.set_title('Plano Polar', va='bottom')\n",
    "    ax.legend(loc='upper right')\n",
    "\n",
    "    # Mostrar el gráfico\n",
    "    plt.show()\n",
    "```\n",
    "\n",
    "---\n",
    "\n",
    "### ✅ Ejemplo de uso:\n",
    "\n",
    "```python\n",
    "plot_polar_point(-2, 45)\n",
    "```\n",
    "\n",
    "Este trazará correctamente el punto que, en coordenadas cartesianas, sería equivalente a $(2, 225°)$.\n",
    "\n",
    "¿Te gustaría que esta función se convierta en un `ipywidget` interactivo también? Puedo ayudarte con eso."
   ]
  },
  {
   "cell_type": "markdown",
   "id": "e42bbb19",
   "metadata": {},
   "source": [
    "\n",
    "#### **10. ¿Qué transformación representa cambiar (r, θ) por (–r, θ + 180°)?**\n",
    "\n",
    "A. Reflejar respecto al eje Y  \n",
    "B. Reflejar respecto al origen  \n",
    "C. Rotar el punto 90°  \n",
    "D. No representa ningún cambio\n",
    "\n",
    "---\n",
    "\n",
    "¿Te gustaría que te envíe las **respuestas correctas**, o prefieres proponerlas a tus estudiantes como reto? También puedo ayudarte a hacerlas en formato PDF o LaTeX si las vas a usar en clase."
   ]
  },
  {
   "cell_type": "markdown",
   "id": "10bce0d0",
   "metadata": {
    "slideshow": {
     "slide_type": "slide"
    }
   },
   "source": [
    "## Referentes "
   ]
  },
  {
   "cell_type": "markdown",
   "id": "1db3c468",
   "metadata": {
    "slideshow": {
     "slide_type": "slide"
    }
   },
   "source": [
    "* [Cómo enseñar matemáticas con calculadora Casio LA991 cw](chrome-extension://efaidnbmnnnibpcajpcglclefindmkaj/https://bibliotecadigital.udea.edu.co/bitstream/10495/32857/4/ParraZapata_2024_DesarrolloPensamientoMatematico2aed_versionweb.pdf)  \n",
    "\n",
    "* [CALCULO I DE UNA VARIABLE Ron Larson-Bruce Edwards. Mc Graw Hill. 9º Edición](https://www.academia.edu/42139251/CALCULO_I_DE_UNA_VARIABLE_Ron_Larson_Bruce_Edwards_Mc_Graw_Hill_9o_Edici%C3%B3n)   \n",
    "  \n",
    "\n",
    "* [Grajales Vanegas, L. M., Restrepo Estrada, C. E., Restrepo Ochoa, S. I., & Ruíz De Villalba, F. (2015). Matemáticas I para las ciencias económicas.](https://bibliotecadigital.udea.edu.co/handle/10495/3010)\n",
    "  \n",
    "* R. Duval y Semiosis y pensamiento humano, 2.ª ed. Cali, Colombia: Programa Editorial Universidad del Valle, 2017. [En línea]. Disponible en: https://programaeditorial.univalle.edu.co/gpd-semiosis-y-pensamiento-humano-9789587655278-63324cdb0f6b3.html\n",
    "\n",
    "* [Aylwin, C. U. (2011). Lógica, conjuntos y números. Universidad de los Andes, Consejo de Publicaciones, Colección: Ciencias Básicas, Serie: Matemáticas.](chrome-extension://efaidnbmnnnibpcajpcglclefindmkaj/https://www.u-cursos.cl/ciencias/2011/1/MC110/1/material_docente/bajar?id_material=574722)\n",
    "  \n",
    "* [Recomendación de la UNESCO sobre ciencia abierta](https://unesdoc.unesco.org/ark:/48223/pf0000379949_spa)\n",
    "\n",
    "* [chatGPT](https://openai.com/blog/chatgpt)  \n",
    "* \n",
    "\n",
    "* [Géron, A. (2017). Hands-on machine learning with scikit-learn and tensorflow: Concepts. Tools, and Techniques to build intelligent systems.](chrome-extension://efaidnbmnnnibpcajpcglclefindmkaj/http://14.139.161.31/OddSem-0822-1122/Hands-On_Machine_Learning_with_Scikit-Learn-Keras-and-TensorFlow-2nd-Edition-Aurelien-Geron.pdf)   \n"
   ]
  },
  {
   "cell_type": "markdown",
   "id": "df925560",
   "metadata": {},
   "source": [
    "\n",
    "* [McKinney, W. (2012). Python for data analysis: Data wrangling with Pandas, NumPy, and IPython. \" O'Reilly Media, Inc.\".](https://wesmckinney.com/book/) "
   ]
  },
  {
   "cell_type": "markdown",
   "id": "8e65d6f9",
   "metadata": {},
   "source": [
    "# Como estudiante, encuentro que...   \n",
    "\n",
    "F: Mis Fortalezas son:     \n",
    "O: Mis Oportunidades son:    \n",
    "D: Mis Debilidades son:    \n",
    "A: Lo que Amenazas mi aprendizaje es:  "
   ]
  },
  {
   "cell_type": "markdown",
   "id": "6b9e56a8",
   "metadata": {
    "slideshow": {
     "slide_type": "slide"
    }
   },
   "source": [
    "### [Evaluamos al profesor Marco Cañas Aquí](https://forms.office.com/Pages/ResponsePage.aspx?id=IefhmYRxjkmK_7KtTlPBwkanXIs1i1FEujpsZgO6dXpUREJPV1kxUk1JV1ozTFJIQVNIQjY5WEY3US4u)"
   ]
  },
  {
   "cell_type": "markdown",
   "id": "10f43536",
   "metadata": {
    "slideshow": {
     "slide_type": "slide"
    }
   },
   "source": [
    "### Continue su aprendizaje en la siguiente clase a través del siguiente [vínculo]()"
   ]
  },
  {
   "cell_type": "markdown",
   "id": "53cc9115",
   "metadata": {
    "slideshow": {
     "slide_type": "slide"
    }
   },
   "source": [
    "## Agradecimientos  \n",
    "\n",
    "Doy gracias a Dios por la vida de mi Hijo Joseph Cañas Osorio y la madurez que ha alcanzado. Este hijo me enorgullece y me hace falta abrazarlo cada día. \n",
    "\n",
    "Y a mi esposa Yasmira Emperatriz Barboza Mogollón por su apoyo, orientación y acompañamiento. "
   ]
  },
  {
   "cell_type": "markdown",
   "id": "b6ba1c23",
   "metadata": {},
   "source": [
    "# Apéndice sobre calendarios y coordinaciones \n",
    "\n",
    "A continuación le envío el horario de la asignatura Cálculo Vectorial  \n",
    "\n",
    "Días:  \n",
    "Lunes - Hora: 7:00 a 12:00M  \n",
    "Fechas:  \n",
    "Febrero: 10-17-24                                          \n",
    " Marzo: 3-10-17-31                                                  \n",
    "Abril:7-21-28                                                   \n",
    "Mayo:5-12-19  \n",
    "\n",
    "Agradezco su apoyo, y si presenta alguna dificultad puede contactarme.  \n",
    "\n",
    "Cordialmente,  \n",
    "Juan Felipe Rivera Hernández  \n",
    "Contacto: 3106314300  "
   ]
  },
  {
   "cell_type": "markdown",
   "id": "0e66cd7c",
   "metadata": {},
   "source": [
    "# Clase de análisis numérico los Martes de 8 a 12 del medio día. "
   ]
  },
  {
   "cell_type": "markdown",
   "id": "c5ff61b1",
   "metadata": {},
   "source": []
  }
 ],
 "metadata": {
  "celltoolbar": "Slideshow",
  "kernelspec": {
   "display_name": ".venv",
   "language": "python",
   "name": "python3"
  },
  "language_info": {
   "codemirror_mode": {
    "name": "ipython",
    "version": 3
   },
   "file_extension": ".py",
   "mimetype": "text/x-python",
   "name": "python",
   "nbconvert_exporter": "python",
   "pygments_lexer": "ipython3",
   "version": "3.12.6"
  },
  "rise": {
   "enable_chalkboard": true,
   "theme": "sky",
   "transition": "zoom"
  }
 },
 "nbformat": 4,
 "nbformat_minor": 5
}
