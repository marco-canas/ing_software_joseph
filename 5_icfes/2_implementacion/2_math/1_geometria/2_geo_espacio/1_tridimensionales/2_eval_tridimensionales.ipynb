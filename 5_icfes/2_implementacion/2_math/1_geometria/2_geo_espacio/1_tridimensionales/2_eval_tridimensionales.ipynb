{
 "cells": [
  {
   "cell_type": "markdown",
   "id": "dc06dec7",
   "metadata": {
    "slideshow": {
     "slide_type": "slide"
    }
   },
   "source": [
    "<table align=\"left\">\n",
    "  <td>\n",
    "    <a href=\"https://colab.research.google.com/github/marco-canas/didactica_ciencia_datos/blob/main/1_curso_machine_learning/1_evaluacion_oral_tarea_quiz_parcial.ipynb\" target=\"_parent\"><img src=\"https://colab.research.google.com/assets/colab-badge.svg\" alt=\"Open In Colab\"/></a>\n",
    "  </td>\n",
    "  <td>\n",
    "    <a target=\"_blank\" href=\"https://kaggle.com/kernels/welcome?src=https://github.com/marco-canas/didactica_ciencia_datos/blob/main/1_curso_machine_learning/1_evaluacion_oral_tarea_quiz_parcial.ipynb\"><img src=\"https://kaggle.com/static/images/open-in-kaggle.svg\" /></a>\n",
    "  </td>\n",
    "</table>"
   ]
  },
  {
   "cell_type": "markdown",
   "id": "e0c5b198",
   "metadata": {
    "slideshow": {
     "slide_type": "slide"
    }
   },
   "source": [
    "### [Video de apoyo a la lectura interactiva y experimental de este cuaderno]()"
   ]
  },
  {
   "cell_type": "markdown",
   "id": "41e82203",
   "metadata": {
    "slideshow": {
     "slide_type": "slide"
    }
   },
   "source": [
    "## [Vínculo al programa del curso:  ]()"
   ]
  },
  {
   "cell_type": "markdown",
   "id": "ca46c23b",
   "metadata": {
    "slideshow": {
     "slide_type": "slide"
    }
   },
   "source": [
    "# Modelo general de clase: [aula invertida](https://www3.gobiernodecanarias.org/medusa/ecoescuela/pedagotic/aprendizaje-invertido-flipped-classroom/)\n"
   ]
  },
  {
   "cell_type": "markdown",
   "id": "7f9be90f",
   "metadata": {
    "slideshow": {
     "slide_type": "slide"
    }
   },
   "source": [
    "# Fomento de la lectura literaria asociada a Ingeniería agropecuaria y licenciatura en Matemáticas y administración de empresas\n",
    "\n",
    "[Hábitos atómicos](https://github.com/marco-canas/habitos_atomicos/blob/main/13_como_dejar_de_postergar_usando_la_regla_de_los_dos_minutos/1_13_como_dejar_de_postergar_usando_la_regla_de_los_dos_minutos.ipynb)"
   ]
  },
  {
   "cell_type": "markdown",
   "id": "cf101603",
   "metadata": {},
   "source": [
    "# Prompt para pedir el diseño de evaluación de acuerdo a la metodología de \"Enseñanza basada en proyectos\"    \n",
    "\n",
    "Dame, por favor, un diseño de clase, con el enfoque: \"Aula Invertida, STEAMS y De aprendizaje basado en problemas y proyectos(ABPP)\" sobre: \"En Deep Learning, los Transformers como arquitectura revolucionaria basada en mecanismos de auto-atención (self-attention), introducida en 2017 por el paper \"Attention Is All You Need\" de Vaswani et al. Han dominado áreas como Procesamiento de Lenguaje Natural (NLP), Visión por Computador (CV) e incluso Bioinformática.\", siguiendo la estructura:  \n",
    "\n",
    "1. Título de la clase \n",
    "2. Objetivos de aprendizaje que incluyan los indicadores del logro de estos objetivos.\n",
    "3. Un mapa conceptual que resuma la clase elaborado en Graphviz de Python con nodos y edges de diferentes formas, colores y rellenos y renderizado en la siguiente ubicación: `\"C:/Users/marco/Downloads\"`. No olvides el parámetro `view = True` para el método `render()` de Graphviz. Para este mapa controla las superposiciones de los nodos con: graph [overlap=false]; // Elimina superposiciones (puede aumentar el espacio)\n",
    "graph [overlap=\"scalexy\"]; // Escala el gráfico para evitar overlaps\n",
    "graph [overlap=\"compress\"]; // Comprime el grafo sin overlaps   \n",
    "\n",
    "4. Elementos históricos y epistemológicos relevantes para la clase pero contados como un cuento al estilo de un cuentero antioqueño en Colombia. Incluye imágenes de los protagonistas históricos de esta clase. . \n",
    "5. Contenido de la clase. Que el contenido parta de una situación real para llegar a una constitución del modelo matemático que represente tal situación real. \n",
    "6. Actividades de aprendizaje\n",
    "7. Incluye una canción o un poema que ayude a interiorizar y fijar los conceptos asociados a esta clase. \n",
    "8. Tarea o actividades de ejercitación y fijación\n",
    "9. Evaluación incluyendo diez proyectos, un ejemplo de quiz (de tres preguntas) y un ejemplo de parcial (de cinco puntos)\n",
    "10. Diseño de actividad de retroalimentación. \n",
    "11. Dame un vocabulario y frases del idioma inglés asociadas a esta clase.   \n",
    "12. Incluye apéndice para la clase sobre desarrollo de habilidades para trabajar en equipo y de asertividad y empatía para relacionarnos. También elementos de la inteligencia emocional para presentar pruebas sin temor y sin realizar fraude en ellas. \n",
    "13. Incluye 10 referentes en didáctica de la matemática que estén de acuerdo a la propuesta didáctica de esta clase. Adiciona a estos referentes a Raymond Duval (Representaciones y cambios de representación para la adquisición de conceptos matemáticos) y a Jeannette Wing (Desarrollo del pensamiento computacional). Déjame todos estos referentes ordenados de acuerdo a las normas APA. Déjame todos estos referentes ordenados de acuerdo a las normas APA. Incluye las citaciones a estos referentes a medida que vallas diseñando la clase.   \n",
    "    \n",
    "\n",
    "Pero  que este diseño sea para que el estudiante pueda aprender experimentando en cuadernos Jupyter con funciones de usuario y animaciones y visualizaciones en Python. En particular utiliza para el diseño de clase a NumPy, Pandas, SymPy, Matplotlib.pyplot, Seaborn, Plotly, ipywidgets, matplotlib.animation y Jupyter Notebook.  Cada vez que utilice `matplotlib.animacion` no olvides incluir el uso de `IPython. display` para la renderización de estas animaciones a través de Jupyter Notebook. No olvides darme los diseños de clase con las ecuaciones matemáticas delimitadas con signo de dólar $ para que VS Code si me renderice estas expresiones del lenguaje latex. Cuando vallas a utilizar ipywidgets ten en cuenta la siguiente importación inicial para garantizar que la visualización interactiva si se renderice en VS Code:                                                                   \n",
    "import numpy as np\n",
    "import matplotlib.pyplot as plt\n",
    "import ipywidgets as widgets\n",
    "from IPython.display import display, clear_output\n",
    "from matplotlib.patches import Rectangle\n",
    "\n",
    "# Configuración inicial para visualización estática\n",
    "%matplotlib inline\n"
   ]
  },
  {
   "cell_type": "markdown",
   "id": "42797498",
   "metadata": {},
   "source": [
    "# **Diseño de Clase: Coordenadas Tridimensionales para la Prueba del ICFES**  \n",
    "**Enfoques Pedagógicos:** Aula Invertida, STEAM, Aprendizaje Basado en Problemas y Proyectos (ABPP)  \n",
    "**Herramientas Tecnológicas:** Python (NumPy, SymPy, Matplotlib, Plotly, Jupyter Notebook)  \n",
    "\n",
    "---\n",
    "\n",
    "## **1. Título de la Clase**  \n",
    "**\"Navegando el Espacio 3D: Coordenadas Cartesianas en la Vida Real y el ICFES\"**  \n",
    "\n",
    "---\n",
    "\n",
    "## **2. Objetivos de Aprendizaje e Indicadores**  \n",
    "**Objetivos:**  \n",
    "- Comprender el sistema de coordenadas tridimensionales y su aplicación en problemas reales.  \n",
    "- Desarrollar habilidades de visualización espacial mediante herramientas computacionales.  \n",
    "- Resolver problemas del ICFES relacionados con geometría analítica 3D.  \n",
    "\n",
    "**Indicadores:**  \n",
    "- El estudiante representa puntos en $\\mathbb{R}^3$ usando Python.  \n",
    "- Resuelve problemas de distancias y vectores en 3D con SymPy.  \n",
    "- Diseña animaciones interactivas con `ipywidgets` para explicar conceptos.  \n",
    "\n",
    "---\n",
    "\n",
    "## **3. Mapa Conceptual (Graphviz)**  \n",
    "```python\n",
    "from graphviz import Digraph\n",
    "\n",
    "# Crear el grafo\n",
    "graph = Digraph(comment='Coordenadas Tridimensionales', \n",
    "               graph_attr={'overlap': 'scalexy', 'splines': 'true'})\n",
    "graph.attr(rankdir='LR')  # Orientación horizontal\n",
    "\n",
    "# Nodos principales\n",
    "graph.node('A', 'Coordenadas 3D', shape='ellipse', style='filled', color='lightblue')\n",
    "graph.node('B', 'Ejes X, Y, Z', shape='box', color='orange')\n",
    "graph.node('C', 'Aplicaciones Reales', shape='diamond', color='lightgreen')\n",
    "graph.node('D', 'ICFES', shape='doubleoctagon', color='red')\n",
    "\n",
    "# Subnodos\n",
    "graph.node('E', 'Vectores', shape='box')\n",
    "graph.node('F', 'Distancias', shape='box')\n",
    "graph.node('G', 'Python (Matplotlib)', shape='component', color='purple')\n",
    "\n",
    "# Conexiones\n",
    "graph.edges(['AB', 'AC', 'AD', 'BE', 'BF', 'BG', 'GE', 'GF'])\n",
    "\n",
    "# Renderizar y guardar\n",
    "graph.render(directory='C:/Users/marco/Downloads', filename='mapa_coordenadas_3d', format='png', view=True)\n",
    "```\n",
    "**Salida:**  \n",
    "![Mapa Conceptual](C:/Users/marco/Downloads/mapa_coordenadas_3d.png)  \n",
    "\n",
    "---\n",
    "\n",
    "## **4. Historia y Epistemología**  \n",
    "**\"El Cuento de René Descartes y los Piratas del Espacio\"**  \n",
    "*\"Érase una vez, en la Francia del siglo XVII, un filósofo llamado René Descartes que, mientras miraba una mosca volar en su habitación, imaginó cómo describir su posición con números. Así nacieron las coordenadas cartesianas...\"*  \n",
    "\n",
    "**Imágenes:**  \n",
    "- [René Descartes](https://upload.wikimedia.org/wikipedia/commons/7/73/Frans_Hals_-_Portret_van_Ren%C3%A9_Descartes.jpg)  \n",
    "- [Sistema 3D Moderno](https://miro.medium.com/v2/resize:fit:1400/1*PhW5x1W1w6WlE2Qk5JjJ0g.png)  \n",
    "\n",
    "---\n",
    "\n",
    "## **5. Contenido de la Clase**  \n",
    "**Situación Real:** *\"Un dron debe entregar un paquete en un edificio. ¿Cómo describimos su trayectoria en 3D?\"*  \n",
    "\n",
    "**Modelo Matemático:**  \n",
    "- Ecuación de posición:  \n",
    "  $$ \\vec{r}(t) = (x_0 + v_x t, y_0 + v_y t, z_0 + v_z t) $$  \n",
    "- Distancia entre puntos:  \n",
    "  $$ d = \\sqrt{(x_2-x_1)^2 + (y_2-y_1)^2 + (z_2-z_1)^2} $$  \n",
    "\n",
    "**Visualización en Python:**  \n",
    "```python\n",
    "import numpy as np\n",
    "import matplotlib.pyplot as plt\n",
    "from mpl_toolkits.mplot3d import Axes3D\n",
    "\n",
    "# Crear figura 3D\n",
    "fig = plt.figure()\n",
    "ax = fig.add_subplot(111, projection='3d')\n",
    "ax.scatter(1, 2, 3, c='r', marker='o', label='Dron')\n",
    "ax.set_xlabel('X')\n",
    "ax.set_ylabel('Y')\n",
    "ax.set_zlabel('Z')\n",
    "plt.legend()\n",
    "plt.show()\n",
    "```\n",
    "\n",
    "---\n",
    "\n",
    "## **6. Actividades de Aprendizaje**  \n",
    "1. **Laboratorio en Jupyter:** Graficar la trayectoria de un cohete usando `matplotlib.animation`.  \n",
    "2. **Proyecto STEAM:** Diseñar un mapa 3D de su colegio con Plotly.  \n",
    "3. **ABP:** Calcular la distancia mínima entre dos aviones en vuelo.  \n",
    "\n",
    "---\n",
    "\n",
    "## **7. Canción/Poema**  \n",
    "**\"Las Coordenadas\"** (Ritmo de rap)  \n",
    "*\"X, Y, Z, las tres direcciones,  \n",
    "con Python las grafico, ¡atención!  \n",
    "Si quieres aprobar el ICFES,  \n",
    "domina el espacio en 3D, ¡ves!\"*  \n",
    "\n",
    "---\n",
    "\n",
    "## **8. Tareas**  \n",
    "1. Crear una animación interactiva con `ipywidgets` para mover un punto en 3D.  \n",
    "2. Resolver 5 problemas de aplicación del ICFES usando SymPy.  \n",
    "\n",
    "---\n",
    "\n",
    "## **9. Evaluación**  \n",
    "**Proyectos:**  \n",
    "1. Simulador de vuelo en 3D con vectores.  \n",
    "2. Modelado de una molécula en $\\mathbb{R}^3$.  \n",
    "\n",
    "**Quiz Ejemplo:**  \n",
    "1. ¿Cuál es la distancia entre $(1,2,3)$ y $(4,5,6)$?  \n",
    "2. Defina un vector en SymPy.  \n",
    "\n",
    "**Parcial:**  \n",
    "1. Demuestre la fórmula de distancia en 3D.  \n",
    "2. Programe una función Python para calcular ángulos entre vectores.  \n",
    "\n",
    "---\n",
    "\n",
    "## **10. Retroalimentación**  \n",
    "- **Rúbrica de Autoevaluación** con criterios de claridad, precisión y creatividad.  \n",
    "- **Sesión de Peer Review** en equipos.  \n",
    "\n",
    "---\n",
    "\n",
    "## **11. Vocabulario en Inglés**  \n",
    "- **Coordinates:** Coordenadas  \n",
    "- **Vector:** Vector  \n",
    "- **3D Space:** Espacio tridimensional  \n",
    "- **Distance Formula:** Fórmula de distancia  \n",
    "\n",
    "---\n",
    "\n",
    "## **12. Apéndice: Habilidades Blandas**  \n",
    "- **Trabajo en Equipo:** Uso de Git para colaborar en notebooks.  \n",
    "- **Inteligencia Emocional:** Técnicas de respiración para pruebas.  \n",
    "\n",
    "---\n",
    "\n",
    "## **13. Referentes Didácticos (APA)**  \n",
    "1. Duval, R. (2006). *Un enfoque cognitivo de las representaciones matemáticas*.  \n",
    "2. Wing, J. (2006). *Computational Thinking*. Communications of the ACM.  \n",
    "3. National Research Council. (2011). *Successful STEM Education*.  \n",
    "\n",
    "--- \n",
    "\n",
    "**Nota:** Todos los ejemplos de código están diseñados para ejecutarse en Jupyter Notebook con las librerías especificadas."
   ]
  },
  {
   "cell_type": "markdown",
   "id": "fb9402bb",
   "metadata": {
    "slideshow": {
     "slide_type": "slide"
    }
   },
   "source": [
    "## Estrategias propuestas para la solución de las dificultades de aprendizaje detectadas"
   ]
  },
  {
   "cell_type": "markdown",
   "id": "2dd3bd5c",
   "metadata": {
    "slideshow": {
     "slide_type": "slide"
    }
   },
   "source": []
  },
  {
   "cell_type": "markdown",
   "id": "c6236d5d",
   "metadata": {},
   "source": [
    "# FODA del grupo y del profesor  \n",
    "\n",
    "* F: Fortalezas\n",
    "* O: Oportunidades\n",
    "* D: Dificultades\n",
    "* A: Amenazas."
   ]
  },
  {
   "cell_type": "markdown",
   "id": "b48f9542",
   "metadata": {},
   "source": [
    "## ¿Cómo se sintió en este espacio de enseñanza y aprendizaje?\n",
    "\n",
    "!Dios te bendiga¡"
   ]
  },
  {
   "cell_type": "markdown",
   "id": "10bce0d0",
   "metadata": {
    "slideshow": {
     "slide_type": "slide"
    }
   },
   "source": [
    "## Referentes "
   ]
  },
  {
   "cell_type": "markdown",
   "id": "d204c917",
   "metadata": {},
   "source": [
    "* [Grajales Vanegas, L. M., Restrepo Estrada, C. E., Restrepo Ochoa, S. I., & Ruíz De Villalba, F. (2015). Matemáticas I para las ciencias económicas.](https://github.com/marco-canas/fundamentos_de_la_aritmetica/blob/main/referentes/2_grajales_logica/grajales_lina_matemticas.pdf)\n",
    "  \n",
    "* Duval, R. (2004). Semiosis y pensamiento humano: registros semióticos y aprendizajes intelectuales. Universidad del Valle.\n",
    "\n",
    "* [Aylwin, C. U. (2011). Lógica, conjuntos y números. Universidad de los Andes, Consejo de Publicaciones, Colección: Ciencias Básicas, Serie: Matemáticas.](https://github.com/marco-canas/fundamentos_logica/blob/main/referentes/2_uzcategui/uscategui.pdf)\n",
    "  \n",
    "* [Chollet, F. (2021). Deep learning with Python. Simon and Schuster.](https://github.com/marco-canas/didactica_ciencia_datos/blob/main/2_referentes/chollet/Fran%C3%A7ois%20Chollet%20-%20Deep%20Learning%20with%20Python-Manning%20(2018).pdf)  \n",
    "  \n",
    "* [Watson, S., Stewart, J., & Redlin, L. (2009). Precálculo. Matemáticas para el cálculo.](https://github.com/marco-canas/calculo/blob/main/referents/1_precalculo_stewart/stewart_precalculo.pdf)  \n",
    "\n",
    "* [Purcell, E. J., Varberg, D., & Rigdon, S. E. (2007). Cálculo diferencial e integral. Pearson Educación.](https://github.com/marco-canas/calculo/blob/main/referents/purcell/purcell_calculo.pdf)\n",
    "\n",
    "  \n",
    "\n",
    "* [stewart cálculo](https://udeaeduco-my.sharepoint.com/:b:/g/personal/marco_canas_udea_edu_co/EZgXZjAp8QxPqOAim2hs6LcBNPLGjSHf-xwYnUVYkwa04w?e=RZdTCy)  \n",
    "\n",
    "* [larson](https://udeaeduco-my.sharepoint.com/:b:/g/personal/marco_canas_udea_edu_co/ES71ChFeO9ZDhW3TwC5Ijk8BjxUK3Pdqz_fjHxTTFAfIAg?e=VDEjfu)\n",
    "\n",
    "\n",
    "\n",
    "* [Recomendación de la UNESCO sobre ciencia abierta](https://unesdoc.unesco.org/ark:/48223/pf0000379949_spa)\n",
    "\n",
    "* [chatGPT](https://openai.com/blog/chatgpt)  \n",
    "\n",
    "* [Géron, A. (2017). Hands-on machine learning with scikit-learn and tensorflow: Concepts. Tools, and Techniques to build intelligent systems.](chrome-extension://efaidnbmnnnibpcajpcglclefindmkaj/http://14.139.161.31/OddSem-0822-1122/Hands-On_Machine_Learning_with_Scikit-Learn-Keras-and-TensorFlow-2nd-Edition-Aurelien-Geron.pdf)   \n"
   ]
  },
  {
   "cell_type": "markdown",
   "id": "6b9e56a8",
   "metadata": {
    "slideshow": {
     "slide_type": "slide"
    }
   },
   "source": [
    "### [Evaluamos al profesor Marco Cañas Aquí](https://forms.office.com/Pages/ResponsePage.aspx?id=IefhmYRxjkmK_7KtTlPBwkanXIs1i1FEujpsZgO6dXpUREJPV1kxUk1JV1ozTFJIQVNIQjY5WEY3US4u)"
   ]
  },
  {
   "cell_type": "markdown",
   "id": "071afa04",
   "metadata": {
    "slideshow": {
     "slide_type": "slide"
    }
   },
   "source": [
    "## [Evaluación luego de alcanzar estos objetivos de aprendizaje]()"
   ]
  },
  {
   "cell_type": "markdown",
   "id": "10f43536",
   "metadata": {
    "slideshow": {
     "slide_type": "slide"
    }
   },
   "source": [
    "### Continue su aprendizaje en la siguiente clase a través del siguiente [vínculo]()"
   ]
  },
  {
   "cell_type": "markdown",
   "id": "af751e30",
   "metadata": {
    "slideshow": {
     "slide_type": "slide"
    }
   },
   "source": [
    "# Conjeturas pedagógicas fruto de la aplicación del modelo de aprendizaje invertido y del enfoque hacia la ciencia de datos con python\n",
    "\n",
    "1. Todo cálculo o resultado debe ser interpretado en una línea markdown del cuaderno Jupyter, inmediatamente después de la enunciación del resultado y después de la presentación de una tabla o gráfico bidimensional, de tal menera que el estudiante explicite la comprensión verbal del resultado y las inferencias o estrategias que este resultado le sugieren.   "
   ]
  }
 ],
 "metadata": {
  "celltoolbar": "Slideshow",
  "kernelspec": {
   "display_name": "Python 3",
   "language": "python",
   "name": "python3"
  },
  "language_info": {
   "codemirror_mode": {
    "name": "ipython",
    "version": 3
   },
   "file_extension": ".py",
   "mimetype": "text/x-python",
   "name": "python",
   "nbconvert_exporter": "python",
   "pygments_lexer": "ipython3",
   "version": "3.13.2"
  },
  "rise": {
   "enable_chalkboard": true,
   "theme": "sky",
   "transition": "zoom"
  }
 },
 "nbformat": 4,
 "nbformat_minor": 5
}
