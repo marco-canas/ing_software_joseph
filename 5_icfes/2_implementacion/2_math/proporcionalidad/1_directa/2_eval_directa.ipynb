{
 "cells": [
  {
   "cell_type": "markdown",
   "id": "dc06dec7",
   "metadata": {
    "slideshow": {
     "slide_type": "slide"
    }
   },
   "source": [
    "<table align=\"left\">\n",
    "  <td>\n",
    "    <a href=\"https://colab.research.google.com/github/marco-canas/didactica_ciencia_datos/blob/main/1_curso_machine_learning/1_evaluacion_oral_tarea_quiz_parcial.ipynb\" target=\"_parent\"><img src=\"https://colab.research.google.com/assets/colab-badge.svg\" alt=\"Open In Colab\"/></a>\n",
    "  </td>\n",
    "  <td>\n",
    "    <a target=\"_blank\" href=\"https://kaggle.com/kernels/welcome?src=https://github.com/marco-canas/didactica_ciencia_datos/blob/main/1_curso_machine_learning/1_evaluacion_oral_tarea_quiz_parcial.ipynb\"><img src=\"https://kaggle.com/static/images/open-in-kaggle.svg\" /></a>\n",
    "  </td>\n",
    "</table>"
   ]
  },
  {
   "cell_type": "markdown",
   "id": "e0c5b198",
   "metadata": {
    "slideshow": {
     "slide_type": "slide"
    }
   },
   "source": [
    "### [Video de apoyo a la lectura interactiva y experimental de este cuaderno]()"
   ]
  },
  {
   "cell_type": "markdown",
   "id": "41e82203",
   "metadata": {
    "slideshow": {
     "slide_type": "slide"
    }
   },
   "source": [
    "## [Vínculo al programa del curso:  ]()"
   ]
  },
  {
   "cell_type": "markdown",
   "id": "ca46c23b",
   "metadata": {
    "slideshow": {
     "slide_type": "slide"
    }
   },
   "source": [
    "# Modelo general de clase: [aula invertida](https://www3.gobiernodecanarias.org/medusa/ecoescuela/pedagotic/aprendizaje-invertido-flipped-classroom/)\n"
   ]
  },
  {
   "cell_type": "markdown",
   "id": "7f9be90f",
   "metadata": {
    "slideshow": {
     "slide_type": "slide"
    }
   },
   "source": [
    "# Fomento de la lectura literaria asociada a Ingeniería agropecuaria y licenciatura en Matemáticas y administración de empresas\n",
    "\n",
    "[Hábitos atómicos](https://github.com/marco-canas/habitos_atomicos/blob/main/13_como_dejar_de_postergar_usando_la_regla_de_los_dos_minutos/1_13_como_dejar_de_postergar_usando_la_regla_de_los_dos_minutos.ipynb)"
   ]
  },
  {
   "cell_type": "markdown",
   "id": "cf101603",
   "metadata": {},
   "source": [
    "# Prompt para pedir el diseño de evaluación de acuerdo a la metodología de \"Enseñanza basada en proyectos\"    \n",
    "\n",
    "Dame, por favor, un diseño de clase, con el enfoque: \"Aula Invertida, STEAMS y de Aprendizaje Basado en Problemas y Proyectos(ABPP)\" sobre: \" \", siguiendo la estructura:  \n",
    "\n",
    "1. Título de la clase \n",
    "2. Objetivos de aprendizaje que incluyan los indicadores del logro de estos objetivos.\n",
    "3. Un mapa conceptual que resuma la clase elaborado en Graphviz de Python con nodos y edges de diferentes formas, colores y rellenos y renderizado en la siguiente ubicación: `\"C:/Users/marco/Downloads\"`. No olvides el parámetro `view = True` para el método `render()` de Graphviz. Para este mapa controla las superposiciones de los nodos con: graph [overlap=false]; // Elimina superposiciones (puede aumentar el espacio)\n",
    "graph [overlap=\"scalexy\"]; // Escala el gráfico para evitar overlaps\n",
    "graph [overlap=\"compress\"]; // Comprime el grafo sin overlaps   \n",
    "\n",
    "4. Elementos históricos y epistemológicos relevantes para la clase pero contados como un cuento al estilo de un cuentero antioqueño en Colombia. Incluye imágenes de los protagonistas históricos de esta clase.   \n",
    "    \n",
    "5. Contenido de la clase. Centra el contenido, en lo que se necesita para adquirir las habilidades necesarias para presentar el prueba del ICFES en Colombia. \n",
    "6. Actividades de aprendizaje. Centra las actividades de aprendizaje, en lo que se necesita mi hijo para adquirir las habilidades necesarias para presentar el prueba del ICFES en Colombia. \n",
    "7. Incluye una canción o un poema que ayude a interiorizar y fijar los conceptos asociados a esta clase. \n",
    "8. Tarea o actividades de ejercitación y fijación. Centra las tares, en lo que se necesita para adquirir las habilidades necesarias para presentar el prueba del ICFES en Colombia. \n",
    "9.  Evaluación incluyendo diez proyectos, un ejemplo de quiz (de tres preguntas) y un ejemplo de parcial (de cinco puntos). Centra las actividades evaluativas, en lo que se necesita para adquirir las habilidades necesarias para presentar el prueba del ICFES en Colombia. \n",
    "10. Diseño de actividad de retroalimentación. \n",
    "11. Dame un vocabulario y frases del idioma inglés asociadas a esta clase.   \n",
    "12. Incluye apéndice para la clase sobre desarrollo de habilidades para trabajar en equipo y de asertividad y empatía para relacionarnos. Desarrollar capacidades de argumentación verbal u oral. \n",
    "13. Incluye 10 referentes en didáctica de la matemática que estén de acuerdo a la propuesta didáctica de esta clase. Adiciona a estos referentes a Raymond Duval (Representaciones y cambios de representación para la adquisición de conceptos matemáticos) y a Jeannette Wing (Desarrollo del pensamiento computacional). Déjame todos estos referentes ordenados de acuerdo a las normas APA. Déjame todos estos referentes ordenados de acuerdo a las normas APA. Incluye las citaciones a estos referentes a medida que vallas diseñando la clase.   \n",
    "    \n",
    "\n",
    "Pero  que este diseño sea para que el estudiante pueda aprender experimentando en cuadernos Jupyter con funciones de usuario y animaciones y visualizaciones en Python. En particular utiliza para el diseño de clase a NumPy, Pandas, SymPy, Matplotlib.pyplot, Seaborn, Plotly, ipywidgets, matplotlib.animation y Jupyter Notebook.  Cada vez que utilice `matplotlib.animacion` no olvides incluir el uso de `IPython. display` para la renderización de estas animaciones a través de Jupyter Notebook. No olvides darme los diseños de clase con las ecuaciones matemáticas delimitadas con signo de dólar $ para que VS Code si me renderice estas expresiones del lenguaje latex. Cuando vallas a utilizar ipywidgets ten en cuenta la siguiente importación inicial para garantizar que la visualización interactiva si se renderice en VS Code:                                                                   \n",
    "import numpy as np\n",
    "import matplotlib.pyplot as plt\n",
    "import ipywidgets as widgets\n",
    "from IPython.display import display, clear_output\n",
    "from matplotlib.patches import Rectangle\n",
    "\n",
    "# Configuración inicial para visualización estática\n",
    "%matplotlib inline"
   ]
  },
  {
   "cell_type": "markdown",
   "id": "42797498",
   "metadata": {},
   "source": [
    "# **Diseño de Clase: Proporcionalidad Directa y Regla de Tres Directa**  \n",
    "**Enfoque:** Aula Invertida, STEAM, Aprendizaje Basado en Problemas y Proyectos (ABPP)  \n",
    "**Herramientas:** Python (NumPy, SymPy, Matplotlib, Plotly, ipywidgets), Jupyter Notebook  \n",
    "\n",
    "---\n",
    "\n",
    "## **1. Título de la Clase**  \n",
    "**\"Proporcionalidad Directa y Regla de Tres: Modelando el Mundo con Matemáticas y Python\"**  \n",
    "\n",
    "---\n",
    "\n",
    "## **2. Objetivos de Aprendizaje e Indicadores**  \n",
    "| **Objetivo** | **Indicadores de Logro** |\n",
    "|--------------|--------------------------|\n",
    "| Comprender el concepto de proporcionalidad directa y su aplicación en problemas reales. | - Identifica relaciones proporcionales en datos. <br> - Plantea ecuaciones de proporcionalidad. |\n",
    "| Resolver problemas de regla de tres directa usando Python. | - Implementa soluciones en Jupyter Notebook. <br> - Valida resultados con SymPy. |\n",
    "| Aplicar la proporcionalidad en contextos STEAM (ej: escalas en ingeniería, mezclas en química). | - Diseña proyectos interdisciplinares. <br> - Usa visualizaciones interactivas (Plotly/Matplotlib). |\n",
    "| Desarrollar habilidades para pruebas tipo ICFES. | - Resuelve problemas en tiempo limitado. <br> - Aplica estrategias de optimización. |\n",
    "\n",
    "---\n",
    "\n",
    "## **3. Mapa Conceptual (Graphviz)**  \n",
    "```python\n",
    "from graphviz import Digraph\n",
    "\n",
    "# Crear el gráfico\n",
    "graph = Digraph('Proporcionalidad', format='png', \n",
    "                graph_attr={'overlap': 'scalexy', 'splines': 'true'}, \n",
    "                node_attr={'style': 'filled', 'fillcolor': 'lightyellow'})\n",
    "\n",
    "# Nodos\n",
    "graph.node('A', 'Proporcionalidad Directa', shape='ellipse', color='blue', fillcolor='#FFD700')\n",
    "graph.node('B', 'Regla de Tres Directa', shape='box', color='red', fillcolor='#ADD8E6')\n",
    "graph.node('C', 'y = kx', shape='diamond', color='green', fillcolor='#90EE90')\n",
    "graph.node('D', 'Aplicaciones STEAM', shape='octagon', color='purple', fillcolor='#FFB6C1')\n",
    "graph.node('E', 'ICFES: Estrategias', shape='parallelogram', color='orange', fillcolor='#FFA07A')\n",
    "\n",
    "# Edges\n",
    "graph.edge('A', 'B', label='Relación')\n",
    "graph.edge('A', 'C', label='Ecuación')\n",
    "graph.edge('B', 'D', label='Problemas Reales')\n",
    "graph.edge('C', 'D', label='Modelado')\n",
    "graph.edge('D', 'E', label='Evaluación')\n",
    "\n",
    "# Renderizar\n",
    "graph.render(directory='C:/Users/marco/Downloads', view=True)\n",
    "```\n",
    "**Salida:**  \n",
    "![Mapa Conceptual](C:/Users/marco/Downloads/Proporcionalidad.png)  \n",
    "\n",
    "---\n",
    "\n",
    "## **4. Historia Epistemológica (Cuento Antioqueño)**  \n",
    "*\"¡Ajá, pues mire usted!* Hace más de 300 años, un señor llamado **Euclides** andaba en Grecia midiendo terrenos y diciendo: *'Si tengo 2 piedras pa’ 4 metros, ¿cuántas piedras necesito pa’ 8 metros?'*. ¡Esa fue la primera regla de tres! Luego, **Galileo Galilei** (mire la foto del viejo con telescopio) usó proporciones pa’ medir las estrellas. Y así, con cuentos como este, las matemáticas se volvieron el *'lenguaje del universo'*.\"  \n",
    "\n",
    "**Imágenes:**  \n",
    "- Euclides: ![Euclides](https://upload.wikimedia.org/wikipedia/commons/thumb/7/7f/Euclid.jpg/220px-Euclid.jpg)  \n",
    "- Galileo: ![Galileo](https://upload.wikimedia.org/wikipedia/commons/thumb/d/d4/Galileo.arp.300pix.jpg/220px-Galileo.arp.300pix.jpg)  \n",
    "\n",
    "---\n",
    "\n",
    "## **5. Contenido de Clase (Enfoque ICFES)**  \n",
    "### **Conceptos Clave:**  \n",
    "- **Proporcionalidad Directa:** $y = kx$ (ej: velocidad vs. tiempo).  \n",
    "- **Regla de Tres:** $\\frac{a}{b} = \\frac{c}{d} \\implies d = \\frac{b \\cdot c}{a}$.  \n",
    "\n",
    "### **Estrategias ICFES:**  \n",
    "1. **Identificar variables relacionadas** en el problema.  \n",
    "2. **Usar tablas** para organizar datos (Pandas).  \n",
    "3. **Graficar** para visualizar proporciones (Matplotlib).  \n",
    "\n",
    "### **Ejemplo en Python:**  \n",
    "```python\n",
    "import numpy as np\n",
    "import matplotlib.pyplot as plt\n",
    "\n",
    "# Datos\n",
    "x = np.array([1, 2, 3, 4])\n",
    "y = 2 * x  # y = kx (k=2)\n",
    "\n",
    "# Gráfico\n",
    "plt.plot(x, y, 'ro-', label='y = 2x')\n",
    "plt.xlabel('x'), plt.ylabel('y'), plt.legend()\n",
    "plt.show()\n",
    "```\n",
    "\n",
    "---\n",
    "\n",
    "## **6. Actividades de Aprendizaje**  \n",
    "1. **Laboratorio Python:** Crear una función que resuelva regla de tres directa.  \n",
    "```python\n",
    "def regla_tres(a, b, c):\n",
    "    return (b * c) / a\n",
    "```  \n",
    "2. **Problema ICFES:** *\"Si 5 libros cuestan \\$30.000, ¿cuánto cuestan 8 libros?\"* (Resolver con Pandas).  \n",
    "\n",
    "---\n",
    "\n",
    "## **7. Canción/Poema**  \n",
    "*\"Proporción, proporción,*  \n",
    "*si sube ‘x’, sube ‘y’ sin discusión.*  \n",
    "*Regla de tres, no es al revés,*  \n",
    "*multiplica en cruz y verás después.\"*  \n",
    "\n",
    "---\n",
    "\n",
    "## **8. Tareas**  \n",
    "- **Ejercicios ICFES:** 10 problemas con tiempo límite (15 min).  \n",
    "- **Proyecto Mini:** Modelar el costo de materiales en una construcción (usando Plotly).  \n",
    "\n",
    "---\n",
    "\n",
    "## **9. Evaluación**  \n",
    "### **Proyectos STEAM:**  \n",
    "1. Diseñar una escala de maqueta (ingeniería).  \n",
    "2. Analizar mezclas químicas (química).  \n",
    "\n",
    "### **Quiz (3 Preguntas):**  \n",
    "1. Si $y$ es directamente proporcional a $x$ y $y=6$ cuando $x=2$, ¿cuánto es $y$ cuando $x=5$?  \n",
    "\n",
    "### **Parcial (5 Puntos):**  \n",
    "- Resolver 2 problemas aplicando regla de tres y graficar en Python.  \n",
    "\n",
    "---\n",
    "\n",
    "## **10. Retroalimentación**  \n",
    "- **Rúbrica de Autoevaluación:** Usar ipywidgets para crear sliders de autocalificación.  \n",
    "\n",
    "---\n",
    "\n",
    "## **11. Vocabulario Inglés**  \n",
    "- **Proportionality:** Proporcionalidad.  \n",
    "- **Direct variation:** Variación directa.  \n",
    "- **Cross-multiplication:** Multiplicación cruzada.  \n",
    "\n",
    "---\n",
    "\n",
    "## **12. Apéndice: Habilidades Blandas**  \n",
    "- **Trabajo en Equipo:** Roles en proyectos STEAM.  \n",
    "- **Argumentación:** Debates sobre aplicaciones reales.  \n",
    "\n",
    "---\n",
    "\n",
    "## **13. Referentes APA**  \n",
    "1. Duval, R. (2006). *Representaciones y cambios de representación en matemáticas*.  \n",
    "2. Wing, J. (2006). *Computational Thinking*.  \n",
    "3. National Council of Teachers of Mathematics. (2000). *Principles and Standards*.  \n",
    "\n",
    "--- \n",
    "\n",
    "**Nota:** Todos los ejemplos de código están diseñados para ejecutarse en Jupyter Notebook con `%matplotlib inline` y visualizaciones interactivas. ¡Manos a la obra! 🚀"
   ]
  },
  {
   "cell_type": "markdown",
   "id": "fb9402bb",
   "metadata": {
    "slideshow": {
     "slide_type": "slide"
    }
   },
   "source": [
    "## Estrategias propuestas para la solución de las dificultades de aprendizaje detectadas"
   ]
  },
  {
   "cell_type": "markdown",
   "id": "2dd3bd5c",
   "metadata": {
    "slideshow": {
     "slide_type": "slide"
    }
   },
   "source": []
  },
  {
   "cell_type": "markdown",
   "id": "c6236d5d",
   "metadata": {},
   "source": [
    "# FODA del grupo y del profesor  \n",
    "\n",
    "* F: Fortalezas\n",
    "* O: Oportunidades\n",
    "* D: Dificultades\n",
    "* A: Amenazas."
   ]
  },
  {
   "cell_type": "markdown",
   "id": "b48f9542",
   "metadata": {},
   "source": [
    "## ¿Cómo se sintió en este espacio de enseñanza y aprendizaje?\n",
    "\n",
    "!Dios te bendiga¡"
   ]
  },
  {
   "cell_type": "markdown",
   "id": "10bce0d0",
   "metadata": {
    "slideshow": {
     "slide_type": "slide"
    }
   },
   "source": [
    "## Referentes "
   ]
  },
  {
   "cell_type": "markdown",
   "id": "d204c917",
   "metadata": {},
   "source": [
    "* [Grajales Vanegas, L. M., Restrepo Estrada, C. E., Restrepo Ochoa, S. I., & Ruíz De Villalba, F. (2015). Matemáticas I para las ciencias económicas.](https://github.com/marco-canas/fundamentos_de_la_aritmetica/blob/main/referentes/2_grajales_logica/grajales_lina_matemticas.pdf)\n",
    "  \n",
    "* Duval, R. (2004). Semiosis y pensamiento humano: registros semióticos y aprendizajes intelectuales. Universidad del Valle.\n",
    "\n",
    "* [Aylwin, C. U. (2011). Lógica, conjuntos y números. Universidad de los Andes, Consejo de Publicaciones, Colección: Ciencias Básicas, Serie: Matemáticas.](https://github.com/marco-canas/fundamentos_logica/blob/main/referentes/2_uzcategui/uscategui.pdf)\n",
    "  \n",
    "* [Chollet, F. (2021). Deep learning with Python. Simon and Schuster.](https://github.com/marco-canas/didactica_ciencia_datos/blob/main/2_referentes/chollet/Fran%C3%A7ois%20Chollet%20-%20Deep%20Learning%20with%20Python-Manning%20(2018).pdf)  \n",
    "  \n",
    "* [Watson, S., Stewart, J., & Redlin, L. (2009). Precálculo. Matemáticas para el cálculo.](https://github.com/marco-canas/calculo/blob/main/referents/1_precalculo_stewart/stewart_precalculo.pdf)  \n",
    "\n",
    "* [Purcell, E. J., Varberg, D., & Rigdon, S. E. (2007). Cálculo diferencial e integral. Pearson Educación.](https://github.com/marco-canas/calculo/blob/main/referents/purcell/purcell_calculo.pdf)\n",
    "\n",
    "  \n",
    "\n",
    "* [stewart cálculo](https://udeaeduco-my.sharepoint.com/:b:/g/personal/marco_canas_udea_edu_co/EZgXZjAp8QxPqOAim2hs6LcBNPLGjSHf-xwYnUVYkwa04w?e=RZdTCy)  \n",
    "\n",
    "* [larson](https://udeaeduco-my.sharepoint.com/:b:/g/personal/marco_canas_udea_edu_co/ES71ChFeO9ZDhW3TwC5Ijk8BjxUK3Pdqz_fjHxTTFAfIAg?e=VDEjfu)\n",
    "\n",
    "\n",
    "\n",
    "* [Recomendación de la UNESCO sobre ciencia abierta](https://unesdoc.unesco.org/ark:/48223/pf0000379949_spa)\n",
    "\n",
    "* [chatGPT](https://openai.com/blog/chatgpt)  \n",
    "\n",
    "* [Géron, A. (2017). Hands-on machine learning with scikit-learn and tensorflow: Concepts. Tools, and Techniques to build intelligent systems.](chrome-extension://efaidnbmnnnibpcajpcglclefindmkaj/http://14.139.161.31/OddSem-0822-1122/Hands-On_Machine_Learning_with_Scikit-Learn-Keras-and-TensorFlow-2nd-Edition-Aurelien-Geron.pdf)   \n"
   ]
  },
  {
   "cell_type": "markdown",
   "id": "6b9e56a8",
   "metadata": {
    "slideshow": {
     "slide_type": "slide"
    }
   },
   "source": [
    "### [Evaluamos al profesor Marco Cañas Aquí](https://forms.office.com/Pages/ResponsePage.aspx?id=IefhmYRxjkmK_7KtTlPBwkanXIs1i1FEujpsZgO6dXpUREJPV1kxUk1JV1ozTFJIQVNIQjY5WEY3US4u)"
   ]
  },
  {
   "cell_type": "markdown",
   "id": "071afa04",
   "metadata": {
    "slideshow": {
     "slide_type": "slide"
    }
   },
   "source": [
    "## [Evaluación luego de alcanzar estos objetivos de aprendizaje]()"
   ]
  },
  {
   "cell_type": "markdown",
   "id": "10f43536",
   "metadata": {
    "slideshow": {
     "slide_type": "slide"
    }
   },
   "source": [
    "### Continue su aprendizaje en la siguiente clase a través del siguiente [vínculo]()"
   ]
  },
  {
   "cell_type": "markdown",
   "id": "af751e30",
   "metadata": {
    "slideshow": {
     "slide_type": "slide"
    }
   },
   "source": [
    "# Conjeturas pedagógicas fruto de la aplicación del modelo de aprendizaje invertido y del enfoque hacia la ciencia de datos con python\n",
    "\n",
    "1. Todo cálculo o resultado debe ser interpretado en una línea markdown del cuaderno Jupyter, inmediatamente después de la enunciación del resultado y después de la presentación de una tabla o gráfico bidimensional, de tal menera que el estudiante explicite la comprensión verbal del resultado y las inferencias o estrategias que este resultado le sugieren.   "
   ]
  }
 ],
 "metadata": {
  "celltoolbar": "Slideshow",
  "kernelspec": {
   "display_name": "Python 3",
   "language": "python",
   "name": "python3"
  },
  "language_info": {
   "codemirror_mode": {
    "name": "ipython",
    "version": 3
   },
   "file_extension": ".py",
   "mimetype": "text/x-python",
   "name": "python",
   "nbconvert_exporter": "python",
   "pygments_lexer": "ipython3",
   "version": "3.13.2"
  },
  "rise": {
   "enable_chalkboard": true,
   "theme": "sky",
   "transition": "zoom"
  }
 },
 "nbformat": 4,
 "nbformat_minor": 5
}
