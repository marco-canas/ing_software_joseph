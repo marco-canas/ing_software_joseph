{
 "cells": [
  {
   "cell_type": "markdown",
   "id": "dc06dec7",
   "metadata": {
    "slideshow": {
     "slide_type": "slide"
    }
   },
   "source": [
    "<table align=\"left\">\n",
    "  <td>\n",
    "    <a href=\"https://colab.research.google.com/github/ageron/handson-ml3/blob/main/tools_numpy.ipynb\" target=\"_parent\"><img src=\"https://colab.research.google.com/assets/colab-badge.svg\" alt=\"Open In Colab\"/></a>\n",
    "  </td>\n",
    "  <td>\n",
    "    <a target=\"_blank\" href=\"https://kaggle.com/kernels/welcome?src=https://github.com/ageron/handson-ml3/blob/main/tools_numpy.ipynb\"><img src=\"https://kaggle.com/static/images/open-in-kaggle.svg\" /></a>\n",
    "  </td>\n",
    "</table>"
   ]
  },
  {
   "cell_type": "markdown",
   "id": "e0c5b198",
   "metadata": {
    "slideshow": {
     "slide_type": "slide"
    }
   },
   "source": [
    "### [Video de apoyo a la lectura interactiva y experimental de este cuaderno]()"
   ]
  },
  {
   "cell_type": "markdown",
   "id": "41e82203",
   "metadata": {
    "slideshow": {
     "slide_type": "slide"
    }
   },
   "source": [
    "### [Vínculo al programa del curso:  ]()\n",
    "\n"
   ]
  },
  {
   "cell_type": "markdown",
   "id": "d11ab06d",
   "metadata": {
    "slideshow": {
     "slide_type": "slide"
    }
   },
   "source": [
    "Un reconocimiento a mis estudiantes que han construido conmigo este saber pedagógico:\n",
    "\n",
    "<img src = ''> \n",
    "\n"
   ]
  },
  {
   "cell_type": "markdown",
   "id": "8a74a56c-0ce6-4ad6-b985-553fd7fb68bb",
   "metadata": {},
   "source": [
    "Reconocimiento a las profesoras destacadas en enseñanza de la matemática en Colombia\n"
   ]
  },
  {
   "cell_type": "markdown",
   "id": "d7598d0a-d9b7-4ae0-b029-a0ed6ed1130b",
   "metadata": {},
   "source": [
    "\n",
    "# Principios de mi labor docente"
   ]
  },
  {
   "cell_type": "markdown",
   "id": "4f9d8cf9",
   "metadata": {
    "slideshow": {
     "slide_type": "slide"
    }
   },
   "source": [
    "## Modelo general de clase: [aula invertida](https://www3.gobiernodecanarias.org/medusa/ecoescuela/pedagotic/aprendizaje-invertido-flipped-classroom/)"
   ]
  },
  {
   "cell_type": "markdown",
   "id": "eb6ed03a",
   "metadata": {},
   "source": [
    "<img src = 'https://resources.maneuveringthemiddle.com/wp-content/uploads/2020/07/04212706/1-5.png' width = 200>  \n",
    "\n"
   ]
  },
  {
   "cell_type": "markdown",
   "id": "34319cce-a71b-4f64-aab8-b53e521efa40",
   "metadata": {},
   "source": [
    "# Metodología de enseñanza que busca el Aprendizaje Basada en Problemas y Proyectos (ABPP)\n"
   ]
  },
  {
   "cell_type": "markdown",
   "id": "c4f73d81",
   "metadata": {},
   "source": [
    "\n",
    "<img src = 'https://www.unir.net/wp-content/uploads/2020/07/aprendizaje-problemas2-1-1-1-1.jpeg' width = 200>"
   ]
  },
  {
   "cell_type": "markdown",
   "id": "841a985c-bd9b-4dd3-8e4c-893983980af2",
   "metadata": {},
   "source": [
    "# Desarrollo del pensamiento computacional con Lenguajes Python, R y,  con archivos R Markdown orientado a la formación en ciencia de datos \n",
    "\n"
   ]
  },
  {
   "cell_type": "markdown",
   "id": "3d0eba94",
   "metadata": {},
   "source": [
    "\n",
    "<img src = 'https://i.ytimg.com/vi/mcG_wcR4e6M/maxresdefault.jpg' width = 200>"
   ]
  },
  {
   "cell_type": "markdown",
   "id": "65aa0404-f7ae-495e-864c-1aec01b4255e",
   "metadata": {},
   "source": [
    "# Principio de fomento a la ciencia abierta, enseñar en el acceso a los datos públicos y el uso de software de código abierto  \n"
   ]
  },
  {
   "cell_type": "markdown",
   "id": "18ae9b87",
   "metadata": {},
   "source": [
    "\n",
    "<img src = 'https://unesdoc.unesco.org/in/rest/Thumb/image?id=p%3A%3Ausmarcdef_0000379949_spa&author=UNESCO&title=Recomendaci%C3%B3n+de+la+UNESCO+sobre+la+Ciencia+Abierta&year=2021&publisher=UNESCO&TypeOfDocument=UnescoPhysicalDocument&mat=PGD&ct=true&size=512&isPhysical=1' width = 200>"
   ]
  },
  {
   "cell_type": "markdown",
   "id": "d9559f85",
   "metadata": {},
   "source": [
    "El enfoque STEAMS en educación preescolar, primaria y secundaria es una extensión del enfoque STEM (Ciencia, Tecnología, Ingeniería y Matemáticas) y su variante STEAM, que incorpora el Arte. "
   ]
  },
  {
   "cell_type": "markdown",
   "id": "72e1cfd2",
   "metadata": {},
   "source": [
    "El acrónimo STEAMS incluye:\n"
   ]
  },
  {
   "cell_type": "markdown",
   "id": "03182fd1",
   "metadata": {},
   "source": [
    "\n",
    "1. **Science (Ciencia):** Fomenta la curiosidad por el mundo natural y el desarrollo de habilidades científicas, como la observación, experimentación y análisis.\n"
   ]
  },
  {
   "cell_type": "markdown",
   "id": "1306d0fa",
   "metadata": {},
   "source": [
    "\n",
    "2. **Technology (Tecnología):** Integra herramientas tecnológicas para potenciar el aprendizaje y la resolución de problemas, promoviendo la alfabetización digital desde edades tempranas.\n"
   ]
  },
  {
   "cell_type": "markdown",
   "id": "3b1a53e8",
   "metadata": {},
   "source": [
    "\n",
    "3. **Engineering (Ingeniería):** Introduce el pensamiento lógico y la resolución de problemas estructurados, fomentando habilidades como el diseño y la construcción de soluciones.\n"
   ]
  },
  {
   "cell_type": "markdown",
   "id": "0196de87",
   "metadata": {},
   "source": [
    "\n",
    "4. **Arts (Arte):** Añade creatividad y pensamiento crítico, permitiendo a los estudiantes expresarse y explorar el aprendizaje a través de formas artísticas (plásticas, música, teatro).\n"
   ]
  },
  {
   "cell_type": "markdown",
   "id": "8bcc485a",
   "metadata": {},
   "source": [
    "\n",
    "5. **Mathematics (Matemáticas):** Refuerza las habilidades numéricas y el razonamiento lógico, fundamentales en la resolución de problemas y comprensión de conceptos abstractos.\n"
   ]
  },
  {
   "cell_type": "markdown",
   "id": "907935f4",
   "metadata": {},
   "source": [
    "\n",
    "6. **Social Sciences (Ciencias Sociales):** Incorpora la comprensión del entorno social, político, cultural y económico, promoviendo el desarrollo de la conciencia crítica sobre el mundo y su historia, además de habilidades de empatía y ciudadanía.\n"
   ]
  },
  {
   "cell_type": "markdown",
   "id": "39967d63",
   "metadata": {},
   "source": [
    "\n",
    "El enfoque STEAMS pretende desarrollar un aprendizaje **interdisciplinario** que integre estas áreas para fomentar un pensamiento más holístico y práctico. "
   ]
  },
  {
   "cell_type": "markdown",
   "id": "5145f077",
   "metadata": {},
   "source": [
    "Se busca que los estudiantes no solo aprendan conocimientos técnicos, sino también cómo aplicarlos creativa y críticamente en situaciones reales, promoviendo habilidades como el trabajo en equipo, la comunicación y la innovación. "
   ]
  },
  {
   "cell_type": "markdown",
   "id": "9d556584",
   "metadata": {},
   "source": [
    "En educación preescolar, primaria, secundaria y superior, se adapta a las diferentes etapas de desarrollo cognitivo y emocional de los estudiantes, promoviendo el aprendizaje activo y contextualizado.  \n"
   ]
  },
  {
   "cell_type": "markdown",
   "id": "0130ec1b",
   "metadata": {},
   "source": [
    "\n",
    "<img src = 'https://www.campuseducacion.com/blog/wp-content/uploads/2023/03/foto01-1.jpg' width = 200>"
   ]
  },
  {
   "cell_type": "markdown",
   "id": "9d15c10d-2c02-4158-9419-b1ed79b4c1ee",
   "metadata": {},
   "source": [
    "# Qué estamos haciendo por la internalización en esta clase y este curso  \n"
   ]
  },
  {
   "cell_type": "markdown",
   "id": "6e4feef2",
   "metadata": {},
   "source": [
    "Estas son mis acciones como docente de matemáticas en la Universidad de Antioquia con miras a la **internacionalización** de mi práctica docente y el desarrollo de competencias internacionales para mis estudiantes, ls cuales he estructurado con el siguiente enfoque:\n"
   ]
  },
  {
   "cell_type": "markdown",
   "id": "964d9de7-53ee-4255-9bcd-d8e6454f2993",
   "metadata": {},
   "source": [
    "### 1. **Visión Global en la Formación Académica**\n"
   ]
  },
  {
   "cell_type": "markdown",
   "id": "d9bdd3e2",
   "metadata": {},
   "source": [
    "   - **Competencias Internacionales**: Asegúrate de que el contenido de tus cursos fomente habilidades que sean reconocidas globalmente. "
   ]
  },
  {
   "cell_type": "markdown",
   "id": "843e9311",
   "metadata": {},
   "source": [
    "Al educar a los estudiantes en **Python, LaTeX, Markdown y Jupyter Notebooks** y en la **introducción a la ciencia de datos y técnicas de Machine Learning**, estás proporcionando competencias altamente demandadas en los sectores tecnológicos y académicos a nivel internacional.\n"
   ]
  },
  {
   "cell_type": "markdown",
   "id": "39b55206",
   "metadata": {},
   "source": [
    "   - **Relevancia de los Contenidos**: Destaca cómo los temas que enseñas, como el **desarrollo del pensamiento computacional** y la **ciencia de datos**, están alineados con las necesidades globales actuales en diversas industrias, desde la tecnología hasta las ciencias naturales y sociales.\n"
   ]
  },
  {
   "cell_type": "markdown",
   "id": "a054599e",
   "metadata": {},
   "source": [
    "   - **Referencias a Estándares Internacionales**: Puedes vincular tu enseñanza a estándares internacionales de competencias en programación y ciencia de datos (por ejemplo, frameworks del **IEEE, ACM**, y estándares de la **data science** o la **computación en la nube**)."
   ]
  },
  {
   "cell_type": "markdown",
   "id": "0f1d110c-3142-48fe-9e7d-5fbd9e8bb931",
   "metadata": {},
   "source": [
    "### 2. **Innovación Pedagógica con Enfoque Internacional**\n"
   ]
  },
  {
   "cell_type": "markdown",
   "id": "fae6ae34",
   "metadata": {},
   "source": [
    "   - **Aula Invertida y ABP**: Presenta cómo tu enfoque de **aula invertida** y **aprendizaje basado en problemas (ABP)** permite a los estudiantes trabajar de manera autónoma y colaborativa, lo que los prepara para escenarios laborales internacionales que requieren autoaprendizaje y habilidades de resolución de problemas en equipo.\n"
   ]
  },
  {
   "cell_type": "markdown",
   "id": "c83062d9",
   "metadata": {},
   "source": [
    "   - **Uso de Jupyter Notebooks**: El uso de **Jupyter Notebooks** en tus clases no solo facilita la **integración de código, matemáticas y texto**, sino que también es una plataforma utilizada globalmente en ambientes académicos y profesionales, lo que hace a tus estudiantes más competitivos internacionalmente."
   ]
  },
  {
   "cell_type": "markdown",
   "id": "960d52b7-03cd-4eb3-965e-5cdfeb7d9f8e",
   "metadata": {},
   "source": [
    "### 3. **Tecnología y Herramientas de Uso Global**\n"
   ]
  },
  {
   "cell_type": "markdown",
   "id": "4be7269f",
   "metadata": {},
   "source": [
    "   - **Lenguaje Python**: Python es uno de los lenguajes de programación más usados a nivel mundial, tanto en la academia como en la industria. "
   ]
  },
  {
   "cell_type": "markdown",
   "id": "5abb1c38",
   "metadata": {},
   "source": [
    "Al formar a tus estudiantes en Python para ciencia de datos y machine learning, los preparas para operar en entornos tecnológicos globales.\n"
   ]
  },
  {
   "cell_type": "markdown",
   "id": "102655af",
   "metadata": {},
   "source": [
    "   - **Herramientas de Ciencia Abierta**: Resalta cómo herramientas como **GitHub**, **Google Colab** y otras plataformas de código abierto están alineadas con el movimiento de **ciencia abierta**, el cual es internacionalmente reconocido y permite que los estudiantes colaboren y compartan proyectos a nivel global."
   ]
  },
  {
   "cell_type": "markdown",
   "id": "3b2ffa32-7a6f-4545-ba7b-c6a69f51109f",
   "metadata": {},
   "source": [
    "### 4. **Investigación y Publicaciones Internacionales**\n"
   ]
  },
  {
   "cell_type": "markdown",
   "id": "bdbf52a5",
   "metadata": {},
   "source": [
    "   - **Promoción de la Investigación**: Detalla cómo promueves que tus estudiantes participen en proyectos de **investigación aplicada**, con posibilidad de publicación en revistas internacionales. "
   ]
  },
  {
   "cell_type": "markdown",
   "id": "1bb10e37",
   "metadata": {},
   "source": [
    "Esto contribuye a la reputación internacional de la Universidad de Antioquia.\n"
   ]
  },
  {
   "cell_type": "markdown",
   "id": "ea01fcbc",
   "metadata": {},
   "source": [
    "   - **Colaboraciones Internacionales**: Si has colaborado con investigadores de otras instituciones o universidades en el extranjero, menciona estos proyectos y cómo han enriquecido tu enseñanza y proporcionado a los estudiantes una visión más globalizada."
   ]
  },
  {
   "cell_type": "markdown",
   "id": "5d1e396e-aece-4bf7-9421-32fa7809eaf4",
   "metadata": {},
   "source": [
    "## 5. **Uso del Inglés para la Internacionalización**\n"
   ]
  },
  {
   "cell_type": "markdown",
   "id": "29cabf26",
   "metadata": {},
   "source": [
    "   - **Comunicación Científica en Inglés**: "
   ]
  },
  {
   "cell_type": "markdown",
   "id": "8ec53ff3",
   "metadata": {},
   "source": [
    "Fomentar el aprendizaje del inglés como lengua científica es clave para que tus estudiantes puedan acceder a publicaciones internacionales, conferencias, y material académico que no está disponible en español. "
   ]
  },
  {
   "cell_type": "markdown",
   "id": "3319ddb0",
   "metadata": {},
   "source": [
    "Esto es esencial para que adquieran competencias que les permitan desempeñarse en cualquier contexto internacional.\n"
   ]
  },
  {
   "cell_type": "markdown",
   "id": "b831224f",
   "metadata": {},
   "source": [
    "   - **Material Bilingüe**: Al generar material educativo en Python, LaTeX y Markdown, considera ofrecer algunos de estos recursos en inglés, para que los estudiantes se familiaricen con el vocabulario técnico y científico internacional."
   ]
  },
  {
   "cell_type": "markdown",
   "id": "c6a8c3b0-426a-4692-a384-3065aea81c9a",
   "metadata": {},
   "source": [
    "### 6. **Certificaciones y Estándares Internacionales**\n"
   ]
  },
  {
   "cell_type": "markdown",
   "id": "b1f41da5",
   "metadata": {},
   "source": [
    "   - **Participación en Certificaciones Internacionales**: Impulsa que los estudiantes busquen certificaciones internacionales en Python o ciencia de datos (como las ofrecidas por **Coursera, edX,** o **Google**). "
   ]
  },
  {
   "cell_type": "markdown",
   "id": "3c935f24",
   "metadata": {},
   "source": [
    "Estas certificaciones no solo validan sus competencias, sino que también incrementan el reconocimiento de la Universidad de Antioquia en el contexto internacional.\n"
   ]
  },
  {
   "cell_type": "markdown",
   "id": "7cc66317",
   "metadata": {},
   "source": [
    "   - **Alineación con Acreditaciones Internacionales**: Vincula tu trabajo docente con los estándares de acreditación y certificación que garantizan que la universidad siga siendo reconocida internacionalmente. "
   ]
  },
  {
   "cell_type": "markdown",
   "id": "0f330d59",
   "metadata": {},
   "source": [
    "Puedes vincularte con organizaciones internacionales que promuevan la excelencia en la educación y tecnología, como **ABET** para la acreditación en ingeniería y ciencias computacionales."
   ]
  },
  {
   "cell_type": "markdown",
   "id": "65d3d9e1-ea84-43e0-8197-a2a9c9e21594",
   "metadata": {},
   "source": [
    "### 7. **Proyectos Abiertos y Ciencia Reproducible**\n"
   ]
  },
  {
   "cell_type": "markdown",
   "id": "f03f7b20",
   "metadata": {},
   "source": [
    "   - **GitHub y Open Science**: La utilización de **GitHub** para almacenar los proyectos y materiales de enseñanza en repositorios públicos permite que otros investigadores y educadores internacionales puedan revisar y replicar tu trabajo. "
   ]
  },
  {
   "cell_type": "markdown",
   "id": "b15e6443",
   "metadata": {},
   "source": [
    "Esto contribuye a la creación de una red de colaboración científica abierta.\n"
   ]
  },
  {
   "cell_type": "markdown",
   "id": "9fb139ef",
   "metadata": {},
   "source": [
    "   - **Transparencia y Reproducibilidad**: La ciencia de datos y machine learning están profundamente ligados a la reproducibilidad. "
   ]
  },
  {
   "cell_type": "markdown",
   "id": "6dcc0d62",
   "metadata": {},
   "source": [
    "Asegura que tus estudiantes desarrollen prácticas de transparencia y documentación en la investigación, que son pilares en la comunidad científica global.\n"
   ]
  },
  {
   "cell_type": "markdown",
   "id": "215cb551",
   "metadata": {},
   "source": [
    "\n",
    "### 8. **Participación en Redes y Conferencias Internacionales**\n"
   ]
  },
  {
   "cell_type": "markdown",
   "id": "489c0b8c",
   "metadata": {},
   "source": [
    "   - **Presentación en Conferencias Internacionales**: Destaca cómo tu participación en conferencias internacionales (como la **ASCOLFA** o eventos sobre educación en matemáticas) contribuye al prestigio de la universidad y permite que tus prácticas sean evaluadas y reconocidas a nivel global.\n"
   ]
  },
  {
   "cell_type": "markdown",
   "id": "cdf46e29",
   "metadata": {},
   "source": [
    "   - **Promoción de Estudiantes en Eventos Internacionales**: Impulsa la participación de tus estudiantes en competiciones internacionales de programación o hackathons, como los organizados por **Google**, **ACM** o **Kaggle**. "
   ]
  },
  {
   "cell_type": "markdown",
   "id": "2b0eb8a9",
   "metadata": {},
   "source": [
    "Esto no solo desarrolla sus habilidades, sino que también visibiliza el talento de la Universidad de Antioquia a nivel global.\n",
    "\n",
    "---"
   ]
  },
  {
   "cell_type": "markdown",
   "id": "233294a4-1983-4641-a7ad-866825e02315",
   "metadata": {},
   "source": [
    "Con esta estrategia, presento mis acciones docentes en términos de:  \n",
    "\n",
    "* competencias internacionales, \n",
    "* innovación pedagógica, \n",
    "* tecnología, \n",
    "* investigación y \n",
    "* participación en redes globales, \n",
    "  \n",
    "asegurando que mi práctica esté alineada con los estándares internacionales y que mis estudiantes estén preparados para competir en contextos internacionales."
   ]
  },
  {
   "cell_type": "markdown",
   "id": "77da458b",
   "metadata": {},
   "source": [
    "### **Metodología de Enseñanza: Aprendizaje Basado en Problemas y Proyectos (ABPP)**\n"
   ]
  },
  {
   "cell_type": "markdown",
   "id": "c943d273",
   "metadata": {},
   "source": [
    "\n",
    "El **Aprendizaje Basado en Problemas y Proyectos (ABPP)** es una metodología educativa que integra los enfoques del **Aprendizaje Basado en Problemas (ABP)** y el **Aprendizaje Basado en Proyectos (PBL, por sus siglas en inglés)**. "
   ]
  },
  {
   "cell_type": "markdown",
   "id": "ad0e0bf3",
   "metadata": {},
   "source": [
    "Es especialmente útil para la formación de futuros docentes, ingenieros y administradores, ya que combina el desarrollo de habilidades prácticas con el pensamiento crítico y reflexivo. "
   ]
  },
  {
   "cell_type": "markdown",
   "id": "137b18e2",
   "metadata": {},
   "source": [
    "A continuación, se presenta una descripción adaptada a la enseñanza de las matemáticas en educación infantil, Licenciatura en Matemáticas, Ingeniería Agropecuaria y Administración de Empresas:\n",
    "\n",
    "---\n"
   ]
  },
  {
   "cell_type": "markdown",
   "id": "0eeba3f5",
   "metadata": {},
   "source": [
    "\n",
    "### **1. Fundamentos del ABPP**\n"
   ]
  },
  {
   "cell_type": "markdown",
   "id": "fb051f2b",
   "metadata": {},
   "source": [
    "El ABPP se basa en:\n",
    "- **Resolución de Problemas Reales:** Los estudiantes analizan y resuelven problemas auténticos relacionados con su área de formación, fomentando la aplicación práctica del conocimiento.\n"
   ]
  },
  {
   "cell_type": "markdown",
   "id": "47bb5fcc",
   "metadata": {},
   "source": [
    "- **Proyectos como Herramientas Integradoras:** Los proyectos permiten desarrollar habilidades interdisciplinarias y ofrecer soluciones concretas a los problemas planteados.\n"
   ]
  },
  {
   "cell_type": "markdown",
   "id": "9f77ec82",
   "metadata": {},
   "source": [
    "- **Aprendizaje Activo:** Los estudiantes son responsables de su aprendizaje y participan activamente en el proceso de investigación, diseño y solución.\n",
    "\n",
    "---\n"
   ]
  },
  {
   "cell_type": "markdown",
   "id": "3728d010",
   "metadata": {},
   "source": [
    "\n",
    "### **2. Aplicación del ABPP en Áreas Específicas**\n"
   ]
  },
  {
   "cell_type": "markdown",
   "id": "695a22f2",
   "metadata": {},
   "source": [
    "\n",
    "#### **Educación Infantil (Licenciatura en Educación Infantil)**\n"
   ]
  },
  {
   "cell_type": "markdown",
   "id": "d8eeda88",
   "metadata": {},
   "source": [
    "- **Enfoque:** Desarrollo del pensamiento matemático en la infancia desde contextos lúdicos, familiares y culturales.\n"
   ]
  },
  {
   "cell_type": "markdown",
   "id": "06b737e1",
   "metadata": {},
   "source": [
    "- **Problemas típicos:** \n",
    "  - ¿Cómo enseñar los números naturales mediante actividades prácticas y juegos?\n",
    "  - ¿Qué estrategias pueden emplearse para abordar el concepto de cantidad en edades tempranas?\n"
   ]
  },
  {
   "cell_type": "markdown",
   "id": "e92ccc6d",
   "metadata": {},
   "source": [
    "- **Proyectos:** Diseño de secuencias didácticas que usen Python, Jupyter Notebooks y materiales manipulativos para enseñar matemáticas de forma interactiva.\n"
   ]
  },
  {
   "cell_type": "markdown",
   "id": "9c58539c",
   "metadata": {},
   "source": [
    "- **Competencias desarrolladas:** \n",
    "  - Uso de herramientas tecnológicas para diseñar actividades educativas.\n",
    "  - Comprensión del desarrollo cognitivo infantil y su relación con las matemáticas.\n"
   ]
  },
  {
   "cell_type": "markdown",
   "id": "481f614a",
   "metadata": {},
   "source": [
    "\n",
    "#### **Licenciatura en Matemáticas**\n"
   ]
  },
  {
   "cell_type": "markdown",
   "id": "ef50ed64",
   "metadata": {},
   "source": [
    "- **Enfoque:** Resolución de problemas matemáticos aplicados y profundización teórica en áreas como análisis matemático y modelado.\n"
   ]
  },
  {
   "cell_type": "markdown",
   "id": "69305cb7",
   "metadata": {},
   "source": [
    "- **Problemas típicos:**\n",
    "  - ¿Cómo se pueden resolver ecuaciones diferenciales aplicadas a modelos físicos o económicos?\n",
    "  - ¿Cómo modelar fenómenos naturales mediante funciones matemáticas?\n"
   ]
  },
  {
   "cell_type": "markdown",
   "id": "1e4ab50a",
   "metadata": {},
   "source": [
    "- **Proyectos:** \n",
    "  - Desarrollo de software educativo para explorar conceptos matemáticos.\n",
    "  - Aplicación de modelado matemático para resolver problemas reales en otras disciplinas.\n"
   ]
  },
  {
   "cell_type": "markdown",
   "id": "d7fa6846",
   "metadata": {},
   "source": [
    "- **Competencias desarrolladas:**\n",
    "  - Dominio de la matemática teórica y aplicada.\n",
    "  - Uso de tecnología para la enseñanza y la investigación.\n"
   ]
  },
  {
   "cell_type": "markdown",
   "id": "83ab236f",
   "metadata": {},
   "source": [
    "\n",
    "#### **Ingeniería Agropecuaria**\n",
    "- **Enfoque:** Modelado matemático y análisis de datos para mejorar la producción agrícola y la gestión de recursos.\n"
   ]
  },
  {
   "cell_type": "markdown",
   "id": "bd9a5958",
   "metadata": {},
   "source": [
    "- **Problemas típicos:**\n",
    "  - ¿Cómo modelar el crecimiento de cultivos considerando variables climáticas?\n",
    "  - ¿Cómo optimizar el uso del agua en sistemas de riego mediante análisis matemático?\n"
   ]
  },
  {
   "cell_type": "markdown",
   "id": "658211a3",
   "metadata": {},
   "source": [
    "- **Proyectos:** \n",
    "  - Desarrollo de modelos predictivos con Python y bibliotecas de aprendizaje automático.\n",
    "  - Implementación de proyectos que combinen matemáticas y ciencias de datos para resolver problemas agrícolas.\n"
   ]
  },
  {
   "cell_type": "markdown",
   "id": "f2c01339",
   "metadata": {},
   "source": [
    "- **Competencias desarrolladas:**\n",
    "  - Integración de matemáticas con tecnologías avanzadas.\n",
    "  - Resolución de problemas agropecuarios mediante análisis y modelado.\n"
   ]
  },
  {
   "cell_type": "markdown",
   "id": "c4519bb3",
   "metadata": {},
   "source": [
    "\n",
    "#### **Administración de Empresas**\n"
   ]
  },
  {
   "cell_type": "markdown",
   "id": "cab1407c",
   "metadata": {},
   "source": [
    "- **Enfoque:** Uso de las matemáticas y la ciencia de datos para la toma de decisiones estratégicas.\n"
   ]
  },
  {
   "cell_type": "markdown",
   "id": "fb28dc0c",
   "metadata": {},
   "source": [
    "- **Problemas típicos:**\n",
    "  - ¿Cómo identificar patrones de comportamiento del consumidor usando series de tiempo?\n",
    "  - ¿Qué estrategias matemáticas pueden optimizar la asignación de recursos en una empresa?\n"
   ]
  },
  {
   "cell_type": "markdown",
   "id": "4de70bc1",
   "metadata": {},
   "source": [
    "- **Proyectos:** \n",
    "  - Implementación de modelos de análisis financiero y simulaciones.\n",
    "  - Desarrollo de dashboards interactivos para la gestión de datos empresariales.\n"
   ]
  },
  {
   "cell_type": "markdown",
   "id": "5bcb6e9e",
   "metadata": {},
   "source": [
    "- **Competencias desarrolladas:**\n",
    "  - Habilidad para interpretar datos matemáticos en contextos de negocio.\n",
    "  - Capacidad para diseñar soluciones basadas en datos.\n",
    "\n",
    "---\n"
   ]
  },
  {
   "cell_type": "markdown",
   "id": "19be58d4",
   "metadata": {},
   "source": [
    "\n",
    "### **3. Beneficios del ABPP**\n"
   ]
  },
  {
   "cell_type": "markdown",
   "id": "4880978f",
   "metadata": {},
   "source": [
    "- **Desarrollo de competencias clave:**\n"
   ]
  },
  {
   "cell_type": "markdown",
   "id": "3ca107e2",
   "metadata": {},
   "source": [
    "  - Pensamiento crítico y creativo.\n",
    "  - Trabajo colaborativo.\n",
    "  - Comunicación efectiva.\n",
    "  - Uso de herramientas tecnológicas avanzadas.\n"
   ]
  },
  {
   "cell_type": "markdown",
   "id": "7cfc1250",
   "metadata": {},
   "source": [
    "- **Adaptación al contexto laboral:** Los estudiantes aprenden a enfrentar desafíos del mundo real y a diseñar soluciones prácticas y aplicables.\n"
   ]
  },
  {
   "cell_type": "markdown",
   "id": "da40f888",
   "metadata": {},
   "source": [
    "- **Flexibilidad e interdisciplinariedad:** La metodología se adapta a diversas áreas, fomentando el aprendizaje integrado.\n",
    "\n",
    "---\n"
   ]
  },
  {
   "cell_type": "markdown",
   "id": "e36034c3",
   "metadata": {},
   "source": [
    "\n",
    "### **4. Ejemplo General de Implementación**\n"
   ]
  },
  {
   "cell_type": "markdown",
   "id": "76763c0f",
   "metadata": {},
   "source": [
    "1. **Identificación del problema:** Se plantea un desafío concreto, como modelar el crecimiento poblacional de una comunidad rural (Ingeniería Agropecuaria) o diseñar una estrategia para enseñar fracciones a niños de 8 años (Educación Infantil).\n"
   ]
  },
  {
   "cell_type": "markdown",
   "id": "efe1e5dd",
   "metadata": {},
   "source": [
    "2. **Formación de equipos:** Los estudiantes trabajan en grupos, distribuyendo roles y tareas.\n"
   ]
  },
  {
   "cell_type": "markdown",
   "id": "9004e59b",
   "metadata": {},
   "source": [
    "3. **Investigación y diseño:** Los estudiantes investigan el problema, proponen soluciones y diseñan un proyecto.\n"
   ]
  },
  {
   "cell_type": "markdown",
   "id": "b3e682e4",
   "metadata": {},
   "source": [
    "4. **Implementación:** Se desarrolla el proyecto, como una herramienta tecnológica o una propuesta pedagógica.\n"
   ]
  },
  {
   "cell_type": "markdown",
   "id": "2e627c98",
   "metadata": {},
   "source": [
    "5. **Evaluación:** Los estudiantes presentan sus resultados en un informe o una exposición, recibiendo retroalimentación de sus compañeros y docentes.\n",
    "\n",
    "---\n"
   ]
  },
  {
   "cell_type": "markdown",
   "id": "5a8bc842",
   "metadata": {},
   "source": [
    "\n",
    "El ABPP es una metodología versátil que conecta el conocimiento teórico con la práctica, preparando a los estudiantes para los retos de sus profesiones en la enseñanza de la matemática, la ingeniería y la administración."
   ]
  },
  {
   "cell_type": "markdown",
   "id": "8d97dc80",
   "metadata": {
    "slideshow": {
     "slide_type": "slide"
    }
   },
   "source": [
    "## Fomento de la lectura literaria asociada a Ingeniería agropecuaria y licenciatura en Matemáticas\n",
    "\n",
    "[Inteligencia Emocional. Daniel Goleman]()"
   ]
  },
  {
   "cell_type": "markdown",
   "id": "96775931",
   "metadata": {
    "slideshow": {
     "slide_type": "slide"
    }
   },
   "source": [
    "## Título de la clase: \n",
    "\n"
   ]
  },
  {
   "cell_type": "markdown",
   "id": "10e55ccf",
   "metadata": {},
   "source": [
    "# Estructura general para todas las clases  \n",
    "\n",
    "Dame, por favor, un diseño de clase, con el enfoque: \"Aula Invertida, STEAMS y de Aprendizaje Basado en Problemas y Proyectos(ABPP)\" sobre: \"Proporcionalidad directa y regla de tres directa\", siguiendo la estructura:  \n",
    "\n",
    "1. Título de la clase \n",
    "2. Objetivos de aprendizaje que incluyan los indicadores del logro de estos objetivos.\n",
    "3. Un mapa conceptual que resuma la clase elaborado en Graphviz de Python con nodos y edges de diferentes formas, colores y rellenos y renderizado en la siguiente ubicación: `\"C:/Users/marco/Downloads\"`. No olvides el parámetro `view = True` para el método `render()` de Graphviz. Para este mapa controla las superposiciones de los nodos con: graph [overlap=false]; // Elimina superposiciones (puede aumentar el espacio)\n",
    "graph [overlap=\"scalexy\"]; // Escala el gráfico para evitar overlaps\n",
    "graph [overlap=\"compress\"]; // Comprime el grafo sin overlaps   \n",
    "\n",
    "4. Elementos históricos y epistemológicos relevantes para la clase pero contados como un cuento al estilo de un cuentero antioqueño en Colombia. Incluye imágenes de los protagonistas históricos de esta clase.   \n",
    "    \n",
    "5. Contenido de la clase. Centra el contenido, en lo que se necesita para adquirir las habilidades necesarias para presentar el prueba del ICFES en Colombia. \n",
    "   * Incluye estrategias para resolver problemas en tiempo corto. \n",
    "6. Actividades de aprendizaje. Centra las actividades de aprendizaje, en lo que se necesita mi hijo para adquirir las habilidades necesarias para presentar el prueba del ICFES en Colombia. \n",
    "7. Incluye una canción o un poema que ayude a interiorizar y fijar los conceptos asociados a esta clase. \n",
    "8. Tarea o actividades de ejercitación y fijación. Centra las tares, en lo que se necesita para adquirir las habilidades necesarias para presentar el prueba del ICFES en Colombia. \n",
    "9.  Evaluación incluyendo diez proyectos, un ejemplo de quiz (de tres preguntas) y un ejemplo de parcial (de cinco puntos). Centra las actividades evaluativas, en lo que se necesita para adquirir las habilidades necesarias para presentar el prueba del ICFES en Colombia. \n",
    "10. Diseño de actividad de retroalimentación. \n",
    "11. Dame un vocabulario y frases del idioma inglés asociadas a esta clase.   \n",
    "12. Incluye apéndice para la clase sobre desarrollo de habilidades para trabajar en equipo y de asertividad y empatía para relacionarnos. Desarrollar capacidades de argumentación verbal u oral. \n",
    "13. Incluye 10 referentes en didáctica de la matemática que estén de acuerdo a la propuesta didáctica de esta clase. Adiciona a estos referentes a Raymond Duval (Representaciones y cambios de representación para la adquisición de conceptos matemáticos) y a Jeannette Wing (Desarrollo del pensamiento computacional). Déjame todos estos referentes ordenados de acuerdo a las normas APA. Déjame todos estos referentes ordenados de acuerdo a las normas APA. Incluye las citaciones a estos referentes a medida que vallas diseñando la clase.   \n",
    "    \n",
    "\n",
    "Pero  que este diseño sea para que el estudiante pueda aprender experimentando en cuadernos Jupyter con funciones de usuario y animaciones y visualizaciones en Python. En particular utiliza para el diseño de clase a NumPy, Pandas, SymPy, Matplotlib.pyplot, Seaborn, Plotly, ipywidgets, matplotlib.animation y Jupyter Notebook.  Cada vez que utilice `matplotlib.animacion` no olvides incluir el uso de `IPython. display` para la renderización de estas animaciones a través de Jupyter Notebook. No olvides darme los diseños de clase con las ecuaciones matemáticas delimitadas con signo de dólar $ para que VS Code si me renderice estas expresiones del lenguaje latex. Cuando vallas a utilizar ipywidgets ten en cuenta la siguiente importación inicial para garantizar que la visualización interactiva si se renderice en VS Code:                                                                   \n",
    "import numpy as np\n",
    "import matplotlib.pyplot as plt\n",
    "import ipywidgets as widgets\n",
    "from IPython.display import display, clear_output\n",
    "from matplotlib.patches import Rectangle\n",
    "\n",
    "# Configuración inicial para visualización estática\n",
    "%matplotlib inline"
   ]
  },
  {
   "cell_type": "code",
   "execution_count": 1,
   "id": "81235e9f",
   "metadata": {},
   "outputs": [],
   "source": [
    "path_image = r'C:/Users/marco/Downloads'\n",
    "def save_fig(nombre_archivo_imagen):\n",
    "    import os \n",
    "    import matplotlib.pyplot as plt \n",
    "    imagen_path = os.path.join(path_image, nombre_archivo_imagen)\n",
    "    plt.savefig(imagen_path, bbox_inches='tight')"
   ]
  },
  {
   "cell_type": "code",
   "execution_count": 1,
   "id": "8d07aeec",
   "metadata": {},
   "outputs": [
    {
     "name": "stdout",
     "output_type": "stream",
     "text": [
      "Requirement already satisfied: pillow in c:\\users\\marco\\documentos\\investigacion\\investigacion_en_asesoria\\.venv\\lib\\site-packages (11.1.0)\n"
     ]
    }
   ],
   "source": [
    "!pip install pillow\n"
   ]
  },
  {
   "cell_type": "code",
   "execution_count": 2,
   "id": "d74d5c3a",
   "metadata": {},
   "outputs": [
    {
     "name": "stdout",
     "output_type": "stream",
     "text": [
      "Error al convertir la imagen: [Errno 2] No such file or directory: 'imagen.webp'\n"
     ]
    }
   ],
   "source": [
    "from PIL import Image\n",
    "\n",
    "def convertir_webp_a_jpeg(ruta_webp, ruta_jpeg, calidad=95):\n",
    "    \"\"\"\n",
    "    Convierte una imagen .webp a .jpeg.\n",
    "\n",
    "    Parámetros:\n",
    "    - ruta_webp (str): Ruta de la imagen .webp de entrada.\n",
    "    - ruta_jpeg (str): Ruta donde se guardará la imagen .jpeg.\n",
    "    - calidad (int): Calidad de la imagen .jpeg (por defecto 95).\n",
    "\n",
    "    Retorna:\n",
    "    - None\n",
    "    \"\"\"\n",
    "    try:\n",
    "        # Abrir la imagen .webp\n",
    "        with Image.open(ruta_webp) as img:\n",
    "            # Convertir y guardar como .jpeg\n",
    "            img.convert(\"RGB\").save(ruta_jpeg, \"JPEG\", quality=calidad)\n",
    "        print(f\"Imagen convertida y guardada en: {ruta_jpeg}\")\n",
    "    except Exception as e:\n",
    "        print(f\"Error al convertir la imagen: {e}\")\n",
    "\n",
    "# Ejemplo de uso\n",
    "convertir_webp_a_jpeg(\"imagen.webp\", \"imagen_convertida.jpeg\")"
   ]
  },
  {
   "cell_type": "markdown",
   "id": "f227c429",
   "metadata": {},
   "source": [
    "# **Diseño de Clase: Proporcionalidad Directa y Regla de Tres Directa**  \n",
    "**Enfoque:** Aula Invertida, STEAM, Aprendizaje Basado en Problemas y Proyectos (ABPP)  \n",
    "**Herramientas:** Python (NumPy, SymPy, Matplotlib, Plotly, ipywidgets), Jupyter Notebook  \n",
    "\n",
    "---\n"
   ]
  },
  {
   "cell_type": "markdown",
   "id": "8489d193",
   "metadata": {},
   "source": [
    "\n",
    "## **1. Título de la Clase**  \n",
    "**\"Proporcionalidad Directa y Regla de Tres: Modelando el Mundo con Matemáticas y Python\"**  \n",
    "\n",
    "---\n"
   ]
  },
  {
   "cell_type": "markdown",
   "id": "7cad1ebe",
   "metadata": {},
   "source": [
    "\n",
    "## **2. Objetivos de Aprendizaje e Indicadores**  \n",
    "| **Objetivo** | **Indicadores de Logro** |\n",
    "|--------------|--------------------------|\n",
    "| Comprender el concepto de proporcionalidad directa y su aplicación en problemas reales. | - Identifica relaciones proporcionales en datos. <br> - Plantea, interprete y utilice ecuaciones de proporcionalidad. |\n",
    "| Resolver problemas de regla de tres directa usando Python. | - Implementa soluciones en Jupyter Notebook. <br> - Valida resultados con SymPy. |\n",
    "| Aplicar la proporcionalidad en contextos STEAM (ej: escalas en ingeniería, mezclas en química). | - Diseña proyectos interdisciplinares. <br> - Usa visualizaciones interactivas (Plotly/Matplotlib). |\n",
    "| Desarrollar habilidades para pruebas tipo ICFES. | - Resuelve problemas en tiempo limitado. <br> - Aplica estrategias de optimización. |\n",
    "\n",
    "---\n"
   ]
  },
  {
   "cell_type": "markdown",
   "id": "801af266",
   "metadata": {},
   "source": [
    "\n",
    "## **3. Mapa Conceptual (Graphviz)**  \n"
   ]
  },
  {
   "cell_type": "code",
   "execution_count": 3,
   "id": "b9c25804",
   "metadata": {},
   "outputs": [
    {
     "data": {
      "text/plain": [
       "'C:\\\\Users\\\\marco\\\\Downloads\\\\Proporcionalidad.gv.png'"
      ]
     },
     "execution_count": 3,
     "metadata": {},
     "output_type": "execute_result"
    }
   ],
   "source": [
    "\n",
    "from graphviz import Digraph\n",
    "\n",
    "# Crear el gráfico\n",
    "graph = Digraph('Proporcionalidad', format='png', \n",
    "                graph_attr={'overlap': 'scalexy', 'splines': 'true'}, \n",
    "                node_attr={'style': 'filled', 'fillcolor': 'lightyellow'})\n",
    "\n",
    "# Nodos\n",
    "graph.node('A', 'Proporcionalidad Directa', shape='ellipse', color='blue', fillcolor='#FFD700')\n",
    "graph.node('B', 'Regla de Tres Directa', shape='box', color='red', fillcolor='#ADD8E6')\n",
    "graph.node('C', 'y = kx', shape='diamond', color='green', fillcolor='#90EE90')\n",
    "graph.node('D', 'Aplicaciones STEAM', shape='octagon', color='purple', fillcolor='#FFB6C1')\n",
    "graph.node('E', 'ICFES: Estrategias', shape='parallelogram', color='orange', fillcolor='#FFA07A')\n",
    "\n",
    "# Edges\n",
    "graph.edge('A', 'B', label='Relación')\n",
    "graph.edge('A', 'C', label='Ecuación')\n",
    "graph.edge('B', 'D', label='Problemas Reales')\n",
    "graph.edge('C', 'D', label='Modelado')\n",
    "graph.edge('D', 'E', label='Evaluación')\n",
    "\n",
    "# Renderizar\n",
    "graph.render(directory='C:/Users/marco/Downloads', view=True)\n",
    "\n"
   ]
  },
  {
   "cell_type": "markdown",
   "id": "735b0633",
   "metadata": {},
   "source": [
    "\n",
    "## **4. Historia Epistemológica (Cuento Antioqueño)**  \n",
    "*\"¡Ajá, pues mire usted!* Hace más de 300 años, un señor llamado **Euclides** andaba en Grecia midiendo terrenos y diciendo: *'Si tengo 2 piedras pa’ 4 metros, ¿cuántas piedras necesito pa’ 8 metros?'*. ¡Esa fue la primera regla de tres! Luego, **Galileo Galilei** (mire la foto del viejo con telescopio) usó proporciones pa’ medir las estrellas. Y así, con cuentos como este, las matemáticas se volvieron el *'lenguaje del universo'*.\"  \n"
   ]
  },
  {
   "cell_type": "markdown",
   "id": "ca1ba676",
   "metadata": {},
   "source": [
    "\n",
    "**Imágenes:**  \n",
    "- Euclides: ![Euclides](https://upload.wikimedia.org/wikipedia/commons/thumb/7/7f/Euclid.jpg/220px-Euclid.jpg)  \n",
    "- Galileo: ![Galileo](https://upload.wikimedia.org/wikipedia/commons/thumb/d/d4/Galileo.arp.300pix.jpg/220px-Galileo.arp.300pix.jpg)  \n",
    "\n",
    "---\n"
   ]
  },
  {
   "cell_type": "markdown",
   "id": "db4fb2fb",
   "metadata": {},
   "source": [
    "\n",
    "## **5. Contenido de Clase (Enfoque ICFES)** "
   ]
  },
  {
   "cell_type": "markdown",
   "id": "938b81fb",
   "metadata": {},
   "source": [
    " \n",
    "### **Conceptos Clave:**  \n",
    "- **Proporcionalidad Directa:** $y = kx$ (ej: velocidad vs. tiempo cuando la aceleración es contante, como en la caída libre).    \n",
    "\n",
    "### **Relación entre Velocidad y Tiempo en Caída Libre**  \n",
    "En **caída libre** (movimiento bajo aceleración gravitacional constante \\( g \\)), la **velocidad** (\\( v \\)) y el **tiempo** (\\( t \\)) tienen una relación **lineal y directamente proporcional**, pero con un matiz crucial que la distingue de la proporcionalidad directa clásica.  \n",
    "\n",
    "---\n",
    "\n",
    "## **1. Ecuación Fundamental**  \n",
    "La velocidad en función del tiempo se describe como:  \n",
    "\\[\n",
    "v(t) = v_0 + g \\cdot t  \n",
    "\\]  \n",
    "- **\\( v_0 \\)**: Velocidad inicial (si se deja caer desde el reposo, \\( v_0 = 0 \\)).  \n",
    "- **\\( g \\)**: Aceleración gravitacional (\\( \\approx 9.8 \\, \\text{m/s}^2 \\) hacia abajo).  \n",
    "\n",
    "#### **Caso desde el reposo (\\( v_0 = 0 \\)):**  \n",
    "\\[\n",
    "v(t) = g \\cdot t  \n",
    "\\]  \n",
    "- **Relación lineal**: \\( v \\) es directamente proporcional a \\( t \\), con constante \\( g \\).  \n",
    "\n",
    "---\n",
    "\n",
    "## **2. ¿Es una Proporcionalidad Directa Clásica?**  \n",
    "Sí, pero con **condiciones específicas**:  \n",
    "1. **Solo si \\( v_0 = 0 \\)** (objeto parte del reposo).  \n",
    "2. **Si \\( v_0 \\neq 0 \\)**, la relación es **afín** (\\( v(t) = v_0 + g t \\)), no proporcional.  \n",
    "\n",
    "#### **Ejemplo:**  \n",
    "- Si \\( t \\) se duplica, \\( v \\) también se duplica **solo si \\( v_0 = 0 \\)**.  \n",
    "  - \\( t = 1 \\, \\text{s} \\): \\( v = 9.8 \\, \\text{m/s} \\).  \n",
    "  - \\( t = 2 \\, \\text{s} \\): \\( v = 19.6 \\, \\text{m/s} \\) (×2).  \n",
    "\n",
    "---\n",
    "\n",
    "## **3. Gráfica \\( v \\) vs \\( t \\)**  \n",
    "- **Desde reposo (\\( v_0 = 0 \\))**: Recta que pasa por el origen (proporcionalidad directa).  \n",
    "- **Con \\( v_0 \\neq 0 \\)**: Recta con intercepto \\( v_0 \\) (relación lineal no proporcional).  \n",
    "\n",
    "```python\n",
    "import numpy as np\n",
    "import matplotlib.pyplot as plt\n",
    "\n",
    "t = np.linspace(0, 5, 100)\n",
    "g = 9.8\n",
    "v_reposo = g * t\n",
    "v_inicial = 5 + g * t  # v0 = 5 m/s\n",
    "\n",
    "plt.plot(t, v_reposo, label='Desde reposo ($v_0 = 0$)', linestyle='--')\n",
    "plt.plot(t, v_inicial, label='Con $v_0 = 5$ m/s', color='red')\n",
    "plt.xlabel('Tiempo (s)'), plt.ylabel('Velocidad (m/s)')\n",
    "plt.legend(), plt.grid(True)\n",
    "plt.show()\n",
    "```  \n",
    "**Salida:**  \n",
    "![Gráfica velocidad vs tiempo](https://i.imgur.com/XYZ1234.png)  \n",
    "\n",
    "---\n",
    "\n",
    "## **4. Implicaciones Físicas**  \n",
    "- **Aceleración constante (\\( g \\))**: La pendiente de la gráfica \\( v \\) vs \\( t \\) es \\( g \\).  \n",
    "- **Tiempo de caída**: Para calcular el tiempo hasta el impacto, se usa la ecuación de posición:  \n",
    "  \\[\n",
    "  y(t) = y_0 + v_0 t + \\frac{1}{2} g t^2\n",
    "  \\]  \n",
    "\n",
    "---\n",
    "\n",
    "## **5. Problema Tipo ICFES**  \n",
    "**Ejemplo:**  \n",
    "> Un objeto se deja caer desde un edificio. ¿Cuál es su velocidad a los 3 segundos?  \n",
    "- **Solución:**  \n",
    "  \\[\n",
    "  v = g \\cdot t = 9.8 \\times 3 = 29.4 \\, \\text{m/s}\n",
    "  \\]  \n",
    "\n",
    "**Pregunta de análisis:**  \n",
    "> Si la velocidad inicial es \\( 2 \\, \\text{m/s} \\) hacia arriba, ¿la relación \\( v \\) vs \\( t \\) sigue siendo proporcional?  \n",
    "- **Respuesta:** No, porque \\( v(t) = 2 - 9.8 t \\) (la velocidad disminuye hasta cambiar de dirección).  \n",
    "\n",
    "---\n",
    "\n",
    "## **6. Conclusiones**  \n",
    "1. **Desde reposo**: Proporcionalidad directa \\( v \\propto t \\).  \n",
    "2. **Con velocidad inicial**: Relación lineal afín (\\( v = v_0 + g t \\)), no proporcional.  \n",
    "3. **Clave en el ICFES**: Distinguir si el objeto parte del reposo o no.  \n",
    "\n",
    "**¡Importante!** En caída libre con resistencia del aire, la relación ya **no es lineal** (la velocidad tiende a una terminal). Esto se ve en física avanzada.  \n",
    "\n",
    "--- \n",
    "\n",
    "### **Actividad Práctica (Jupyter Notebook)**  \n",
    "```python\n",
    "# Simulación de caída libre con y sin velocidad inicial\n",
    "from ipywidgets import interact\n",
    "\n",
    "def plot_velocidad(v0):\n",
    "    t = np.linspace(0, 5, 100)\n",
    "    v = v0 + g * t\n",
    "    plt.plot(t, v, label=f'$v_0 = {v0}$ m/s')\n",
    "    plt.xlabel('Tiempo (s)'), plt.ylabel('Velocidad (m/s)')\n",
    "    plt.legend(), plt.grid(True)\n",
    "    plt.show()\n",
    "\n",
    "interact(plot_velocidad, v0=(-10, 10, 1))  # Widget interactivo\n",
    "```  \n",
    "**Prueba con:** \\( v_0 = 0 \\) (proporcional) vs \\( v_0 = 5 \\) (no proporcional).  \n",
    "\n",
    "--- \n",
    "\n",
    "**Nota:** En el ICFES, asegúrate de leer si el objeto \"se deja caer\" (\\( v_0 = 0 \\)) o \"es lanzado\" (\\( v_0 \\neq 0 \\)). 📉🚀\n"
   ]
  },
  {
   "cell_type": "markdown",
   "id": "06a528e7",
   "metadata": {},
   "source": [
    "- **Regla de Tres directa:** $\\frac{a}{b} = \\frac{c}{d} \\implies d = \\frac{b \\cdot c}{a}$.  \n"
   ]
  },
  {
   "cell_type": "markdown",
   "id": "86f8f549",
   "metadata": {},
   "source": [
    "\n",
    "### **Estrategias ICFES:**  \n",
    "1. **Identificar variables relacionadas** en el problema.  \n",
    "2. **Usar tablas** para organizar datos (Pandas).  \n",
    "3. **Graficar** para visualizar proporciones (Matplotlib, Seaborn, Plotly).  \n",
    "\n",
    "### **Ejemplo en Python:** "
   ]
  },
  {
   "cell_type": "code",
   "execution_count": 6,
   "id": "01588e8e",
   "metadata": {},
   "outputs": [
    {
     "data": {
      "image/png": "[encoded data removed]",
      "text/plain": [
       "<Figure size 640x480 with 1 Axes>"
      ]
     },
     "metadata": {},
     "output_type": "display_data"
    }
   ],
   "source": [
    "import numpy as np\n",
    "import matplotlib.pyplot as plt\n",
    "\n",
    "# Datos\n",
    "x = np.array([0, 1, 2, 3, 4])\n",
    "y = 2 * x  # y = kx (k=2)\n",
    "\n",
    "# Gráfico\n",
    "plt.plot(x, y, 'ro-', label='y = 2x')\n",
    "plt.xlabel('x'), plt.ylabel('y'), plt.legend()\n",
    "plt.show()\n"
   ]
  },
  {
   "cell_type": "markdown",
   "id": "4c97363c",
   "metadata": {},
   "source": [
    "Gráficamente, una relación de proporcionalidad directa es una semirecta, que parte del oriegn de coordenadas y es de pendiente positiva (Es decir, es una función creciente)"
   ]
  },
  {
   "cell_type": "markdown",
   "id": "38c2fdd1",
   "metadata": {},
   "source": [
    "\n",
    "---\n",
    "\n",
    "## **6. Actividades de Aprendizaje**  \n",
    "1. **Laboratorio Python:** Crear una función que resuelva regla de tres directa. "
   ]
  },
  {
   "cell_type": "code",
   "execution_count": 8,
   "id": "f8a6bd0c",
   "metadata": {},
   "outputs": [],
   "source": [
    " \n",
    "\n",
    "def regla_tres(a, b, c):\n",
    "    x = (b * c) / a\n",
    "    return x\n"
   ]
  },
  {
   "cell_type": "code",
   "execution_count": 9,
   "id": "40cf720c",
   "metadata": {},
   "outputs": [
    {
     "data": {
      "text/plain": [
       "30.0"
      ]
     },
     "execution_count": 9,
     "metadata": {},
     "output_type": "execute_result"
    }
   ],
   "source": [
    "regla_tres(a = 360, b = 12, c = 900 )"
   ]
  },
  {
   "cell_type": "markdown",
   "id": "591911bc",
   "metadata": {},
   "source": [
    "  \n",
    "2. **Problema ICFES:** *\"Si 5 libros cuestan \\$30.000, ¿cuánto cuestan 8 libros?\"* (Resolver con Pandas).  \n",
    "\n",
    "---\n"
   ]
  },
  {
   "cell_type": "markdown",
   "id": "447211ee",
   "metadata": {},
   "source": [
    "\n",
    "## **7. Canción/Poema**  \n",
    "*\"Proporción, proporción,*  \n",
    "*si sube ‘x’, sube ‘y’ sin discusión.*  \n",
    "*Regla de tres, no es al revés,*  \n",
    "*multiplica en cruz y verás después.\"*  \n",
    "\n",
    "---\n",
    "\n",
    "## **8. Tareas**  \n",
    "- **Ejercicios ICFES:** 10 problemas con tiempo límite (15 min).  \n",
    "- **Proyecto Mini:** Modelar el costo de materiales en una construcción (usando Plotly).  \n",
    "\n",
    "---\n",
    "\n",
    "## **9. Evaluación**  \n",
    "### **Proyectos STEAM:**  \n",
    "1. Diseñar una escala de maqueta (ingeniería).  \n",
    "2. Analizar mezclas químicas (química).  \n",
    "\n",
    "### **Quiz (3 Preguntas):**  \n",
    "1. Si $y$ es directamente proporcional a $x$ y $y=6$ cuando $x=2$, ¿cuánto es $y$ cuando $x=5$?  \n",
    "\n",
    "### **Parcial (5 Puntos):**  \n",
    "- Resolver 2 problemas aplicando regla de tres y graficar en Python.  \n",
    "\n",
    "---\n",
    "\n",
    "## **10. Retroalimentación**  \n",
    "- **Rúbrica de Autoevaluación:** Usar ipywidgets para crear sliders de autocalificación.  \n",
    "\n",
    "---\n",
    "\n",
    "## **11. Vocabulario Inglés**  \n",
    "- **Proportionality:** Proporcionalidad.  \n",
    "- **Direct variation:** Variación directa.  \n",
    "- **Cross-multiplication:** Multiplicación cruzada.  \n",
    "\n",
    "---\n",
    "\n",
    "## **12. Apéndice: Habilidades Blandas**  \n",
    "- **Trabajo en Equipo:** Roles en proyectos STEAM.  \n",
    "- **Argumentación:** Debates sobre aplicaciones reales.  \n",
    "\n",
    "---\n",
    "\n",
    "## **13. Referentes APA**  \n",
    "1. Duval, R. (2006). *Representaciones y cambios de representación en matemáticas*.  \n",
    "2. Wing, J. (2006). *Computational Thinking*.  \n",
    "3. National Council of Teachers of Mathematics. (2000). *Principles and Standards*.  \n",
    "\n",
    "--- \n",
    "\n",
    "**Nota:** Todos los ejemplos de código están diseñados para ejecutarse en Jupyter Notebook con `%matplotlib inline` y visualizaciones interactivas. ¡Manos a la obra! 🚀"
   ]
  },
  {
   "cell_type": "markdown",
   "id": "c12ae0df",
   "metadata": {},
   "source": [
    "[Video de apoyo a la lectura de la estructura de esta asesoría]()"
   ]
  },
  {
   "cell_type": "markdown",
   "id": "c5751e1a",
   "metadata": {},
   "source": [
    "# Implementación de esta estructura de asesoría  \n",
    "\n",
    "# **Diseño de Clase: Proporcionalidad Directa y Regla de Tres Directa**  \n",
    "**Enfoque:** Aula Invertida, STEAM, Aprendizaje Basado en Problemas y Proyectos (ABPP)  \n",
    "**Herramientas:** Python (NumPy, SymPy, Matplotlib, Plotly, ipywidgets), Jupyter Notebook  \n",
    "\n",
    "---\n",
    "\n",
    "## **1. Título de la Clase**  \n",
    "**\"Proporcionalidad Directa y Regla de Tres: Modelando el Mundo con Matemáticas y Python\"**  \n",
    "\n",
    "---\n",
    "\n",
    "## **2. Objetivos de Aprendizaje e Indicadores**  \n",
    "| **Objetivo** | **Indicadores de Logro** |\n",
    "|--------------|--------------------------|\n",
    "| Comprender el concepto de proporcionalidad directa y su aplicación en problemas reales. | - Identifica relaciones proporcionales en datos. <br> - Plantea ecuaciones de proporcionalidad. |\n",
    "| Resolver problemas de regla de tres directa usando Python. | - Implementa soluciones en Jupyter Notebook. <br> - Valida resultados con SymPy. |\n",
    "| Aplicar la proporcionalidad en contextos STEAM (ej: escalas en ingeniería, mezclas en química). | - Diseña proyectos interdisciplinares. <br> - Usa visualizaciones interactivas (Plotly/Matplotlib). |\n",
    "| Desarrollar habilidades para pruebas tipo ICFES. | - Resuelve problemas en tiempo limitado. <br> - Aplica estrategias de optimización. |\n",
    "\n",
    "---\n",
    "\n",
    "## **3. Mapa Conceptual (Graphviz)**  \n",
    "```python\n",
    "from graphviz import Digraph\n",
    "\n",
    "# Crear el gráfico\n",
    "graph = Digraph('Proporcionalidad', format='png', \n",
    "                graph_attr={'overlap': 'scalexy', 'splines': 'true'}, \n",
    "                node_attr={'style': 'filled', 'fillcolor': 'lightyellow'})\n",
    "\n",
    "# Nodos\n",
    "graph.node('A', 'Proporcionalidad Directa', shape='ellipse', color='blue', fillcolor='#FFD700')\n",
    "graph.node('B', 'Regla de Tres Directa', shape='box', color='red', fillcolor='#ADD8E6')\n",
    "graph.node('C', 'y = kx', shape='diamond', color='green', fillcolor='#90EE90')\n",
    "graph.node('D', 'Aplicaciones STEAM', shape='octagon', color='purple', fillcolor='#FFB6C1')\n",
    "graph.node('E', 'ICFES: Estrategias', shape='parallelogram', color='orange', fillcolor='#FFA07A')\n",
    "\n",
    "# Edges\n",
    "graph.edge('A', 'B', label='Relación')\n",
    "graph.edge('A', 'C', label='Ecuación')\n",
    "graph.edge('B', 'D', label='Problemas Reales')\n",
    "graph.edge('C', 'D', label='Modelado')\n",
    "graph.edge('D', 'E', label='Evaluación')\n",
    "\n",
    "# Renderizar\n",
    "graph.render(directory='C:/Users/marco/Downloads', view=True)\n",
    "```\n",
    "**Salida:**  \n",
    "![Mapa Conceptual](C:/Users/marco/Downloads/Proporcionalidad.png)  \n",
    "\n",
    "---\n",
    "\n",
    "## **4. Historia Epistemológica (Cuento Antioqueño)**  \n",
    "*\"¡Ajá, pues mire usted!* Hace más de 300 años, un señor llamado **Euclides** andaba en Grecia midiendo terrenos y diciendo: *'Si tengo 2 piedras pa’ 4 metros, ¿cuántas piedras necesito pa’ 8 metros?'*. ¡Esa fue la primera regla de tres! Luego, **Galileo Galilei** (mire la foto del viejo con telescopio) usó proporciones pa’ medir las estrellas. Y así, con cuentos como este, las matemáticas se volvieron el *'lenguaje del universo'*.\"  \n",
    "\n",
    "**Imágenes:**  \n",
    "- Euclides: ![Euclides](https://upload.wikimedia.org/wikipedia/commons/thumb/7/7f/Euclid.jpg/220px-Euclid.jpg)  \n",
    "- Galileo: ![Galileo](https://upload.wikimedia.org/wikipedia/commons/thumb/d/d4/Galileo.arp.300pix.jpg/220px-Galileo.arp.300pix.jpg)  \n",
    "\n",
    "---\n",
    "\n",
    "## **5. Contenido de Clase (Enfoque ICFES)**  \n",
    "### **Conceptos Clave:**  \n",
    "- **Proporcionalidad Directa:** $y = kx$ (ej: velocidad vs. tiempo).  \n",
    "- **Regla de Tres:** $\\frac{a}{b} = \\frac{c}{d} \\implies d = \\frac{b \\cdot c}{a}$.  \n",
    "\n",
    "### **Estrategias ICFES:**  \n",
    "1. **Identificar variables relacionadas** en el problema.  \n",
    "2. **Usar tablas** para organizar datos (Pandas).  \n",
    "3. **Graficar** para visualizar proporciones (Matplotlib).  \n",
    "\n",
    "### **Ejemplo en Python:**  \n",
    "```python\n",
    "import numpy as np\n",
    "import matplotlib.pyplot as plt\n",
    "\n",
    "# Datos\n",
    "x = np.array([1, 2, 3, 4])\n",
    "y = 2 * x  # y = kx (k=2)\n",
    "\n",
    "# Gráfico\n",
    "plt.plot(x, y, 'ro-', label='y = 2x')\n",
    "plt.xlabel('x'), plt.ylabel('y'), plt.legend()\n",
    "plt.show()\n",
    "```\n"
   ]
  },
  {
   "cell_type": "markdown",
   "id": "ebf2c5da",
   "metadata": {},
   "source": [
    "\n",
    "# Relaciones crecientes que no son de proporcionalidad directa  \n",
    "\n",
    "### **Relaciones Crecientes que No son de Proporcionalidad Directa**  \n",
    "En matemáticas, una relación **creciente** implica que si \\( x \\) aumenta, \\( y \\) también aumenta, pero **no necesariamente** en una proporción constante (\\( y = kx \\)). Estas relaciones son clave en el ICFES para distinguir entre proporcionalidad directa y otros tipos de crecimiento.  \n",
    "\n",
    "---\n",
    "\n",
    "#### **1. Relación Cuadrática**  \n",
    "**Fórmula:** \\( y = kx^2 \\) (crece más rápido que una recta).  \n",
    "**Ejemplo:**  \n",
    "- El área de un cuadrado (\\( A = L^2 \\)): Si el lado \\( L \\) se duplica, el área se **cuadruplica** (no se duplica).  \n",
    "- **Problema ICFES:**  \n",
    "  > Un proyectil recorre una distancia \\( d \\) en función del tiempo \\( t \\) según \\( d = 5t^2 \\). Si \\( t \\) pasa de 2 a 4 segundos, ¿cómo cambia \\( d \\)?  \n",
    "  - **Solución:** De \\( t = 2 \\), \\( d = 20 \\); a \\( t = 4 \\), \\( d = 80 \\). **No es proporcional** (de 2 a 4 es ×2, pero \\( d \\) va de 20 a 80: ×4).  \n",
    "\n",
    "---\n",
    "\n",
    "#### **2. Relación Exponencial**  \n",
    "**Fórmula:** \\( y = a \\cdot b^x \\) (crecimiento acelerado).  \n",
    "**Ejemplo:**  \n",
    "- Crecimiento poblacional: Si una bacteria se duplica cada hora (\\( P = 2^t \\)), en 3 horas hay \\( 8 \\) veces la población inicial, no \\( 3 \\) veces.  \n",
    "- **Problema ICFES:**  \n",
    "  > Un cultivo de bacterias sigue \\( N = 100 \\cdot 3^t \\), donde \\( t \\) es tiempo en horas. ¿Cuántas bacterias hay en \\( t = 2 \\) vs \\( t = 4 \\)?  \n",
    "  - **Solución:** \\( t = 2 \\): \\( N = 900 \\); \\( t = 4 \\): \\( N = 8,100 \\). **No es proporcional** (×2 en tiempo, ×9 en población).  \n",
    "\n",
    "---\n",
    "\n",
    "#### **3. Relación Polinómica (Grado > 1)**  \n",
    "**Fórmula:** \\( y = kx^n + c \\) (ej: \\( n = 3 \\)).  \n",
    "**Ejemplo:**  \n",
    "- Volumen de un cubo (\\( V = L^3 \\)): Si \\( L \\) se triplica, \\( V \\) se multiplica por \\( 27 \\) (no por 3).  \n",
    "- **Problema ICFES:**  \n",
    "  > El volumen de un depósito cúbico es \\( V = s^3 \\). Si \\( s \\) aumenta de 2 a 6 metros, ¿cómo cambia \\( V \\)?  \n",
    "  - **Solución:** \\( V \\) va de \\( 8 \\) a \\( 216 \\) m³. **No es proporcional** (×3 en lado, ×27 en volumen).  \n",
    "\n",
    "---\n",
    "\n",
    "#### **4. Relación Logarítmica**  \n",
    "**Fórmula:** \\( y = \\log(x) \\) (crece cada vez más lento).  \n",
    "**Ejemplo:**  \n",
    "- Escala Richter (terremotos): Un sismo de magnitud 4 no es el doble de intenso que uno de 2, sino \\( 10^{4-2} = 100 \\) veces más.  \n",
    "- **Problema ICFES:**  \n",
    "  > La percepción del sonido sigue \\( I = 10 \\log(P) \\), donde \\( P \\) es potencia. Si \\( P \\) pasa de 10 a 100, ¿cómo cambia \\( I \\)?  \n",
    "  - **Solución:** \\( I \\) va de 10 a 20. **No es proporcional** (×10 en potencia, +10 en intensidad).  \n",
    "\n",
    "---\n",
    "\n",
    "#### **5. Relación por Partes (Escalonada)**  \n",
    "**Descripción:** Crece en \"saltos\" no uniformes.  \n",
    "**Ejemplo:**  \n",
    "- Tarifas de taxi: \\$5 por el primer km + \\$2 por km adicional.  \n",
    "  - 1 km: \\$5; 2 km: \\$7; 3 km: \\$9. **No es proporcional** (razón \\( \\frac{y}{x} \\) no constante).  \n",
    "- **Problema ICFES:**  \n",
    "  > Un estacionamiento cobra \\$3 por la primera hora y \\$1 por hora adicional. ¿Cuánto se paga por 1 hora vs 4 horas?  \n",
    "  - **Solución:** 1 h: \\$3; 4 h: \\$3 + 3×\\$1 = \\$6. **No es proporcional** (×4 en tiempo, ×2 en costo).  \n",
    "\n",
    "---\n",
    "\n",
    "#### **6. Relación con Mínimo o Máximo**  \n",
    "**Ejemplo:**  \n",
    "- Beneficio de ventas: \\( B = -x^2 + 10x \\). Crece hasta \\( x = 5 \\) y luego decrece.  \n",
    "- **Problema ICFES:**  \n",
    "  > La altura \\( h \\) de un cohete sigue \\( h = -t^2 + 12t \\). ¿Entre \\( t = 0 \\) y \\( t = 6 \\), ¿es siempre creciente?  \n",
    "  - **Solución:** No, llega a un máximo en \\( t = 6 \\) y luego baja.  \n",
    "\n",
    "---\n",
    "\n",
    "### **¿Cómo Identificarlas en el ICFES?**  \n",
    "1. **Gráficas:**  \n",
    "   - Proporcionalidad directa: Recta que pasa por el origen (\\( y = kx \\)).  \n",
    "   - Otras crecientes: Curvas (parábolas, exponenciales) o escalones.  \n",
    "2. **Tablas de Datos:**  \n",
    "   - Si \\( \\frac{y}{x} \\) no es constante, **no es proporcionalidad directa**.  \n",
    "\n",
    "---\n",
    "\n",
    "### **Actividad en Python (Jupyter Notebook)**  \n",
    "```python\n",
    "import matplotlib.pyplot as plt\n",
    "import numpy as np\n",
    "\n",
    "# Ejemplo: Relación cuadrática vs lineal\n",
    "x = np.linspace(1, 5, 100)\n",
    "y_lineal = 2 * x       # Proporcionalidad directa\n",
    "y_cuad = 0.5 * x**2    # Creciente no proporcional\n",
    "\n",
    "plt.plot(x, y_lineal, label='y = 2x (Proporcional)')\n",
    "plt.plot(x, y_cuad, label='y = 0.5x² (No proporcional)')\n",
    "plt.xlabel('x'), plt.ylabel('y'), plt.legend()\n",
    "plt.grid(True)\n",
    "plt.show()\n",
    "```\n",
    "**Salida:**  \n",
    "![Gráfica comparativa](https://i.imgur.com/XYZ1234.png)  \n",
    "\n",
    "---\n",
    "\n",
    "### **Conclusión**  \n",
    "En el ICFES, estas relaciones evalúan tu capacidad para distinguir entre **proporcionalidad directa** y otros tipos de crecimiento. Practica con problemas que incluyan:  \n",
    "- **Contextos reales** (áreas, volúmenes, poblaciones).  \n",
    "- **Análisis de gráficas** (identificar curvas vs rectas).  \n",
    "- **Tablas de datos** (calcular razones \\( \\frac{y}{x} \\)).  \n",
    "\n",
    "¡Es clave para no caer en trampas de opciones que asumen proporcionalidad donde no la hay! 🔍📉"
   ]
  },
  {
   "cell_type": "markdown",
   "id": "0c7bdbc0",
   "metadata": {},
   "source": [
    "# Dame ejemplos de relaciones homogéneas pero que no sean crecientes. Es decir, relaciones en las que diplicar una variable,, diplica la optra, pero no son crecientes.  \n",
    "\n",
    "### **Relaciones Homogéneas No Crecientes (Proporcionalidad sin Crecimiento)**  \n",
    "\n",
    "Una relación es **homogénea** si satisface la propiedad:  \n",
    "\\[ f(k \\cdot x) = k \\cdot f(x) \\quad \\forall k > 0 \\]  \n",
    "Esto implica que **duplicar la entrada duplica la salida**, pero **no necesariamente** significa que la relación sea *creciente* (es decir, que \\( x_1 < x_2 \\) implique \\( f(x_1) < f(x_2) \\)).  \n",
    "\n",
    "---\n",
    "\n",
    "## **Ejemplos Clave**  \n",
    "\n",
    "### **1. Función Lineal No Creciente (Antiproporcionalidad)**  \n",
    "**Fórmula:** \\( y = -kx \\) (homogénea pero decreciente).  \n",
    "- **Propiedad:** \\( f(2x) = -k(2x) = 2(-kx) = 2f(x) \\).  \n",
    "- **Ejemplo:**  \n",
    "  - Un descuento lineal: Si el precio original se duplica, el descuento también se duplica, pero el valor final **disminuye**.  \n",
    "  - **Problema ICFES:**  \n",
    "    > Un impuesto es \\( T = -0.1 \\cdot \\text{ingreso} \\). Si el ingreso pasa de \\$1.000.000 a \\$2.000.000, ¿cómo cambia \\( T \\)?  \n",
    "    - **Solución:** \\( T \\) va de \\$-100.000 a \\$-200.000 (se duplica, pero es negativo).  \n",
    "\n",
    "---\n",
    "\n",
    "### **2. Función Valor Absoluto con Pendiente Negativa**  \n",
    "**Fórmula:** \\( y = -|x| \\) (homogénea pero no creciente).  \n",
    "- **Propiedad:** \\( f(2x) = -|2x| = -2|x| = 2f(x) \\).  \n",
    "- **Ejemplo:**  \n",
    "  - Pérdidas en un negocio: Si las pérdidas son proporcionales a la producción, pero aumentan en valor absoluto.  \n",
    "\n",
    "---\n",
    "\n",
    "### **3. Funciones por Partes con Homogeneidad**  \n",
    "**Fórmula:**  \n",
    "\\[\n",
    "f(x) = \n",
    "\\begin{cases} \n",
    "kx & \\text{si } x \\geq 0, \\\\\n",
    "- kx & \\text{si } x < 0.\n",
    "\\end{cases}\n",
    "\\]  \n",
    "- **Propiedad:** \\( f(2x) = 2f(x) \\) para cualquier \\( x \\).  \n",
    "- **Ejemplo:**  \n",
    "  - Un resorte con fuerza **restauradora** \\( F = -kx \\): Duplicar el estiramiento duplica la fuerza, pero la dirección es opuesta.  \n",
    "\n",
    "---\n",
    "\n",
    "### **4. Funciones Periódicas Homogéneas (Ondas en Dientes de Sierra)**  \n",
    "**Fórmula:** \\( f(x) = x - \\lfloor x \\rfloor \\) (parte fraccionaria).  \n",
    "- **Propiedad:** \\( f(kx) = k f(x) \\) si \\( k \\) es entero.  \n",
    "- **Ejemplo:**  \n",
    "  - Un sistema de rotación donde cada \\( 360^\\circ \\) se repite, pero la posición angular es homogénea.  \n",
    "\n",
    "---\n",
    "\n",
    "## **¿Cómo Identificarlas?**  \n",
    "1. **Prueba de homogeneidad:** Verifica si \\( f(kx) = k f(x) \\).  \n",
    "2. **Gráficas:**  \n",
    "   - Rectas que pasan por el origen pero con pendiente negativa (ej: \\( y = -x \\)).  \n",
    "   - Funciones simétricas pero no monótonas (ej: \\( y = |x| \\cdot \\text{sign}(x) \\)).  \n",
    "\n",
    "---\n",
    "\n",
    "## **Actividad en Python (Visualización)**  \n",
    "```python\n",
    "import numpy as np\n",
    "import matplotlib.pyplot as plt\n",
    "\n",
    "x = np.linspace(-5, 5, 500)\n",
    "y1 = -2 * x          # Función lineal decreciente (homogénea)\n",
    "y2 = -np.abs(x)      # Valor absoluto negativo (homogénea)\n",
    "\n",
    "plt.plot(x, y1, label=\"y = -2x (Homogénea decreciente)\")\n",
    "plt.plot(x, y2, label=\"y = -|x| (Homogénea no creciente)\")\n",
    "plt.axhline(0, color='black', linewidth=0.5)\n",
    "plt.axvline(0, color='black', linewidth=0.5)\n",
    "plt.xlabel(\"x\"), plt.ylabel(\"y\"), plt.legend()\n",
    "plt.grid(True)\n",
    "plt.show()\n",
    "```\n",
    "**Salida:**  \n",
    "![Gráfica de relaciones homogéneas no crecientes](https://i.imgur.com/ABC123.png)  \n",
    "\n",
    "---\n",
    "\n",
    "### **Conclusión**  \n",
    "Estas relaciones son clave en:  \n",
    "- **Física** (leyes de fuerzas restauradoras).  \n",
    "- **Economía** (impuestos proporcionales pero reductivos).  \n",
    "- **Matemáticas avanzadas** (análisis funcional).  \n",
    "\n",
    "**Diferencia clave con la proporcionalidad directa:**  \n",
    "- **Proporcionalidad directa:** \\( y = kx \\) con \\( k > 0 \\) (creciente).  \n",
    "- **Homogeneidad sin crecimiento:** \\( y = kx \\) con \\( k \\leq 0 \\) o funciones no monótonas.  \n",
    "\n",
    "¡Importante para no confundirlas en el ICFES! 🚀\n"
   ]
  },
  {
   "cell_type": "markdown",
   "id": "41a8b7cc",
   "metadata": {},
   "source": [
    "\n",
    "---\n",
    "\n",
    "## **6. Actividades de Aprendizaje**  \n",
    "1. **Laboratorio Python:** Crear una función que resuelva regla de tres directa.  \n",
    "```python\n",
    "def regla_tres(a, b, c):\n",
    "    return (b * c) / a\n",
    "```  \n",
    "2. **Problema ICFES:** *\"Si 5 libros cuestan \\$30.000, ¿cuánto cuestan 8 libros?\"* (Resolver con Pandas).  \n",
    "\n",
    "---\n",
    "\n",
    "## **7. Canción/Poema**  \n",
    "*\"Proporción, proporción,*  \n",
    "*si sube ‘x’, sube ‘y’ sin discusión.*  \n",
    "*Regla de tres, no es al revés,*  \n",
    "*multiplica en cruz y verás después.\"*  \n",
    "\n",
    "---\n",
    "\n",
    "## **8. Tareas**  \n",
    "- **Ejercicios ICFES:** 10 problemas con tiempo límite (15 min).  \n",
    "- **Proyecto Mini:** Modelar el costo de materiales en una construcción (usando Plotly).  \n",
    "\n",
    "\n",
    "---\n"
   ]
  },
  {
   "cell_type": "markdown",
   "id": "ebb21454",
   "metadata": {},
   "source": [
    "Aquí tienes **20 problemas tipo ICFES sobre proporcionalidad directa** y **20 problemas tipo ICFES sobre regla de tres directa**, diseñados para practicar habilidades de razonamiento cuantitativo y aplicación en contextos reales. Cada problema incluye alternativas de respuesta (A, B, C, D) y está alineado con el formato de la prueba ICFES en Colombia.\n",
    "\n",
    "---\n"
   ]
  },
  {
   "cell_type": "markdown",
   "id": "798ea965",
   "metadata": {},
   "source": [
    "\n",
    "### **Problemas de Proporcionalidad Directa**  \n",
    "**Concepto clave:** $y = kx$ (si $x$ aumenta, $y$ aumenta en la misma proporción). Es decir, una relación directa entre dos variables es qquella en la que al aumentar una de ellas, la otra también aumenta y al duplicar una de ellas, la otra también se duplica.  Es decir, toda relación de proporcionalidad directa es creciente y homogénea.  \n"
   ]
  },
  {
   "cell_type": "markdown",
   "id": "767d04ef",
   "metadata": {},
   "source": [
    "\n",
    "1. **Problema:** Un carro consume 12 galones de gasolina en 360 km. ¿Cuántos galones consumirá en 900 km?  \n",
    "   - A) 25  \n",
    "   - B) 30  \n",
    "   - C) 35  \n",
    "   - D) 40  \n"
   ]
  },
  {
   "cell_type": "code",
   "execution_count": null,
   "id": "8175131c",
   "metadata": {},
   "outputs": [
    {
     "data": {
      "image/png": "[encoded data removed]",
      "text/plain": [
       "<Figure size 1300x1000 with 1 Axes>"
      ]
     },
     "metadata": {},
     "output_type": "display_data"
    }
   ],
   "source": [
    "import numpy as np \n",
    "import matplotlib.pyplot as plt\n",
    "\n",
    "d = np.arange(0, 900+ 30, 30)\n",
    "k = 1/30\n",
    "v = k * d  \n",
    "\n",
    "plt.figure(figsize=(13, 10))\n",
    "plt.title('Proporcionalidad Directa')\n",
    "plt.plot(d, v, 'ro-') \n",
    "plt.xticks(np.arange(0, 900+30, 30)) # metrizar los ejes. Definir la unidad de medida de cada eje \n",
    "plt.yticks(np.arange(0, 30))\n",
    "plt.xlabel('distancia (d) (Km)')\n",
    "plt.ylabel('Volumen (v) (gallons)')\n",
    "plt.grid(alpha =1.0) "
   ]
  },
  {
   "cell_type": "markdown",
   "id": "fefc9f78",
   "metadata": {},
   "source": [
    "\n",
    "2. **Problema:** Si 5 metros de tela cuestan \\$45.000, ¿cuánto costarán 8 metros?  \n",
    "   - A) \\$72.000  \n",
    "   - B) \\$68.000  \n",
    "   - C) \\$75.000  \n",
    "   - D) \\$80.000  \n",
    "A"
   ]
  },
  {
   "cell_type": "markdown",
   "id": "bcdf9dfc",
   "metadata": {},
   "source": [
    "\n",
    "3. **Problema:** Un grifo llena un tanque de 120 litros en 15 minutos. ¿Cuánto tiempo tardará en llenar un tanque de 200 litros?  \n",
    "   - A) 20 min  \n",
    "   - B) 25 min  \n",
    "   - C) 30 min  \n",
    "   - D) 35 min \n",
    "  "
   ]
  },
  {
   "cell_type": "markdown",
   "id": "6e303671",
   "metadata": {},
   "source": [
    " \n",
    "\n",
    "4. **Problema:** Si 8 trabajadores construyen un muro en 6 días, ¿cuántos días tardarán 12 trabajadores (asumiendo proporcionalidad directa)?  \n",
    "   - A) 4 días  \n",
    "   - B) 5 días  \n",
    "   - C) 6 días  \n",
    "   - D) 9 días *(Nota: ¡Trampa! Esto es inversa, pero es común en ICFES).*  \n",
    "\n",
    "5. **Problema:** Un árbol crece 2.5 cm por semana. ¿Cuánto crecerá en 10 semanas?  \n",
    "   - A) 20 cm  \n",
    "   - B) 25 cm  \n",
    "   - C) 30 cm  \n",
    "   - D) 35 cm  \n",
    "\n",
    "6. **Problema:** Si 3 kg de manzanas cuestan \\$18.000, ¿cuánto costarán 7 kg?  \n",
    "   - A) \\$42.000  \n",
    "   - B) \\$38.000  \n",
    "   - C) \\$45.000  \n",
    "   - D) \\$50.000  \n",
    "\n",
    "7. **Problema:** Un ciclista recorre 60 km en 2 horas. ¿Cuántos km recorrerá en 5 horas (a la misma velocidad)?  \n",
    "   - A) 120 km  \n",
    "   - B) 150 km  \n",
    "   - C) 180 km  \n",
    "   - D) 200 km  \n",
    "\n",
    "8. **Problema:** Una impresora imprime 120 páginas en 4 minutos. ¿Cuántas páginas imprimirá en 15 minutos?  \n",
    "   - A) 400  \n",
    "   - B) 450  \n",
    "   - C) 500  \n",
    "   - D) 550  \n",
    "\n",
    "9. **Problema:** Si 4 litros de pintura cubren 24 m², ¿cuántos m² cubrirán 10 litros?  \n",
    "   - A) 50 m²  \n",
    "   - B) 60 m²  \n",
    "   - C) 70 m²  \n",
    "   - D) 80 m²  \n",
    "\n",
    "10. **Problema:** Un panadero hace 60 panes con 5 kg de harina. ¿Cuántos panes hará con 12 kg?  \n",
    "    - A) 120  \n",
    "    - B) 144  \n",
    "    - C) 150  \n",
    "    - D) 160  \n",
    "\n",
    "11. **Problema:** Un tubo de 6 metros pesa 18 kg. ¿Cuánto pesará un tubo de 15 metros?  \n",
    "    - A) 40 kg  \n",
    "    - B) 45 kg  \n",
    "    - C) 50 kg  \n",
    "    - D) 55 kg  \n",
    "\n",
    "12. **Problema:** Si 2 entradas al cine cuestan \\$32.000, ¿cuánto costarán 5 entradas?  \n",
    "    - A) \\$75.000  \n",
    "    - B) \\$80.000  \n",
    "    - C) \\$85.000  \n",
    "    - D) \\$90.000  \n",
    "\n",
    "13. **Problema:** Un atleta corre 9 km en 30 minutos. ¿Cuántos km correrá en 1 hora y 20 minutos?  \n",
    "    - A) 18 km  \n",
    "    - B) 20 km  \n",
    "    - C) 24 km  \n",
    "    - D) 27 km  \n",
    "\n",
    "14. **Problema:** Un generador consume 5 galones de gasolina en 2 horas. ¿Cuánto consumirá en 7 horas?  \n",
    "    - A) 15 galones  \n",
    "    - B) 17.5 galones  \n",
    "    - C) 20 galones  \n",
    "    - D) 22.5 galones  \n",
    "\n",
    "15. **Problema:** Si 6 cajas contienen 72 libros, ¿cuántos libros habrá en 15 cajas?  \n",
    "    - A) 160  \n",
    "    - B) 180  \n",
    "    - C) 200  \n",
    "    - D) 220  \n",
    "\n",
    "16. **Problema:** Un grifo vierte 8 litros de agua en 2 minutos. ¿Cuántos litros verterá en 25 minutos?  \n",
    "    - A) 100  \n",
    "    - B) 120  \n",
    "    - C) 150  \n",
    "    - D) 200  \n",
    "\n",
    "17. **Problema:** Si 5 obreros cavan una zanja en 10 días, ¿cuántos días tardarán 10 obreros? *(¡Cuidado! Es inversa, pero aparece en ICFES).*  \n",
    "    - A) 2 días  \n",
    "    - B) 5 días  \n",
    "    - C) 10 días  \n",
    "    - D) 20 días  \n"
   ]
  },
  {
   "cell_type": "markdown",
   "id": "dde7746b",
   "metadata": {},
   "source": [
    "\n",
    "18. **Problema:** Un mapa tiene una escala donde 1 cm representa 25 km. ¿Cuántos cm representarán 300 km?  \n",
    "    - A) 10 cm  \n",
    "    - B) 12 cm  \n",
    "    - C) 15 cm  \n",
    "    - D) 20 cm  \n"
   ]
  },
  {
   "cell_type": "markdown",
   "id": "6bd84d4a",
   "metadata": {},
   "source": [
    "# modelo o ecuación o funcion \n",
    "1. Identificación de las variables independientes y dependientes: \n",
    "    * y: Es la medida en el mapa (en centímetros).\n",
    "    * x: Es la medida en la realidad (en kilómetros). \n",
    "2. Determine si esa relación es creciente: \n",
    "    * Si la medida en la realidad aumenta, la medida en el mapa también. ($x \\uparrow, \\quad \\to \\quad y\\uparrow$). \n",
    "   $$  $$\n",
    "3. Revise si la relación es homogénea: \n",
    "    * Si la medida en la realidad se duplica, la medida en el mapa también se duplica. \n",
    "\n",
    "Por lo tanto, como esta relación es creciente y homogénea, entonces es de pproporcionalidad directa: \n",
    "\n",
    "$$ y = kx $$\n"
   ]
  },
  {
   "cell_type": "markdown",
   "id": "5ae33726",
   "metadata": {},
   "source": [
    "\n",
    "$$ k = \\frac{y}{x}  = \\frac{1 cm}{25 Km}  = 1/25 cm/Km $$\n"
   ]
  },
  {
   "cell_type": "markdown",
   "id": "27c74f15",
   "metadata": {},
   "source": [
    "\n",
    "\n",
    "\n",
    "\n",
    "\n",
    "\n",
    "$$ y = kx  \\iff \\text{Medida en el mapa} = k  \\cdot \\text{Medida real} \\iff y = 1/25 x $$\n",
    "\n",
    "$$ y = kx  \\iff \\text{Medida en Kilometros} = k  \\cdot \\text{Medida en centímetros} \\iff y = (1/15) 300 $$"
   ]
  },
  {
   "cell_type": "code",
   "execution_count": 27,
   "id": "6ca9ac3b",
   "metadata": {},
   "outputs": [
    {
     "data": {
      "text/plain": [
       "12.0"
      ]
     },
     "execution_count": 27,
     "metadata": {},
     "output_type": "execute_result"
    }
   ],
   "source": [
    "(1/25)*300"
   ]
  },
  {
   "cell_type": "markdown",
   "id": "04a22995",
   "metadata": {},
   "source": [
    "Por lo tanto, 300 kilometros de distancia reales, equivalen a 12 centímetros de separación en el mapa. "
   ]
  },
  {
   "cell_type": "code",
   "execution_count": 39,
   "id": "020003ae",
   "metadata": {},
   "outputs": [
    {
     "data": {
      "application/vnd.microsoft.datawrangler.viewer.v0+json": {
       "columns": [
        {
         "name": "index",
         "rawType": "int64",
         "type": "integer"
        },
        {
         "name": "x",
         "rawType": "int64",
         "type": "integer"
        },
        {
         "name": "y",
         "rawType": "float64",
         "type": "float"
        }
       ],
       "conversionMethod": "pd.DataFrame",
       "ref": "1889b240-4737-4768-b180-bd7e9e2f0eeb",
       "rows": [
        [
         "0",
         "25",
         "1.0"
        ],
        [
         "1",
         "50",
         "2.0"
        ],
        [
         "2",
         "75",
         "3.0"
        ],
        [
         "3",
         "100",
         "4.0"
        ],
        [
         "4",
         "125",
         "5.0"
        ],
        [
         "5",
         "150",
         "6.0"
        ],
        [
         "6",
         "175",
         "7.0"
        ],
        [
         "7",
         "200",
         "8.0"
        ],
        [
         "8",
         "225",
         "9.0"
        ],
        [
         "9",
         "250",
         "10.0"
        ],
        [
         "10",
         "275",
         "11.0"
        ],
        [
         "11",
         "300",
         "12.0"
        ]
       ],
       "shape": {
        "columns": 2,
        "rows": 12
       }
      },
      "text/html": [
       "<div>\n",
       "<style scoped>\n",
       "    .dataframe tbody tr th:only-of-type {\n",
       "        vertical-align: middle;\n",
       "    }\n",
       "\n",
       "    .dataframe tbody tr th {\n",
       "        vertical-align: top;\n",
       "    }\n",
       "\n",
       "    .dataframe thead th {\n",
       "        text-align: right;\n",
       "    }\n",
       "</style>\n",
       "<table border=\"1\" class=\"dataframe\">\n",
       "  <thead>\n",
       "    <tr style=\"text-align: right;\">\n",
       "      <th></th>\n",
       "      <th>x</th>\n",
       "      <th>y</th>\n",
       "    </tr>\n",
       "  </thead>\n",
       "  <tbody>\n",
       "    <tr>\n",
       "      <th>0</th>\n",
       "      <td>25</td>\n",
       "      <td>1.0</td>\n",
       "    </tr>\n",
       "    <tr>\n",
       "      <th>1</th>\n",
       "      <td>50</td>\n",
       "      <td>2.0</td>\n",
       "    </tr>\n",
       "    <tr>\n",
       "      <th>2</th>\n",
       "      <td>75</td>\n",
       "      <td>3.0</td>\n",
       "    </tr>\n",
       "    <tr>\n",
       "      <th>3</th>\n",
       "      <td>100</td>\n",
       "      <td>4.0</td>\n",
       "    </tr>\n",
       "    <tr>\n",
       "      <th>4</th>\n",
       "      <td>125</td>\n",
       "      <td>5.0</td>\n",
       "    </tr>\n",
       "    <tr>\n",
       "      <th>5</th>\n",
       "      <td>150</td>\n",
       "      <td>6.0</td>\n",
       "    </tr>\n",
       "    <tr>\n",
       "      <th>6</th>\n",
       "      <td>175</td>\n",
       "      <td>7.0</td>\n",
       "    </tr>\n",
       "    <tr>\n",
       "      <th>7</th>\n",
       "      <td>200</td>\n",
       "      <td>8.0</td>\n",
       "    </tr>\n",
       "    <tr>\n",
       "      <th>8</th>\n",
       "      <td>225</td>\n",
       "      <td>9.0</td>\n",
       "    </tr>\n",
       "    <tr>\n",
       "      <th>9</th>\n",
       "      <td>250</td>\n",
       "      <td>10.0</td>\n",
       "    </tr>\n",
       "    <tr>\n",
       "      <th>10</th>\n",
       "      <td>275</td>\n",
       "      <td>11.0</td>\n",
       "    </tr>\n",
       "    <tr>\n",
       "      <th>11</th>\n",
       "      <td>300</td>\n",
       "      <td>12.0</td>\n",
       "    </tr>\n",
       "  </tbody>\n",
       "</table>\n",
       "</div>"
      ],
      "text/plain": [
       "      x     y\n",
       "0    25   1.0\n",
       "1    50   2.0\n",
       "2    75   3.0\n",
       "3   100   4.0\n",
       "4   125   5.0\n",
       "5   150   6.0\n",
       "6   175   7.0\n",
       "7   200   8.0\n",
       "8   225   9.0\n",
       "9   250  10.0\n",
       "10  275  11.0\n",
       "11  300  12.0"
      ]
     },
     "execution_count": 39,
     "metadata": {},
     "output_type": "execute_result"
    }
   ],
   "source": [
    "# tabla con Pandas\n",
    "\n",
    "import pandas as pd \n",
    "\n",
    "x = np.arange(25, 300 + 25, 25) \n",
    "k = 1/25\n",
    "y = k * x \n",
    "df = pd.DataFrame({'x': x, 'y': y})\n",
    "df.head(12) "
   ]
  },
  {
   "cell_type": "markdown",
   "id": "d2f3b84f",
   "metadata": {},
   "source": [
    "## Representación en esquema de regla de tres"
   ]
  },
  {
   "cell_type": "markdown",
   "id": "f7d9603b",
   "metadata": {},
   "source": [
    "## La representación en cocientes o razones iguales \n",
    "\n",
    "$$ \\frac{y}{x} = \\frac{1 cm}{25 Km} = k $$"
   ]
  },
  {
   "cell_type": "code",
   "execution_count": 41,
   "id": "e18412ae",
   "metadata": {},
   "outputs": [
    {
     "data": {
      "image/png": "[encoded data removed]",
      "text/plain": [
       "<Figure size 1000x700 with 1 Axes>"
      ]
     },
     "metadata": {},
     "output_type": "display_data"
    }
   ],
   "source": [
    "# gráfico  \n",
    "\n",
    "import pandas as pd \n",
    "\n",
    "x = np.arange(25, 300 + 25, 25) \n",
    "k = 1/25\n",
    "y = k * x \n",
    "plt.figure(figsize=(10, 7))\n",
    "plt.title('Proporcionalidad Directa')\n",
    "plt.plot(x, y, label='y = x/25', color='blue')\n",
    "plt.scatter(x, y, label='Puntos', color='red')\n",
    "plt.xlabel('La medida real (Km) x')\n",
    "plt.ylabel('La medida en el mapa (cm) y')\n",
    "plt.xticks(np.arange(25, 300 + 25, 25)) # metrizar los ejes. Definir la unidad de medida de cada eje\n",
    "plt.yticks(np.arange(0, 13, 1)) # metrizar los ejes. Definir la unidad de medida de cada eje\n",
    "plt.grid(alpha = 0.3) \n",
    "plt.legend()\n",
    "save_fig('ejercicios_18')\n"
   ]
  },
  {
   "cell_type": "markdown",
   "id": "dce1a267",
   "metadata": {},
   "source": [
    "# Estrategias ICFES: enunciada en forma verbal \n",
    "\n",
    "1. Utilizar homogeneidad de la relación de proporcionalidad directa. $y = f(x) \\to 10y = f(10x)$. \n",
    "2. Hay una propiedad aditiva en la proporcionalidad directa: \n",
    "   $$ y = f(x) $$\n",
    "\n",
    "   y f es lineal y homogénea, entonces $f(x_{1} + x_{2}) = f(x_{1}) + f(x_{2})$.\n",
    "\n",
    "3. Razonamiento inductivo.. Estragia Joseph.    \n",
    "\n"
   ]
  },
  {
   "cell_type": "markdown",
   "id": "d5d693d6",
   "metadata": {},
   "source": [
    "\n",
    "19. **Problema:** Un paquete de 500 hojas de papel pesa 2.5 kg. ¿Cuánto pesarán 1.200 hojas?  \n",
    "    - A) 6 kg  \n",
    "    - B) 7 kg  \n",
    "    - C) 8 kg  \n",
    "    - D) 9 kg  \n",
    "\n",
    "20. **Problema:** Un automóvil viaja a 80 km/h. ¿Qué distancia recorrerá en 3.5 horas?  \n",
    "    - A) 240 km  \n",
    "    - B) 260 km  \n",
    "    - C) 280 km  \n",
    "    - D) 300 km  \n",
    "\n",
    "---\n",
    "\n",
    "### **Problemas de Regla de Tres Directa**  \n",
    "**Fórmula:** \\(\\frac{a}{b} = \\frac{c}{d} \\implies d = \\frac{b \\cdot c}{a}\\).  \n",
    "\n",
    "21. **Problema:** Si 4 camisas cuestan \\$120.000, ¿cuánto costarán 9 camisas?  \n",
    "    - A) \\$270.000  \n",
    "    - B) \\$300.000  \n",
    "    - C) \\$330.000  \n",
    "    - D) \\$360.000  \n",
    "\n",
    "22. **Problema:** Un tren recorre 400 km en 5 horas. ¿Cuánto recorrerá en 8 horas?  \n",
    "    - A) 600 km  \n",
    "    - B) 640 km  \n",
    "    - C) 700 km  \n",
    "    - D) 720 km  \n",
    "\n",
    "23. **Problema:** Si 20 estudiantes necesitan 30 sillas, ¿cuántas sillas necesitarán 50 estudiantes?  \n",
    "    - A) 60  \n",
    "    - B) 75  \n",
    "    - C) 80  \n",
    "    - D) 90  \n",
    "\n",
    "24. **Problema:** Una máquina produce 200 tornillos en 4 horas. ¿Cuántos tornillos producirá en 10 horas?  \n",
    "    - A) 400  \n",
    "    - B) 500  \n",
    "    - C) 600  \n",
    "    - D) 700  \n",
    "\n",
    "25. **Problema:** Si 15 litros de agua pesan 15 kg, ¿cuánto pesarán 45 litros?  \n",
    "    - A) 45 kg  \n",
    "    - B) 50 kg  \n",
    "    - C) 55 kg  \n",
    "    - D) 60 kg  \n",
    "\n",
    "26. **Problema:** Un libro de 300 páginas pesa 600 gramos. ¿Cuánto pesará un libro de 450 páginas?  \n",
    "    - A) 800 g  \n",
    "    - B) 900 g  \n",
    "    - C) 1.000 g  \n",
    "    - D) 1.200 g  \n",
    "\n",
    "27. **Problema:** Si 8 metros de cable cuestan \\$24.000, ¿cuánto costarán 15 metros?  \n",
    "    - A) \\$45.000  \n",
    "    - B) \\$48.000  \n",
    "    - C) \\$50.000  \n",
    "    - D) \\$52.000  \n",
    "\n",
    "28. **Problema:** Un agricultor cosecha 120 kg de papas en 3 días. ¿Cuántos kg cosechará en 7 días?  \n",
    "    - A) 240 kg  \n",
    "    - B) 260 kg  \n",
    "    - C) 280 kg  \n",
    "    - D) 300 kg  \n",
    "\n",
    "29. **Problema:** Si 5 lápices cuestan \\$7.500, ¿cuánto costarán 12 lápices?  \n",
    "    - A) \\$16.000  \n",
    "    - B) \\$18.000  \n",
    "    - C) \\$20.000  \n",
    "    - D) \\$22.000  \n",
    "\n",
    "30. **Problema:** Un avión consume 300 galones de combustible en 2 horas. ¿Cuánto consumirá en 5 horas?  \n",
    "    - A) 700 galones  \n",
    "    - B) 750 galones  \n",
    "    - C) 800 galones  \n",
    "    - D) 850 galones  \n",
    "\n",
    "31. **Problema:** Si 3 cuadernos cuestan \\$21.000, ¿cuánto costarán 11 cuadernos?  \n",
    "    - A) \\$77.000  \n",
    "    - B) \\$80.000  \n",
    "    - C) \\$84.000  \n",
    "    - D) \\$88.000  \n",
    "\n",
    "32. **Problema:** Un corredor da 8 vueltas a una pista en 24 minutos. ¿Cuántas vueltas dará en 1 hora?  \n",
    "    - A) 16  \n",
    "    - B) 18  \n",
    "    - C) 20  \n",
    "    - D) 24  \n",
    "\n",
    "33. **Problema:** Si 2 kg de frijoles cuestan \\$6.000, ¿cuánto costarán 7 kg?  \n",
    "    - A) \\$18.000  \n",
    "    - B) \\$20.000  \n",
    "    - C) \\$21.000  \n",
    "    - D) \\$24.000  \n",
    "\n",
    "34. **Problema:** Un tanque se llena con 50 litros en 5 minutos. ¿Cuántos litros se llenarán en 18 minutos?  \n",
    "    - A) 160  \n",
    "    - B) 180  \n",
    "    - C) 200  \n",
    "    - D) 220  \n",
    "\n",
    "35. **Problema:** Si 10 cajas pesan 200 kg, ¿cuánto pesarán 25 cajas?  \n",
    "    - A) 400 kg  \n",
    "    - B) 450 kg  \n",
    "    - C) 500 kg  \n",
    "    - D) 550 kg  \n",
    "\n",
    "36. **Problema:** Un panadero hornea 60 panes en 2 horas. ¿Cuántos panes horneará en 7 horas?  \n",
    "    - A) 180  \n",
    "    - B) 200  \n",
    "    - C) 210  \n",
    "    - D) 240  \n",
    "\n",
    "37. **Problema:** Si 12 obreros construyen una casa en 60 días, ¿cuántos días tardarán 24 obreros? *(¡Trampa! Es inversa).*  \n",
    "    - A) 20 días  \n",
    "    - B) 30 días  \n",
    "    - C) 40 días  \n",
    "    - D) 50 días  \n",
    "\n",
    "38. **Problema:** Un reloj se atrasa 2 minutos cada 6 horas. ¿Cuánto se atrasará en 48 horas?  \n",
    "    - A) 12 min  \n",
    "    - B) 14 min  \n",
    "    - C) 16 min  \n",
    "    - D) 18 min  \n",
    "\n",
    "39. **Problema:** Si 5 botellas contienen 2.5 litros de jugo, ¿cuántos litros habrá en 20 botellas?  \n",
    "    - A) 8 L  \n",
    "    - B) 10 L  \n",
    "    - C) 12 L  \n",
    "    - D) 15 L  \n",
    "\n",
    "40. **Problema:** Un carro recorre 240 km con 20 galones de gasolina. ¿Cuántos km recorrerá con 35 galones?  \n",
    "    - A) 400 km  \n",
    "    - B) 420 km  \n",
    "    - C) 450 km  \n",
    "    - D) 480 km  \n",
    "\n",
    "---\n",
    "\n",
    "### **Claves de Respuestas**  \n",
    "**Proporcionalidad Directa:** 1B, 2A, 3B, 4A, 5B, 6A, 7B, 8B, 9B, 10B, 11B, 12B, 13C, 14B, 15B, 16A, 17B, 18B, 19A, 20C.  \n",
    "**Regla de Tres Directa:** 21A, 22B, 23B, 24B, 25A, 26B, 27A, 28C, 29B, 30B, 31A, 32C, 33C, 34B, 35C, 36C, 37B, 38C, 39B, 40B.  \n",
    "\n",
    "**Nota:** Algunos problemas incluyen trampas de proporcionalidad inversa (comunes en ICFES para evaluar comprensión). Ideal para practicar en **Jupyter Notebook** con Pandas y visualizaciones. ¡A practicar! 📊🚀"
   ]
  },
  {
   "cell_type": "markdown",
   "id": "a3ab9d07",
   "metadata": {},
   "source": [
    "\n",
    "## **9. Evaluación**  \n",
    "### **Proyectos STEAM:**  \n",
    "1. Diseñar una escala de maqueta (ingeniería).  \n",
    "2. Analizar mezclas químicas (química).  \n",
    "\n",
    "### **Quiz (3 Preguntas):**  \n",
    "1. Si $y$ es directamente proporcional a $x$ y $y=6$ cuando $x=2$, ¿cuánto es $y$ cuando $x=5$?  \n",
    "\n",
    "### **Parcial (5 Puntos):**  \n",
    "- Resolver 2 problemas aplicando regla de tres y graficar en Python.  \n",
    "\n",
    "---\n",
    "\n",
    "## **10. Retroalimentación**  \n",
    "- **Rúbrica de Autoevaluación:** Usar ipywidgets para crear sliders de autocalificación.  \n",
    "\n",
    "---\n",
    "\n",
    "## **11. Vocabulario Inglés**  \n",
    "- **Proportionality:** Proporcionalidad.  \n",
    "- **Direct variation:** Variación directa.  \n",
    "- **Cross-multiplication:** Multiplicación cruzada.  \n",
    "\n",
    "---\n",
    "\n",
    "## **12. Apéndice: Habilidades Blandas**  \n",
    "- **Trabajo en Equipo:** Roles en proyectos STEAM.  \n",
    "- **Argumentación:** Debates sobre aplicaciones reales.  \n",
    "\n",
    "---\n",
    "\n",
    "## **13. Referentes APA**  \n",
    "1. Duval, R. (2006). *Representaciones y cambios de representación en matemáticas*.  \n",
    "2. Wing, J. (2006). *Computational Thinking*.  \n",
    "3. National Council of Teachers of Mathematics. (2000). *Principles and Standards*.\n",
    "4. [¿Al doble le toca el doble? La enseñanza de la proporcionalidad en la educación básica, de David Block, Tatiana Mendoza y Margarita ramírez](chrome-extension://efaidnbmnnnibpcajpcglclefindmkaj/https://www.scielo.org.mx/pdf/ed/v23n2/v23n2a7.pdf)  \n",
    "\n",
    "--- \n"
   ]
  },
  {
   "cell_type": "markdown",
   "id": "73a466e3",
   "metadata": {},
   "source": [
    "\n",
    "**Nota:** Todos los ejemplos de código están diseñados para ejecutarse en Jupyter Notebook con `%matplotlib inline` y visualizaciones interactivas. ¡Manos a la obra! 🚀"
   ]
  },
  {
   "cell_type": "markdown",
   "id": "239427f7",
   "metadata": {},
   "source": [
    "# ARTÍCULO 1. Definir el calendario académico para los diferentes programas de pregrado de los campus\n",
    "regionalizados, correspondiente al primer periodo académico del año 2025, así:\n",
    "* Oferta 28 de enero de 2025\n",
    "* Matrícula 30 de enero de 2025\n",
    "* Ajustes 03 al 10 de febrero de 2025\n",
    "* Inicio de clases 10 de febrero de 2025\n",
    "* Límite evaluación del 40% 06 de abril de 2025\n",
    "* Terminación de clases 08 de junio de 2025\n",
    "* Exámenes finales 09 al 15 de junio de 2025\n",
    "* Habilitación y validación 16 al 22 de junio de 2025\n",
    "* Terminación oficial 23 de junio de 2025"
   ]
  },
  {
   "cell_type": "markdown",
   "id": "8ba64aed",
   "metadata": {},
   "source": [
    "# Cursos que orienta el profesor Marco Julio Cañas Campillo en 2025  \n",
    "\n",
    "1. Práctica Pedagógica V para Licenciatura en Educación Infantil\n",
    "2. Fundamentos de Lógica para Licenciatura en Matemáticas \n",
    "3. Análisis Numérico para Licenciatura en Matemáticas. \n",
    "4. Cálculo Vectorial para Ingeniería Agropecuaria"
   ]
  },
  {
   "cell_type": "markdown",
   "id": "8d41fe58",
   "metadata": {
    "slideshow": {
     "slide_type": "slide"
    }
   },
   "source": [
    "# Horario de clases del profesor Marco\n",
    "\n",
    "* Lunes 8-12: Cálculo Vectorial\n",
    "* Martes 8-12 M: Fundamentos de Aritmética. \n",
    "* Miércoles 8 a 12 M: Fundamentos de la Lógica\n",
    "* Jueves 2 a 6 PM: Desarrollo del pensamiento matemático en la infancia. \n",
    "* Viernes 8 - 12 M: Desarrollo del pensamiento matemático en la infancia. \n",
    "* Sábados 8-12 Asesorías y espacio para retroalimentación y apoyo al trabajo independiente. "
   ]
  },
  {
   "cell_type": "markdown",
   "id": "ae114e14",
   "metadata": {
    "slideshow": {
     "slide_type": "slide"
    }
   },
   "source": [
    "# Horarios de monitoría y asesoría  \n",
    "\n",
    "Coordinador de los cursos de la Facultad de Educación para regiones:    \n",
    "\n",
    "Andrés Vélez: regioneducacion.fedu@udea.edu.co  \n",
    "Coordinador Regiones  \n",
    "Facultad de Educación  \n",
    "Universidad de Antioquia  "
   ]
  },
  {
   "cell_type": "markdown",
   "id": "b1db4b6c",
   "metadata": {
    "slideshow": {
     "slide_type": "slide"
    }
   },
   "source": [
    "## Monitores  \n",
    "* Manuel San Juan Serrano: Contactar escribiendo al correo: manuel.serrano1@udea.edu.co\n",
    "* Yaifry Uribe: yeifry.uribe@udea.edu.co"
   ]
  },
  {
   "cell_type": "markdown",
   "id": "39559692",
   "metadata": {
    "slideshow": {
     "slide_type": "slide"
    }
   },
   "source": [
    "Martes y jueves de 8 - 12  \n",
    "Miércoles 10 - 12 y de 2 a 4 PM  \n",
    "Sábado: 8 - 12"
   ]
  },
  {
   "cell_type": "markdown",
   "id": "10bce0d0",
   "metadata": {
    "slideshow": {
     "slide_type": "slide"
    }
   },
   "source": [
    "## Referentes "
   ]
  },
  {
   "cell_type": "markdown",
   "id": "1db3c468",
   "metadata": {
    "slideshow": {
     "slide_type": "slide"
    }
   },
   "source": [
    "* [¿Al doble le toca el doble? La enseñanza de la proporcionalidad en la educación básica, de David Block, Tatiana Mendoza y Margarita ramírez](chrome-extension://efaidnbmnnnibpcajpcglclefindmkaj/https://www.scielo.org.mx/pdf/ed/v23n2/v23n2a7.pdf)\n",
    "\n",
    "* [Cómo enseñar matemáticas con calculadora Casio LA991 cw](chrome-extension://efaidnbmnnnibpcajpcglclefindmkaj/https://bibliotecadigital.udea.edu.co/bitstream/10495/32857/4/ParraZapata_2024_DesarrolloPensamientoMatematico2aed_versionweb.pdf)  \n",
    "\n",
    "* [CALCULO I DE UNA VARIABLE Ron Larson-Bruce Edwards. Mc Graw Hill. 9º Edición](https://www.academia.edu/42139251/CALCULO_I_DE_UNA_VARIABLE_Ron_Larson_Bruce_Edwards_Mc_Graw_Hill_9o_Edici%C3%B3n)   \n",
    "  \n",
    "\n",
    "* [Grajales Vanegas, L. M., Restrepo Estrada, C. E., Restrepo Ochoa, S. I., & Ruíz De Villalba, F. (2015). Matemáticas I para las ciencias económicas.](https://bibliotecadigital.udea.edu.co/handle/10495/3010)\n",
    "  \n",
    "* R. Duval y Semiosis y pensamiento humano, 2.ª ed. Cali, Colombia: Programa Editorial Universidad del Valle, 2017. [En línea]. Disponible en: https://programaeditorial.univalle.edu.co/gpd-semiosis-y-pensamiento-humano-9789587655278-63324cdb0f6b3.html\n",
    "\n",
    "* [Aylwin, C. U. (2011). Lógica, conjuntos y números. Universidad de los Andes, Consejo de Publicaciones, Colección: Ciencias Básicas, Serie: Matemáticas.](chrome-extension://efaidnbmnnnibpcajpcglclefindmkaj/https://www.u-cursos.cl/ciencias/2011/1/MC110/1/material_docente/bajar?id_material=574722)\n",
    "  \n",
    "* [Recomendación de la UNESCO sobre ciencia abierta](https://unesdoc.unesco.org/ark:/48223/pf0000379949_spa)\n",
    "\n",
    "* [chatGPT](https://openai.com/blog/chatgpt)  \n",
    "* \n",
    "\n",
    "* [Géron, A. (2017). Hands-on machine learning with scikit-learn and tensorflow: Concepts. Tools, and Techniques to build intelligent systems.](chrome-extension://efaidnbmnnnibpcajpcglclefindmkaj/http://14.139.161.31/OddSem-0822-1122/Hands-On_Machine_Learning_with_Scikit-Learn-Keras-and-TensorFlow-2nd-Edition-Aurelien-Geron.pdf)   \n"
   ]
  },
  {
   "cell_type": "markdown",
   "id": "df925560",
   "metadata": {},
   "source": [
    "\n",
    "* [McKinney, W. (2012). Python for data analysis: Data wrangling with Pandas, NumPy, and IPython. \" O'Reilly Media, Inc.\".](https://wesmckinney.com/book/) "
   ]
  },
  {
   "cell_type": "markdown",
   "id": "8e65d6f9",
   "metadata": {},
   "source": [
    "# Como estudiante, encuentro que...   \n",
    "\n",
    "F: Mis Fortalezas son:     \n",
    "O: Mis Oportunidades son:    \n",
    "D: Mis Debilidades son:    \n",
    "A: Lo que Amenazas mi aprendizaje es:  "
   ]
  },
  {
   "cell_type": "markdown",
   "id": "6b9e56a8",
   "metadata": {
    "slideshow": {
     "slide_type": "slide"
    }
   },
   "source": [
    "### [Evaluamos al profesor Marco Cañas Aquí](https://forms.office.com/Pages/ResponsePage.aspx?id=IefhmYRxjkmK_7KtTlPBwkanXIs1i1FEujpsZgO6dXpUREJPV1kxUk1JV1ozTFJIQVNIQjY5WEY3US4u)"
   ]
  },
  {
   "cell_type": "markdown",
   "id": "10f43536",
   "metadata": {
    "slideshow": {
     "slide_type": "slide"
    }
   },
   "source": [
    "### Continue su aprendizaje en la siguiente clase a través del siguiente [vínculo]()"
   ]
  },
  {
   "cell_type": "markdown",
   "id": "53cc9115",
   "metadata": {
    "slideshow": {
     "slide_type": "slide"
    }
   },
   "source": [
    "## Agradecimientos  \n",
    "\n",
    "Doy gracias a Dios por la vida de mi Hijo Joseph Cañas Osorio y la madurez que ha alcanzado. Este hijo me enorgullece y me hace falta abrazarlo cada día. \n",
    "\n",
    "Y a mi esposa Yasmira Emperatriz Barboza Mogollón por su apoyo, orientación y acompañamiento. "
   ]
  },
  {
   "cell_type": "markdown",
   "id": "b6ba1c23",
   "metadata": {},
   "source": [
    "# Apéndice sobre calendarios y coordinaciones \n",
    "\n",
    "A continuación le envío el horario de la asignatura Cálculo Vectorial  \n",
    "\n",
    "Días:  \n",
    "Lunes - Hora: 7:00 a 12:00M  \n",
    "Fechas:  \n",
    "Febrero: 10-17-24                                          \n",
    " Marzo: 3-10-17-31                                                  \n",
    "Abril:7-21-28                                                   \n",
    "Mayo:5-12-19  \n",
    "\n",
    "Agradezco su apoyo, y si presenta alguna dificultad puede contactarme.  \n",
    "\n",
    "Cordialmente,  \n",
    "Juan Felipe Rivera Hernández  \n",
    "Contacto: 3106314300  "
   ]
  },
  {
   "cell_type": "markdown",
   "id": "0e66cd7c",
   "metadata": {},
   "source": [
    "# Clase de análisis numérico los Martes de 8 a 12 del medio día. "
   ]
  },
  {
   "cell_type": "markdown",
   "id": "c5ff61b1",
   "metadata": {},
   "source": []
  }
 ],
 "metadata": {
  "celltoolbar": "Slideshow",
  "kernelspec": {
   "display_name": ".venv",
   "language": "python",
   "name": "python3"
  },
  "language_info": {
   "codemirror_mode": {
    "name": "ipython",
    "version": 3
   },
   "file_extension": ".py",
   "mimetype": "text/x-python",
   "name": "python",
   "nbconvert_exporter": "python",
   "pygments_lexer": "ipython3",
   "version": "3.12.6"
  },
  "rise": {
   "enable_chalkboard": true,
   "theme": "sky",
   "transition": "zoom"
  }
 },
 "nbformat": 4,
 "nbformat_minor": 5
}
