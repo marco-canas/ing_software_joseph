{
 "cells": [
  {
   "cell_type": "markdown",
   "id": "dc06dec7",
   "metadata": {
    "slideshow": {
     "slide_type": "slide"
    }
   },
   "source": [
    "<table align=\"left\">\n",
    "  <td>\n",
    "    <a href=\"https://colab.research.google.com/github/marco-canas/didactica_ciencia_datos/blob/main/1_curso_machine_learning/1_evaluacion_oral_tarea_quiz_parcial.ipynb\" target=\"_parent\"><img src=\"https://colab.research.google.com/assets/colab-badge.svg\" alt=\"Open In Colab\"/></a>\n",
    "  </td>\n",
    "  <td>\n",
    "    <a target=\"_blank\" href=\"https://kaggle.com/kernels/welcome?src=https://github.com/marco-canas/didactica_ciencia_datos/blob/main/1_curso_machine_learning/1_evaluacion_oral_tarea_quiz_parcial.ipynb\"><img src=\"https://kaggle.com/static/images/open-in-kaggle.svg\" /></a>\n",
    "  </td>\n",
    "</table>"
   ]
  },
  {
   "cell_type": "markdown",
   "id": "e0c5b198",
   "metadata": {
    "slideshow": {
     "slide_type": "slide"
    }
   },
   "source": [
    "### [Video de apoyo a la lectura interactiva y experimental de este cuaderno]()"
   ]
  },
  {
   "cell_type": "markdown",
   "id": "41e82203",
   "metadata": {
    "slideshow": {
     "slide_type": "slide"
    }
   },
   "source": [
    "## [Vínculo al programa del curso:  ]()"
   ]
  },
  {
   "cell_type": "markdown",
   "id": "ca46c23b",
   "metadata": {
    "slideshow": {
     "slide_type": "slide"
    }
   },
   "source": [
    "# Modelo general de clase: [aula invertida](https://www3.gobiernodecanarias.org/medusa/ecoescuela/pedagotic/aprendizaje-invertido-flipped-classroom/)\n"
   ]
  },
  {
   "cell_type": "markdown",
   "id": "7f9be90f",
   "metadata": {
    "slideshow": {
     "slide_type": "slide"
    }
   },
   "source": [
    "# Fomento de la lectura literaria asociada a Ingeniería agropecuaria y licenciatura en Matemáticas y administración de empresas\n",
    "\n",
    "[Hábitos atómicos](https://github.com/marco-canas/habitos_atomicos/blob/main/13_como_dejar_de_postergar_usando_la_regla_de_los_dos_minutos/1_13_como_dejar_de_postergar_usando_la_regla_de_los_dos_minutos.ipynb)"
   ]
  },
  {
   "cell_type": "markdown",
   "id": "cf101603",
   "metadata": {},
   "source": [
    "# Prompt para pedir el diseño de evaluación de acuerdo a la metodología de \"Enseñanza basada en proyectos\"    \n",
    "\n",
    "Dame, por favor, un diseño de clase, con el enfoque: \"Aula Invertida, STEAMS y de Aprendizaje Basado en Problemas y Proyectos(ABPP)\" sobre: \" \", siguiendo la estructura:  \n",
    "\n",
    "1. Título de la clase \n",
    "2. Objetivos de aprendizaje que incluyan los indicadores del logro de estos objetivos.\n",
    "3. Un mapa conceptual que resuma la clase elaborado en Graphviz de Python con nodos y edges de diferentes formas, colores y rellenos y renderizado en la siguiente ubicación: `\"C:/Users/marco/Downloads\"`. No olvides el parámetro `view = True` para el método `render()` de Graphviz. Para este mapa controla las superposiciones de los nodos con: graph [overlap=false]; // Elimina superposiciones (puede aumentar el espacio)\n",
    "graph [overlap=\"scalexy\"]; // Escala el gráfico para evitar overlaps\n",
    "graph [overlap=\"compress\"]; // Comprime el grafo sin overlaps   \n",
    "\n",
    "4. Elementos históricos y epistemológicos relevantes para la clase pero contados como un cuento al estilo de un cuentero antioqueño en Colombia. Incluye imágenes de los protagonistas históricos de esta clase.   \n",
    "    \n",
    "5. Contenido de la clase. Centra el contenido, en lo que se necesita para adquirir las habilidades necesarias para presentar el prueba del ICFES en Colombia. \n",
    "6. Actividades de aprendizaje. Centra las actividades de aprendizaje, en lo que se necesita mi hijo para adquirir las habilidades necesarias para presentar el prueba del ICFES en Colombia. \n",
    "7. Incluye una canción o un poema que ayude a interiorizar y fijar los conceptos asociados a esta clase. \n",
    "8. Tarea o actividades de ejercitación y fijación. Centra las tares, en lo que se necesita para adquirir las habilidades necesarias para presentar el prueba del ICFES en Colombia. \n",
    "9.  Evaluación incluyendo diez proyectos, un ejemplo de quiz (de tres preguntas) y un ejemplo de parcial (de cinco puntos). Centra las actividades evaluativas, en lo que se necesita para adquirir las habilidades necesarias para presentar el prueba del ICFES en Colombia. \n",
    "10. Diseño de actividad de retroalimentación. \n",
    "11. Dame un vocabulario y frases del idioma inglés asociadas a esta clase.   \n",
    "12. Incluye apéndice para la clase sobre desarrollo de habilidades para trabajar en equipo y de asertividad y empatía para relacionarnos. Desarrollar capacidades de argumentación verbal u oral. \n",
    "13. Incluye 10 referentes en didáctica de la matemática que estén de acuerdo a la propuesta didáctica de esta clase. Adiciona a estos referentes a Raymond Duval (Representaciones y cambios de representación para la adquisición de conceptos matemáticos) y a Jeannette Wing (Desarrollo del pensamiento computacional). Déjame todos estos referentes ordenados de acuerdo a las normas APA. Déjame todos estos referentes ordenados de acuerdo a las normas APA. Incluye las citaciones a estos referentes a medida que vallas diseñando la clase.   \n",
    "    \n",
    "\n",
    "Pero  que este diseño sea para que el estudiante pueda aprender experimentando en cuadernos Jupyter con funciones de usuario y animaciones y visualizaciones en Python. En particular utiliza para el diseño de clase a NumPy, Pandas, SymPy, Matplotlib.pyplot, Seaborn, Plotly, ipywidgets, matplotlib.animation y Jupyter Notebook.  Cada vez que utilice `matplotlib.animacion` no olvides incluir el uso de `IPython. display` para la renderización de estas animaciones a través de Jupyter Notebook. No olvides darme los diseños de clase con las ecuaciones matemáticas delimitadas con signo de dólar $ para que VS Code si me renderice estas expresiones del lenguaje latex. Cuando vallas a utilizar ipywidgets ten en cuenta la siguiente importación inicial para garantizar que la visualización interactiva si se renderice en VS Code:                                                                   \n",
    "import numpy as np\n",
    "import matplotlib.pyplot as plt\n",
    "import ipywidgets as widgets\n",
    "from IPython.display import display, clear_output\n",
    "from matplotlib.patches import Rectangle\n",
    "\n",
    "# Configuración inicial para visualización estática\n",
    "%matplotlib inline"
   ]
  },
  {
   "cell_type": "markdown",
   "id": "42797498",
   "metadata": {},
   "source": []
  },
  {
   "cell_type": "markdown",
   "id": "fb9402bb",
   "metadata": {
    "slideshow": {
     "slide_type": "slide"
    }
   },
   "source": [
    "## Estrategias propuestas para la solución de las dificultades de aprendizaje detectadas"
   ]
  },
  {
   "cell_type": "markdown",
   "id": "2dd3bd5c",
   "metadata": {
    "slideshow": {
     "slide_type": "slide"
    }
   },
   "source": []
  },
  {
   "cell_type": "markdown",
   "id": "cf48f452",
   "metadata": {},
   "source": [
    "# Otra actividad evaluativa  \n",
    "\n",
    "¡Claro! Aquí tienes **10 ejercicios de estadística** y **10 ejercicios de probabilidad**, diseñados al estilo de las preguntas del **ICFES** (ahora llamado **Saber 11** en Colombia).  \n",
    "\n",
    "---\n",
    "\n",
    "### 🔢 **10 Preguntas de Estadística (Tipo ICFES)**  \n",
    "\n",
    "1. **Medidas de Tendencia Central**  \n",
    "   En un curso de 30 estudiantes, las notas de un examen fueron:  \n",
    "   *12, 15, 16, 18, 10, 14, 20, 17, 11, 13, 19, 12, 15, 16, 14, 18, 10, 20, 17, 11, 13, 19, 12, 15, 16, 14, 18, 10, 20, 17*  \n",
    "   La **mediana** de estas notas es:  \n",
    "   a) 14  \n",
    "   b) 15  \n",
    "   c) 16  \n",
    "   d) 17  \n",
    "\n",
    "2. **Gráficos Estadísticos**  \n",
    "   Un diagrama de barras muestra las preferencias de deportes en un colegio:  \n",
    "   - Fútbol: 45%  \n",
    "   - Baloncesto: 30%  \n",
    "   - Voleibol: 15%  \n",
    "   - Otros: 10%  \n",
    "   Si hay 200 estudiantes, ¿cuántos prefieren **baloncesto**?  \n",
    "   a) 30  \n",
    "   b) 60  \n",
    "   c) 90  \n",
    "   d) 100  \n",
    "\n",
    "3. **Media Aritmética**  \n",
    "   Las edades de 5 amigos son: 12, 14, 13, 15 y 16 años. La **media** de sus edades es:  \n",
    "   a) 13  \n",
    "   b) 14  \n",
    "   c) 15  \n",
    "   d) 16  \n",
    "\n",
    "4. **Rango (Amplitud)**  \n",
    "   En los datos: **5, 8, 12, 6, 10, 15**, el **rango** es:  \n",
    "   a) 5  \n",
    "   b) 10  \n",
    "   c) 12  \n",
    "   d) 15  \n",
    "\n",
    "5. **Frecuencia Absoluta**  \n",
    "   En una encuesta sobre mascotas, 8 personas tienen perro, 5 tienen gato y 3 tienen pájaro. La **frecuencia absoluta** de personas con gato es:  \n",
    "   a) 5  \n",
    "   b) 8  \n",
    "   c) 13  \n",
    "   d) 16  \n",
    "\n",
    "6. **Moda**  \n",
    "   En los datos: **7, 5, 8, 5, 9, 7, 5, 6**, la **moda** es:  \n",
    "   a) 5  \n",
    "   b) 7  \n",
    "   c) 8  \n",
    "   d) 9  \n",
    "\n",
    "7. **Interpretación de Gráficos**  \n",
    "   Un histograma muestra que la mayoría de los estudiantes obtuvieron entre 60 y 70 puntos en una prueba. Esto indica que:  \n",
    "   a) La moda está en ese intervalo.  \n",
    "   b) La mediana es 65.  \n",
    "   c) Todos sacaron más de 60.  \n",
    "   d) La media es 70.  \n",
    "\n",
    "8. **Percentiles**  \n",
    "   Si un estudiante está en el **percentil 90** en una prueba, significa que:  \n",
    "   a) Sacó 90 puntos.  \n",
    "   b) Superó al 90% de los examinados.  \n",
    "   c) Es el mejor de su grupo.  \n",
    "   d) Solo el 10% aprobó.  \n",
    "\n",
    "9. **Desviación Estándar**  \n",
    "   Si dos conjuntos de datos tienen la misma media pero diferente desviación estándar, el más homogéneo es el que tiene:  \n",
    "   a) Mayor desviación.  \n",
    "   b) Menor desviación.  \n",
    "   c) Mediana igual a la media.  \n",
    "   d) Moda diferente.  \n",
    "\n",
    "10. **Correlación**  \n",
    "   Si al aumentar el tiempo de estudio aumentan las notas, la correlación es:  \n",
    "   a) Negativa.  \n",
    "   b) Positiva.  \n",
    "   c) Cero.  \n",
    "   d) No lineal.  \n",
    "\n",
    "---\n",
    "\n",
    "### 🎲 **10 Preguntas de Probabilidad (Tipo ICFES)**  \n",
    "\n",
    "1. **Probabilidad Simple**  \n",
    "   Al lanzar un dado, la probabilidad de obtener un número par es:  \n",
    "   a) 1/6  \n",
    "   b) 1/3  \n",
    "   c) 1/2  \n",
    "   d) 2/3  \n",
    "\n",
    "2. **Eventos Independientes**  \n",
    "   Se lanza una moneda y un dado. La probabilidad de obtener **cara** y un **número mayor que 4** es:  \n",
    "   a) 1/12  \n",
    "   b) 1/6  \n",
    "   c) 1/4  \n",
    "   d) 1/2  \n",
    "\n",
    "3. **Probabilidad Condicional**  \n",
    "   En una bolsa hay 3 bolas rojas y 2 azules. Si se saca una bola roja, ¿cuál es la probabilidad de sacar otra roja sin reemplazo?  \n",
    "   a) 1/2  \n",
    "   b) 2/5  \n",
    "   c) 3/5  \n",
    "   d) 2/3  \n",
    "\n",
    "4. **Combinatoria**  \n",
    "   ¿De cuántas formas se pueden ordenar 3 libros en un estante?  \n",
    "   a) 3  \n",
    "   b) 6  \n",
    "   c) 9  \n",
    "   d) 12  \n",
    "\n",
    "5. **Probabilidad en Gráficos**  \n",
    "   Un gráfico muestra que el 40% de los estudiantes prefieren pizza. Si se elige un estudiante al azar, la probabilidad de que **no** prefiera pizza es:  \n",
    "   a) 0.4  \n",
    "   b) 0.5  \n",
    "   c) 0.6  \n",
    "   d) 0.8  \n",
    "\n",
    "6. **Eventos Mutuamente Excluyentes**  \n",
    "   En una baraja de 52 cartas, la probabilidad de sacar un **as** o un **rey** es:  \n",
    "   a) 1/13  \n",
    "   b) 2/13  \n",
    "   c) 4/13  \n",
    "   d) 8/13  \n",
    "\n",
    "7. **Regla de Laplace**  \n",
    "   En una caja hay 5 lápices negros y 3 rojos. La probabilidad de sacar uno rojo es:  \n",
    "   a) 3/5  \n",
    "   b) 3/8  \n",
    "   c) 5/8  \n",
    "   d) 1/3  \n",
    "\n",
    "8. **Probabilidad Complementaria**  \n",
    "   Si la probabilidad de que llueva es 0.3, la probabilidad de que **no llueva** es:  \n",
    "   a) 0.3  \n",
    "   b) 0.5  \n",
    "   c) 0.7  \n",
    "   d) 0.9  \n",
    "\n",
    "9. **Permutaciones**  \n",
    "   ¿Cuántos números de 3 cifras distintas se pueden formar con 1, 2, 3?  \n",
    "   a) 3  \n",
    "   b) 6  \n",
    "   c) 9  \n",
    "   d) 12  \n",
    "\n",
    "10. **Probabilidad Conjunta**  \n",
    "   En una urna hay 4 bolas blancas y 6 negras. Si se sacan **dos bolas sin reemplazo**, la probabilidad de que ambas sean blancas es:  \n",
    "   a) 2/15  \n",
    "   b) 4/25  \n",
    "   c) 6/25  \n",
    "   d) 8/45  \n",
    "\n",
    "---\n",
    "\n",
    "### 📌 **Claves de Respuestas**  \n",
    "#### **Estadística**:  \n",
    "1. b) 15  \n",
    "2. b) 60  \n",
    "3. b) 14  \n",
    "4. b) 10  \n",
    "5. a) 5  \n",
    "6. a) 5  \n",
    "7. a) La moda está en ese intervalo.  \n",
    "8. b) Superó al 90% de los examinados.  \n",
    "9. b) Menor desviación.  \n",
    "10. b) Positiva.  \n",
    "\n",
    "#### **Probabilidad**:  \n",
    "1. c) 1/2  \n",
    "2. b) 1/6  \n",
    "3. a) 1/2  \n",
    "4. b) 6  \n",
    "5. c) 0.6  \n",
    "6. b) 2/13  \n",
    "7. b) 3/8  \n",
    "8. c) 0.7  \n",
    "9. b) 6  \n",
    "10. a) 2/15  \n",
    "\n",
    "Espero que te sean útiles para practicar. ¡Mucho éxito en tu preparación! 🚀"
   ]
  },
  {
   "cell_type": "markdown",
   "id": "c6236d5d",
   "metadata": {},
   "source": [
    "# FODA del grupo y del profesor  \n",
    "\n",
    "* F: Fortalezas\n",
    "* O: Oportunidades\n",
    "* D: Dificultades\n",
    "* A: Amenazas."
   ]
  },
  {
   "cell_type": "markdown",
   "id": "b48f9542",
   "metadata": {},
   "source": [
    "## ¿Cómo se sintió en este espacio de enseñanza y aprendizaje?\n",
    "\n",
    "!Dios te bendiga¡"
   ]
  },
  {
   "cell_type": "markdown",
   "id": "10bce0d0",
   "metadata": {
    "slideshow": {
     "slide_type": "slide"
    }
   },
   "source": [
    "## Referentes "
   ]
  },
  {
   "cell_type": "markdown",
   "id": "d204c917",
   "metadata": {},
   "source": [
    "* [Grajales Vanegas, L. M., Restrepo Estrada, C. E., Restrepo Ochoa, S. I., & Ruíz De Villalba, F. (2015). Matemáticas I para las ciencias económicas.](https://github.com/marco-canas/fundamentos_de_la_aritmetica/blob/main/referentes/2_grajales_logica/grajales_lina_matemticas.pdf)\n",
    "  \n",
    "* Duval, R. (2004). Semiosis y pensamiento humano: registros semióticos y aprendizajes intelectuales. Universidad del Valle.\n",
    "\n",
    "* [Aylwin, C. U. (2011). Lógica, conjuntos y números. Universidad de los Andes, Consejo de Publicaciones, Colección: Ciencias Básicas, Serie: Matemáticas.](https://github.com/marco-canas/fundamentos_logica/blob/main/referentes/2_uzcategui/uscategui.pdf)\n",
    "  \n",
    "* [Chollet, F. (2021). Deep learning with Python. Simon and Schuster.](https://github.com/marco-canas/didactica_ciencia_datos/blob/main/2_referentes/chollet/Fran%C3%A7ois%20Chollet%20-%20Deep%20Learning%20with%20Python-Manning%20(2018).pdf)  \n",
    "  \n",
    "* [Watson, S., Stewart, J., & Redlin, L. (2009). Precálculo. Matemáticas para el cálculo.](https://github.com/marco-canas/calculo/blob/main/referents/1_precalculo_stewart/stewart_precalculo.pdf)  \n",
    "\n",
    "* [Purcell, E. J., Varberg, D., & Rigdon, S. E. (2007). Cálculo diferencial e integral. Pearson Educación.](https://github.com/marco-canas/calculo/blob/main/referents/purcell/purcell_calculo.pdf)\n",
    "\n",
    "  \n",
    "\n",
    "* [stewart cálculo](https://udeaeduco-my.sharepoint.com/:b:/g/personal/marco_canas_udea_edu_co/EZgXZjAp8QxPqOAim2hs6LcBNPLGjSHf-xwYnUVYkwa04w?e=RZdTCy)  \n",
    "\n",
    "* [larson](https://udeaeduco-my.sharepoint.com/:b:/g/personal/marco_canas_udea_edu_co/ES71ChFeO9ZDhW3TwC5Ijk8BjxUK3Pdqz_fjHxTTFAfIAg?e=VDEjfu)\n",
    "\n",
    "\n",
    "\n",
    "* [Recomendación de la UNESCO sobre ciencia abierta](https://unesdoc.unesco.org/ark:/48223/pf0000379949_spa)\n",
    "\n",
    "* [chatGPT](https://openai.com/blog/chatgpt)  \n",
    "\n",
    "* [Géron, A. (2017). Hands-on machine learning with scikit-learn and tensorflow: Concepts. Tools, and Techniques to build intelligent systems.](chrome-extension://efaidnbmnnnibpcajpcglclefindmkaj/http://14.139.161.31/OddSem-0822-1122/Hands-On_Machine_Learning_with_Scikit-Learn-Keras-and-TensorFlow-2nd-Edition-Aurelien-Geron.pdf)   \n"
   ]
  },
  {
   "cell_type": "markdown",
   "id": "6b9e56a8",
   "metadata": {
    "slideshow": {
     "slide_type": "slide"
    }
   },
   "source": [
    "### [Evaluamos al profesor Marco Cañas Aquí](https://forms.office.com/Pages/ResponsePage.aspx?id=IefhmYRxjkmK_7KtTlPBwkanXIs1i1FEujpsZgO6dXpUREJPV1kxUk1JV1ozTFJIQVNIQjY5WEY3US4u)"
   ]
  },
  {
   "cell_type": "markdown",
   "id": "071afa04",
   "metadata": {
    "slideshow": {
     "slide_type": "slide"
    }
   },
   "source": [
    "## [Evaluación luego de alcanzar estos objetivos de aprendizaje]()"
   ]
  },
  {
   "cell_type": "markdown",
   "id": "10f43536",
   "metadata": {
    "slideshow": {
     "slide_type": "slide"
    }
   },
   "source": [
    "### Continue su aprendizaje en la siguiente clase a través del siguiente [vínculo]()"
   ]
  },
  {
   "cell_type": "markdown",
   "id": "af751e30",
   "metadata": {
    "slideshow": {
     "slide_type": "slide"
    }
   },
   "source": [
    "# Conjeturas pedagógicas fruto de la aplicación del modelo de aprendizaje invertido y del enfoque hacia la ciencia de datos con python\n",
    "\n",
    "1. Todo cálculo o resultado debe ser interpretado en una línea markdown del cuaderno Jupyter, inmediatamente después de la enunciación del resultado y después de la presentación de una tabla o gráfico bidimensional, de tal menera que el estudiante explicite la comprensión verbal del resultado y las inferencias o estrategias que este resultado le sugieren.   "
   ]
  }
 ],
 "metadata": {
  "celltoolbar": "Slideshow",
  "kernelspec": {
   "display_name": "Python 3",
   "language": "python",
   "name": "python3"
  },
  "language_info": {
   "codemirror_mode": {
    "name": "ipython",
    "version": 3
   },
   "file_extension": ".py",
   "mimetype": "text/x-python",
   "name": "python",
   "nbconvert_exporter": "python",
   "pygments_lexer": "ipython3",
   "version": "3.13.2"
  },
  "rise": {
   "enable_chalkboard": true,
   "theme": "sky",
   "transition": "zoom"
  }
 },
 "nbformat": 4,
 "nbformat_minor": 5
}
