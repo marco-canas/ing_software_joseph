{
 "cells": [
  {
   "cell_type": "markdown",
   "id": "dc06dec7",
   "metadata": {
    "slideshow": {
     "slide_type": "slide"
    }
   },
   "source": [
    "<table align=\"left\">\n",
    "  <td>\n",
    "    <a href=\"https://colab.research.google.com/github/ageron/handson-ml3/blob/main/tools_numpy.ipynb\" target=\"_parent\"><img src=\"https://colab.research.google.com/assets/colab-badge.svg\" alt=\"Open In Colab\"/></a>\n",
    "  </td>\n",
    "  <td>\n",
    "    <a target=\"_blank\" href=\"https://kaggle.com/kernels/welcome?src=https://github.com/ageron/handson-ml3/blob/main/tools_numpy.ipynb\"><img src=\"https://kaggle.com/static/images/open-in-kaggle.svg\" /></a>\n",
    "  </td>\n",
    "</table>"
   ]
  },
  {
   "cell_type": "markdown",
   "id": "e0c5b198",
   "metadata": {
    "slideshow": {
     "slide_type": "slide"
    }
   },
   "source": [
    "### [Video de apoyo a la lectura interactiva y experimental de este cuaderno]()"
   ]
  },
  {
   "cell_type": "markdown",
   "id": "41e82203",
   "metadata": {
    "slideshow": {
     "slide_type": "slide"
    }
   },
   "source": [
    "### [Vínculo al programa del curso:  ]()\n",
    "\n"
   ]
  },
  {
   "cell_type": "markdown",
   "id": "d11ab06d",
   "metadata": {
    "slideshow": {
     "slide_type": "slide"
    }
   },
   "source": [
    "Un reconocimiento a mis estudiantes que han construido conmigo este saber pedagógico:\n",
    "\n",
    "<img src = ''> \n",
    "\n"
   ]
  },
  {
   "cell_type": "markdown",
   "id": "8a74a56c-0ce6-4ad6-b985-553fd7fb68bb",
   "metadata": {},
   "source": [
    "Reconocimiento a las profesoras destacadas en enseñanza de la matemática en Colombia\n"
   ]
  },
  {
   "cell_type": "code",
   "execution_count": 1,
   "id": "6cb89c0b",
   "metadata": {},
   "outputs": [
    {
     "data": {
      "application/vnd.microsoft.datawrangler.viewer.v0+json": {
       "columns": [
        {
         "name": "index",
         "rawType": "int64",
         "type": "integer"
        },
        {
         "name": "Cedula",
         "rawType": "int64",
         "type": "integer"
        },
        {
         "name": "Nombre",
         "rawType": "object",
         "type": "string"
        },
        {
         "name": "Email",
         "rawType": "object",
         "type": "string"
        },
        {
         "name": "Parcial",
         "rawType": "float64",
         "type": "float"
        },
        {
         "name": "Asistencia",
         "rawType": "float64",
         "type": "float"
        }
       ],
       "conversionMethod": "pd.DataFrame",
       "ref": "6b84fd7a-7d91-41e7-acd8-76d316e02aff",
       "rows": [
        [
         "1",
         "1007528664",
         "AYALA MENDOZA MARISOL YACIRA",
         "marisol.ayala@udea.edu.co",
         "0.0",
         null
        ],
        [
         "2",
         "1064188463",
         "MASS MIRANDA RIVALDO JOSE",
         "rivaldo.mass@udea.edu.co",
         "0.0",
         null
        ],
        [
         "3",
         "1066570075",
         "MONTERROSA SOTO ABRIL",
         "a.monterrosa@udea.edu.co",
         "0.0",
         null
        ],
        [
         "4",
         "1193404816",
         "AMARIS FERNANDEZ SEBASTIAN CAMILO",
         "sebastian.amaris@udea.edu.co",
         null,
         null
        ]
       ],
       "shape": {
        "columns": 5,
        "rows": 4
       }
      },
      "text/html": [
       "<div>\n",
       "<style scoped>\n",
       "    .dataframe tbody tr th:only-of-type {\n",
       "        vertical-align: middle;\n",
       "    }\n",
       "\n",
       "    .dataframe tbody tr th {\n",
       "        vertical-align: top;\n",
       "    }\n",
       "\n",
       "    .dataframe thead th {\n",
       "        text-align: right;\n",
       "    }\n",
       "</style>\n",
       "<table border=\"1\" class=\"dataframe\">\n",
       "  <thead>\n",
       "    <tr style=\"text-align: right;\">\n",
       "      <th></th>\n",
       "      <th>Cedula</th>\n",
       "      <th>Nombre</th>\n",
       "      <th>Email</th>\n",
       "      <th>Parcial</th>\n",
       "      <th>Asistencia</th>\n",
       "    </tr>\n",
       "  </thead>\n",
       "  <tbody>\n",
       "    <tr>\n",
       "      <th>1</th>\n",
       "      <td>1007528664</td>\n",
       "      <td>AYALA MENDOZA MARISOL YACIRA</td>\n",
       "      <td>marisol.ayala@udea.edu.co</td>\n",
       "      <td>0.0</td>\n",
       "      <td>NaN</td>\n",
       "    </tr>\n",
       "    <tr>\n",
       "      <th>2</th>\n",
       "      <td>1064188463</td>\n",
       "      <td>MASS MIRANDA RIVALDO JOSE</td>\n",
       "      <td>rivaldo.mass@udea.edu.co</td>\n",
       "      <td>0.0</td>\n",
       "      <td>NaN</td>\n",
       "    </tr>\n",
       "    <tr>\n",
       "      <th>3</th>\n",
       "      <td>1066570075</td>\n",
       "      <td>MONTERROSA SOTO ABRIL</td>\n",
       "      <td>a.monterrosa@udea.edu.co</td>\n",
       "      <td>0.0</td>\n",
       "      <td>NaN</td>\n",
       "    </tr>\n",
       "    <tr>\n",
       "      <th>4</th>\n",
       "      <td>1193404816</td>\n",
       "      <td>AMARIS FERNANDEZ SEBASTIAN CAMILO</td>\n",
       "      <td>sebastian.amaris@udea.edu.co</td>\n",
       "      <td>NaN</td>\n",
       "      <td>NaN</td>\n",
       "    </tr>\n",
       "  </tbody>\n",
       "</table>\n",
       "</div>"
      ],
      "text/plain": [
       "       Cedula                             Nombre  \\\n",
       "1  1007528664       AYALA MENDOZA MARISOL YACIRA   \n",
       "2  1064188463          MASS MIRANDA RIVALDO JOSE   \n",
       "3  1066570075              MONTERROSA SOTO ABRIL   \n",
       "4  1193404816  AMARIS FERNANDEZ SEBASTIAN CAMILO   \n",
       "\n",
       "                          Email  Parcial  Asistencia  \n",
       "1     marisol.ayala@udea.edu.co      0.0         NaN  \n",
       "2      rivaldo.mass@udea.edu.co      0.0         NaN  \n",
       "3      a.monterrosa@udea.edu.co      0.0         NaN  \n",
       "4  sebastian.amaris@udea.edu.co      NaN         NaN  "
      ]
     },
     "execution_count": 1,
     "metadata": {},
     "output_type": "execute_result"
    }
   ],
   "source": [
    "import pandas as pd\n",
    "import numpy as np\n",
    "\n",
    "# Cargar la lista de estudiantes desde el archivo CSV\n",
    "path = 'C:/Users/marco/Documentos/docencia/groups_list/vectorial.xlsx'\n",
    "estudiantes = pd.read_excel(path)\n",
    "estudiantes.index = range(1, len(estudiantes) + 1)\n",
    "estudiantes.head(17) "
   ]
  },
  {
   "cell_type": "code",
   "execution_count": 2,
   "id": "7604880f",
   "metadata": {
    "slideshow": {
     "slide_type": "slide"
    }
   },
   "outputs": [
    {
     "name": "stdout",
     "output_type": "stream",
     "text": [
      "Llamando a AYALA MENDOZA MARISOL YACIRA...\n",
      "Llamando a MASS MIRANDA RIVALDO JOSE...\n",
      "Llamando a MONTERROSA SOTO ABRIL...\n",
      "Llamando a AMARIS FERNANDEZ SEBASTIAN CAMILO...\n",
      "Cambios guardados en el archivo CSV.\n"
     ]
    }
   ],
   "source": [
    "# Convertir la columna 'Nombre' a una lista de Python\n",
    "lista_estudiantes = estudiantes['Nombre'].tolist()\n",
    "\n",
    "# Función para llamar a un estudiante aleatoriamente y registrar su nota de seguimiento\n",
    "def asistencia():\n",
    "    global lista_estudiantes\n",
    "    if lista_estudiantes:\n",
    "        estudiante_aleatorio = np.random.choice(lista_estudiantes)\n",
    "        print(f\"Llamando a {estudiante_aleatorio}...\")\n",
    "        asistencia = input(f\"¿Asistió {estudiante_aleatorio}? (s/n): \").strip().lower()\n",
    "        \n",
    "        # Validación de entrada\n",
    "        if asistencia == 'n':\n",
    "            # Obtener el índice del estudiante en el DataFrame\n",
    "            indice = estudiantes[estudiantes['Nombre'] == estudiante_aleatorio].index[0]\n",
    "            # Incrementar su valor en la columna 'Parcial'\n",
    "            estudiantes.at[indice, 'Asistencia'] += 4\n",
    "            print(f\"Actualizado: {estudiante_aleatorio} ahora tiene {estudiantes.at[indice,\\\n",
    "                'Asistencia']} en la columna 'Asistencia'.\")\n",
    "        \n",
    "        elif asistencia != 's':\n",
    "            print(\"Entrada inválida. Por favor, introduce 's' para sí o 'n' para no.\")\n",
    "            return  # Volver a preguntar para el mismo estudiante si la entrada es inválida\n",
    "        \n",
    "        # Remover al estudiante de la lista para no llamarlo de nuevo\n",
    "        lista_estudiantes.remove(estudiante_aleatorio)\n",
    "    else:\n",
    "        print(\"Se han llamado a todos los estudiantes del grupo completo.\")\n",
    "\n",
    "# Función para guardar cambios al final de la sesión\n",
    "def guardar_cambios():\n",
    "    estudiantes.to_csv(path, index=False)\n",
    "    print(\"Cambios guardados en el archivo CSV.\")\n",
    "\n",
    "# Ejemplo de uso\n",
    "while lista_estudiantes:\n",
    "    asistencia()\n",
    "\n",
    "# Guardar los cambios una vez que todos los estudiantes hayan sido llamados\n",
    "guardar_cambios()\n",
    "\n"
   ]
  },
  {
   "cell_type": "markdown",
   "id": "d7598d0a-d9b7-4ae0-b029-a0ed6ed1130b",
   "metadata": {},
   "source": [
    "\n",
    "# Principios de mi labor docente"
   ]
  },
  {
   "cell_type": "markdown",
   "id": "4f9d8cf9",
   "metadata": {
    "slideshow": {
     "slide_type": "slide"
    }
   },
   "source": [
    "## Modelo general de clase: [aula invertida](https://www3.gobiernodecanarias.org/medusa/ecoescuela/pedagotic/aprendizaje-invertido-flipped-classroom/)"
   ]
  },
  {
   "cell_type": "markdown",
   "id": "eb6ed03a",
   "metadata": {},
   "source": [
    "<img src = 'https://resources.maneuveringthemiddle.com/wp-content/uploads/2020/07/04212706/1-5.png' width = 200>  \n",
    "\n"
   ]
  },
  {
   "cell_type": "markdown",
   "id": "34319cce-a71b-4f64-aab8-b53e521efa40",
   "metadata": {},
   "source": [
    "# Metodología de enseñanza que busca el Aprendizaje Basada en Problemas y Proyectos (ABPP)\n"
   ]
  },
  {
   "cell_type": "markdown",
   "id": "c4f73d81",
   "metadata": {},
   "source": [
    "\n",
    "<img src = 'https://www.unir.net/wp-content/uploads/2020/07/aprendizaje-problemas2-1-1-1-1.jpeg' width = 200>"
   ]
  },
  {
   "cell_type": "markdown",
   "id": "841a985c-bd9b-4dd3-8e4c-893983980af2",
   "metadata": {},
   "source": [
    "# Desarrollo del pensamiento computacional con Lenguajes Python, R y,  con archivos R Markdown orientado a la formación en ciencia de datos \n",
    "\n"
   ]
  },
  {
   "cell_type": "markdown",
   "id": "3d0eba94",
   "metadata": {},
   "source": [
    "\n",
    "<img src = 'https://i.ytimg.com/vi/mcG_wcR4e6M/maxresdefault.jpg' width = 200>"
   ]
  },
  {
   "cell_type": "markdown",
   "id": "65aa0404-f7ae-495e-864c-1aec01b4255e",
   "metadata": {},
   "source": [
    "# Principio de fomento a la ciencia abierta, enseñar en el acceso a los datos públicos y el uso de software de código abierto  \n"
   ]
  },
  {
   "cell_type": "markdown",
   "id": "18ae9b87",
   "metadata": {},
   "source": [
    "\n",
    "<img src = 'https://unesdoc.unesco.org/in/rest/Thumb/image?id=p%3A%3Ausmarcdef_0000379949_spa&author=UNESCO&title=Recomendaci%C3%B3n+de+la+UNESCO+sobre+la+Ciencia+Abierta&year=2021&publisher=UNESCO&TypeOfDocument=UnescoPhysicalDocument&mat=PGD&ct=true&size=512&isPhysical=1' width = 200>"
   ]
  },
  {
   "cell_type": "markdown",
   "id": "d9559f85",
   "metadata": {},
   "source": [
    "El enfoque STEAMS en educación preescolar, primaria y secundaria es una extensión del enfoque STEM (Ciencia, Tecnología, Ingeniería y Matemáticas) y su variante STEAM, que incorpora el Arte. "
   ]
  },
  {
   "cell_type": "markdown",
   "id": "72e1cfd2",
   "metadata": {},
   "source": [
    "El acrónimo STEAMS incluye:\n"
   ]
  },
  {
   "cell_type": "markdown",
   "id": "03182fd1",
   "metadata": {},
   "source": [
    "\n",
    "1. **Science (Ciencia):** Fomenta la curiosidad por el mundo natural y el desarrollo de habilidades científicas, como la observación, experimentación y análisis.\n"
   ]
  },
  {
   "cell_type": "markdown",
   "id": "1306d0fa",
   "metadata": {},
   "source": [
    "\n",
    "2. **Technology (Tecnología):** Integra herramientas tecnológicas para potenciar el aprendizaje y la resolución de problemas, promoviendo la alfabetización digital desde edades tempranas.\n"
   ]
  },
  {
   "cell_type": "markdown",
   "id": "3b1a53e8",
   "metadata": {},
   "source": [
    "\n",
    "3. **Engineering (Ingeniería):** Introduce el pensamiento lógico y la resolución de problemas estructurados, fomentando habilidades como el diseño y la construcción de soluciones.\n"
   ]
  },
  {
   "cell_type": "markdown",
   "id": "0196de87",
   "metadata": {},
   "source": [
    "\n",
    "4. **Arts (Arte):** Añade creatividad y pensamiento crítico, permitiendo a los estudiantes expresarse y explorar el aprendizaje a través de formas artísticas (plásticas, música, teatro).\n"
   ]
  },
  {
   "cell_type": "markdown",
   "id": "8bcc485a",
   "metadata": {},
   "source": [
    "\n",
    "5. **Mathematics (Matemáticas):** Refuerza las habilidades numéricas y el razonamiento lógico, fundamentales en la resolución de problemas y comprensión de conceptos abstractos.\n"
   ]
  },
  {
   "cell_type": "markdown",
   "id": "907935f4",
   "metadata": {},
   "source": [
    "\n",
    "6. **Social Sciences (Ciencias Sociales):** Incorpora la comprensión del entorno social, político, cultural y económico, promoviendo el desarrollo de la conciencia crítica sobre el mundo y su historia, además de habilidades de empatía y ciudadanía.\n"
   ]
  },
  {
   "cell_type": "markdown",
   "id": "39967d63",
   "metadata": {},
   "source": [
    "\n",
    "El enfoque STEAMS pretende desarrollar un aprendizaje **interdisciplinario** que integre estas áreas para fomentar un pensamiento más holístico y práctico. "
   ]
  },
  {
   "cell_type": "markdown",
   "id": "5145f077",
   "metadata": {},
   "source": [
    "Se busca que los estudiantes no solo aprendan conocimientos técnicos, sino también cómo aplicarlos creativa y críticamente en situaciones reales, promoviendo habilidades como el trabajo en equipo, la comunicación y la innovación. "
   ]
  },
  {
   "cell_type": "markdown",
   "id": "9d556584",
   "metadata": {},
   "source": [
    "En educación preescolar, primaria, secundaria y superior, se adapta a las diferentes etapas de desarrollo cognitivo y emocional de los estudiantes, promoviendo el aprendizaje activo y contextualizado.  \n"
   ]
  },
  {
   "cell_type": "markdown",
   "id": "0130ec1b",
   "metadata": {},
   "source": [
    "\n",
    "<img src = 'https://www.campuseducacion.com/blog/wp-content/uploads/2023/03/foto01-1.jpg' width = 200>"
   ]
  },
  {
   "cell_type": "markdown",
   "id": "9d15c10d-2c02-4158-9419-b1ed79b4c1ee",
   "metadata": {},
   "source": [
    "# Qué estamos haciendo por la internalización en esta clase y este curso  \n"
   ]
  },
  {
   "cell_type": "markdown",
   "id": "6e4feef2",
   "metadata": {},
   "source": [
    "Estas son mis acciones como docente de matemáticas en la Universidad de Antioquia con miras a la **internacionalización** de mi práctica docente y el desarrollo de competencias internacionales para mis estudiantes, ls cuales he estructurado con el siguiente enfoque:\n"
   ]
  },
  {
   "cell_type": "markdown",
   "id": "964d9de7-53ee-4255-9bcd-d8e6454f2993",
   "metadata": {},
   "source": [
    "### 1. **Visión Global en la Formación Académica**\n"
   ]
  },
  {
   "cell_type": "markdown",
   "id": "d9bdd3e2",
   "metadata": {},
   "source": [
    "   - **Competencias Internacionales**: Asegúrate de que el contenido de tus cursos fomente habilidades que sean reconocidas globalmente. "
   ]
  },
  {
   "cell_type": "markdown",
   "id": "843e9311",
   "metadata": {},
   "source": [
    "Al educar a los estudiantes en **Python, LaTeX, Markdown y Jupyter Notebooks** y en la **introducción a la ciencia de datos y técnicas de Machine Learning**, estás proporcionando competencias altamente demandadas en los sectores tecnológicos y académicos a nivel internacional.\n"
   ]
  },
  {
   "cell_type": "markdown",
   "id": "39b55206",
   "metadata": {},
   "source": [
    "   - **Relevancia de los Contenidos**: Destaca cómo los temas que enseñas, como el **desarrollo del pensamiento computacional** y la **ciencia de datos**, están alineados con las necesidades globales actuales en diversas industrias, desde la tecnología hasta las ciencias naturales y sociales.\n"
   ]
  },
  {
   "cell_type": "markdown",
   "id": "a054599e",
   "metadata": {},
   "source": [
    "   - **Referencias a Estándares Internacionales**: Puedes vincular tu enseñanza a estándares internacionales de competencias en programación y ciencia de datos (por ejemplo, frameworks del **IEEE, ACM**, y estándares de la **data science** o la **computación en la nube**)."
   ]
  },
  {
   "cell_type": "markdown",
   "id": "0f1d110c-3142-48fe-9e7d-5fbd9e8bb931",
   "metadata": {},
   "source": [
    "### 2. **Innovación Pedagógica con Enfoque Internacional**\n"
   ]
  },
  {
   "cell_type": "markdown",
   "id": "fae6ae34",
   "metadata": {},
   "source": [
    "   - **Aula Invertida y ABP**: Presenta cómo tu enfoque de **aula invertida** y **aprendizaje basado en problemas (ABP)** permite a los estudiantes trabajar de manera autónoma y colaborativa, lo que los prepara para escenarios laborales internacionales que requieren autoaprendizaje y habilidades de resolución de problemas en equipo.\n"
   ]
  },
  {
   "cell_type": "markdown",
   "id": "c83062d9",
   "metadata": {},
   "source": [
    "   - **Uso de Jupyter Notebooks**: El uso de **Jupyter Notebooks** en tus clases no solo facilita la **integración de código, matemáticas y texto**, sino que también es una plataforma utilizada globalmente en ambientes académicos y profesionales, lo que hace a tus estudiantes más competitivos internacionalmente."
   ]
  },
  {
   "cell_type": "markdown",
   "id": "960d52b7-03cd-4eb3-965e-5cdfeb7d9f8e",
   "metadata": {},
   "source": [
    "### 3. **Tecnología y Herramientas de Uso Global**\n"
   ]
  },
  {
   "cell_type": "markdown",
   "id": "4be7269f",
   "metadata": {},
   "source": [
    "   - **Lenguaje Python**: Python es uno de los lenguajes de programación más usados a nivel mundial, tanto en la academia como en la industria. "
   ]
  },
  {
   "cell_type": "markdown",
   "id": "5abb1c38",
   "metadata": {},
   "source": [
    "Al formar a tus estudiantes en Python para ciencia de datos y machine learning, los preparas para operar en entornos tecnológicos globales.\n"
   ]
  },
  {
   "cell_type": "markdown",
   "id": "102655af",
   "metadata": {},
   "source": [
    "   - **Herramientas de Ciencia Abierta**: Resalta cómo herramientas como **GitHub**, **Google Colab** y otras plataformas de código abierto están alineadas con el movimiento de **ciencia abierta**, el cual es internacionalmente reconocido y permite que los estudiantes colaboren y compartan proyectos a nivel global."
   ]
  },
  {
   "cell_type": "markdown",
   "id": "3b2ffa32-7a6f-4545-ba7b-c6a69f51109f",
   "metadata": {},
   "source": [
    "### 4. **Investigación y Publicaciones Internacionales**\n"
   ]
  },
  {
   "cell_type": "markdown",
   "id": "bdbf52a5",
   "metadata": {},
   "source": [
    "   - **Promoción de la Investigación**: Detalla cómo promueves que tus estudiantes participen en proyectos de **investigación aplicada**, con posibilidad de publicación en revistas internacionales. "
   ]
  },
  {
   "cell_type": "markdown",
   "id": "1bb10e37",
   "metadata": {},
   "source": [
    "Esto contribuye a la reputación internacional de la Universidad de Antioquia.\n"
   ]
  },
  {
   "cell_type": "markdown",
   "id": "ea01fcbc",
   "metadata": {},
   "source": [
    "   - **Colaboraciones Internacionales**: Si has colaborado con investigadores de otras instituciones o universidades en el extranjero, menciona estos proyectos y cómo han enriquecido tu enseñanza y proporcionado a los estudiantes una visión más globalizada."
   ]
  },
  {
   "cell_type": "markdown",
   "id": "5d1e396e-aece-4bf7-9421-32fa7809eaf4",
   "metadata": {},
   "source": [
    "## 5. **Uso del Inglés para la Internacionalización**\n"
   ]
  },
  {
   "cell_type": "markdown",
   "id": "29cabf26",
   "metadata": {},
   "source": [
    "   - **Comunicación Científica en Inglés**: "
   ]
  },
  {
   "cell_type": "markdown",
   "id": "8ec53ff3",
   "metadata": {},
   "source": [
    "Fomentar el aprendizaje del inglés como lengua científica es clave para que tus estudiantes puedan acceder a publicaciones internacionales, conferencias, y material académico que no está disponible en español. "
   ]
  },
  {
   "cell_type": "markdown",
   "id": "3319ddb0",
   "metadata": {},
   "source": [
    "Esto es esencial para que adquieran competencias que les permitan desempeñarse en cualquier contexto internacional.\n"
   ]
  },
  {
   "cell_type": "markdown",
   "id": "b831224f",
   "metadata": {},
   "source": [
    "   - **Material Bilingüe**: Al generar material educativo en Python, LaTeX y Markdown, considera ofrecer algunos de estos recursos en inglés, para que los estudiantes se familiaricen con el vocabulario técnico y científico internacional."
   ]
  },
  {
   "cell_type": "markdown",
   "id": "c6a8c3b0-426a-4692-a384-3065aea81c9a",
   "metadata": {},
   "source": [
    "### 6. **Certificaciones y Estándares Internacionales**\n"
   ]
  },
  {
   "cell_type": "markdown",
   "id": "b1f41da5",
   "metadata": {},
   "source": [
    "   - **Participación en Certificaciones Internacionales**: Impulsa que los estudiantes busquen certificaciones internacionales en Python o ciencia de datos (como las ofrecidas por **Coursera, edX,** o **Google**). "
   ]
  },
  {
   "cell_type": "markdown",
   "id": "3c935f24",
   "metadata": {},
   "source": [
    "Estas certificaciones no solo validan sus competencias, sino que también incrementan el reconocimiento de la Universidad de Antioquia en el contexto internacional.\n"
   ]
  },
  {
   "cell_type": "markdown",
   "id": "7cc66317",
   "metadata": {},
   "source": [
    "   - **Alineación con Acreditaciones Internacionales**: Vincula tu trabajo docente con los estándares de acreditación y certificación que garantizan que la universidad siga siendo reconocida internacionalmente. "
   ]
  },
  {
   "cell_type": "markdown",
   "id": "0f330d59",
   "metadata": {},
   "source": [
    "Puedes vincularte con organizaciones internacionales que promuevan la excelencia en la educación y tecnología, como **ABET** para la acreditación en ingeniería y ciencias computacionales."
   ]
  },
  {
   "cell_type": "markdown",
   "id": "65d3d9e1-ea84-43e0-8197-a2a9c9e21594",
   "metadata": {},
   "source": [
    "### 7. **Proyectos Abiertos y Ciencia Reproducible**\n"
   ]
  },
  {
   "cell_type": "markdown",
   "id": "f03f7b20",
   "metadata": {},
   "source": [
    "   - **GitHub y Open Science**: La utilización de **GitHub** para almacenar los proyectos y materiales de enseñanza en repositorios públicos permite que otros investigadores y educadores internacionales puedan revisar y replicar tu trabajo. "
   ]
  },
  {
   "cell_type": "markdown",
   "id": "b15e6443",
   "metadata": {},
   "source": [
    "Esto contribuye a la creación de una red de colaboración científica abierta.\n"
   ]
  },
  {
   "cell_type": "markdown",
   "id": "9fb139ef",
   "metadata": {},
   "source": [
    "   - **Transparencia y Reproducibilidad**: La ciencia de datos y machine learning están profundamente ligados a la reproducibilidad. "
   ]
  },
  {
   "cell_type": "markdown",
   "id": "6dcc0d62",
   "metadata": {},
   "source": [
    "Asegura que tus estudiantes desarrollen prácticas de transparencia y documentación en la investigación, que son pilares en la comunidad científica global.\n"
   ]
  },
  {
   "cell_type": "markdown",
   "id": "215cb551",
   "metadata": {},
   "source": [
    "\n",
    "### 8. **Participación en Redes y Conferencias Internacionales**\n"
   ]
  },
  {
   "cell_type": "markdown",
   "id": "489c0b8c",
   "metadata": {},
   "source": [
    "   - **Presentación en Conferencias Internacionales**: Destaca cómo tu participación en conferencias internacionales (como la **ASCOLFA** o eventos sobre educación en matemáticas) contribuye al prestigio de la universidad y permite que tus prácticas sean evaluadas y reconocidas a nivel global.\n"
   ]
  },
  {
   "cell_type": "markdown",
   "id": "cdf46e29",
   "metadata": {},
   "source": [
    "   - **Promoción de Estudiantes en Eventos Internacionales**: Impulsa la participación de tus estudiantes en competiciones internacionales de programación o hackathons, como los organizados por **Google**, **ACM** o **Kaggle**. "
   ]
  },
  {
   "cell_type": "markdown",
   "id": "2b0eb8a9",
   "metadata": {},
   "source": [
    "Esto no solo desarrolla sus habilidades, sino que también visibiliza el talento de la Universidad de Antioquia a nivel global.\n",
    "\n",
    "---"
   ]
  },
  {
   "cell_type": "markdown",
   "id": "233294a4-1983-4641-a7ad-866825e02315",
   "metadata": {},
   "source": [
    "Con esta estrategia, presento mis acciones docentes en términos de:  \n",
    "\n",
    "* competencias internacionales, \n",
    "* innovación pedagógica, \n",
    "* tecnología, \n",
    "* investigación y \n",
    "* participación en redes globales, \n",
    "  \n",
    "asegurando que mi práctica esté alineada con los estándares internacionales y que mis estudiantes estén preparados para competir en contextos internacionales."
   ]
  },
  {
   "cell_type": "markdown",
   "id": "77da458b",
   "metadata": {},
   "source": [
    "### **Metodología de Enseñanza: Aprendizaje Basado en Problemas y Proyectos (ABPP)**\n"
   ]
  },
  {
   "cell_type": "markdown",
   "id": "c943d273",
   "metadata": {},
   "source": [
    "\n",
    "El **Aprendizaje Basado en Problemas y Proyectos (ABPP)** es una metodología educativa que integra los enfoques del **Aprendizaje Basado en Problemas (ABP)** y el **Aprendizaje Basado en Proyectos (PBL, por sus siglas en inglés)**. "
   ]
  },
  {
   "cell_type": "markdown",
   "id": "ad0e0bf3",
   "metadata": {},
   "source": [
    "Es especialmente útil para la formación de futuros docentes, ingenieros y administradores, ya que combina el desarrollo de habilidades prácticas con el pensamiento crítico y reflexivo. "
   ]
  },
  {
   "cell_type": "markdown",
   "id": "137b18e2",
   "metadata": {},
   "source": [
    "A continuación, se presenta una descripción adaptada a la enseñanza de las matemáticas en educación infantil, Licenciatura en Matemáticas, Ingeniería Agropecuaria y Administración de Empresas:\n",
    "\n",
    "---\n"
   ]
  },
  {
   "cell_type": "markdown",
   "id": "0eeba3f5",
   "metadata": {},
   "source": [
    "\n",
    "### **1. Fundamentos del ABPP**\n"
   ]
  },
  {
   "cell_type": "markdown",
   "id": "fb051f2b",
   "metadata": {},
   "source": [
    "El ABPP se basa en:\n",
    "- **Resolución de Problemas Reales:** Los estudiantes analizan y resuelven problemas auténticos relacionados con su área de formación, fomentando la aplicación práctica del conocimiento.\n"
   ]
  },
  {
   "cell_type": "markdown",
   "id": "47bb5fcc",
   "metadata": {},
   "source": [
    "- **Proyectos como Herramientas Integradoras:** Los proyectos permiten desarrollar habilidades interdisciplinarias y ofrecer soluciones concretas a los problemas planteados.\n"
   ]
  },
  {
   "cell_type": "markdown",
   "id": "9f77ec82",
   "metadata": {},
   "source": [
    "- **Aprendizaje Activo:** Los estudiantes son responsables de su aprendizaje y participan activamente en el proceso de investigación, diseño y solución.\n",
    "\n",
    "---\n"
   ]
  },
  {
   "cell_type": "markdown",
   "id": "3728d010",
   "metadata": {},
   "source": [
    "\n",
    "### **2. Aplicación del ABPP en Áreas Específicas**\n"
   ]
  },
  {
   "cell_type": "markdown",
   "id": "695a22f2",
   "metadata": {},
   "source": [
    "\n",
    "#### **Educación Infantil (Licenciatura en Educación Infantil)**\n"
   ]
  },
  {
   "cell_type": "markdown",
   "id": "d8eeda88",
   "metadata": {},
   "source": [
    "- **Enfoque:** Desarrollo del pensamiento matemático en la infancia desde contextos lúdicos, familiares y culturales.\n"
   ]
  },
  {
   "cell_type": "markdown",
   "id": "06b737e1",
   "metadata": {},
   "source": [
    "- **Problemas típicos:** \n",
    "  - ¿Cómo enseñar los números naturales mediante actividades prácticas y juegos?\n",
    "  - ¿Qué estrategias pueden emplearse para abordar el concepto de cantidad en edades tempranas?\n"
   ]
  },
  {
   "cell_type": "markdown",
   "id": "e92ccc6d",
   "metadata": {},
   "source": [
    "- **Proyectos:** Diseño de secuencias didácticas que usen Python, Jupyter Notebooks y materiales manipulativos para enseñar matemáticas de forma interactiva.\n"
   ]
  },
  {
   "cell_type": "markdown",
   "id": "9c58539c",
   "metadata": {},
   "source": [
    "- **Competencias desarrolladas:** \n",
    "  - Uso de herramientas tecnológicas para diseñar actividades educativas.\n",
    "  - Comprensión del desarrollo cognitivo infantil y su relación con las matemáticas.\n"
   ]
  },
  {
   "cell_type": "markdown",
   "id": "481f614a",
   "metadata": {},
   "source": [
    "\n",
    "#### **Licenciatura en Matemáticas**\n"
   ]
  },
  {
   "cell_type": "markdown",
   "id": "ef50ed64",
   "metadata": {},
   "source": [
    "- **Enfoque:** Resolución de problemas matemáticos aplicados y profundización teórica en áreas como análisis matemático y modelado.\n"
   ]
  },
  {
   "cell_type": "markdown",
   "id": "69305cb7",
   "metadata": {},
   "source": [
    "- **Problemas típicos:**\n",
    "  - ¿Cómo se pueden resolver ecuaciones diferenciales aplicadas a modelos físicos o económicos?\n",
    "  - ¿Cómo modelar fenómenos naturales mediante funciones matemáticas?\n"
   ]
  },
  {
   "cell_type": "markdown",
   "id": "1e4ab50a",
   "metadata": {},
   "source": [
    "- **Proyectos:** \n",
    "  - Desarrollo de software educativo para explorar conceptos matemáticos.\n",
    "  - Aplicación de modelado matemático para resolver problemas reales en otras disciplinas.\n"
   ]
  },
  {
   "cell_type": "markdown",
   "id": "d7fa6846",
   "metadata": {},
   "source": [
    "- **Competencias desarrolladas:**\n",
    "  - Dominio de la matemática teórica y aplicada.\n",
    "  - Uso de tecnología para la enseñanza y la investigación.\n"
   ]
  },
  {
   "cell_type": "markdown",
   "id": "83ab236f",
   "metadata": {},
   "source": [
    "\n",
    "#### **Ingeniería Agropecuaria**\n",
    "- **Enfoque:** Modelado matemático y análisis de datos para mejorar la producción agrícola y la gestión de recursos.\n"
   ]
  },
  {
   "cell_type": "markdown",
   "id": "bd9a5958",
   "metadata": {},
   "source": [
    "- **Problemas típicos:**\n",
    "  - ¿Cómo modelar el crecimiento de cultivos considerando variables climáticas?\n",
    "  - ¿Cómo optimizar el uso del agua en sistemas de riego mediante análisis matemático?\n"
   ]
  },
  {
   "cell_type": "markdown",
   "id": "658211a3",
   "metadata": {},
   "source": [
    "- **Proyectos:** \n",
    "  - Desarrollo de modelos predictivos con Python y bibliotecas de aprendizaje automático.\n",
    "  - Implementación de proyectos que combinen matemáticas y ciencias de datos para resolver problemas agrícolas.\n"
   ]
  },
  {
   "cell_type": "markdown",
   "id": "f2c01339",
   "metadata": {},
   "source": [
    "- **Competencias desarrolladas:**\n",
    "  - Integración de matemáticas con tecnologías avanzadas.\n",
    "  - Resolución de problemas agropecuarios mediante análisis y modelado.\n"
   ]
  },
  {
   "cell_type": "markdown",
   "id": "c4519bb3",
   "metadata": {},
   "source": [
    "\n",
    "#### **Administración de Empresas**\n"
   ]
  },
  {
   "cell_type": "markdown",
   "id": "cab1407c",
   "metadata": {},
   "source": [
    "- **Enfoque:** Uso de las matemáticas y la ciencia de datos para la toma de decisiones estratégicas.\n"
   ]
  },
  {
   "cell_type": "markdown",
   "id": "fb28dc0c",
   "metadata": {},
   "source": [
    "- **Problemas típicos:**\n",
    "  - ¿Cómo identificar patrones de comportamiento del consumidor usando series de tiempo?\n",
    "  - ¿Qué estrategias matemáticas pueden optimizar la asignación de recursos en una empresa?\n"
   ]
  },
  {
   "cell_type": "markdown",
   "id": "4de70bc1",
   "metadata": {},
   "source": [
    "- **Proyectos:** \n",
    "  - Implementación de modelos de análisis financiero y simulaciones.\n",
    "  - Desarrollo de dashboards interactivos para la gestión de datos empresariales.\n"
   ]
  },
  {
   "cell_type": "markdown",
   "id": "5bcb6e9e",
   "metadata": {},
   "source": [
    "- **Competencias desarrolladas:**\n",
    "  - Habilidad para interpretar datos matemáticos en contextos de negocio.\n",
    "  - Capacidad para diseñar soluciones basadas en datos.\n",
    "\n",
    "---\n"
   ]
  },
  {
   "cell_type": "markdown",
   "id": "19be58d4",
   "metadata": {},
   "source": [
    "\n",
    "### **3. Beneficios del ABPP**\n"
   ]
  },
  {
   "cell_type": "markdown",
   "id": "4880978f",
   "metadata": {},
   "source": [
    "- **Desarrollo de competencias clave:**\n"
   ]
  },
  {
   "cell_type": "markdown",
   "id": "3ca107e2",
   "metadata": {},
   "source": [
    "  - Pensamiento crítico y creativo.\n",
    "  - Trabajo colaborativo.\n",
    "  - Comunicación efectiva.\n",
    "  - Uso de herramientas tecnológicas avanzadas.\n"
   ]
  },
  {
   "cell_type": "markdown",
   "id": "7cfc1250",
   "metadata": {},
   "source": [
    "- **Adaptación al contexto laboral:** Los estudiantes aprenden a enfrentar desafíos del mundo real y a diseñar soluciones prácticas y aplicables.\n"
   ]
  },
  {
   "cell_type": "markdown",
   "id": "da40f888",
   "metadata": {},
   "source": [
    "- **Flexibilidad e interdisciplinariedad:** La metodología se adapta a diversas áreas, fomentando el aprendizaje integrado.\n",
    "\n",
    "---\n"
   ]
  },
  {
   "cell_type": "markdown",
   "id": "e36034c3",
   "metadata": {},
   "source": [
    "\n",
    "### **4. Ejemplo General de Implementación**\n"
   ]
  },
  {
   "cell_type": "markdown",
   "id": "76763c0f",
   "metadata": {},
   "source": [
    "1. **Identificación del problema:** Se plantea un desafío concreto, como modelar el crecimiento poblacional de una comunidad rural (Ingeniería Agropecuaria) o diseñar una estrategia para enseñar fracciones a niños de 8 años (Educación Infantil).\n"
   ]
  },
  {
   "cell_type": "markdown",
   "id": "efe1e5dd",
   "metadata": {},
   "source": [
    "2. **Formación de equipos:** Los estudiantes trabajan en grupos, distribuyendo roles y tareas.\n"
   ]
  },
  {
   "cell_type": "markdown",
   "id": "9004e59b",
   "metadata": {},
   "source": [
    "3. **Investigación y diseño:** Los estudiantes investigan el problema, proponen soluciones y diseñan un proyecto.\n"
   ]
  },
  {
   "cell_type": "markdown",
   "id": "b3e682e4",
   "metadata": {},
   "source": [
    "4. **Implementación:** Se desarrolla el proyecto, como una herramienta tecnológica o una propuesta pedagógica.\n"
   ]
  },
  {
   "cell_type": "markdown",
   "id": "2e627c98",
   "metadata": {},
   "source": [
    "5. **Evaluación:** Los estudiantes presentan sus resultados en un informe o una exposición, recibiendo retroalimentación de sus compañeros y docentes.\n",
    "\n",
    "---\n"
   ]
  },
  {
   "cell_type": "markdown",
   "id": "5a8bc842",
   "metadata": {},
   "source": [
    "\n",
    "El ABPP es una metodología versátil que conecta el conocimiento teórico con la práctica, preparando a los estudiantes para los retos de sus profesiones en la enseñanza de la matemática, la ingeniería y la administración."
   ]
  },
  {
   "cell_type": "markdown",
   "id": "8d97dc80",
   "metadata": {
    "slideshow": {
     "slide_type": "slide"
    }
   },
   "source": [
    "## Fomento de la lectura literaria asociada a Ingeniería agropecuaria y licenciatura en Matemáticas\n",
    "\n",
    "[Inteligencia Emocional. Daniel Goleman]()"
   ]
  },
  {
   "cell_type": "markdown",
   "id": "96775931",
   "metadata": {
    "slideshow": {
     "slide_type": "slide"
    }
   },
   "source": [
    "## Título de la clase: Estadística para la prueba ICFES de Bachillerato\n",
    "\n"
   ]
  },
  {
   "cell_type": "markdown",
   "id": "10e55ccf",
   "metadata": {},
   "source": [
    "# Estructura general para todas las clases  \n",
    "\n",
    "Dame, por favor, un diseño de clase, con el enfoque: \"Aula Invertida, STEAMS y de Aprendizaje Basado en Problemas y Proyectos(ABPP)\" sobre: \"Estadístiica para la prueba ICFES de Bachillerato en Colombia \", siguiendo la estructura:  \n",
    "\n",
    "1. Título de la clase \n",
    "2. Objetivos de aprendizaje que incluyan los indicadores del logro de estos objetivos.\n",
    "3. Un mapa conceptual que resuma la clase elaborado en Graphviz de Python con nodos y edges de diferentes formas, colores y rellenos y renderizado en la siguiente ubicación: `\"C:/Users/marco/Downloads\"`. No olvides el parámetro `view = True` para el método `render()` de Graphviz. Para este mapa controla las superposiciones de los nodos con: graph [overlap=false]; // Elimina superposiciones (puede aumentar el espacio)\n",
    "graph [overlap=\"scalexy\"]; // Escala el gráfico para evitar overlaps\n",
    "graph [overlap=\"compress\"]; // Comprime el grafo sin overlaps   \n",
    "\n",
    "4. Elementos históricos y epistemológicos relevantes para la clase pero contados como un cuento al estilo de un cuentero antioqueño en Colombia. Incluye imágenes de los protagonistas históricos de esta clase.   \n",
    "    \n",
    "5. Contenido de la clase. Centra el contenido, en lo que se necesita para adquirir las habilidades necesarias para presentar el prueba del ICFES en Colombia.   \n",
    "   \n",
    "   1. Contenidos genéricos \n",
    "      Diferentes tipos de representación de datos (tablas  y gráficas) \n",
    "      Intersección, unión y contenencia de conjuntos \n",
    "      Promedio y rango  estadístico \n",
    "      Conteos simples  que utilizan principios de suma  y multiplicación \n",
    "      Noción de población,  muestra e inferencia  muestral \n",
    "   2. Contenidos no genéricos \n",
    "      Estimación  del error \n",
    "      Varianza, percentiles, mediana y correlación \n",
    "      Combinaciones y permutaciones\n",
    "\n",
    "\n",
    "6. Actividades de aprendizaje. Centra las actividades de aprendizaje, en lo que se necesita mi hijo para adquirir las habilidades necesarias para presentar el prueba del ICFES en Colombia. \n",
    "7. Incluye una canción o un poema que ayude a interiorizar y fijar los conceptos asociados a esta clase. \n",
    "8. Tarea o actividades de ejercitación y fijación. Centra las tares, en lo que se necesita para adquirir las habilidades necesarias para presentar el prueba del ICFES en Colombia. \n",
    "9.  Evaluación incluyendo diez proyectos, un ejemplo de quiz (de tres preguntas) y un ejemplo de parcial (de cinco puntos). Centra las actividades evaluativas, en lo que se necesita para adquirir las habilidades necesarias para presentar el prueba del ICFES en Colombia. \n",
    "10. Diseño de actividad de retroalimentación. \n",
    "11. Dame un vocabulario y frases del idioma inglés asociadas a esta clase.   \n",
    "12. Incluye apéndice para la clase sobre desarrollo de habilidades para trabajar en equipo y de asertividad y empatía para relacionarnos. Desarrollar capacidades de argumentación verbal u oral. \n",
    "13. Incluye 10 referentes en didáctica de la matemática que estén de acuerdo a la propuesta didáctica de esta clase. Adiciona a estos referentes a Raymond Duval (Representaciones y cambios de representación para la adquisición de conceptos matemáticos) y a Jeannette Wing (Desarrollo del pensamiento computacional). Déjame todos estos referentes ordenados de acuerdo a las normas APA. Déjame todos estos referentes ordenados de acuerdo a las normas APA. Incluye las citaciones a estos referentes a medida que vallas diseñando la clase.   \n",
    "    \n",
    "\n",
    "Pero  que este diseño sea para que el estudiante pueda aprender experimentando en cuadernos Jupyter con funciones de usuario y animaciones y visualizaciones en Python. En particular utiliza para el diseño de clase a NumPy, Pandas, SymPy, Matplotlib.pyplot, Seaborn, Plotly, ipywidgets, matplotlib.animation y Jupyter Notebook.  Cada vez que utilice `matplotlib.animacion` no olvides incluir el uso de `IPython. display` para la renderización de estas animaciones a través de Jupyter Notebook. No olvides darme los diseños de clase con las ecuaciones matemáticas delimitadas con signo de dólar $ para que VS Code si me renderice estas expresiones del lenguaje latex. Cuando vallas a utilizar ipywidgets ten en cuenta la siguiente importación inicial para garantizar que la visualización interactiva si se renderice en VS Code:                                                                   \n",
    "import numpy as np\n",
    "import matplotlib.pyplot as plt\n",
    "import ipywidgets as widgets\n",
    "from IPython.display import display, clear_output\n",
    "from matplotlib.patches import Rectangle\n",
    "\n",
    "# Configuración inicial para visualización estática\n",
    "%matplotlib inline"
   ]
  },
  {
   "cell_type": "code",
   "execution_count": null,
   "id": "81235e9f",
   "metadata": {},
   "outputs": [],
   "source": [
    "path_image = r'C:/Users/marco/Downloads'\n",
    "def save_fig(nombre_archivo_imagen):\n",
    "    import os \n",
    "    import matplotlib.pyplot as plt \n",
    "    imagen_path = os.path.join(path_image, nombre_archivo_imagen)\n",
    "    plt.savefig(imagen_path, bbox_inches='tight')"
   ]
  },
  {
   "cell_type": "code",
   "execution_count": 1,
   "id": "8d07aeec",
   "metadata": {},
   "outputs": [
    {
     "name": "stdout",
     "output_type": "stream",
     "text": [
      "Requirement already satisfied: pillow in c:\\users\\marco\\documentos\\investigacion\\investigacion_en_asesoria\\.venv\\lib\\site-packages (11.1.0)\n"
     ]
    }
   ],
   "source": [
    "!pip install pillow\n"
   ]
  },
  {
   "cell_type": "code",
   "execution_count": 2,
   "id": "d74d5c3a",
   "metadata": {},
   "outputs": [
    {
     "name": "stdout",
     "output_type": "stream",
     "text": [
      "Error al convertir la imagen: [Errno 2] No such file or directory: 'imagen.webp'\n"
     ]
    }
   ],
   "source": [
    "from PIL import Image\n",
    "\n",
    "def convertir_webp_a_jpeg(ruta_webp, ruta_jpeg, calidad=95):\n",
    "    \"\"\"\n",
    "    Convierte una imagen .webp a .jpeg.\n",
    "\n",
    "    Parámetros:\n",
    "    - ruta_webp (str): Ruta de la imagen .webp de entrada.\n",
    "    - ruta_jpeg (str): Ruta donde se guardará la imagen .jpeg.\n",
    "    - calidad (int): Calidad de la imagen .jpeg (por defecto 95).\n",
    "\n",
    "    Retorna:\n",
    "    - None\n",
    "    \"\"\"\n",
    "    try:\n",
    "        # Abrir la imagen .webp\n",
    "        with Image.open(ruta_webp) as img:\n",
    "            # Convertir y guardar como .jpeg\n",
    "            img.convert(\"RGB\").save(ruta_jpeg, \"JPEG\", quality=calidad)\n",
    "        print(f\"Imagen convertida y guardada en: {ruta_jpeg}\")\n",
    "    except Exception as e:\n",
    "        print(f\"Error al convertir la imagen: {e}\")\n",
    "\n",
    "# Ejemplo de uso\n",
    "convertir_webp_a_jpeg(\"imagen.webp\", \"imagen_convertida.jpeg\")"
   ]
  },
  {
   "cell_type": "markdown",
   "id": "f227c429",
   "metadata": {},
   "source": [
    "**Diseño de clase: Estadística para la prueba ICFES de Bachillerato en Colombia**\n",
    "\n",
    "---\n"
   ]
  },
  {
   "cell_type": "markdown",
   "id": "c588cc78",
   "metadata": {},
   "source": [
    "\n",
    "### 1. Título de la clase\n",
    "**Estadística con Python para la prueba ICFES: Aprende jugando, razonando y resolviendo problemas**\n",
    "\n",
    "---\n"
   ]
  },
  {
   "cell_type": "markdown",
   "id": "269637cb",
   "metadata": {},
   "source": [
    "\n",
    "### 2. Objetivos de aprendizaje e indicadores de logro\n",
    "\n",
    "**Objetivo general:**\n",
    "Desarrollar en los estudiantes habilidades matemáticas y competencias en estadística requeridas para resolver los problemas del componente cuantitativo de la prueba ICFES Saber 11, mediante la experimentación en Jupyter Notebooks con Python y metodologías activas.\n"
   ]
  },
  {
   "cell_type": "markdown",
   "id": "9f1c9104",
   "metadata": {},
   "source": [
    "\n",
    "**Objetivos específicos e indicadores:**\n",
    "- Representar datos de manera efectiva usando tablas y gráficas.\n",
    "  - Indicador: Interpreta y construye tablas de frecuencia y gráficas de barras, circulares y de líneas usando Python.\n",
    "- Aplicar operaciones con conjuntos para resolver problemas elementales de conteo.\n",
    "  - Indicador: Utiliza diagramas de Venn y operaciones de conjuntos para modelar situaciones problema.\n",
    "- Calcular y analizar medidas de tendencia central y de dispersión.\n",
    "  - Indicador: Usa funciones de Python para hallar media, mediana, moda, rango, varianza y desviación estándar.\n",
    "- Realizar inferencias a partir de muestras representativas.\n",
    "  - Indicador: Distingue entre población y muestra, y aplica nociones básicas de inferencia.\n",
    "- Resolver problemas de conteo utilizando permutaciones y combinaciones.\n",
    "  - Indicador: Aplica principios de suma, multiplicación y fórmulas de conteo en Python.\n",
    "\n",
    "---\n"
   ]
  },
  {
   "cell_type": "code",
   "execution_count": 1,
   "id": "8b60159a",
   "metadata": {},
   "outputs": [
    {
     "data": {
      "text/plain": [
       "'C:\\\\Users\\\\marco\\\\Downloads\\\\estadistica_icfes.png'"
      ]
     },
     "execution_count": 1,
     "metadata": {},
     "output_type": "execute_result"
    }
   ],
   "source": [
    "\n",
    "from graphviz import Digraph\n",
    "\n",
    "# Crear el mapa conceptual con nodos estilizados y evitar superposición\n",
    "dot = Digraph('ICFES_Estadistica', filename=\"C:/Users/marco/Downloads/estadistica_icfes\", format='png')\n",
    "dot.attr(rankdir='LR', size='10', overlap='false')\n",
    "dot.attr('graph', overlap='scalexy')\n",
    "dot.attr('graph', overlap='compress')\n",
    "\n",
    "# Nodos principales (formas y colores distintos)\n",
    "dot.node('E', 'Estadística\\nICFES', shape='doubleoctagon', style='filled', fillcolor='lightblue')\n",
    "dot.node('R', 'Representaciones\\nde Datos', shape='ellipse', style='filled', fillcolor='lightyellow')\n",
    "dot.node('C', 'Conjuntos\\ny Conteos', shape='ellipse', style='filled', fillcolor='lightgreen')\n",
    "dot.node('M', 'Medidas\\nde Tendencia\\nCentral', shape='ellipse', style='filled', fillcolor='mistyrose')\n",
    "dot.node('I', 'Inferencia\\nEstadística', shape='ellipse', style='filled', fillcolor='lightcyan')\n",
    "dot.node('A', 'Análisis\\nCombinatorio', shape='ellipse', style='filled', fillcolor='plum')\n",
    "\n",
    "# Subtemas\n",
    "dot.node('T1', 'Tablas y\\nGráficas', shape='box', style='filled', fillcolor='yellow')\n",
    "dot.node('T2', 'Unión e\\nIntersección\\nde Conjuntos', shape='box', style='filled', fillcolor='lightgreen')\n",
    "dot.node('T3', 'Promedio,\\nRango,\\nMediana,\\nModa', shape='box', style='filled', fillcolor='pink')\n",
    "dot.node('T4', 'Población,\\nMuestra\\ne Inferencia', shape='box', style='filled', fillcolor='cyan')\n",
    "dot.node('T5', 'Combinaciones\\ny Permutaciones', shape='box', style='filled', fillcolor='violet')\n",
    "dot.node('T6', 'Estimación\\ndel Error,\\nVarianza,\\nCorrelación', shape='box', style='filled', fillcolor='azure')\n",
    "\n",
    "# Conexiones\n",
    "dot.edges([('E', 'R'), ('E', 'C'), ('E', 'M'), ('E', 'I'), ('E', 'A')])\n",
    "dot.edge('R', 'T1')\n",
    "dot.edge('C', 'T2')\n",
    "dot.edge('M', 'T3')\n",
    "dot.edge('I', 'T4')\n",
    "dot.edge('I', 'T6')\n",
    "dot.edge('A', 'T5')\n",
    "\n",
    "# Renderizar el grafo\n",
    "dot.render(view=True)\n"
   ]
  },
  {
   "cell_type": "markdown",
   "id": "5573e66f",
   "metadata": {},
   "source": [
    "\n",
    "### 4. Elementos históricos y epistemológicos como cuento paisa\n",
    "\n",
    "_\"Una vez en el corregimiento de Santa Rita, Antioquia, había un joven curioso llamado Fermín que vendía frutas. Cada día tomaba nota de cuántas naranjas vendía, pero no sabía cómo entender esa información. Hasta que un día pasó por allí Don Ronald Fisher, un gringo con sombrero, y le contó que podía predecir cuántas frutas vendería con unos cálculos que llamaba \"estadística\". Desde ahí, Fermín no sólo vendía frutas, sino que ayudaba a otros campesinos a analizar sus ventas usando cuadernitos y, muchos años después, con un tal \"Python\".\"_\n"
   ]
  },
  {
   "cell_type": "markdown",
   "id": "426a8b38",
   "metadata": {},
   "source": [
    "\n",
    "**Protagonistas históricos (con imágenes sugeridas):**\n",
    "- Pierre-Simon Laplace (probabilidad)\n",
    "- Francis Galton (mediana y regresión)\n",
    "- Karl Pearson (correlación)\n",
    "- Ronald Fisher (diseño experimental e inferencia)\n",
    "\n",
    "---\n"
   ]
  },
  {
   "cell_type": "markdown",
   "id": "a85fca36",
   "metadata": {},
   "source": [
    "\n",
    "### 5. Contenido de la clase\n"
   ]
  },
  {
   "cell_type": "markdown",
   "id": "45274539",
   "metadata": {},
   "source": [
    "\n",
    "**5.1 Contenidos genéricos**\n",
    "- Tablas de frecuencia y gráficas (barras, pastel, líneas): `pandas`, `matplotlib.pyplot`, `seaborn`, `plotly`\n",
    "- Operaciones entre conjuntos: `sympy`, `sets`\n",
    "- Medidas de tendencia central: media, mediana, moda\n",
    "- Conteo con principios aditivo y multiplicativo\n",
    "- Diferencia entre población, muestra e inferencia\n"
   ]
  },
  {
   "cell_type": "markdown",
   "id": "a617bbff",
   "metadata": {},
   "source": [
    "\n",
    "**5.2 Contenidos no genéricos**\n",
    "- Estimación del error: error muestral absoluto y relativo\n",
    "- Varianza, desviación estándar, percentiles\n",
    "- Medidas de posición y correlación lineal (coef. de Pearson)\n",
    "- Permutaciones y combinaciones: `math`, `itertools`\n",
    "\n",
    "---\n",
    "\n",
    "### 6. Actividades de aprendizaje en Jupyter Notebook\n",
    "- Visualización de datos reales del ICFES usando `pandas`.\n",
    "- Cálculo interactivo de medidas con `ipywidgets`.\n",
    "- Simulaciones de conteos con animaciones (`matplotlib.animation`, `IPython.display`).\n",
    "- Inferencia a partir de muestras simuladas.\n",
    "- Juegos de combinatoria (por ejemplo, \"cuántas maneras de formar equipos\").\n",
    "\n",
    "---\n"
   ]
  },
  {
   "cell_type": "markdown",
   "id": "2c81239f",
   "metadata": {},
   "source": [
    "\n",
    "¡Claro, Marco Julio! Aquí tienes **40 preguntas tipo ICFES** centradas en los contenidos que mencionas. Las estructuré como lo hace el ICFES: **con enunciado, contexto o estímulo, pregunta y cuatro opciones de respuesta** (solo una correcta). Están divididas en dos secciones: **Contenidos genéricos (preguntas 1 a 25)** y **Contenidos no genéricos (preguntas 26 a 40)**.\n",
    "\n",
    "---\n",
    "\n",
    "## 📊 Preguntas de Estadística tipo ICFES\n",
    "\n",
    "### **CONTENIDOS GENÉRICOS (1 - 25)**\n",
    "\n",
    "#### Representación de datos\n",
    "\n",
    "1. Una empresa registró las ventas mensuales (en millones de pesos) de sus cinco sucursales: 12, 15, 10, 20 y 13. ¿Cuál de las siguientes gráficas representa mejor esta información?\n",
    "\n",
    "   a) Gráfico circular  \n",
    "   b) Histograma  \n",
    "   c) Diagrama de barras  \n",
    "   d) Diagrama de dispersión  \n",
    "\n",
    "   ✅ **Respuesta correcta: c**\n"
   ]
  },
  {
   "cell_type": "markdown",
   "id": "67d252cb",
   "metadata": {},
   "source": [
    "* tipos de variables estadísticas.\n",
    "* "
   ]
  },
  {
   "cell_type": "markdown",
   "id": "db4658a9",
   "metadata": {},
   "source": [
    "\n",
    "2. ¿Qué tipo de gráfico es más adecuado para representar la distribución de edades de los estudiantes de una escuela?\n",
    "\n",
    "   a) Diagrama de barras  \n",
    "   b) Diagrama de Venn  \n",
    "   c) Gráfico circular  \n",
    "   d) Diagrama de caja  \n",
    "\n",
    "   ✅ **Respuesta correcta: d**\n"
   ]
  },
  {
   "cell_type": "markdown",
   "id": "3fcb9a55",
   "metadata": {},
   "source": [
    "* Tipos de gráficos estadísticos. "
   ]
  },
  {
   "cell_type": "markdown",
   "id": "d8d20b1a",
   "metadata": {},
   "source": [
    "\n",
    "3. ¿Cuál de las siguientes afirmaciones describe mejor un gráfico de líneas?\n",
    "\n",
    "   a) Muestra proporciones de un total  \n",
    "   b) Permite comparar categorías cualitativas  \n",
    "   c) Es ideal para mostrar tendencias a lo largo del tiempo  \n",
    "   d) Representa frecuencias acumuladas  \n",
    "\n",
    "   ✅ **Respuesta correcta: c**\n"
   ]
  },
  {
   "cell_type": "markdown",
   "id": "b2846a40",
   "metadata": {},
   "source": [
    "* Repasar sobre el gráfico de líneas."
   ]
  },
  {
   "cell_type": "markdown",
   "id": "85fbad30",
   "metadata": {},
   "source": [
    "\n",
    "#### Conjuntos (Intersección, unión, contenencia)\n",
    "\n",
    "4. En una clase de 40 estudiantes, 25 juegan fútbol y 20 juegan baloncesto. Si 10 juegan ambos deportes, ¿cuántos estudiantes no juegan ninguno?\n",
    "\n",
    "   a) 5  \n",
    "   b) 10  \n",
    "   c) 15  \n",
    "   d) 20  \n",
    "\n",
    "   ✅ **Respuesta correcta: b**\n",
    "\n",
    "5. Si $A = \\{1, 2, 3, 4\\}$ y $B = \\{3, 4, 5, 6\\}$, entonces $A \\cap B =$:\n",
    "\n",
    "   a) $\\{1, 2\\}$  \n",
    "   b) $\\{3, 4\\}$  \n",
    "   c) $\\{5, 6\\}$  \n",
    "   d) $\\{1, 2, 5, 6\\}$  \n",
    "\n",
    "   ✅ **Respuesta correcta: b**\n",
    "\n",
    "6. Si todos los elementos del conjunto A están también en el conjunto B, entonces se dice que:\n",
    "\n",
    "   a) A es subconjunto de B  \n",
    "   b) A es igual a B  \n",
    "   c) A es disjunto con B  \n",
    "   d) A es la unión de B  \n",
    "\n",
    "   ✅ **Respuesta correcta: a**\n",
    "\n",
    "#### Promedio y rango\n",
    "\n",
    "7. Las edades de cinco estudiantes son: 14, 15, 16, 16 y 19. ¿Cuál es el promedio?\n",
    "\n",
    "   a) 16  \n",
    "   b) 15  \n",
    "   c) 16.5  \n",
    "   d) 17  \n",
    "\n",
    "   ✅ **Respuesta correcta: a**\n",
    "\n",
    "8. ¿Cuál es el rango de los siguientes datos: 3, 7, 10, 12, 15?\n",
    "\n",
    "   a) 3  \n",
    "   b) 12  \n",
    "   c) 15  \n",
    "   d) 10  \n",
    "\n",
    "   ✅ **Respuesta correcta: d**\n",
    "\n",
    "9. Si el promedio de tres números es 10, ¿cuál es la suma de estos tres números?\n",
    "\n",
    "   a) 30  \n",
    "   b) 10  \n",
    "   c) 3  \n",
    "   d) 13  \n",
    "\n",
    "   ✅ **Respuesta correcta: a**\n",
    "\n",
    "#### Conteos simples\n",
    "\n",
    "10. ¿De cuántas maneras se pueden ordenar tres libros diferentes en una repisa?\n",
    "\n",
    "   a) 3  \n",
    "   b) 6  \n",
    "   c) 9  \n",
    "   d) 12  \n",
    "\n",
    "   ✅ **Respuesta correcta: b**\n",
    "\n",
    "11. Si hay 5 camisas y 4 pantalones, ¿cuántos atuendos diferentes se pueden formar?\n",
    "\n",
    "   a) 9  \n",
    "   b) 20  \n",
    "   c) 10  \n",
    "   d) 25  \n",
    "\n",
    "   ✅ **Respuesta correcta: b**\n",
    "\n",
    "12. Para formar una contraseña de 3 dígitos, ¿cuántas posibles combinaciones hay si se pueden repetir los dígitos?\n",
    "\n",
    "   a) 27  \n",
    "   b) 100  \n",
    "   c) 1000  \n",
    "   d) 720  \n",
    "\n",
    "   ✅ **Respuesta correcta: c**\n",
    "\n",
    "#### Población, muestra e inferencia\n",
    "\n",
    "13. ¿Cuál de las siguientes opciones describe mejor una muestra?\n",
    "\n",
    "   a) El total de una población  \n",
    "   b) Un subconjunto representativo de una población  \n",
    "   c) Una encuesta a toda la población  \n",
    "   d) Una medida de tendencia central  \n",
    "\n",
    "   ✅ **Respuesta correcta: b**\n",
    "\n",
    "14. En una investigación sobre hábitos de estudio en Colombia, se selecciona aleatoriamente a 500 estudiantes. ¿Qué representa este grupo?\n",
    "\n",
    "   a) La población  \n",
    "   b) La muestra  \n",
    "   c) El promedio  \n",
    "   d) El universo  \n",
    "\n",
    "   ✅ **Respuesta correcta: b**\n",
    "\n",
    "15. ¿Cuál es el objetivo de una inferencia estadística?\n",
    "\n",
    "   a) Representar datos gráficamente  \n",
    "   b) Calcular promedios  \n",
    "   c) Estudiar la totalidad de una población  \n",
    "   d) Estimar características de una población con base en una muestra  \n",
    "\n",
    "   ✅ **Respuesta correcta: d**\n",
    "\n",
    "(Preguntas 16–25 continúan en el mismo patrón sobre estos contenidos genéricos)\n",
    "\n",
    "---\n",
    "\n",
    "### **CONTENIDOS NO GENÉRICOS (26 - 40)**\n",
    "\n",
    "#### Estimación del error\n",
    "\n",
    "26. Si el promedio de una muestra es 80 y el de la población es 83, ¿cuál es el error de estimación?\n",
    "\n",
    "   a) 3  \n",
    "   b) -3  \n",
    "   c) 83  \n",
    "   d) 80  \n",
    "\n",
    "   ✅ **Respuesta correcta: a**\n",
    "\n",
    "27. ¿Qué representa el error muestral?\n",
    "\n",
    "   a) La desviación estándar de la población  \n",
    "   b) La diferencia entre el valor observado y el real  \n",
    "   c) El tamaño de la muestra  \n",
    "   d) La frecuencia relativa  \n",
    "\n",
    "   ✅ **Respuesta correcta: b**\n",
    "\n",
    "#### Varianza, percentiles, mediana, correlación\n",
    "\n",
    "28. ¿Cuál es la mediana de la siguiente serie de datos: 4, 7, 10, 15, 18?\n",
    "\n",
    "   a) 7  \n",
    "   b) 10  \n",
    "   c) 11  \n",
    "   d) 12  \n",
    "\n",
    "   ✅ **Respuesta correcta: b**\n",
    "\n",
    "29. ¿Qué representa el percentil 75 en un conjunto de datos?\n",
    "\n",
    "   a) El valor más frecuente  \n",
    "   b) El valor central  \n",
    "   c) El valor bajo el cual se encuentra el 75% de los datos  \n",
    "   d) El máximo  \n",
    "\n",
    "   ✅ **Respuesta correcta: c**\n",
    "\n",
    "30. Si dos variables tienen una correlación de -1, significa que:\n",
    "\n",
    "   a) No están relacionadas  \n",
    "   b) Aumentan juntas  \n",
    "   c) Una disminuye cuando la otra aumenta  \n",
    "   d) Son iguales  \n",
    "\n",
    "   ✅ **Respuesta correcta: c**\n",
    "\n",
    "31. ¿Qué mide la varianza?\n",
    "\n",
    "   a) La tendencia central  \n",
    "   b) El grado de dispersión de los datos respecto a la media  \n",
    "   c) La frecuencia relativa  \n",
    "   d) El número de repeticiones de un valor  \n",
    "\n",
    "   ✅ **Respuesta correcta: b**\n",
    "\n",
    "#### Combinaciones y permutaciones\n",
    "\n",
    "32. ¿De cuántas maneras se pueden formar equipos de 2 estudiantes entre 5?\n",
    "\n",
    "   a) 10  \n",
    "   b) 20  \n",
    "   c) 5  \n",
    "   d) 15  \n",
    "\n",
    "   ✅ **Respuesta correcta: a**\n",
    "\n",
    "33. ¿Cuál es la diferencia entre una permutación y una combinación?\n",
    "\n",
    "   a) En la permutación no importa el orden  \n",
    "   b) En la combinación importa el orden  \n",
    "   c) En la permutación importa el orden  \n",
    "   d) Ambas son iguales  \n",
    "\n",
    "   ✅ **Respuesta correcta: c**\n",
    "\n",
    "34. Si hay 4 libros y se quieren seleccionar 2 sin importar el orden, ¿cuántas combinaciones hay?\n",
    "\n",
    "   a) 4  \n",
    "   b) 6  \n",
    "   c) 8  \n",
    "   d) 12  \n",
    "\n",
    "   ✅ **Respuesta correcta: b**\n"
   ]
  },
  {
   "cell_type": "markdown",
   "id": "dd12c59a",
   "metadata": {},
   "source": [
    "\n",
    "35. ¿Cuántas permutaciones se pueden hacer con la palabra “CASA”?\n",
    "\n",
    "   a) 12  \n",
    "   b) 24  \n",
    "   c) 16  \n",
    "   d) 20  \n",
    "\n",
    "   ✅ **Respuesta correcta: **\n"
   ]
  },
  {
   "cell_type": "markdown",
   "id": "0ec7a666",
   "metadata": {},
   "source": [
    "# Debemos estudiar el concepto de permitación"
   ]
  },
  {
   "cell_type": "markdown",
   "id": "477c9253",
   "metadata": {},
   "source": [
    "¡Claro, Marco Julio! Vamos a visualizar todas las **permutaciones ordenadas de la palabra \"MESA\"**, y luego extraer la fórmula de **productoria** que nos permite contar cuántas permutaciones hay.\n",
    "\n",
    "---\n"
   ]
  },
  {
   "cell_type": "markdown",
   "id": "e6af6945",
   "metadata": {},
   "source": [
    "\n",
    "## 📌 Paso 1: Visualización de permutaciones de \"MESA\"\n",
    "\n",
    "Usaremos Python con `itertools` para generar y visualizar las permutaciones.\n"
   ]
  },
  {
   "cell_type": "code",
   "execution_count": 23,
   "id": "bf65ac0b",
   "metadata": {},
   "outputs": [
    {
     "name": "stdout",
     "output_type": "stream",
     "text": [
      " 1: AEMS\n",
      " 2: AESM\n",
      " 3: AMES\n",
      " 4: AMSE\n",
      " 5: ASEM\n",
      " 6: ASME\n",
      " 7: EAMS\n",
      " 8: EASM\n",
      " 9: EMAS\n",
      "10: EMSA\n",
      "11: ESAM\n",
      "12: ESMA\n",
      "13: MAES\n",
      "14: MASE\n",
      "15: MEAS\n",
      "16: MESA\n",
      "17: MSAE\n",
      "18: MSEA\n",
      "19: SAEM\n",
      "20: SAME\n",
      "21: SEAM\n",
      "22: SEMA\n",
      "23: SMAE\n",
      "24: SMEA\n",
      "\n",
      "Total de permutaciones: 24\n"
     ]
    }
   ],
   "source": [
    "\n",
    "\n",
    "from itertools import permutations\n",
    "\n",
    "palabra = \"MESA\"\n",
    "perms = sorted(set(permutations(palabra)))\n",
    "\n",
    "# Mostrar todas las permutaciones ordenadas\n",
    "for i, p in enumerate(perms, 1):\n",
    "    print(f\"{i:2}: {''.join(p)}\")\n",
    "\n",
    "print(f\"\\nTotal de permutaciones: {len(perms)}\")\n",
    "\n"
   ]
  },
  {
   "cell_type": "markdown",
   "id": "8cbc7b12",
   "metadata": {},
   "source": [
    "\n",
    "---\n",
    "\n",
    "## 🧠 Reflexión e inferencia de la fórmula\n",
    "\n",
    "- La palabra \"MESA\" tiene 4 letras **todas diferentes**.\n",
    "- Las permutaciones posibles se calculan con la **productoria**:\n",
    "\n",
    "$$\n",
    "P = 4! = 4 \\cdot 3 \\cdot 2 \\cdot 1 = 24\n",
    "$$\n"
   ]
  },
  {
   "cell_type": "markdown",
   "id": "2790d0e3",
   "metadata": {},
   "source": [
    "\n",
    "### ✅ Fórmula general para permutar letras distintas:\n",
    "\n",
    "$$\n",
    "\\text{Permutaciones} = n!\n",
    "$$\n",
    "\n",
    "donde $n$ es la cantidad de letras (o elementos).\n",
    "\n",
    "---\n"
   ]
  },
  {
   "cell_type": "markdown",
   "id": "b0efadc0",
   "metadata": {},
   "source": [
    "\n",
    "## 🧮 ¿Y si hay letras repetidas?\n",
    "\n",
    "Por ejemplo, en la palabra **\"MAMA\"**, con 4 letras donde **A se repite 2 veces** y **M también**:\n",
    "\n",
    "$$\n",
    "\\text{Permutaciones} = \\frac{4!}{2! \\cdot 2!} = \\frac{24}{4} = 6\n",
    "$$\n",
    "\n",
    "---\n"
   ]
  },
  {
   "cell_type": "code",
   "execution_count": 24,
   "id": "b59f1444",
   "metadata": {},
   "outputs": [
    {
     "name": "stdout",
     "output_type": "stream",
     "text": [
      " 1: AAMM\n",
      " 2: AMAM\n",
      " 3: AMMA\n",
      " 4: MAAM\n",
      " 5: MAMA\n",
      " 6: MMAA\n",
      "\n",
      "Total de permutaciones: 6\n"
     ]
    }
   ],
   "source": [
    "from itertools import permutations\n",
    "\n",
    "palabra = \"MAMA\"\n",
    "perms = sorted(set(permutations(palabra)))\n",
    "\n",
    "# Mostrar todas las permutaciones ordenadas\n",
    "for i, p in enumerate(perms, 1):\n",
    "    print(f\"{i:2}: {''.join(p)}\")\n",
    "\n",
    "print(f\"\\nTotal de permutaciones: {len(perms)}\")\n",
    "\n"
   ]
  },
  {
   "cell_type": "markdown",
   "id": "494853d1",
   "metadata": {},
   "source": [
    "\n",
    "## 🎨 ¿Quieres visualizar esto en un gráfico?\n",
    "\n",
    "Si te interesa también visualizar estas permutaciones como un **gráfico de árbol** o como una tabla en `matplotlib`, puedo ayudarte con eso también.\n",
    "\n",
    "¿Te gustaría que te lo prepare como un cuaderno Jupyter para subir a GitHub o Colab con estos ejemplos listos?"
   ]
  },
  {
   "cell_type": "markdown",
   "id": "efc14a01",
   "metadata": {},
   "source": [
    "\n",
    "(Preguntas 36–40 continúan con variaciones similares aplicadas a datos o contextos reales o simulados)\n",
    "\n",
    "---\n",
    "\n",
    "¿Deseas que te las entregue en un formato listo para imprimir, convertir en Jupyter Notebook interactivo, o integrarlas a una app tipo formulario o quiz en línea? También puedo organizar las respuestas con explicaciones si lo deseas."
   ]
  },
  {
   "cell_type": "markdown",
   "id": "f7f16663",
   "metadata": {},
   "source": [
    "\n",
    "### 7. Poema para fijar conceptos\n",
    "\n",
    "**\"En la clase de estadística\"**\n",
    "\n",
    "_En datos veo patrones que contar,_\n",
    "_Medias y modas al analizar._\n",
    "_Un conjunto puede intersectar,_\n",
    "_Y con Python todo se puede calcular._\n",
    "\n",
    "_Graficando voy a representar,_\n",
    "_La muestra de la que quiero inferir,_\n",
    "_Si permuto, sabré ordenar,_\n",
    "_Y combinando podré decidir._\n",
    "\n",
    "---\n",
    "\n",
    "### 8. Tareas de ejercitación\n",
    "- Resolver ejercicios de tablas y gráficas con `pandas` y `matplotlib`.\n",
    "- Implementar funciones de usuario para calcular estadísticos.\n",
    "- Crear simuladores de conteo con `ipywidgets`.\n",
    "- Hacer un censo familiar y analizar los datos.\n",
    "\n",
    "---\n",
    "\n",
    "### 9. Evaluación\n",
    "\n",
    "**Proyectos (uno por tema clave):**\n",
    "1. Análisis estadístico de resultados de pruebas anteriores\n",
    "2. Gráficas interactivas de datos familiares\n",
    "3. Estudio de población y muestra de su barrio\n",
    "4. Juegos de probabilidad con monedas y dados\n",
    "5. Estimación del error con simulaciones\n",
    "6. Correlación entre variables académicas y tiempo de estudio\n",
    "7. Clasificación de tipos de preguntas del ICFES\n",
    "8. Construcción de cuestionario con preguntas tipo Saber 11\n",
    "9. Comparación de datos de municipios vecinos\n",
    "10. Creación de un sistema de recomendación basado en medias y modas\n",
    "\n",
    "**Ejemplo de quiz (3 preguntas):**\n",
    "1. Si en una tabla hay 5 datos con moda 3, ¿cuántas veces aparece el 3?\n",
    "2. Una muestra es...\n",
    "3. En cuántas formas puedo ordenar A, B, C sin repetir letras.\n",
    "\n",
    "**Ejemplo de parcial (5 puntos):**\n",
    "1. Construya una tabla de frecuencia para los datos: [3, 5, 3, 4, 5, 5, 2, 3, 3]. (1 pt)\n",
    "2. Grafique los datos usando barras y pastel. (1 pt)\n",
    "3. Calcule media, moda y mediana. (1 pt)\n",
    "4. Interprete un ejemplo de inferencia estadística. (1 pt)\n",
    "5. Realice una combinación de 4 elementos de un grupo de 6. (1 pt)\n",
    "\n",
    "---\n",
    "\n",
    "### 10. Actividad de retroalimentación\n",
    "Taller colaborativo en equipos donde los estudiantes presentan sus proyectos, responden preguntas de sus compañeros y reciben retroalimentación del docente usando una rúbrica con criterios de claridad, aplicación, justificación y uso de Python.\n",
    "\n",
    "---\n",
    "\n",
    "### 11. Vocabulario y frases en inglés\n",
    "- Data / Datos\n",
    "- Mean / Media\n",
    "- Median / Mediana\n",
    "- Mode / Moda\n",
    "- Sample / Muestra\n",
    "- Population / Población\n",
    "- Frequency Table / Tabla de Frecuencia\n",
    "- Variance / Varianza\n",
    "- Standard Deviation / Desviación Estándar\n",
    "- Let’s analyze the data using Python!\n",
    "\n",
    "---\n",
    "\n",
    "### 12. Apéndice: Trabajo en equipo, asertividad y argumentación\n",
    "- Juego de roles para argumentar decisiones tomadas al representar datos.\n",
    "- Dinámica de \"el abogado del dato\" para defender una conclusión estadística.\n",
    "- Rueda de la empatía: cada estudiante comparte cómo se sintió en el trabajo en equipo.\n",
    "- Evaluación entre pares: una rúbrica donde califican su escucha activa y claridad.\n",
    "\n",
    "---\n",
    "\n",
    "### 13. Referentes didácticos (APA)\n",
    "- Duval, R. (1993). *Registros de representación semántica y funcionamiento cognitivo del pensamiento matemático*. Recherches en Didactique des Mathématiques.\n",
    "- Wing, J. M. (2006). *Computational Thinking*. Communications of the ACM, 49(3), 33-35.\n",
    "- Godino, J. D., Batanero, C., & Font, V. (2007). *Fundamentos de la enseñanza y el aprendizaje de las matemáticas*. Universidad de Granada.\n",
    "- Radford, L. (2006). *Elements of a cultural theory of objectification*. Revista Latinoamericana de Investigación en Matemática Educativa.\n",
    "- Brousseau, G. (1997). *Theory of Didactical Situations in Mathematics*. Springer.\n",
    "- Cobb, P., & Yackel, E. (1996). *Constructivist, emergent, and sociocultural perspectives in the context of developmental research*. Educational Psychologist.\n",
    "- Skovsmose, O. (1994). *Towards a Philosophy of Critical Mathematics Education*. Kluwer.\n",
    "- Moreno Armella, L. (2005). *Visualizando matemáticas: Una nueva cultura en el aprendizaje*. Cinvestav.\n",
    "- Schoenfeld, A. H. (1985). *Mathematical Problem Solving*. Academic Press.\n",
    "- Artigue, M. (2002). *Learning mathematics in a CAS environment: The genesis of a reflection about instrumentation and the dialectics between technical and conceptual work*. International Journal of Computers for Mathematical Learning.\n",
    "- Vergnaud, G. (1991). *La théorie des champs conceptuels*. Recherches en Didactique des Mathématiques.\n",
    "\n",
    "---\n",
    "\n"
   ]
  },
  {
   "cell_type": "markdown",
   "id": "c12ae0df",
   "metadata": {},
   "source": [
    "[Video de apoyo a la lectura de la estructura de esta asesoría]()"
   ]
  },
  {
   "cell_type": "markdown",
   "id": "c5751e1a",
   "metadata": {},
   "source": [
    "# Implementación de esta estructura de asesoría  \n",
    "\n",
    "**Diseño de clase: Estadística para la prueba ICFES de Bachillerato en Colombia**\n",
    "\n",
    "---\n",
    "\n",
    "### 1. Título de la clase\n",
    "**Estadística con Python para la prueba ICFES: Aprende jugando, razonando y resolviendo problemas**\n",
    "\n",
    "---\n"
   ]
  },
  {
   "cell_type": "markdown",
   "id": "21eeb448",
   "metadata": {},
   "source": [
    "\n",
    "### 2. Objetivos de aprendizaje e indicadores de logro\n",
    "\n",
    "**Objetivo general:**\n",
    "Desarrollar en los estudiantes habilidades matemáticas y competencias en estadística requeridas para resolver los problemas del componente cuantitativo de la prueba ICFES Saber 11, mediante la experimentación en Jupyter Notebooks con Python y metodologías activas.\n",
    "\n",
    "**Objetivos específicos e indicadores:**\n",
    "- Representar datos de manera efectiva usando tablas y gráficas.\n",
    "  - Indicador: Interpreta y construye tablas de frecuencia y gráficas de barras, circulares y de líneas usando Python.\n",
    "- Aplicar operaciones con conjuntos para resolver problemas elementales de conteo.\n",
    "  - Indicador: Utiliza diagramas de Venn y operaciones de conjuntos para modelar situaciones problema.\n",
    "- Calcular y analizar medidas de tendencia central y de dispersión.\n",
    "  - Indicador: Usa funciones de Python para hallar media, mediana, moda, rango, varianza y desviación estándar.\n",
    "- Realizar inferencias a partir de muestras representativas.\n",
    "  - Indicador: Distingue entre población y muestra, y aplica nociones básicas de inferencia.\n",
    "- Resolver problemas de conteo utilizando permutaciones y combinaciones.\n",
    "  - Indicador: Aplica principios de suma, multiplicación y fórmulas de conteo en Python.\n",
    "\n",
    "---\n"
   ]
  },
  {
   "cell_type": "markdown",
   "id": "7fe87e8c",
   "metadata": {},
   "source": [
    "\n",
    "### 3. Mapa conceptual\n",
    "El mapa fue generado con Graphviz en Python y está disponible en:\n",
    "**`C:/Users/marco/Downloads/estadistica_icfes.png`**\n",
    "\n",
    "---\n"
   ]
  },
  {
   "cell_type": "markdown",
   "id": "46b6f053",
   "metadata": {},
   "source": [
    "\n",
    "### 4. Elementos históricos y epistemológicos como cuento paisa\n",
    "\n",
    "_\"Una vez en el corregimiento de Santa Rita, Antioquia, había un joven curioso llamado Fermín que vendía frutas. Cada día tomaba nota de cuántas naranjas vendía, pero no sabía cómo entender esa información. Hasta que un día pasó por allí Don Ronald Fisher, un gringo con sombrero, y le contó que podía predecir cuántas frutas vendería con unos cálculos que llamaba \"estadística\". Desde ahí, Fermín no sólo vendía frutas, sino que ayudaba a otros campesinos a analizar sus ventas usando cuadernitos y, muchos años después, con un tal \"Python\".\"_\n",
    "\n",
    "**Protagonistas históricos (con imágenes sugeridas):**\n",
    "- Pierre-Simon Laplace (probabilidad)\n",
    "- Francis Galton (mediana y regresión)\n",
    "- Karl Pearson (correlación)\n",
    "- Ronald Fisher (diseño experimental e inferencia)\n",
    "\n",
    "---\n"
   ]
  },
  {
   "cell_type": "markdown",
   "id": "a6eac898",
   "metadata": {},
   "source": [
    "\n",
    "### 5. Contenido de la clase\n"
   ]
  },
  {
   "cell_type": "markdown",
   "id": "46da852b",
   "metadata": {},
   "source": [
    "\n",
    "**5.1 Contenidos genéricos**\n",
    "- Tablas de frecuencia y gráficas (barras, pastel, líneas): `pandas`, `matplotlib.pyplot`, `seaborn`, `plotly`\n"
   ]
  },
  {
   "cell_type": "markdown",
   "id": "aeb0e63f",
   "metadata": {},
   "source": [
    "\n",
    "Prompt: Desarróllame el siguiente tema para enseñar a mi hijo a seleccionar el tipo de gráfico, en función del tipo de variable estadística. Entrégame los scripts para que mi hijo pueda hacer práctica de visualización. "
   ]
  },
  {
   "cell_type": "markdown",
   "id": "b4154590",
   "metadata": {},
   "source": [
    "¡Perfecto! Enseñar a tu hijo a **seleccionar el tipo de gráfico según el tipo de variable estadística** es una excelente forma de fomentar tanto el razonamiento estadístico como la alfabetización visual. Vamos a organizar este contenido de forma didáctica y con ejemplos prácticos en Python usando `matplotlib` y `seaborn`.\n",
    "\n",
    "---\n"
   ]
  },
  {
   "cell_type": "markdown",
   "id": "ca81d290",
   "metadata": {},
   "source": [
    "\n",
    "## 🧠 TEMA: Selección del tipo de gráfico según el tipo de variable estadística\n"
   ]
  },
  {
   "cell_type": "markdown",
   "id": "513fd105",
   "metadata": {},
   "source": [
    "\n",
    "### 1. 🎯 Objetivo de aprendizaje:\n",
    "Que tu hijo aprenda a **reconocer el tipo de variable estadística** (cualitativa o cuantitativa) y a **seleccionar el gráfico adecuado** para representarla.\n",
    "\n",
    "---\n"
   ]
  },
  {
   "cell_type": "markdown",
   "id": "93679fe6",
   "metadata": {},
   "source": [
    "\n",
    "## 📊 Clasificación de las variables estadísticas\n",
    "\n",
    "| Tipo de Variable | Subtipo         | Descripción                                     | Ejemplo                     | Gráficos recomendados        |\n",
    "|------------------|-----------------|-------------------------------------------------|-----------------------------|------------------------------|\n",
    "| Cualitativa      | Nominal         | No tienen orden                                 | Color favorito              | Gráfico de barras, circular |\n",
    "| Cualitativa      | Ordinal         | Tienen un orden lógico                          | Nivel de satisfacción       | Gráfico de barras ordenadas |\n",
    "| Cuantitativa     | Discreta        | Números contables (enteros)                     | Número de hijos             | Histograma, gráfico de barras |\n",
    "| Cuantitativa     | Continua        | Puede tomar cualquier valor en un rango        | Estatura, peso              | Histograma, boxplot, KDE     |\n",
    "\n",
    "---\n"
   ]
  },
  {
   "cell_type": "markdown",
   "id": "3d62f1c5",
   "metadata": {},
   "source": [
    "\n",
    "## 🐍 Scripts para practicar en Python\n",
    "\n",
    "Antes de correr los ejemplos, asegúrate de tener instaladas estas bibliotecas:\n"
   ]
  },
  {
   "cell_type": "code",
   "execution_count": 1,
   "id": "e12e5ae1",
   "metadata": {},
   "outputs": [
    {
     "name": "stdout",
     "output_type": "stream",
     "text": [
      "Requirement already satisfied: matplotlib in c:\\users\\marco\\documentos\\investigacion\\ing_software_joseph\\.venv\\lib\\site-packages (3.10.1)\n",
      "Collecting seaborn\n",
      "  Using cached seaborn-0.13.2-py3-none-any.whl.metadata (5.4 kB)\n",
      "Requirement already satisfied: pandas in c:\\users\\marco\\documentos\\investigacion\\ing_software_joseph\\.venv\\lib\\site-packages (2.2.3)\n",
      "Requirement already satisfied: contourpy>=1.0.1 in c:\\users\\marco\\documentos\\investigacion\\ing_software_joseph\\.venv\\lib\\site-packages (from matplotlib) (1.3.1)\n",
      "Requirement already satisfied: cycler>=0.10 in c:\\users\\marco\\documentos\\investigacion\\ing_software_joseph\\.venv\\lib\\site-packages (from matplotlib) (0.12.1)\n",
      "Requirement already satisfied: fonttools>=4.22.0 in c:\\users\\marco\\documentos\\investigacion\\ing_software_joseph\\.venv\\lib\\site-packages (from matplotlib) (4.57.0)\n",
      "Requirement already satisfied: kiwisolver>=1.3.1 in c:\\users\\marco\\documentos\\investigacion\\ing_software_joseph\\.venv\\lib\\site-packages (from matplotlib) (1.4.8)\n",
      "Requirement already satisfied: numpy>=1.23 in c:\\users\\marco\\documentos\\investigacion\\ing_software_joseph\\.venv\\lib\\site-packages (from matplotlib) (2.2.4)\n",
      "Requirement already satisfied: packaging>=20.0 in c:\\users\\marco\\documentos\\investigacion\\ing_software_joseph\\.venv\\lib\\site-packages (from matplotlib) (24.2)\n",
      "Requirement already satisfied: pillow>=8 in c:\\users\\marco\\documentos\\investigacion\\ing_software_joseph\\.venv\\lib\\site-packages (from matplotlib) (11.2.1)\n",
      "Requirement already satisfied: pyparsing>=2.3.1 in c:\\users\\marco\\documentos\\investigacion\\ing_software_joseph\\.venv\\lib\\site-packages (from matplotlib) (3.2.3)\n",
      "Requirement already satisfied: python-dateutil>=2.7 in c:\\users\\marco\\documentos\\investigacion\\ing_software_joseph\\.venv\\lib\\site-packages (from matplotlib) (2.9.0.post0)\n",
      "Requirement already satisfied: pytz>=2020.1 in c:\\users\\marco\\documentos\\investigacion\\ing_software_joseph\\.venv\\lib\\site-packages (from pandas) (2025.2)\n",
      "Requirement already satisfied: tzdata>=2022.7 in c:\\users\\marco\\documentos\\investigacion\\ing_software_joseph\\.venv\\lib\\site-packages (from pandas) (2025.2)\n",
      "Requirement already satisfied: six>=1.5 in c:\\users\\marco\\documentos\\investigacion\\ing_software_joseph\\.venv\\lib\\site-packages (from python-dateutil>=2.7->matplotlib) (1.17.0)\n",
      "Using cached seaborn-0.13.2-py3-none-any.whl (294 kB)\n",
      "Installing collected packages: seaborn\n",
      "Successfully installed seaborn-0.13.2\n"
     ]
    }
   ],
   "source": [
    "\n",
    "!pip install matplotlib seaborn pandas\n",
    "\n"
   ]
  },
  {
   "cell_type": "markdown",
   "id": "778325da",
   "metadata": {},
   "source": [
    "\n",
    "### 🔹 Script 1: Variables cualitativas (nominales y ordinales)\n"
   ]
  },
  {
   "cell_type": "code",
   "execution_count": 2,
   "id": "0ef89a91",
   "metadata": {},
   "outputs": [
    {
     "data": {
      "application/vnd.microsoft.datawrangler.viewer.v0+json": {
       "columns": [
        {
         "name": "index",
         "rawType": "int64",
         "type": "integer"
        },
        {
         "name": "Color favorito",
         "rawType": "object",
         "type": "string"
        },
        {
         "name": "Nivel de satisfacción",
         "rawType": "object",
         "type": "string"
        }
       ],
       "conversionMethod": "pd.DataFrame",
       "ref": "49f2a5da-028c-4260-80dc-d943a043d11b",
       "rows": [
        [
         "0",
         "Rojo",
         "Bajo"
        ],
        [
         "1",
         "Azul",
         "Alto"
        ],
        [
         "2",
         "Verde",
         "Medio"
        ],
        [
         "3",
         "Rojo",
         "Alto"
        ],
        [
         "4",
         "Azul",
         "Bajo"
        ],
        [
         "5",
         "Azul",
         "Medio"
        ],
        [
         "6",
         "Rojo",
         "Alto"
        ],
        [
         "7",
         "Verde",
         "Medio"
        ]
       ],
       "shape": {
        "columns": 2,
        "rows": 8
       }
      },
      "text/html": [
       "<div>\n",
       "<style scoped>\n",
       "    .dataframe tbody tr th:only-of-type {\n",
       "        vertical-align: middle;\n",
       "    }\n",
       "\n",
       "    .dataframe tbody tr th {\n",
       "        vertical-align: top;\n",
       "    }\n",
       "\n",
       "    .dataframe thead th {\n",
       "        text-align: right;\n",
       "    }\n",
       "</style>\n",
       "<table border=\"1\" class=\"dataframe\">\n",
       "  <thead>\n",
       "    <tr style=\"text-align: right;\">\n",
       "      <th></th>\n",
       "      <th>Color favorito</th>\n",
       "      <th>Nivel de satisfacción</th>\n",
       "    </tr>\n",
       "  </thead>\n",
       "  <tbody>\n",
       "    <tr>\n",
       "      <th>0</th>\n",
       "      <td>Rojo</td>\n",
       "      <td>Bajo</td>\n",
       "    </tr>\n",
       "    <tr>\n",
       "      <th>1</th>\n",
       "      <td>Azul</td>\n",
       "      <td>Alto</td>\n",
       "    </tr>\n",
       "    <tr>\n",
       "      <th>2</th>\n",
       "      <td>Verde</td>\n",
       "      <td>Medio</td>\n",
       "    </tr>\n",
       "    <tr>\n",
       "      <th>3</th>\n",
       "      <td>Rojo</td>\n",
       "      <td>Alto</td>\n",
       "    </tr>\n",
       "    <tr>\n",
       "      <th>4</th>\n",
       "      <td>Azul</td>\n",
       "      <td>Bajo</td>\n",
       "    </tr>\n",
       "    <tr>\n",
       "      <th>5</th>\n",
       "      <td>Azul</td>\n",
       "      <td>Medio</td>\n",
       "    </tr>\n",
       "    <tr>\n",
       "      <th>6</th>\n",
       "      <td>Rojo</td>\n",
       "      <td>Alto</td>\n",
       "    </tr>\n",
       "    <tr>\n",
       "      <th>7</th>\n",
       "      <td>Verde</td>\n",
       "      <td>Medio</td>\n",
       "    </tr>\n",
       "  </tbody>\n",
       "</table>\n",
       "</div>"
      ],
      "text/plain": [
       "  Color favorito Nivel de satisfacción\n",
       "0           Rojo                  Bajo\n",
       "1           Azul                  Alto\n",
       "2          Verde                 Medio\n",
       "3           Rojo                  Alto\n",
       "4           Azul                  Bajo\n",
       "5           Azul                 Medio\n",
       "6           Rojo                  Alto\n",
       "7          Verde                 Medio"
      ]
     },
     "execution_count": 2,
     "metadata": {},
     "output_type": "execute_result"
    }
   ],
   "source": [
    "\n",
    "import pandas as pd\n",
    "import seaborn as sns\n",
    "import matplotlib.pyplot as plt\n",
    "\n",
    "# Datos de ejemplo\n",
    "data = pd.DataFrame({\n",
    "    'Color favorito': ['Rojo', 'Azul', 'Verde', 'Rojo', 'Azul', 'Azul', 'Rojo', 'Verde'],\n",
    "    'Nivel de satisfacción': ['Bajo', 'Alto', 'Medio', 'Alto', 'Bajo', 'Medio', 'Alto', 'Medio']\n",
    "})\n",
    "data "
   ]
  },
  {
   "cell_type": "code",
   "execution_count": 4,
   "id": "96d91cbc",
   "metadata": {},
   "outputs": [
    {
     "data": {
      "text/plain": [
       "Color favorito\n",
       "Rojo     3\n",
       "Azul     3\n",
       "Verde    2\n",
       "Name: count, dtype: int64"
      ]
     },
     "execution_count": 4,
     "metadata": {},
     "output_type": "execute_result"
    }
   ],
   "source": [
    "color_counts = data['Color favorito'].value_counts()\n",
    "color_counts "
   ]
  },
  {
   "cell_type": "code",
   "execution_count": 10,
   "id": "73512104",
   "metadata": {},
   "outputs": [
    {
     "data": {
      "image/png": "[encoded data removed]",
      "text/plain": [
       "<Figure size 400x300 with 1 Axes>"
      ]
     },
     "metadata": {},
     "output_type": "display_data"
    }
   ],
   "source": [
    "\n",
    "# Gráfico de barras para variable nominal\n",
    "plt.figure(figsize=(4, 3))\n",
    "\n",
    "color_counts = data['Color favorito'].value_counts()\n",
    "color_counts.plot(kind='bar', title='Color favorito (Cualitativa Nominal)')\n",
    "plt.ylabel('Frecuencia absoluta')\n",
    "plt.grid(alpha = 0.2) \n",
    "plt.show()\n"
   ]
  },
  {
   "cell_type": "markdown",
   "id": "c9788170",
   "metadata": {},
   "source": [
    "Cualitaticvas nominales: Las subcategorías no tienen un orden asociado. "
   ]
  },
  {
   "cell_type": "code",
   "execution_count": 13,
   "id": "7f68f48a",
   "metadata": {},
   "outputs": [
    {
     "data": {
      "text/plain": [
       "Nivel de satisfacción\n",
       "Bajo     2\n",
       "Medio    3\n",
       "Alto     3\n",
       "Name: count, dtype: int64"
      ]
     },
     "execution_count": 13,
     "metadata": {},
     "output_type": "execute_result"
    }
   ],
   "source": [
    "order = ['Bajo', 'Medio', 'Alto']\n",
    "satisfaction_counts = data['Nivel de satisfacción'].value_counts().reindex(order) \n",
    "satisfaction_counts "
   ]
  },
  {
   "cell_type": "code",
   "execution_count": 14,
   "id": "10a3c4ea",
   "metadata": {},
   "outputs": [
    {
     "data": {
      "image/png": "[encoded data removed]",
      "text/plain": [
       "<Figure size 640x480 with 1 Axes>"
      ]
     },
     "metadata": {},
     "output_type": "display_data"
    }
   ],
   "source": [
    "\n",
    "# Gráfico de barras para variable ordinal (ordenado)\n",
    "order = ['Bajo', 'Medio', 'Alto']\n",
    "satisfaction_counts = data['Nivel de satisfacción'].value_counts().reindex(order)\n",
    "satisfaction_counts.plot(kind='bar', title='Nivel de satisfacción (Ordinal)', color='skyblue')\n",
    "plt.ylabel('Frecuencia')\n",
    "plt.show()\n",
    "\n"
   ]
  },
  {
   "cell_type": "markdown",
   "id": "6f6d2157",
   "metadata": {},
   "source": [
    "\n",
    "---\n",
    "\n",
    "### 🔹 Script 2: Variables cuantitativas (discretas y continuas)\n"
   ]
  },
  {
   "cell_type": "code",
   "execution_count": 15,
   "id": "11cb8758",
   "metadata": {},
   "outputs": [
    {
     "data": {
      "application/vnd.microsoft.datawrangler.viewer.v0+json": {
       "columns": [
        {
         "name": "index",
         "rawType": "int64",
         "type": "integer"
        },
        {
         "name": "Número de hermanos",
         "rawType": "int64",
         "type": "integer"
        },
        {
         "name": "Estatura (cm)",
         "rawType": "int64",
         "type": "integer"
        }
       ],
       "conversionMethod": "pd.DataFrame",
       "ref": "031dfb80-053c-475c-a87c-a56e6e4a4aea",
       "rows": [
        [
         "0",
         "0",
         "150"
        ],
        [
         "1",
         "2",
         "160"
        ],
        [
         "2",
         "1",
         "165"
        ],
        [
         "3",
         "3",
         "155"
        ],
        [
         "4",
         "2",
         "172"
        ],
        [
         "5",
         "1",
         "180"
        ],
        [
         "6",
         "0",
         "158"
        ],
        [
         "7",
         "4",
         "167"
        ],
        [
         "8",
         "3",
         "174"
        ],
        [
         "9",
         "2",
         "169"
        ]
       ],
       "shape": {
        "columns": 2,
        "rows": 10
       }
      },
      "text/html": [
       "<div>\n",
       "<style scoped>\n",
       "    .dataframe tbody tr th:only-of-type {\n",
       "        vertical-align: middle;\n",
       "    }\n",
       "\n",
       "    .dataframe tbody tr th {\n",
       "        vertical-align: top;\n",
       "    }\n",
       "\n",
       "    .dataframe thead th {\n",
       "        text-align: right;\n",
       "    }\n",
       "</style>\n",
       "<table border=\"1\" class=\"dataframe\">\n",
       "  <thead>\n",
       "    <tr style=\"text-align: right;\">\n",
       "      <th></th>\n",
       "      <th>Número de hermanos</th>\n",
       "      <th>Estatura (cm)</th>\n",
       "    </tr>\n",
       "  </thead>\n",
       "  <tbody>\n",
       "    <tr>\n",
       "      <th>0</th>\n",
       "      <td>0</td>\n",
       "      <td>150</td>\n",
       "    </tr>\n",
       "    <tr>\n",
       "      <th>1</th>\n",
       "      <td>2</td>\n",
       "      <td>160</td>\n",
       "    </tr>\n",
       "    <tr>\n",
       "      <th>2</th>\n",
       "      <td>1</td>\n",
       "      <td>165</td>\n",
       "    </tr>\n",
       "    <tr>\n",
       "      <th>3</th>\n",
       "      <td>3</td>\n",
       "      <td>155</td>\n",
       "    </tr>\n",
       "    <tr>\n",
       "      <th>4</th>\n",
       "      <td>2</td>\n",
       "      <td>172</td>\n",
       "    </tr>\n",
       "    <tr>\n",
       "      <th>5</th>\n",
       "      <td>1</td>\n",
       "      <td>180</td>\n",
       "    </tr>\n",
       "    <tr>\n",
       "      <th>6</th>\n",
       "      <td>0</td>\n",
       "      <td>158</td>\n",
       "    </tr>\n",
       "    <tr>\n",
       "      <th>7</th>\n",
       "      <td>4</td>\n",
       "      <td>167</td>\n",
       "    </tr>\n",
       "    <tr>\n",
       "      <th>8</th>\n",
       "      <td>3</td>\n",
       "      <td>174</td>\n",
       "    </tr>\n",
       "    <tr>\n",
       "      <th>9</th>\n",
       "      <td>2</td>\n",
       "      <td>169</td>\n",
       "    </tr>\n",
       "  </tbody>\n",
       "</table>\n",
       "</div>"
      ],
      "text/plain": [
       "   Número de hermanos  Estatura (cm)\n",
       "0                   0            150\n",
       "1                   2            160\n",
       "2                   1            165\n",
       "3                   3            155\n",
       "4                   2            172\n",
       "5                   1            180\n",
       "6                   0            158\n",
       "7                   4            167\n",
       "8                   3            174\n",
       "9                   2            169"
      ]
     },
     "execution_count": 15,
     "metadata": {},
     "output_type": "execute_result"
    }
   ],
   "source": [
    "\n",
    "\n",
    "import numpy as np\n",
    "\n",
    "# Datos cuantitativos\n",
    "data = pd.DataFrame({\n",
    "    'Número de hermanos': [0, 2, 1, 3, 2, 1, 0, 4, 3, 2],\n",
    "    'Estatura (cm)': [150, 160, 165, 155, 172, 180, 158, 167, 174, 169]\n",
    "})\n",
    "\n",
    "data "
   ]
  },
  {
   "cell_type": "code",
   "execution_count": 17,
   "id": "003f1786",
   "metadata": {},
   "outputs": [
    {
     "name": "stderr",
     "output_type": "stream",
     "text": [
      "C:\\Users\\marco\\AppData\\Local\\Temp\\ipykernel_8644\\4178754656.py:3: FutureWarning: \n",
      "\n",
      "Passing `palette` without assigning `hue` is deprecated and will be removed in v0.14.0. Assign the `x` variable to `hue` and set `legend=False` for the same effect.\n",
      "\n",
      "  sns.countplot(x='Número de hermanos', data=data, palette='Set2')\n"
     ]
    },
    {
     "data": {
      "image/png": "[encoded data removed]",
      "text/plain": [
       "<Figure size 400x300 with 1 Axes>"
      ]
     },
     "metadata": {},
     "output_type": "display_data"
    }
   ],
   "source": [
    "\n",
    "# Variable discreta: gráfico de barras\n",
    "plt.figure(figsize=(4, 3))\n",
    "sns.countplot(x='Número de hermanos', data=data, palette='Set2')\n",
    "plt.title('Número de hermanos (Cuantitativa Discreta)')\n",
    "plt.ylabel('Frecuencia absoluta')\n",
    "\n",
    "plt.show()\n"
   ]
  },
  {
   "cell_type": "code",
   "execution_count": 20,
   "id": "90a379ef",
   "metadata": {},
   "outputs": [
    {
     "data": {
      "image/png": "[encoded data removed]",
      "text/plain": [
       "<Figure size 640x480 with 1 Axes>"
      ]
     },
     "metadata": {},
     "output_type": "display_data"
    }
   ],
   "source": [
    "\n",
    "import pandas as pd\n",
    "import seaborn as sns\n",
    "import matplotlib.pyplot as plt\n",
    "\n",
    "# Datos de ejemplo\n",
    "data = pd.DataFrame({\n",
    "    'Estatura (cm)': [150, 160, 165, 155, 172, 180, 158, 167, 174, 169]\n",
    "})\n",
    "\n",
    "# Histograma con bins definidos y etiquetas alineadas\n",
    "bin_edges = [150, 157, 164, 171, 178, 185]  # puedes ajustar estos valores según tus datos\n",
    "\n",
    "sns.histplot(data['Estatura (cm)'], bins=bin_edges, kde=True, color='green', edgecolor='black')\n",
    "plt.xticks(bin_edges)  # alineamos las marcas del eje x con los bordes de las barras\n",
    "plt.title('Estatura (Continua) - Histograma')\n",
    "plt.xlabel('Estatura (cm)')\n",
    "plt.ylabel('Frecuencia')\n",
    "plt.grid(True, linestyle='--', alpha=0.5)\n",
    "plt.show()\n"
   ]
  },
  {
   "cell_type": "code",
   "execution_count": 22,
   "id": "b863f9f7",
   "metadata": {},
   "outputs": [
    {
     "data": {
      "image/png": "[encoded data removed]",
      "text/plain": [
       "<Figure size 640x480 with 1 Axes>"
      ]
     },
     "metadata": {},
     "output_type": "display_data"
    }
   ],
   "source": [
    "\n",
    "# Boxplot\n",
    "sns.boxplot(y=data['Estatura (cm)'], color='orange')\n",
    "plt.title('Estatura (Continua) - Boxplot')\n",
    "plt.ylabel('Estatura (cm)')\n",
    "plt.yticks(np.arange(150, 182, 2))\n",
    "plt.grid(True, linestyle='--', alpha=0.5)\n",
    "plt.show()\n"
   ]
  },
  {
   "cell_type": "markdown",
   "id": "ce04cc92",
   "metadata": {},
   "source": [
    "\n",
    "# Tarea sobre  visualización de tipos de variables \n",
    "\n",
    "## 💡 Actividades prácticas\n",
    "\n",
    "1. **Clasifica y grafica**: Tu hijo puede crear una pequeña encuesta entre amigos o familiares (por ejemplo, 10 personas) preguntando:\n",
    "   - Color favorito (Nominal)\n",
    "   - Nivel de satisfacción con la escuela (Ordinal)\n",
    "   - Número de mascotas (Discreta)\n",
    "   - Horas que duerme por noche (Continua)\n",
    "\n",
    "2. **Visualiza los resultados** con los scripts adaptando los datos.\n",
    "\n",
    "---\n"
   ]
  },
  {
   "cell_type": "markdown",
   "id": "b8010a3b",
   "metadata": {},
   "source": [
    "### Actividad N#1"
   ]
  },
  {
   "cell_type": "code",
   "execution_count": 30,
   "id": "8adcea27",
   "metadata": {},
   "outputs": [
    {
     "name": "stderr",
     "output_type": "stream",
     "text": [
      "C:\\Users\\marco\\AppData\\Local\\Temp\\ipykernel_8644\\3628980516.py:6: FutureWarning: \n",
      "\n",
      "Passing `palette` without assigning `hue` is deprecated and will be removed in v0.14.0. Assign the `x` variable to `hue` and set `legend=False` for the same effect.\n",
      "\n",
      "  sns.countplot(data=data, x='Color favorito', ax=axs[0, 0], palette='Set2')\n",
      "C:\\Users\\marco\\AppData\\Local\\Temp\\ipykernel_8644\\3628980516.py:12: FutureWarning: \n",
      "\n",
      "Passing `palette` without assigning `hue` is deprecated and will be removed in v0.14.0. Assign the `x` variable to `hue` and set `legend=False` for the same effect.\n",
      "\n",
      "  sns.countplot(data=data, x='Satisfacción escolar', ax=axs[0, 1], palette='Set1')\n"
     ]
    },
    {
     "data": {
      "image/png": "[encoded data removed]",
      "text/plain": [
       "<Figure size 1200x1000 with 4 Axes>"
      ]
     },
     "metadata": {},
     "output_type": "display_data"
    }
   ],
   "source": [
    "# Crear los mismos gráficos con cuadrícula y marcas en intervalos de 2 en 2\n",
    "\n",
    "fig, axs = plt.subplots(2, 2, figsize=(12, 10))\n",
    "\n",
    "# Color favorito (Nominal)\n",
    "sns.countplot(data=data, x='Color favorito', ax=axs[0, 0], palette='Set2')\n",
    "axs[0, 0].set_title('Color favorito (Nominal)')\n",
    "axs[0, 0].grid(True, axis='y')\n",
    "axs[0, 0].set_yticks(range(0, data['Color favorito'].value_counts().max() + 2, 2))\n",
    "\n",
    "# Satisfacción escolar (Ordinal)\n",
    "sns.countplot(data=data, x='Satisfacción escolar', ax=axs[0, 1], palette='Set1')\n",
    "axs[0, 1].set_title('Satisfacción escolar (Ordinal)')\n",
    "axs[0, 1].grid(True, axis='y')\n",
    "axs[0, 1].set_yticks(range(0, data['Satisfacción escolar'].value_counts().max() + 2, 2))\n",
    "\n",
    "# Número de mascotas (Discreta)\n",
    "sns.histplot(data=data, x='Número de mascotas', discrete=True, bins=range(0, max(data['Número de mascotas'])+2), ax=axs[1, 0], color='skyblue')\n",
    "axs[1, 0].set_title('Número de mascotas (Discreta)')\n",
    "axs[1, 0].grid(True, axis='y')\n",
    "axs[1, 0].set_yticks(range(0, data['Número de mascotas'].value_counts().max() + 2, 2))\n",
    "\n",
    "# Horas de sueño por noche (Continua)\n",
    "sns.histplot(data=data, x='Horas de sueño', kde=True, ax=axs[1, 1], color='salmon')\n",
    "axs[1, 1].set_title('Horas de sueño por noche (Continua)')\n",
    "axs[1, 1].grid(True, axis='y')\n",
    "axs[1, 1].set_yticks(range(0, 30, 2))\n",
    "\n",
    "plt.tight_layout()\n",
    "plt.show()\n"
   ]
  },
  {
   "cell_type": "markdown",
   "id": "f41734f3",
   "metadata": {},
   "source": [
    "\n",
    "¿Te gustaría que prepare una versión con widgets interactivos o un cuaderno Jupyter para que tu hijo tenga todo listo para explorar? También puedo hacer una versión de esta guía como PDF o presentación."
   ]
  },
  {
   "cell_type": "markdown",
   "id": "a6cbddea",
   "metadata": {},
   "source": [
    "¡Claro, Marco Julio! Vamos a hablar sobre los **gráficos KDE** (Kernel Density Estimate), que son una herramienta estadística muy útil para visualizar **distribuciones de variables cuantitativas continuas**.\n",
    "\n",
    "---\n"
   ]
  },
  {
   "cell_type": "code",
   "execution_count": null,
   "id": "ff8671aa",
   "metadata": {},
   "outputs": [],
   "source": []
  },
  {
   "cell_type": "markdown",
   "id": "8b683f18",
   "metadata": {},
   "source": [
    "\n",
    "## 📈 ¿Qué es un gráfico KDE?\n",
    "\n",
    "KDE significa **Estimación de Densidad con Núcleo** (del inglés *Kernel Density Estimate*). Es un método **suavizado** que nos permite visualizar la **forma de la distribución** de una variable continua sin usar un histograma con barras.\n",
    "\n",
    "> 🔍 Piensa en el KDE como una versión \"suave\" del histograma, que estima una curva continua que representa la densidad de probabilidad de los datos.\n",
    "\n",
    "---\n",
    "\n",
    "## 🧠 ¿Para qué se usa?\n",
    "\n",
    "- Para **ver la distribución** de una variable continua.\n",
    "- Para **comparar distribuciones** entre dos o más grupos.\n",
    "- Para identificar si la distribución es **normal**, **asimétrica**, **bimodal**, etc.\n",
    "- Para ver **tendencias centrales** y **dispersión** de manera más estética y continua que un histograma.\n",
    "\n",
    "---\n",
    "\n",
    "## 🐍 Ejemplo práctico en Python\n",
    "\n",
    "Vamos a generar un gráfico KDE con `seaborn`:\n"
   ]
  },
  {
   "cell_type": "code",
   "execution_count": null,
   "id": "8e919381",
   "metadata": {},
   "outputs": [],
   "source": [
    "\n",
    "\n",
    "import seaborn as sns\n",
    "import matplotlib.pyplot as plt\n",
    "import numpy as np\n",
    "\n",
    "# Crear datos simulados (altura en cm)\n",
    "altura = np.random.normal(loc=170, scale=10, size=100)\n",
    "\n",
    "# Gráfico KDE\n",
    "sns.kdeplot(altura, shade=True, color='purple')\n",
    "plt.title(\"Distribución de la estatura (KDE)\")\n",
    "plt.xlabel(\"Estatura (cm)\")\n",
    "plt.ylabel(\"Densidad\")\n",
    "plt.show()\n",
    "\n"
   ]
  },
  {
   "cell_type": "markdown",
   "id": "de6ac292",
   "metadata": {},
   "source": [
    "\n",
    "---\n",
    "\n",
    "## 📌 Cosas importantes sobre los KDE:\n",
    "\n",
    "### ➕ Ventajas:\n",
    "- Es más **suave** y claro que un histograma.\n",
    "- Permite visualizar múltiples distribuciones en el mismo gráfico.\n",
    "- Se puede usar para **identificar modos** (picos) y **asimetrías**.\n",
    "\n",
    "### ➖ Limitaciones:\n",
    "- Puede ser **engañoso** con pocos datos (la curva puede no representar bien la realidad).\n",
    "- El resultado depende del **\"bandwidth\"** (ancho de banda), un parámetro que controla qué tan suave es la curva. Un bandwidth muy pequeño crea una curva con muchos picos; uno muy grande puede ocultar detalles importantes.\n",
    "\n",
    "---\n",
    "\n",
    "## 🎮 Actividad sugerida para tu hijo\n",
    "\n",
    "### Desafío:\n",
    "1. Generar 100 datos aleatorios de una variable (por ejemplo, notas de estudiantes).\n",
    "2. Dibujar el histograma y el KDE de los mismos datos.\n",
    "3. Comparar y escribir en sus propias palabras qué diferencias observa entre ambos gráficos.\n"
   ]
  },
  {
   "cell_type": "markdown",
   "id": "a1083766",
   "metadata": {},
   "source": [
    "\n",
    "```python\n",
    "import pandas as pd\n",
    "\n",
    "# Simular datos de notas\n",
    "notas = np.random.normal(loc=3.5, scale=0.5, size=100)\n",
    "\n",
    "# Histograma + KDE juntos\n",
    "sns.histplot(notas, kde=True, bins=10, color='skyblue')\n",
    "plt.title(\"Distribución de Notas\")\n",
    "plt.xlabel(\"Nota\")\n",
    "plt.ylabel(\"Frecuencia / Densidad\")\n",
    "plt.show()\n",
    "```\n"
   ]
  },
  {
   "cell_type": "markdown",
   "id": "825cfeca",
   "metadata": {},
   "source": [
    "\n",
    "---\n",
    "\n",
    "¿Quieres que prepare una hoja de trabajo para tu hijo con estos ejercicios y preguntas orientadoras? También puedo generar una versión interactiva con widgets para que él juegue con el parámetro `bandwidth`."
   ]
  },
  {
   "cell_type": "markdown",
   "id": "e7bfdd64",
   "metadata": {},
   "source": [
    "# - Operaciones entre conjuntos: `sympy`, `sets`  \n",
    "\n",
    "\n",
    " Desarróllame el siguiente tema para enseñar a mi hijo a realizar \"Operaciones entre conjuntos: `sympy`, `sets`\" en esta clase sobre estadística para la prueba ICFES en Colombia. Entrégame los scripts para que mi hijo pueda hacer práctica de visualización. \n"
   ]
  },
  {
   "cell_type": "markdown",
   "id": "81c615ad",
   "metadata": {},
   "source": [
    "¡Perfecto! Aquí tienes un desarrollo didáctico del tema **“Operaciones entre conjuntos con `sympy` y `sets`”** para enseñar a tu hijo de forma visual y práctica. Está orientado al contexto de **estadística y razonamiento lógico del ICFES**.\n",
    "\n",
    "---\n"
   ]
  },
  {
   "cell_type": "markdown",
   "id": "73eceda2",
   "metadata": {},
   "source": [
    "\n",
    "## 🎯 **Objetivo de la clase**\n",
    "\n",
    "Que el estudiante comprenda y practique **operaciones entre conjuntos** (unión, intersección, diferencia, complemento) utilizando Python, con las librerías `sympy` y `matplotlib` para visualizar y comprobar sus resultados.\n",
    "\n",
    "---\n"
   ]
  },
  {
   "cell_type": "markdown",
   "id": "eeb6319f",
   "metadata": {},
   "source": [
    "\n",
    "## 📚 **Conceptos clave**\n",
    "\n",
    "- **Conjunto**: colección de elementos bien definidos.\n",
    "- **Unión (A ∪ B)**: elementos que están en A, en B, o en ambos.\n",
    "- **Intersección (A ∩ B)**: elementos que están en A **y** en B.\n",
    "- **Diferencia (A - B)**: elementos que están en A y **no** en B.\n",
    "- **Complemento de A**: elementos que están en el universo y no están en el conjunto $A$.\n",
    "\n",
    "---\n"
   ]
  },
  {
   "cell_type": "markdown",
   "id": "dbbf1775",
   "metadata": {},
   "source": [
    "\n",
    "## 🧰 Requisitos técnicos\n",
    "\n",
    "Asegúrate de tener instalado:\n",
    "\n",
    "```bash\n",
    "pip install sympy matplotlib\n",
    "```\n",
    "\n",
    "---\n"
   ]
  },
  {
   "cell_type": "markdown",
   "id": "3c2dfa7e",
   "metadata": {},
   "source": [
    "\n",
    "## 📁 Estructura del notebook o script\n",
    "\n",
    "### 1. **Importar librerías y definir conjuntos**\n"
   ]
  },
  {
   "cell_type": "code",
   "execution_count": 33,
   "id": "2bc4d1a2",
   "metadata": {},
   "outputs": [
    {
     "name": "stdout",
     "output_type": "stream",
     "text": [
      "Conjunto A: {1, 2, 3, 4}\n",
      "Conjunto B: {3, 4, 5, 6}\n",
      "Universo U: {1, 2, 3, 4, 5, 6, 7, 8, 9, 10}\n"
     ]
    }
   ],
   "source": [
    "\n",
    "from sympy import FiniteSet\n",
    "import matplotlib.pyplot as plt\n",
    "from matplotlib_venn import venn2, venn3\n",
    "\n",
    "# Conjuntos de ejemplo\n",
    "A = FiniteSet(1, 2, 3, 4)\n",
    "B = FiniteSet(3, 4, 5, 6)\n",
    "U = FiniteSet(*range(1, 11))  # Universo del 1 al 10\n",
    "\n",
    "print(\"Conjunto A:\", A)\n",
    "print(\"Conjunto B:\", B)\n",
    "print(\"Universo U:\", U)\n",
    "\n"
   ]
  },
  {
   "cell_type": "markdown",
   "id": "91c3854c",
   "metadata": {},
   "source": [
    "\n",
    "---\n",
    "\n",
    "### 2. **Operaciones básicas**\n"
   ]
  },
  {
   "cell_type": "code",
   "execution_count": 34,
   "id": "04b36a53",
   "metadata": {},
   "outputs": [
    {
     "name": "stdout",
     "output_type": "stream",
     "text": [
      "Unión A ∪ B: {1, 2, 3, 4, 5, 6}\n",
      "Intersección A ∩ B: {3, 4}\n",
      "Diferencia A - B: {1, 2}\n",
      "Diferencia B - A: {5, 6}\n",
      "Complemento de A: {5, 6, 7, 8, 9, 10}\n"
     ]
    }
   ],
   "source": [
    "\n",
    "\n",
    "print(\"Unión A ∪ B:\", A.union(B))\n",
    "print(\"Intersección A ∩ B:\", A.intersect(B))\n",
    "print(\"Diferencia A - B:\", A - B)\n",
    "print(\"Diferencia B - A:\", B - A)\n",
    "print(\"Complemento de A:\", U - A)\n",
    "\n"
   ]
  },
  {
   "cell_type": "markdown",
   "id": "9576142a",
   "metadata": {},
   "source": [
    "\n",
    "---\n",
    "\n",
    "### 3. **Visualización con Diagramas de Venn**\n"
   ]
  },
  {
   "cell_type": "code",
   "execution_count": 35,
   "id": "364410cf",
   "metadata": {},
   "outputs": [
    {
     "data": {
      "image/png": "[encoded data removed]",
      "text/plain": [
       "<Figure size 640x480 with 1 Axes>"
      ]
     },
     "metadata": {},
     "output_type": "display_data"
    }
   ],
   "source": [
    "\n",
    "\n",
    "def mostrar_venn(A, B):\n",
    "    setA = set(A)\n",
    "    setB = set(B)\n",
    "\n",
    "    venn2([setA, setB], ('A', 'B'))\n",
    "    plt.title(\"Diagrama de Venn: A y B\")\n",
    "    plt.show()\n",
    "\n",
    "mostrar_venn(A, B)\n"
   ]
  },
  {
   "cell_type": "markdown",
   "id": "676def70",
   "metadata": {},
   "source": [
    "\n",
    "> Puedes probar con otros conjuntos para explorar distintos casos.\n",
    "\n",
    "---\n",
    "\n",
    "### 4. **Ejercicio práctico 1: Identifica regiones**\n"
   ]
  },
  {
   "cell_type": "code",
   "execution_count": 36,
   "id": "3a5a53d2",
   "metadata": {},
   "outputs": [
    {
     "name": "stdout",
     "output_type": "stream",
     "text": [
      "Unión: {1, 2, 3, 4, 6, 8}\n",
      "Intersección: {2, 4}\n",
      "Diferencia C1 - C2: {6, 8}\n",
      "Complemento de C1: {1, 3, 5, 7, 9, 10}\n"
     ]
    },
    {
     "data": {
      "image/png": "[encoded data removed]",
      "text/plain": [
       "<Figure size 640x480 with 1 Axes>"
      ]
     },
     "metadata": {},
     "output_type": "display_data"
    }
   ],
   "source": [
    "\n",
    "\n",
    "# Cambia estos conjuntos y visualiza sus relaciones\n",
    "C1 = FiniteSet(2, 4, 6, 8)\n",
    "C2 = FiniteSet(1, 2, 3, 4)\n",
    "\n",
    "print(\"Unión:\", C1.union(C2))\n",
    "print(\"Intersección:\", C1.intersect(C2))\n",
    "print(\"Diferencia C1 - C2:\", C1 - C2)\n",
    "print(\"Complemento de C1:\", U - C1)\n",
    "\n",
    "mostrar_venn(C1, C2)\n",
    "\n"
   ]
  },
  {
   "cell_type": "markdown",
   "id": "5c78056e",
   "metadata": {},
   "source": [
    "\n",
    "---\n",
    "\n",
    "### 5. **Ejercicio práctico 2: Conjuntos de estudiantes**\n"
   ]
  },
  {
   "cell_type": "code",
   "execution_count": 42,
   "id": "872b2c14",
   "metadata": {},
   "outputs": [
    {
     "name": "stdout",
     "output_type": "stream",
     "text": [
      "Estudiantes que practican deportes o música: {Ana, Carlos, Julián, Laura, Luis, María, Pedro, Sofía}\n"
     ]
    }
   ],
   "source": [
    "\n",
    "\n",
    "# Estudiantes que practican deportes\n",
    "deportes = FiniteSet('Ana', 'Luis', 'Carlos', 'María', 'Sofía')\n",
    "musica = FiniteSet('Luis', 'Pedro', 'Sofía', 'Julián', 'Laura')\n",
    "todos = FiniteSet('Ana', 'Luis', 'Carlos', 'María', 'Sofía', 'Pedro', 'Julián', 'Laura')\n",
    "\n",
    "print(\"Estudiantes que practican deportes o música:\", deportes.union(musica))\n"
   ]
  },
  {
   "cell_type": "code",
   "execution_count": 41,
   "id": "17ab1b4b",
   "metadata": {},
   "outputs": [
    {
     "name": "stdout",
     "output_type": "stream",
     "text": [
      "Estudiantes que practican ambos: Intersection({Ana, Carlos, Luis, María, Sofía}, {Julián, Laura, Luis, Pedro, Sofía})\n"
     ]
    }
   ],
   "source": [
    "print(\"Estudiantes que practican ambos:\", deportes.intersect(musica).simplify())\n"
   ]
  },
  {
   "cell_type": "code",
   "execution_count": 51,
   "id": "5a0b1c59",
   "metadata": {},
   "outputs": [
    {
     "name": "stdout",
     "output_type": "stream",
     "text": [
      "Estudiantes que practican ambos: {'Carlos', 'Sofía'}\n"
     ]
    }
   ],
   "source": [
    "# Usar conjuntos nativos de Python para cadenas de texto\n",
    "deportes = {\"Ana\", \"Luis\", \"Carlos\", \"Sofía\"}\n",
    "musica = {\"Carlos\", \"Sofía\", \"María\"}\n",
    "\n",
    "# Calcular la intersección\n",
    "interseccion = deportes & musica  # o deportes.intersection(musica)\n",
    "\n",
    "# Mostrar resultado\n",
    "print(\"Estudiantes que practican ambos:\", interseccion)\n"
   ]
  },
  {
   "cell_type": "code",
   "execution_count": 47,
   "id": "ad4ecc06",
   "metadata": {},
   "outputs": [
    {
     "data": {
      "text/latex": [
       "$\\displaystyle \\left\\{Carlos, María, Sofía\\right\\} \\cap \\left\\{Ana, Carlos, Luis, Sofía\\right\\}$"
      ],
      "text/plain": [
       "Intersection({Carlos, María, Sofía}, {Ana, Carlos, Luis, Sofía})"
      ]
     },
     "execution_count": 47,
     "metadata": {},
     "output_type": "execute_result"
    }
   ],
   "source": [
    "musica.intersect(deportes) "
   ]
  },
  {
   "cell_type": "code",
   "execution_count": null,
   "id": "70e103ba",
   "metadata": {},
   "outputs": [],
   "source": [
    "print(\"Solo deportes:\", deportes - musica)\n",
    "print(\"Solo música:\", musica - deportes)\n",
    "print(\"No practican ni deportes ni música:\", todos - deportes.union(musica))\n",
    "\n",
    "mostrar_venn(deportes, musica)\n",
    "\n"
   ]
  },
  {
   "cell_type": "markdown",
   "id": "c242f1f0",
   "metadata": {},
   "source": [
    "\n",
    "---\n",
    "\n",
    "### 6. **Actividad final**\n",
    "\n",
    "> Pídele a tu hijo que cree sus propios conjuntos con nombres o números y que:\n",
    "\n",
    "- Calcule unión, intersección, diferencia y complemento.\n",
    "- Visualice los resultados con `venn2`.\n",
    "- Escriba en su cuaderno o notebook qué representa cada resultado en contexto.\n",
    "\n",
    "---\n"
   ]
  },
  {
   "cell_type": "markdown",
   "id": "85953cd8",
   "metadata": {},
   "source": [
    "\n",
    "## ✅ Evaluación sugerida tipo ICFES\n",
    "\n",
    "**Pregunta tipo saber**:\n",
    "\n",
    "> En un grupo de 30 estudiantes:\n",
    ">\n",
    "> - 18 estudian inglés\n",
    "> - 12 estudian francés\n",
    "> - 5 estudian ambos\n",
    ">\n",
    "> ¿Cuántos estudiantes no estudian ninguno de los dos idiomas?\n",
    "\n",
    "Ayúdalo a plantear los conjuntos:\n",
    "\n",
    "```python\n",
    "U = 30\n",
    "ingles = 18\n",
    "frances = 12\n",
    "ambos = 5\n",
    "\n",
    "solo_ingles = ingles - ambos\n",
    "solo_frances = frances - ambos\n",
    "ninguno = U - (solo_ingles + solo_frances + ambos)\n",
    "print(\"Estudiantes que no estudian ninguno:\", ninguno)\n",
    "```\n"
   ]
  },
  {
   "cell_type": "markdown",
   "id": "218cd48d",
   "metadata": {},
   "source": [
    "\n",
    "---\n",
    "\n",
    "¿Te gustaría que prepare esta clase como un cuaderno Jupyter listo para GitHub y que tu hijo lo use en Google Colab?"
   ]
  },
  {
   "cell_type": "code",
   "execution_count": null,
   "id": "b0d17daa",
   "metadata": {},
   "outputs": [],
   "source": []
  },
  {
   "cell_type": "markdown",
   "id": "4015b000",
   "metadata": {},
   "source": [
    "# Medidas de tendencia central: media, mediana, moda, quartiles, percentiles, deciles\n"
   ]
  },
  {
   "cell_type": "markdown",
   "id": "770753bd",
   "metadata": {},
   "source": [
    "¡Con gusto, Marco Julio! A continuación, te presento una **clase práctica y didáctica** para que tu hijo estudie y comprenda bien el tema de **medidas de tendencia central** para la prueba del ICFES. Incluiré:\n",
    "\n",
    "1. ✅ Explicación clara de cada medida.  \n",
    "2. 🧮 Fórmulas y ejemplos sencillos.  \n",
    "3. 💻 Código en Python para practicar.  \n",
    "4. 📊 Visualización con gráficos.  \n",
    "5. 🧠 Actividades para aplicar lo aprendido.\n",
    "\n",
    "---\n"
   ]
  },
  {
   "cell_type": "markdown",
   "id": "788dd7f4",
   "metadata": {},
   "source": [
    "\n",
    "## 🎯 Tema: Medidas de Tendencia Central\n"
   ]
  },
  {
   "cell_type": "markdown",
   "id": "94ad593f",
   "metadata": {},
   "source": [
    "\n",
    "Las medidas de tendencia central nos permiten describir cuál es el valor **más representativo** de un conjunto de datos. Son fundamentales para interpretar estadísticas y aparecen frecuentemente en las pruebas del ICFES.\n",
    "\n",
    "---\n"
   ]
  },
  {
   "cell_type": "markdown",
   "id": "5e4872a1",
   "metadata": {},
   "source": [
    "\n",
    "### 1. 📏 Media (Promedio)\n"
   ]
  },
  {
   "cell_type": "markdown",
   "id": "eae12b50",
   "metadata": {},
   "source": [
    "\n",
    "**Definición:** Suma de todos los datos dividida entre la cantidad de datos.\n"
   ]
  },
  {
   "cell_type": "markdown",
   "id": "f0bfcc94",
   "metadata": {},
   "source": [
    "\n",
    "**Fórmula:**  \n",
    "$$\n",
    "\\bar{x} = \\frac{x_1 + x_2 + \\cdots + x_n}{n}\n",
    "$$\n",
    "\n",
    "donde $x_{i}$ es el $i$- ésimo dato y $n$ es el número total de datos.\n"
   ]
  },
  {
   "cell_type": "markdown",
   "id": "649dc8c9",
   "metadata": {},
   "source": [
    "\n",
    "**Python:**\n"
   ]
  },
  {
   "cell_type": "code",
   "execution_count": 56,
   "id": "2de68155",
   "metadata": {},
   "outputs": [
    {
     "name": "stdout",
     "output_type": "stream",
     "text": [
      "El promedio de los datos es:  1.5\n"
     ]
    }
   ],
   "source": [
    "\n",
    "import numpy as np\n",
    "\n",
    "datos = [1,2]\n",
    "media = np.mean(datos)\n",
    "print(\"El promedio de los datos es: \", media)\n",
    "\n"
   ]
  },
  {
   "cell_type": "markdown",
   "id": "38733d37",
   "metadata": {},
   "source": [
    "\n",
    "---\n",
    "\n",
    "### 2. 🧭 Mediana\n",
    "\n",
    "**Definición:** Es el valor que está en el **centro** del conjunto de datos **ordenados**.\n",
    "\n",
    "- Si el número de datos es impar → es el valor del centro.\n",
    "- Si es par → es el promedio de los dos del centro.\n",
    "\n",
    "**Python:**\n"
   ]
  },
  {
   "cell_type": "code",
   "execution_count": 60,
   "id": "5da53483",
   "metadata": {},
   "outputs": [
    {
     "name": "stdout",
     "output_type": "stream",
     "text": [
      "Mediana: 2.5\n"
     ]
    }
   ],
   "source": [
    "\n",
    "import numpy as np\n",
    "\n",
    "datos = [1,2,3, 4]\n",
    "mediana = np.median(datos)\n",
    "print(\"Mediana:\", mediana)\n",
    "\n"
   ]
  },
  {
   "cell_type": "markdown",
   "id": "7c052b28",
   "metadata": {},
   "source": [
    "\n",
    "---\n",
    "\n",
    "### 3. 🎯 Moda\n",
    "\n",
    "**Definición:** Es el valor que más veces se repite.\n",
    "\n",
    "**Python:**\n"
   ]
  },
  {
   "cell_type": "code",
   "execution_count": null,
   "id": "4d60b623",
   "metadata": {},
   "outputs": [
    {
     "name": "stdout",
     "output_type": "stream",
     "text": [
      "Moda: 4\n"
     ]
    }
   ],
   "source": [
    "\n",
    "from scipy import stats\n",
    "import numpy as np\n",
    "\n",
    "datos = [1,2,3, 4, 2, 4, 4, 4 ]\n",
    "moda = stats.mode(datos, keepdims=True)\n",
    "print(\"Moda:\", moda.mode[0])\n",
    "\n"
   ]
  },
  {
   "cell_type": "code",
   "execution_count": 76,
   "id": "b4f50f26",
   "metadata": {},
   "outputs": [
    {
     "name": "stdout",
     "output_type": "stream",
     "text": [
      "la moda de la muestra es: 4 y su frecuencia es: 4\n"
     ]
    }
   ],
   "source": [
    "from scipy import stats\n",
    "import numpy as np\n",
    "\n",
    "datos = [1,2,3, 4, 2, 4, 4, 4 ]\n",
    "moda = stats.mode(datos, keepdims=True)\n",
    "print('la moda de la muestra es:', moda[0][0], 'y su frecuencia es:', moda[1][0])"
   ]
  },
  {
   "cell_type": "markdown",
   "id": "c26fc1b8",
   "metadata": {},
   "source": [
    "\n",
    "### 6. 🎯 Percentiles\n",
    "\n",
    "**Definición:** Dividen los datos en **100 partes iguales**. El percentil 90 indica el valor por debajo del cual está el 90% de los datos.\n",
    "\n",
    "**Python:**\n"
   ]
  },
  {
   "cell_type": "code",
   "execution_count": 82,
   "id": "7986e659",
   "metadata": {},
   "outputs": [
    {
     "name": "stdout",
     "output_type": "stream",
     "text": [
      "Percentil 90: 4.0\n"
     ]
    }
   ],
   "source": [
    "p90 = np.percentile(datos, 90)\n",
    "print(\"Percentil 90:\", p90)\n"
   ]
  },
  {
   "cell_type": "markdown",
   "id": "4db4a521",
   "metadata": {},
   "source": [
    "\n",
    "---\n",
    "\n",
    "### 4. 📦 Cuartiles\n",
    "\n",
    "**Definición:** Dividen el conjunto de datos en **cuatro partes iguales**.\n",
    "\n",
    "- **Q1:** 25%\n",
    "- **Q2:** 50% (igual a la mediana)\n",
    "- **Q3:** 75%\n",
    "\n",
    "**Python:**\n"
   ]
  },
  {
   "cell_type": "code",
   "execution_count": 78,
   "id": "19007d8b",
   "metadata": {},
   "outputs": [
    {
     "data": {
      "text/plain": [
       "(array([1, 2, 2, 3, 4, 4, 4, 4]), 8)"
      ]
     },
     "execution_count": 78,
     "metadata": {},
     "output_type": "execute_result"
    }
   ],
   "source": [
    "np.sort(datos), len(datos)"
   ]
  },
  {
   "cell_type": "code",
   "execution_count": 79,
   "id": "f8bc224d",
   "metadata": {},
   "outputs": [
    {
     "name": "stdout",
     "output_type": "stream",
     "text": [
      "Q1: 2.0 Q2: 3.5 Q3: 4.0\n"
     ]
    }
   ],
   "source": [
    "\n",
    "q1 = np.percentile(datos, 25)\n",
    "q2 = np.percentile(datos, 50)  # Mediana\n",
    "q3 = np.percentile(datos, 75)\n",
    "print(\"Q1:\", q1, \"Q2:\", q2, \"Q3:\", q3)\n",
    "\n"
   ]
  },
  {
   "cell_type": "markdown",
   "id": "9f4e5a0e",
   "metadata": {},
   "source": [
    "\n",
    "---\n",
    "\n",
    "### 5. 🎯 Deciles\n",
    "\n",
    "**Definición:** Dividen el conjunto de datos en **10 partes iguales** (10%, 20%, ..., 100%).\n",
    "\n",
    "**Python (ejemplo con el D4, que es el 40%):**\n"
   ]
  },
  {
   "cell_type": "code",
   "execution_count": 80,
   "id": "5a583606",
   "metadata": {},
   "outputs": [
    {
     "name": "stdout",
     "output_type": "stream",
     "text": [
      "D4 (40%): 2.8000000000000003\n"
     ]
    }
   ],
   "source": [
    "\n",
    "d4 = np.percentile(datos, 40)\n",
    "print(\"D4 (40%):\", d4)\n",
    "\n"
   ]
  },
  {
   "cell_type": "markdown",
   "id": "5a994402",
   "metadata": {},
   "source": [
    "\n",
    "---\n",
    "\n",
    "### 📊 Visualización con gráficos\n"
   ]
  },
  {
   "cell_type": "code",
   "execution_count": 83,
   "id": "da92ecd2",
   "metadata": {},
   "outputs": [
    {
     "data": {
      "image/png": "[encoded data removed]",
      "text/plain": [
       "<Figure size 640x480 with 1 Axes>"
      ]
     },
     "metadata": {},
     "output_type": "display_data"
    }
   ],
   "source": [
    "\n",
    "import matplotlib.pyplot as plt\n",
    "\n",
    "plt.boxplot(datos, vert=False)\n",
    "plt.title('Diagrama de caja (Boxplot)')\n",
    "plt.xlabel('Valores')\n",
    "plt.grid(True)\n",
    "plt.show()\n",
    "\n"
   ]
  },
  {
   "cell_type": "code",
   "execution_count": 84,
   "id": "0e00816b",
   "metadata": {},
   "outputs": [
    {
     "data": {
      "text/plain": [
       "np.float64(4.0)"
      ]
     },
     "execution_count": 84,
     "metadata": {},
     "output_type": "execute_result"
    }
   ],
   "source": [
    "\n",
    "np.percentile(datos, 75)\n"
   ]
  },
  {
   "cell_type": "markdown",
   "id": "809815c7",
   "metadata": {},
   "source": [
    "\n",
    "### 🧠 Actividad para tu hijo\n",
    "\n",
    "1. Escribe 10 números enteros entre 1 y 100 (pueden representar calificaciones).\n",
    "2. Calcula media, mediana, moda, cuartiles, deciles y percentiles 10, 50 y 90.\n",
    "3. Grafica el boxplot.\n",
    "4. Responde: ¿Qué medida te parece que representa mejor los datos y por qué?\n"
   ]
  },
  {
   "cell_type": "markdown",
   "id": "a20e621c",
   "metadata": {},
   "source": []
  },
  {
   "cell_type": "markdown",
   "id": "1abbf0ac",
   "metadata": {},
   "source": [
    "\n",
    "\n"
   ]
  },
  {
   "cell_type": "markdown",
   "id": "6d4aab1e",
   "metadata": {},
   "source": [
    "\n",
    "### ¿Quieres que lo empaquete como un cuaderno Jupyter interactivo con instrucciones paso a paso?\n",
    "\n",
    "También puedo agregarte preguntas tipo ICFES y un generador de datos aleatorios para simular mini-exámenes. ¿Te gustaría eso?"
   ]
  },
  {
   "cell_type": "markdown",
   "id": "b1983cb7",
   "metadata": {},
   "source": [
    "- Conteo con principios aditivo y multiplicativo\n",
    "- Diferencia entre población, muestra e inferencia\n",
    "\n",
    "**5.2 Contenidos no genéricos**\n",
    "- Estimación del error: error muestral absoluto y relativo\n",
    "- Varianza, desviación estándar, percentiles\n",
    "- Medidas de posición y correlación lineal (coef. de Pearson)\n",
    "- Permutaciones y combinaciones: `math`, `itertools`\n",
    "\n",
    "---\n",
    "\n",
    "### 6. Actividades de aprendizaje en Jupyter Notebook\n",
    "- Visualización de datos reales del ICFES usando `pandas`.\n",
    "- Cálculo interactivo de medidas con `ipywidgets`.\n",
    "- Simulaciones de conteos con animaciones (`matplotlib.animation`, `IPython.display`).\n",
    "- Inferencia a partir de muestras simuladas.\n",
    "- Juegos de combinatoria (por ejemplo, \"cuántas maneras de formar equipos\").\n",
    "\n",
    "---\n",
    "\n",
    "### 7. Poema para fijar conceptos\n",
    "\n",
    "**\"En la clase de estadística\"**\n",
    "\n",
    "_En datos veo patrones que contar,_\n",
    "_Medias y modas al analizar._\n",
    "_Un conjunto puede intersectar,_\n",
    "_Y con Python todo se puede calcular._\n",
    "\n",
    "_Graficando voy a representar,_\n",
    "_La muestra de la que quiero inferir,_\n",
    "_Si permuto, sabré ordenar,_\n",
    "_Y combinando podré decidir._\n",
    "\n",
    "---\n",
    "\n",
    "### 8. Tareas de ejercitación\n",
    "- Resolver ejercicios de tablas y gráficas con `pandas` y `matplotlib`.\n",
    "- Implementar funciones de usuario para calcular estadísticos.\n",
    "- Crear simuladores de conteo con `ipywidgets`.\n",
    "- Hacer un censo familiar y analizar los datos.\n",
    "\n",
    "---\n",
    "\n",
    "### 9. Evaluación\n",
    "\n",
    "**Proyectos (uno por tema clave):**\n",
    "1. Análisis estadístico de resultados de pruebas anteriores\n",
    "2. Gráficas interactivas de datos familiares\n",
    "3. Estudio de población y muestra de su barrio\n",
    "4. Juegos de probabilidad con monedas y dados\n",
    "5. Estimación del error con simulaciones\n",
    "6. Correlación entre variables académicas y tiempo de estudio\n",
    "7. Clasificación de tipos de preguntas del ICFES\n",
    "8. Construcción de cuestionario con preguntas tipo Saber 11\n",
    "9. Comparación de datos de municipios vecinos\n",
    "10. Creación de un sistema de recomendación basado en medias y modas\n",
    "\n",
    "**Ejemplo de quiz (3 preguntas):**\n",
    "1. Si en una tabla hay 5 datos con moda 3, ¿cuántas veces aparece el 3?\n",
    "2. Una muestra es...\n",
    "3. En cuántas formas puedo ordenar A, B, C sin repetir letras.\n",
    "\n",
    "**Ejemplo de parcial (5 puntos):**\n",
    "1. Construya una tabla de frecuencia para los datos: [3, 5, 3, 4, 5, 5, 2, 3, 3]. (1 pt)\n",
    "2. Grafique los datos usando barras y pastel. (1 pt)\n",
    "3. Calcule media, moda y mediana. (1 pt)\n",
    "4. Interprete un ejemplo de inferencia estadística. (1 pt)\n",
    "5. Realice una combinación de 4 elementos de un grupo de 6. (1 pt)\n",
    "\n",
    "---\n",
    "\n",
    "### 10. Actividad de retroalimentación\n",
    "Taller colaborativo en equipos donde los estudiantes presentan sus proyectos, responden preguntas de sus compañeros y reciben retroalimentación del docente usando una rúbrica con criterios de claridad, aplicación, justificación y uso de Python.\n",
    "\n",
    "---\n",
    "\n",
    "### 11. Vocabulario y frases en inglés\n",
    "- Data / Datos\n",
    "- Mean / Media\n",
    "- Median / Mediana\n",
    "- Mode / Moda\n",
    "- Sample / Muestra\n",
    "- Population / Población\n",
    "- Frequency Table / Tabla de Frecuencia\n",
    "- Variance / Varianza\n",
    "- Standard Deviation / Desviación Estándar\n",
    "- Let’s analyze the data using Python!\n",
    "\n",
    "---\n",
    "\n",
    "### 12. Apéndice: Trabajo en equipo, asertividad y argumentación\n",
    "- Juego de roles para argumentar decisiones tomadas al representar datos.\n",
    "- Dinámica de \"el abogado del dato\" para defender una conclusión estadística.\n",
    "- Rueda de la empatía: cada estudiante comparte cómo se sintió en el trabajo en equipo.\n",
    "- Evaluación entre pares: una rúbrica donde califican su escucha activa y claridad.\n",
    "\n",
    "---\n",
    "\n",
    "### 13. Referentes didácticos (APA)\n",
    "- Duval, R. (1993). *Registros de representación semántica y funcionamiento cognitivo del pensamiento matemático*. Recherches en Didactique des Mathématiques.\n",
    "- Wing, J. M. (2006). *Computational Thinking*. Communications of the ACM, 49(3), 33-35.\n",
    "- Godino, J. D., Batanero, C., & Font, V. (2007). *Fundamentos de la enseñanza y el aprendizaje de las matemáticas*. Universidad de Granada.\n",
    "- Radford, L. (2006). *Elements of a cultural theory of objectification*. Revista Latinoamericana de Investigación en Matemática Educativa.\n",
    "- Brousseau, G. (1997). *Theory of Didactical Situations in Mathematics*. Springer.\n",
    "- Cobb, P., & Yackel, E. (1996). *Constructivist, emergent, and sociocultural perspectives in the context of developmental research*. Educational Psychologist.\n",
    "- Skovsmose, O. (1994). *Towards a Philosophy of Critical Mathematics Education*. Kluwer.\n",
    "- Moreno Armella, L. (2005). *Visualizando matemáticas: Una nueva cultura en el aprendizaje*. Cinvestav.\n",
    "- Schoenfeld, A. H. (1985). *Mathematical Problem Solving*. Academic Press.\n",
    "- Artigue, M. (2002). *Learning mathematics in a CAS environment: The genesis of a reflection about instrumentation and the dialectics between technical and conceptual work*. International Journal of Computers for Mathematical Learning.\n",
    "- Vergnaud, G. (1991). *La théorie des champs conceptuels*. Recherches en Didactique des Mathématiques.\n",
    "\n",
    "---\n",
    "\n",
    "\n",
    "\n"
   ]
  },
  {
   "cell_type": "markdown",
   "id": "239427f7",
   "metadata": {},
   "source": [
    "# ARTÍCULO 1. Definir el calendario académico para los diferentes programas de pregrado de los campus\n",
    "regionalizados, correspondiente al primer periodo académico del año 2025, así:\n",
    "* Oferta 28 de enero de 2025\n",
    "* Matrícula 30 de enero de 2025\n",
    "* Ajustes 03 al 10 de febrero de 2025\n",
    "* Inicio de clases 10 de febrero de 2025\n",
    "* Límite evaluación del 40% 06 de abril de 2025\n",
    "* Terminación de clases 08 de junio de 2025\n",
    "* Exámenes finales 09 al 15 de junio de 2025\n",
    "* Habilitación y validación 16 al 22 de junio de 2025\n",
    "* Terminación oficial 23 de junio de 2025"
   ]
  },
  {
   "cell_type": "markdown",
   "id": "8ba64aed",
   "metadata": {},
   "source": [
    "# Cursos que orienta el profesor Marco Julio Cañas Campillo en 2025  \n",
    "\n",
    "1. Práctica Pedagógica V para Licenciatura en Educación Infantil\n",
    "2. Fundamentos de Lógica para Licenciatura en Matemáticas \n",
    "3. Análisis Numérico para Licenciatura en Matemáticas. \n",
    "4. Cálculo Vectorial para Ingeniería Agropecuaria"
   ]
  },
  {
   "cell_type": "markdown",
   "id": "8d41fe58",
   "metadata": {
    "slideshow": {
     "slide_type": "slide"
    }
   },
   "source": [
    "# Horario de clases del profesor Marco\n",
    "\n",
    "* Lunes 8-12: Cálculo Vectorial\n",
    "* Martes 8-12 M: Fundamentos de Aritmética. \n",
    "* Miércoles 8 a 12 M: Fundamentos de la Lógica\n",
    "* Jueves 2 a 6 PM: Desarrollo del pensamiento matemático en la infancia. \n",
    "* Viernes 8 - 12 M: Desarrollo del pensamiento matemático en la infancia. \n",
    "* Sábados 8-12 Asesorías y espacio para retroalimentación y apoyo al trabajo independiente. "
   ]
  },
  {
   "cell_type": "markdown",
   "id": "ae114e14",
   "metadata": {
    "slideshow": {
     "slide_type": "slide"
    }
   },
   "source": [
    "# Horarios de monitoría y asesoría  \n",
    "\n",
    "Coordinador de los cursos de la Facultad de Educación para regiones:    \n",
    "\n",
    "Andrés Vélez: regioneducacion.fedu@udea.edu.co  \n",
    "Coordinador Regiones  \n",
    "Facultad de Educación  \n",
    "Universidad de Antioquia  "
   ]
  },
  {
   "cell_type": "markdown",
   "id": "b1db4b6c",
   "metadata": {
    "slideshow": {
     "slide_type": "slide"
    }
   },
   "source": [
    "## Monitores  \n",
    "* Manuel San Juan Serrano: Contactar escribiendo al correo: manuel.serrano1@udea.edu.co\n",
    "* Yaifry Uribe: yeifry.uribe@udea.edu.co"
   ]
  },
  {
   "cell_type": "markdown",
   "id": "39559692",
   "metadata": {
    "slideshow": {
     "slide_type": "slide"
    }
   },
   "source": [
    "Martes y jueves de 8 - 12  \n",
    "Miércoles 10 - 12 y de 2 a 4 PM  \n",
    "Sábado: 8 - 12"
   ]
  },
  {
   "cell_type": "markdown",
   "id": "10bce0d0",
   "metadata": {
    "slideshow": {
     "slide_type": "slide"
    }
   },
   "source": [
    "## Referentes "
   ]
  },
  {
   "cell_type": "markdown",
   "id": "1db3c468",
   "metadata": {
    "slideshow": {
     "slide_type": "slide"
    }
   },
   "source": [
    "* [Cómo enseñar matemáticas con calculadora Casio LA991 cw](chrome-extension://efaidnbmnnnibpcajpcglclefindmkaj/https://bibliotecadigital.udea.edu.co/bitstream/10495/32857/4/ParraZapata_2024_DesarrolloPensamientoMatematico2aed_versionweb.pdf)  \n",
    "\n",
    "* [CALCULO I DE UNA VARIABLE Ron Larson-Bruce Edwards. Mc Graw Hill. 9º Edición](https://www.academia.edu/42139251/CALCULO_I_DE_UNA_VARIABLE_Ron_Larson_Bruce_Edwards_Mc_Graw_Hill_9o_Edici%C3%B3n)   \n",
    "  \n",
    "\n",
    "* [Grajales Vanegas, L. M., Restrepo Estrada, C. E., Restrepo Ochoa, S. I., & Ruíz De Villalba, F. (2015). Matemáticas I para las ciencias económicas.](https://bibliotecadigital.udea.edu.co/handle/10495/3010)\n",
    "  \n",
    "* R. Duval y Semiosis y pensamiento humano, 2.ª ed. Cali, Colombia: Programa Editorial Universidad del Valle, 2017. [En línea]. Disponible en: https://programaeditorial.univalle.edu.co/gpd-semiosis-y-pensamiento-humano-9789587655278-63324cdb0f6b3.html\n",
    "\n",
    "* [Aylwin, C. U. (2011). Lógica, conjuntos y números. Universidad de los Andes, Consejo de Publicaciones, Colección: Ciencias Básicas, Serie: Matemáticas.](chrome-extension://efaidnbmnnnibpcajpcglclefindmkaj/https://www.u-cursos.cl/ciencias/2011/1/MC110/1/material_docente/bajar?id_material=574722)\n",
    "  \n",
    "* [Recomendación de la UNESCO sobre ciencia abierta](https://unesdoc.unesco.org/ark:/48223/pf0000379949_spa)\n",
    "\n",
    "* [chatGPT](https://openai.com/blog/chatgpt)  \n",
    "* \n",
    "\n",
    "* [Géron, A. (2017). Hands-on machine learning with scikit-learn and tensorflow: Concepts. Tools, and Techniques to build intelligent systems.](chrome-extension://efaidnbmnnnibpcajpcglclefindmkaj/http://14.139.161.31/OddSem-0822-1122/Hands-On_Machine_Learning_with_Scikit-Learn-Keras-and-TensorFlow-2nd-Edition-Aurelien-Geron.pdf)   \n"
   ]
  },
  {
   "cell_type": "markdown",
   "id": "df925560",
   "metadata": {},
   "source": [
    "\n",
    "* [McKinney, W. (2012). Python for data analysis: Data wrangling with Pandas, NumPy, and IPython. \" O'Reilly Media, Inc.\".](https://wesmckinney.com/book/) "
   ]
  },
  {
   "cell_type": "markdown",
   "id": "8e65d6f9",
   "metadata": {},
   "source": [
    "# Como estudiante, encuentro que...   \n",
    "\n",
    "F: Mis Fortalezas son:     \n",
    "O: Mis Oportunidades son:    \n",
    "D: Mis Debilidades son:    \n",
    "A: Lo que Amenazas mi aprendizaje es:  "
   ]
  },
  {
   "cell_type": "markdown",
   "id": "6b9e56a8",
   "metadata": {
    "slideshow": {
     "slide_type": "slide"
    }
   },
   "source": [
    "### [Evaluamos al profesor Marco Cañas Aquí](https://forms.office.com/Pages/ResponsePage.aspx?id=IefhmYRxjkmK_7KtTlPBwkanXIs1i1FEujpsZgO6dXpUREJPV1kxUk1JV1ozTFJIQVNIQjY5WEY3US4u)"
   ]
  },
  {
   "cell_type": "markdown",
   "id": "10f43536",
   "metadata": {
    "slideshow": {
     "slide_type": "slide"
    }
   },
   "source": [
    "### Continue su aprendizaje en la siguiente clase a través del siguiente [vínculo]()"
   ]
  },
  {
   "cell_type": "markdown",
   "id": "53cc9115",
   "metadata": {
    "slideshow": {
     "slide_type": "slide"
    }
   },
   "source": [
    "## Agradecimientos  \n",
    "\n",
    "Doy gracias a Dios por la vida de mi Hijo Joseph Cañas Osorio y la madurez que ha alcanzado. Este hijo me enorgullece y me hace falta abrazarlo cada día. \n",
    "\n",
    "Y a mi esposa Yasmira Emperatriz Barboza Mogollón por su apoyo, orientación y acompañamiento. "
   ]
  },
  {
   "cell_type": "markdown",
   "id": "b6ba1c23",
   "metadata": {},
   "source": [
    "# Apéndice sobre calendarios y coordinaciones \n",
    "\n",
    "A continuación le envío el horario de la asignatura Cálculo Vectorial  \n",
    "\n",
    "Días:  \n",
    "Lunes - Hora: 7:00 a 12:00M  \n",
    "Fechas:  \n",
    "Febrero: 10-17-24                                          \n",
    " Marzo: 3-10-17-31                                                  \n",
    "Abril:7-21-28                                                   \n",
    "Mayo:5-12-19  \n",
    "\n",
    "Agradezco su apoyo, y si presenta alguna dificultad puede contactarme.  \n",
    "\n",
    "Cordialmente,  \n",
    "Juan Felipe Rivera Hernández  \n",
    "Contacto: 3106314300  "
   ]
  },
  {
   "cell_type": "markdown",
   "id": "0e66cd7c",
   "metadata": {},
   "source": [
    "# Clase de análisis numérico los Martes de 8 a 12 del medio día. "
   ]
  },
  {
   "cell_type": "markdown",
   "id": "c5ff61b1",
   "metadata": {},
   "source": []
  }
 ],
 "metadata": {
  "celltoolbar": "Slideshow",
  "kernelspec": {
   "display_name": ".venv",
   "language": "python",
   "name": "python3"
  },
  "language_info": {
   "codemirror_mode": {
    "name": "ipython",
    "version": 3
   },
   "file_extension": ".py",
   "mimetype": "text/x-python",
   "name": "python",
   "nbconvert_exporter": "python",
   "pygments_lexer": "ipython3",
   "version": "3.12.6"
  },
  "rise": {
   "enable_chalkboard": true,
   "theme": "sky",
   "transition": "zoom"
  }
 },
 "nbformat": 4,
 "nbformat_minor": 5
}
