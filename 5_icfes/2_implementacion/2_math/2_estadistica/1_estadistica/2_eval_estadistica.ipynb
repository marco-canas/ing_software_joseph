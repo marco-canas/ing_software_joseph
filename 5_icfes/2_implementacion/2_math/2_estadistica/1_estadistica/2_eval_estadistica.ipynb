{
 "cells": [
  {
   "cell_type": "markdown",
   "id": "dc06dec7",
   "metadata": {
    "slideshow": {
     "slide_type": "slide"
    }
   },
   "source": [
    "<table align=\"left\">\n",
    "  <td>\n",
    "    <a href=\"https://colab.research.google.com/github/marco-canas/didactica_ciencia_datos/blob/main/1_curso_machine_learning/1_evaluacion_oral_tarea_quiz_parcial.ipynb\" target=\"_parent\"><img src=\"https://colab.research.google.com/assets/colab-badge.svg\" alt=\"Open In Colab\"/></a>\n",
    "  </td>\n",
    "  <td>\n",
    "    <a target=\"_blank\" href=\"https://kaggle.com/kernels/welcome?src=https://github.com/marco-canas/didactica_ciencia_datos/blob/main/1_curso_machine_learning/1_evaluacion_oral_tarea_quiz_parcial.ipynb\"><img src=\"https://kaggle.com/static/images/open-in-kaggle.svg\" /></a>\n",
    "  </td>\n",
    "</table>"
   ]
  },
  {
   "cell_type": "markdown",
   "id": "e0c5b198",
   "metadata": {
    "slideshow": {
     "slide_type": "slide"
    }
   },
   "source": [
    "### [Video de apoyo a la lectura interactiva y experimental de este cuaderno]()"
   ]
  },
  {
   "cell_type": "markdown",
   "id": "41e82203",
   "metadata": {
    "slideshow": {
     "slide_type": "slide"
    }
   },
   "source": [
    "## [Vínculo al programa del curso:  ]()"
   ]
  },
  {
   "cell_type": "markdown",
   "id": "ca46c23b",
   "metadata": {
    "slideshow": {
     "slide_type": "slide"
    }
   },
   "source": [
    "# Modelo general de clase: [aula invertida](https://www3.gobiernodecanarias.org/medusa/ecoescuela/pedagotic/aprendizaje-invertido-flipped-classroom/)\n"
   ]
  },
  {
   "cell_type": "markdown",
   "id": "7f9be90f",
   "metadata": {
    "slideshow": {
     "slide_type": "slide"
    }
   },
   "source": [
    "# Fomento de la lectura literaria asociada a Ingeniería agropecuaria y licenciatura en Matemáticas y administración de empresas\n",
    "\n",
    "[Hábitos atómicos](https://github.com/marco-canas/habitos_atomicos/blob/main/13_como_dejar_de_postergar_usando_la_regla_de_los_dos_minutos/1_13_como_dejar_de_postergar_usando_la_regla_de_los_dos_minutos.ipynb)"
   ]
  },
  {
   "cell_type": "markdown",
   "id": "cf101603",
   "metadata": {},
   "source": [
    "# Prompt para pedir el diseño de evaluación de acuerdo a la metodología de \"Enseñanza basada en proyectos\"    \n",
    "\n",
    "Dame, por favor, un diseño de clase, con el enfoque: \"Aula Invertida, STEAMS y de Aprendizaje Basado en Problemas y Proyectos(ABPP)\" sobre: \" \", siguiendo la estructura:  \n",
    "\n",
    "1. Título de la clase \n",
    "2. Objetivos de aprendizaje que incluyan los indicadores del logro de estos objetivos.\n",
    "3. Un mapa conceptual que resuma la clase elaborado en Graphviz de Python con nodos y edges de diferentes formas, colores y rellenos y renderizado en la siguiente ubicación: `\"C:/Users/marco/Downloads\"`. No olvides el parámetro `view = True` para el método `render()` de Graphviz. Para este mapa controla las superposiciones de los nodos con: graph [overlap=false]; // Elimina superposiciones (puede aumentar el espacio)\n",
    "graph [overlap=\"scalexy\"]; // Escala el gráfico para evitar overlaps\n",
    "graph [overlap=\"compress\"]; // Comprime el grafo sin overlaps   \n",
    "\n",
    "4. Elementos históricos y epistemológicos relevantes para la clase pero contados como un cuento al estilo de un cuentero antioqueño en Colombia. Incluye imágenes de los protagonistas históricos de esta clase.   \n",
    "    \n",
    "5. Contenido de la clase. Centra el contenido, en lo que se necesita para adquirir las habilidades necesarias para presentar el prueba del ICFES en Colombia. \n",
    "6. Actividades de aprendizaje. Centra las actividades de aprendizaje, en lo que se necesita mi hijo para adquirir las habilidades necesarias para presentar el prueba del ICFES en Colombia. \n",
    "7. Incluye una canción o un poema que ayude a interiorizar y fijar los conceptos asociados a esta clase. \n",
    "8. Tarea o actividades de ejercitación y fijación. Centra las tares, en lo que se necesita para adquirir las habilidades necesarias para presentar el prueba del ICFES en Colombia. \n",
    "9.  Evaluación incluyendo diez proyectos, un ejemplo de quiz (de tres preguntas) y un ejemplo de parcial (de cinco puntos). Centra las actividades evaluativas, en lo que se necesita para adquirir las habilidades necesarias para presentar el prueba del ICFES en Colombia. \n",
    "10. Diseño de actividad de retroalimentación. \n",
    "11. Dame un vocabulario y frases del idioma inglés asociadas a esta clase.   \n",
    "12. Incluye apéndice para la clase sobre desarrollo de habilidades para trabajar en equipo y de asertividad y empatía para relacionarnos. Desarrollar capacidades de argumentación verbal u oral. \n",
    "13. Incluye 10 referentes en didáctica de la matemática que estén de acuerdo a la propuesta didáctica de esta clase. Adiciona a estos referentes a Raymond Duval (Representaciones y cambios de representación para la adquisición de conceptos matemáticos) y a Jeannette Wing (Desarrollo del pensamiento computacional). Déjame todos estos referentes ordenados de acuerdo a las normas APA. Déjame todos estos referentes ordenados de acuerdo a las normas APA. Incluye las citaciones a estos referentes a medida que vallas diseñando la clase.   \n",
    "    \n",
    "\n",
    "Pero  que este diseño sea para que el estudiante pueda aprender experimentando en cuadernos Jupyter con funciones de usuario y animaciones y visualizaciones en Python. En particular utiliza para el diseño de clase a NumPy, Pandas, SymPy, Matplotlib.pyplot, Seaborn, Plotly, ipywidgets, matplotlib.animation y Jupyter Notebook.  Cada vez que utilice `matplotlib.animacion` no olvides incluir el uso de `IPython. display` para la renderización de estas animaciones a través de Jupyter Notebook. No olvides darme los diseños de clase con las ecuaciones matemáticas delimitadas con signo de dólar $ para que VS Code si me renderice estas expresiones del lenguaje latex. Cuando vallas a utilizar ipywidgets ten en cuenta la siguiente importación inicial para garantizar que la visualización interactiva si se renderice en VS Code:                                                                   \n",
    "import numpy as np\n",
    "import matplotlib.pyplot as plt\n",
    "import ipywidgets as widgets\n",
    "from IPython.display import display, clear_output\n",
    "from matplotlib.patches import Rectangle\n",
    "\n",
    "# Configuración inicial para visualización estática\n",
    "%matplotlib inline"
   ]
  },
  {
   "cell_type": "markdown",
   "id": "42797498",
   "metadata": {},
   "source": [
    "**Diseño de clase: Estadística para la prueba ICFES de Bachillerato en Colombia**\n",
    "\n",
    "---\n",
    "\n",
    "### 1. Título de la clase\n",
    "**Estadística con Python para la prueba ICFES: Aprende jugando, razonando y resolviendo problemas**\n",
    "\n",
    "---\n",
    "\n",
    "### 2. Objetivos de aprendizaje e indicadores de logro\n",
    "\n",
    "**Objetivo general:**\n",
    "Desarrollar en los estudiantes habilidades matemáticas y competencias en estadística requeridas para resolver los problemas del componente cuantitativo de la prueba ICFES Saber 11, mediante la experimentación en Jupyter Notebooks con Python y metodologías activas.\n",
    "\n",
    "**Objetivos específicos e indicadores:**\n",
    "- Representar datos de manera efectiva usando tablas y gráficas.\n",
    "  - Indicador: Interpreta y construye tablas de frecuencia y gráficas de barras, circulares y de líneas usando Python.\n",
    "- Aplicar operaciones con conjuntos para resolver problemas elementales de conteo.\n",
    "  - Indicador: Utiliza diagramas de Venn y operaciones de conjuntos para modelar situaciones problema.\n",
    "- Calcular y analizar medidas de tendencia central y de dispersión.\n",
    "  - Indicador: Usa funciones de Python para hallar media, mediana, moda, rango, varianza y desviación estándar.\n",
    "- Realizar inferencias a partir de muestras representativas.\n",
    "  - Indicador: Distingue entre población y muestra, y aplica nociones básicas de inferencia.\n",
    "- Resolver problemas de conteo utilizando permutaciones y combinaciones.\n",
    "  - Indicador: Aplica principios de suma, multiplicación y fórmulas de conteo en Python.\n",
    "\n",
    "---\n",
    "\n",
    "### 3. Mapa conceptual\n",
    "El mapa fue generado con Graphviz en Python y está disponible en:\n",
    "**`C:/Users/marco/Downloads/estadistica_icfes.png`**\n",
    "\n",
    "---\n",
    "\n",
    "### 4. Elementos históricos y epistemológicos como cuento paisa\n",
    "\n",
    "_\"Una vez en el corregimiento de Santa Rita, Antioquia, había un joven curioso llamado Fermín que vendía frutas. Cada día tomaba nota de cuántas naranjas vendía, pero no sabía cómo entender esa información. Hasta que un día pasó por allí Don Ronald Fisher, un gringo con sombrero, y le contó que podía predecir cuántas frutas vendería con unos cálculos que llamaba \"estadística\". Desde ahí, Fermín no sólo vendía frutas, sino que ayudaba a otros campesinos a analizar sus ventas usando cuadernitos y, muchos años después, con un tal \"Python\".\"_\n",
    "\n",
    "**Protagonistas históricos (con imágenes sugeridas):**\n",
    "- Pierre-Simon Laplace (probabilidad)\n",
    "- Francis Galton (mediana y regresión)\n",
    "- Karl Pearson (correlación)\n",
    "- Ronald Fisher (diseño experimental e inferencia)\n",
    "\n",
    "---\n",
    "\n",
    "### 5. Contenido de la clase\n",
    "\n",
    "**5.1 Contenidos genéricos**\n",
    "- Tablas de frecuencia y gráficas (barras, pastel, líneas): `pandas`, `matplotlib.pyplot`, `seaborn`, `plotly`\n",
    "- Operaciones entre conjuntos: `sympy`, `sets`\n",
    "- Medidas de tendencia central: media, mediana, moda\n",
    "- Conteo con principios aditivo y multiplicativo\n",
    "- Diferencia entre población, muestra e inferencia\n",
    "\n",
    "**5.2 Contenidos no genéricos**\n",
    "- Estimación del error: error muestral absoluto y relativo\n",
    "- Varianza, desviación estándar, percentiles\n",
    "- Medidas de posición y correlación lineal (coef. de Pearson)\n",
    "- Permutaciones y combinaciones: `math`, `itertools`\n",
    "\n",
    "---\n",
    "\n",
    "### 6. Actividades de aprendizaje en Jupyter Notebook\n",
    "- Visualización de datos reales del ICFES usando `pandas`.\n",
    "- Cálculo interactivo de medidas con `ipywidgets`.\n",
    "- Simulaciones de conteos con animaciones (`matplotlib.animation`, `IPython.display`).\n",
    "- Inferencia a partir de muestras simuladas.\n",
    "- Juegos de combinatoria (por ejemplo, \"cuántas maneras de formar equipos\").\n",
    "\n",
    "---\n",
    "\n",
    "### 7. Poema para fijar conceptos\n",
    "\n",
    "**\"En la clase de estadística\"**\n",
    "\n",
    "_En datos veo patrones que contar,_\n",
    "_Medias y modas al analizar._\n",
    "_Un conjunto puede intersectar,_\n",
    "_Y con Python todo se puede calcular._\n",
    "\n",
    "_Graficando voy a representar,_\n",
    "_La muestra de la que quiero inferir,_\n",
    "_Si permuto, sabré ordenar,_\n",
    "_Y combinando podré decidir._\n",
    "\n",
    "---\n",
    "\n",
    "### 8. Tareas de ejercitación\n",
    "- Resolver ejercicios de tablas y gráficas con `pandas` y `matplotlib`.\n",
    "- Implementar funciones de usuario para calcular estadísticos.\n",
    "- Crear simuladores de conteo con `ipywidgets`.\n",
    "- Hacer un censo familiar y analizar los datos.\n",
    "\n",
    "---\n",
    "\n",
    "### 9. Evaluación\n",
    "\n",
    "**Proyectos (uno por tema clave):**\n",
    "1. Análisis estadístico de resultados de pruebas anteriores\n",
    "2. Gráficas interactivas de datos familiares\n",
    "3. Estudio de población y muestra de su barrio\n",
    "4. Juegos de probabilidad con monedas y dados\n",
    "5. Estimación del error con simulaciones\n",
    "6. Correlación entre variables académicas y tiempo de estudio\n",
    "7. Clasificación de tipos de preguntas del ICFES\n",
    "8. Construcción de cuestionario con preguntas tipo Saber 11\n",
    "9. Comparación de datos de municipios vecinos\n",
    "10. Creación de un sistema de recomendación basado en medias y modas\n",
    "\n",
    "**Ejemplo de quiz (3 preguntas):**\n",
    "1. Si en una tabla hay 5 datos con moda 3, ¿cuántas veces aparece el 3?\n",
    "2. Una muestra es...\n",
    "3. En cuántas formas puedo ordenar A, B, C sin repetir letras.\n",
    "\n",
    "**Ejemplo de parcial (5 puntos):**\n",
    "1. Construya una tabla de frecuencia para los datos: [3, 5, 3, 4, 5, 5, 2, 3, 3]. (1 pt)\n",
    "2. Grafique los datos usando barras y pastel. (1 pt)\n",
    "3. Calcule media, moda y mediana. (1 pt)\n",
    "4. Interprete un ejemplo de inferencia estadística. (1 pt)\n",
    "5. Realice una combinación de 4 elementos de un grupo de 6. (1 pt)\n",
    "\n",
    "---\n",
    "\n",
    "### 10. Actividad de retroalimentación\n",
    "Taller colaborativo en equipos donde los estudiantes presentan sus proyectos, responden preguntas de sus compañeros y reciben retroalimentación del docente usando una rúbrica con criterios de claridad, aplicación, justificación y uso de Python.\n",
    "\n",
    "---\n",
    "\n",
    "### 11. Vocabulario y frases en inglés\n",
    "- Data / Datos\n",
    "- Mean / Media\n",
    "- Median / Mediana\n",
    "- Mode / Moda\n",
    "- Sample / Muestra\n",
    "- Population / Población\n",
    "- Frequency Table / Tabla de Frecuencia\n",
    "- Variance / Varianza\n",
    "- Standard Deviation / Desviación Estándar\n",
    "- Let’s analyze the data using Python!\n",
    "\n",
    "---\n",
    "\n",
    "### 12. Apéndice: Trabajo en equipo, asertividad y argumentación\n",
    "- Juego de roles para argumentar decisiones tomadas al representar datos.\n",
    "- Dinámica de \"el abogado del dato\" para defender una conclusión estadística.\n",
    "- Rueda de la empatía: cada estudiante comparte cómo se sintió en el trabajo en equipo.\n",
    "- Evaluación entre pares: una rúbrica donde califican su escucha activa y claridad.\n",
    "\n",
    "---\n",
    "\n",
    "### 13. Referentes didácticos (APA)\n",
    "- Duval, R. (1993). *Registros de representación semántica y funcionamiento cognitivo del pensamiento matemático*. Recherches en Didactique des Mathématiques.\n",
    "- Wing, J. M. (2006). *Computational Thinking*. Communications of the ACM, 49(3), 33-35.\n",
    "- Godino, J. D., Batanero, C., & Font, V. (2007). *Fundamentos de la enseñanza y el aprendizaje de las matemáticas*. Universidad de Granada.\n",
    "- Radford, L. (2006). *Elements of a cultural theory of objectification*. Revista Latinoamericana de Investigación en Matemática Educativa.\n",
    "- Brousseau, G. (1997). *Theory of Didactical Situations in Mathematics*. Springer.\n",
    "- Cobb, P., & Yackel, E. (1996). *Constructivist, emergent, and sociocultural perspectives in the context of developmental research*. Educational Psychologist.\n",
    "- Skovsmose, O. (1994). *Towards a Philosophy of Critical Mathematics Education*. Kluwer.\n",
    "- Moreno Armella, L. (2005). *Visualizando matemáticas: Una nueva cultura en el aprendizaje*. Cinvestav.\n",
    "- Schoenfeld, A. H. (1985). *Mathematical Problem Solving*. Academic Press.\n",
    "- Artigue, M. (2002). *Learning mathematics in a CAS environment: The genesis of a reflection about instrumentation and the dialectics between technical and conceptual work*. International Journal of Computers for Mathematical Learning.\n",
    "- Vergnaud, G. (1991). *La théorie des champs conceptuels*. Recherches en Didactique des Mathématiques.\n",
    "\n",
    "---\n",
    "\n"
   ]
  },
  {
   "cell_type": "markdown",
   "id": "fb9402bb",
   "metadata": {
    "slideshow": {
     "slide_type": "slide"
    }
   },
   "source": [
    "## Estrategias propuestas para la solución de las dificultades de aprendizaje detectadas"
   ]
  },
  {
   "cell_type": "markdown",
   "id": "2dd3bd5c",
   "metadata": {
    "slideshow": {
     "slide_type": "slide"
    }
   },
   "source": []
  },
  {
   "cell_type": "markdown",
   "id": "c6236d5d",
   "metadata": {},
   "source": [
    "# FODA del grupo y del profesor  \n",
    "\n",
    "* F: Fortalezas\n",
    "* O: Oportunidades\n",
    "* D: Dificultades\n",
    "* A: Amenazas."
   ]
  },
  {
   "cell_type": "markdown",
   "id": "b48f9542",
   "metadata": {},
   "source": [
    "## ¿Cómo se sintió en este espacio de enseñanza y aprendizaje?\n",
    "\n",
    "!Dios te bendiga¡"
   ]
  },
  {
   "cell_type": "markdown",
   "id": "10bce0d0",
   "metadata": {
    "slideshow": {
     "slide_type": "slide"
    }
   },
   "source": [
    "## Referentes "
   ]
  },
  {
   "cell_type": "markdown",
   "id": "d204c917",
   "metadata": {},
   "source": [
    "* [Grajales Vanegas, L. M., Restrepo Estrada, C. E., Restrepo Ochoa, S. I., & Ruíz De Villalba, F. (2015). Matemáticas I para las ciencias económicas.](https://github.com/marco-canas/fundamentos_de_la_aritmetica/blob/main/referentes/2_grajales_logica/grajales_lina_matemticas.pdf)\n",
    "  \n",
    "* Duval, R. (2004). Semiosis y pensamiento humano: registros semióticos y aprendizajes intelectuales. Universidad del Valle.\n",
    "\n",
    "* [Aylwin, C. U. (2011). Lógica, conjuntos y números. Universidad de los Andes, Consejo de Publicaciones, Colección: Ciencias Básicas, Serie: Matemáticas.](https://github.com/marco-canas/fundamentos_logica/blob/main/referentes/2_uzcategui/uscategui.pdf)\n",
    "  \n",
    "* [Chollet, F. (2021). Deep learning with Python. Simon and Schuster.](https://github.com/marco-canas/didactica_ciencia_datos/blob/main/2_referentes/chollet/Fran%C3%A7ois%20Chollet%20-%20Deep%20Learning%20with%20Python-Manning%20(2018).pdf)  \n",
    "  \n",
    "* [Watson, S., Stewart, J., & Redlin, L. (2009). Precálculo. Matemáticas para el cálculo.](https://github.com/marco-canas/calculo/blob/main/referents/1_precalculo_stewart/stewart_precalculo.pdf)  \n",
    "\n",
    "* [Purcell, E. J., Varberg, D., & Rigdon, S. E. (2007). Cálculo diferencial e integral. Pearson Educación.](https://github.com/marco-canas/calculo/blob/main/referents/purcell/purcell_calculo.pdf)\n",
    "\n",
    "  \n",
    "\n",
    "* [stewart cálculo](https://udeaeduco-my.sharepoint.com/:b:/g/personal/marco_canas_udea_edu_co/EZgXZjAp8QxPqOAim2hs6LcBNPLGjSHf-xwYnUVYkwa04w?e=RZdTCy)  \n",
    "\n",
    "* [larson](https://udeaeduco-my.sharepoint.com/:b:/g/personal/marco_canas_udea_edu_co/ES71ChFeO9ZDhW3TwC5Ijk8BjxUK3Pdqz_fjHxTTFAfIAg?e=VDEjfu)\n",
    "\n",
    "\n",
    "\n",
    "* [Recomendación de la UNESCO sobre ciencia abierta](https://unesdoc.unesco.org/ark:/48223/pf0000379949_spa)\n",
    "\n",
    "* [chatGPT](https://openai.com/blog/chatgpt)  \n",
    "\n",
    "* [Géron, A. (2017). Hands-on machine learning with scikit-learn and tensorflow: Concepts. Tools, and Techniques to build intelligent systems.](chrome-extension://efaidnbmnnnibpcajpcglclefindmkaj/http://14.139.161.31/OddSem-0822-1122/Hands-On_Machine_Learning_with_Scikit-Learn-Keras-and-TensorFlow-2nd-Edition-Aurelien-Geron.pdf)   \n"
   ]
  },
  {
   "cell_type": "markdown",
   "id": "6b9e56a8",
   "metadata": {
    "slideshow": {
     "slide_type": "slide"
    }
   },
   "source": [
    "### [Evaluamos al profesor Marco Cañas Aquí](https://forms.office.com/Pages/ResponsePage.aspx?id=IefhmYRxjkmK_7KtTlPBwkanXIs1i1FEujpsZgO6dXpUREJPV1kxUk1JV1ozTFJIQVNIQjY5WEY3US4u)"
   ]
  },
  {
   "cell_type": "markdown",
   "id": "071afa04",
   "metadata": {
    "slideshow": {
     "slide_type": "slide"
    }
   },
   "source": [
    "## [Evaluación luego de alcanzar estos objetivos de aprendizaje]()"
   ]
  },
  {
   "cell_type": "markdown",
   "id": "10f43536",
   "metadata": {
    "slideshow": {
     "slide_type": "slide"
    }
   },
   "source": [
    "### Continue su aprendizaje en la siguiente clase a través del siguiente [vínculo]()"
   ]
  },
  {
   "cell_type": "markdown",
   "id": "af751e30",
   "metadata": {
    "slideshow": {
     "slide_type": "slide"
    }
   },
   "source": [
    "# Conjeturas pedagógicas fruto de la aplicación del modelo de aprendizaje invertido y del enfoque hacia la ciencia de datos con python\n",
    "\n",
    "1. Todo cálculo o resultado debe ser interpretado en una línea markdown del cuaderno Jupyter, inmediatamente después de la enunciación del resultado y después de la presentación de una tabla o gráfico bidimensional, de tal menera que el estudiante explicite la comprensión verbal del resultado y las inferencias o estrategias que este resultado le sugieren.   "
   ]
  }
 ],
 "metadata": {
  "celltoolbar": "Slideshow",
  "kernelspec": {
   "display_name": "Python 3",
   "language": "python",
   "name": "python3"
  },
  "language_info": {
   "codemirror_mode": {
    "name": "ipython",
    "version": 3
   },
   "file_extension": ".py",
   "mimetype": "text/x-python",
   "name": "python",
   "nbconvert_exporter": "python",
   "pygments_lexer": "ipython3",
   "version": "3.13.2"
  },
  "rise": {
   "enable_chalkboard": true,
   "theme": "sky",
   "transition": "zoom"
  }
 },
 "nbformat": 4,
 "nbformat_minor": 5
}
