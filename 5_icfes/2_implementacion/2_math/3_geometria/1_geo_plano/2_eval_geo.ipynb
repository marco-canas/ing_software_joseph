{
 "cells": [
  {
   "cell_type": "markdown",
   "id": "dc06dec7",
   "metadata": {
    "slideshow": {
     "slide_type": "slide"
    }
   },
   "source": [
    "<table align=\"left\">\n",
    "  <td>\n",
    "    <a href=\"https://colab.research.google.com/github/marco-canas/didactica_ciencia_datos/blob/main/1_curso_machine_learning/1_evaluacion_oral_tarea_quiz_parcial.ipynb\" target=\"_parent\"><img src=\"https://colab.research.google.com/assets/colab-badge.svg\" alt=\"Open In Colab\"/></a>\n",
    "  </td>\n",
    "  <td>\n",
    "    <a target=\"_blank\" href=\"https://kaggle.com/kernels/welcome?src=https://github.com/marco-canas/didactica_ciencia_datos/blob/main/1_curso_machine_learning/1_evaluacion_oral_tarea_quiz_parcial.ipynb\"><img src=\"https://kaggle.com/static/images/open-in-kaggle.svg\" /></a>\n",
    "  </td>\n",
    "</table>"
   ]
  },
  {
   "cell_type": "markdown",
   "id": "e0c5b198",
   "metadata": {
    "slideshow": {
     "slide_type": "slide"
    }
   },
   "source": [
    "### [Video de apoyo a la lectura interactiva y experimental de este cuaderno]()"
   ]
  },
  {
   "cell_type": "markdown",
   "id": "41e82203",
   "metadata": {
    "slideshow": {
     "slide_type": "slide"
    }
   },
   "source": [
    "## [Vínculo al programa del curso:  ]()"
   ]
  },
  {
   "cell_type": "markdown",
   "id": "ca46c23b",
   "metadata": {
    "slideshow": {
     "slide_type": "slide"
    }
   },
   "source": [
    "# Modelo general de clase: [aula invertida](https://www3.gobiernodecanarias.org/medusa/ecoescuela/pedagotic/aprendizaje-invertido-flipped-classroom/)\n"
   ]
  },
  {
   "cell_type": "markdown",
   "id": "7f9be90f",
   "metadata": {
    "slideshow": {
     "slide_type": "slide"
    }
   },
   "source": [
    "# Fomento de la lectura literaria asociada a Ingeniería agropecuaria y licenciatura en Matemáticas y administración de empresas\n",
    "\n",
    "[Hábitos atómicos](https://github.com/marco-canas/habitos_atomicos/blob/main/13_como_dejar_de_postergar_usando_la_regla_de_los_dos_minutos/1_13_como_dejar_de_postergar_usando_la_regla_de_los_dos_minutos.ipynb)"
   ]
  },
  {
   "cell_type": "markdown",
   "id": "cf101603",
   "metadata": {},
   "source": [
    "# Prompt para pedir el diseño de evaluación de acuerdo a la metodología de \"Enseñanza basada en proyectos\"    \n",
    "\n",
    "Dame, por favor, un diseño de clase, con el enfoque: \"Aula Invertida, STEAMS y de Aprendizaje Basado en Problemas y Proyectos(ABPP)\" sobre: \" \", siguiendo la estructura:  \n",
    "\n",
    "1. Título de la clase \n",
    "2. Objetivos de aprendizaje que incluyan los indicadores del logro de estos objetivos.\n",
    "3. Un mapa conceptual que resuma la clase elaborado en Graphviz de Python con nodos y edges de diferentes formas, colores y rellenos y renderizado en la siguiente ubicación: `\"C:/Users/marco/Downloads\"`. No olvides el parámetro `view = True` para el método `render()` de Graphviz. Para este mapa controla las superposiciones de los nodos con: graph [overlap=false]; // Elimina superposiciones (puede aumentar el espacio)\n",
    "graph [overlap=\"scalexy\"]; // Escala el gráfico para evitar overlaps\n",
    "graph [overlap=\"compress\"]; // Comprime el grafo sin overlaps   \n",
    "\n",
    "4. Elementos históricos y epistemológicos relevantes para la clase pero contados como un cuento al estilo de un cuentero antioqueño en Colombia. Incluye imágenes de los protagonistas históricos de esta clase.   \n",
    "    \n",
    "5. Contenido de la clase. Centra el contenido, en lo que se necesita para adquirir las habilidades necesarias para presentar el prueba del ICFES en Colombia. \n",
    "6. Actividades de aprendizaje. Centra las actividades de aprendizaje, en lo que se necesita mi hijo para adquirir las habilidades necesarias para presentar el prueba del ICFES en Colombia. \n",
    "7. Incluye una canción o un poema que ayude a interiorizar y fijar los conceptos asociados a esta clase. \n",
    "8. Tarea o actividades de ejercitación y fijación. Centra las tares, en lo que se necesita para adquirir las habilidades necesarias para presentar el prueba del ICFES en Colombia. \n",
    "9.  Evaluación incluyendo diez proyectos, un ejemplo de quiz (de tres preguntas) y un ejemplo de parcial (de cinco puntos). Centra las actividades evaluativas, en lo que se necesita para adquirir las habilidades necesarias para presentar el prueba del ICFES en Colombia. \n",
    "10. Diseño de actividad de retroalimentación. \n",
    "11. Dame un vocabulario y frases del idioma inglés asociadas a esta clase.   \n",
    "12. Incluye apéndice para la clase sobre desarrollo de habilidades para trabajar en equipo y de asertividad y empatía para relacionarnos. Desarrollar capacidades de argumentación verbal u oral. \n",
    "13. Incluye 10 referentes en didáctica de la matemática que estén de acuerdo a la propuesta didáctica de esta clase. Adiciona a estos referentes a Raymond Duval (Representaciones y cambios de representación para la adquisición de conceptos matemáticos) y a Jeannette Wing (Desarrollo del pensamiento computacional). Déjame todos estos referentes ordenados de acuerdo a las normas APA. Déjame todos estos referentes ordenados de acuerdo a las normas APA. Incluye las citaciones a estos referentes a medida que vallas diseñando la clase.   \n",
    "    \n",
    "\n",
    "Pero  que este diseño sea para que el estudiante pueda aprender experimentando en cuadernos Jupyter con funciones de usuario y animaciones y visualizaciones en Python. En particular utiliza para el diseño de clase a NumPy, Pandas, SymPy, Matplotlib.pyplot, Seaborn, Plotly, ipywidgets, matplotlib.animation y Jupyter Notebook.  Cada vez que utilice `matplotlib.animacion` no olvides incluir el uso de `IPython. display` para la renderización de estas animaciones a través de Jupyter Notebook. No olvides darme los diseños de clase con las ecuaciones matemáticas delimitadas con signo de dólar $ para que VS Code si me renderice estas expresiones del lenguaje latex. Cuando vallas a utilizar ipywidgets ten en cuenta la siguiente importación inicial para garantizar que la visualización interactiva si se renderice en VS Code:                                                                   \n",
    "import numpy as np\n",
    "import matplotlib.pyplot as plt\n",
    "import ipywidgets as widgets\n",
    "from IPython.display import display, clear_output\n",
    "from matplotlib.patches import Rectangle\n",
    "\n",
    "# Configuración inicial para visualización estática\n",
    "%matplotlib inline"
   ]
  },
  {
   "cell_type": "markdown",
   "id": "42797498",
   "metadata": {},
   "source": [
    "# **Diseño de Clase: Geometría Plana para el ICFES - Áreas y Perímetros con Python**  \n",
    "**Enfoque:** Aula Invertida, STEAM, ABP (Aprendizaje Basado en Proyectos)  \n",
    "**Herramientas:** Python (SymPy, Matplotlib, Plotly, ipywidgets), Jupyter Notebook  \n",
    "\n",
    "---\n",
    "\n",
    "## **1. Título de la Clase**  \n",
    "**\"Geometría Plana en Acción: Calculando Áreas y Perímetros con Python para el ICFES\"**  \n",
    "\n",
    "---\n",
    "\n",
    "## **2. Objetivos de Aprendizaje e Indicadores**  \n",
    "| **Objetivo** | **Indicadores de Logro** |  \n",
    "|--------------|--------------------------|  \n",
    "| Identificar fórmulas de áreas y perímetros de figuras planas. | - Reconoce las fórmulas en problemas ICFES. <br> - Clasifica figuras por sus propiedades. |  \n",
    "| Aplicar fórmulas en contextos reales usando Python. | - Resuelve problemas con código en Jupyter. <br> - Visualiza figuras con Matplotlib/Plotly. |  \n",
    "| Resolver problemas ICFES de geometría plana con estrategias optimizadas. | - Aplica métodos rápidos para cálculos. <br> - Justifica respuestas con argumentos matemáticos. |  \n",
    "| Integrar geometría con otras áreas STEAM (ej: diseño, arquitectura). | - Diseña proyectos interdisciplinares. <br> - Usa datos reales en Pandas. |  \n",
    "\n",
    "---\n",
    "\n",
    "## **3. Mapa Conceptual (Graphviz)**  \n",
    "```python  \n",
    "from graphviz import Digraph  \n",
    "\n",
    "# Configuración del gráfico  \n",
    "graph = Digraph('Geometria_Plana', format='png',  \n",
    "                graph_attr={'overlap': 'scalexy', 'splines': 'true'},  \n",
    "                node_attr={'style': 'filled', 'fillcolor': 'lightblue'})  \n",
    "\n",
    "# Nodos principales  \n",
    "graph.node('A', 'Geometría Plana ICFES', shape='ellipse', color='blue', fillcolor='#FFD700')  \n",
    "graph.node('B', 'Áreas', shape='box', color='red', fillcolor='#ADD8E6')  \n",
    "graph.node('C', 'Perímetros', shape='box', color='green', fillcolor='#90EE90')  \n",
    "graph.node('D', 'Problemas STEAM', shape='octagon', color='purple', fillcolor='#FFB6C1')  \n",
    "graph.node('E', 'Python (SymPy/Matplotlib)', shape='parallelogram', color='orange', fillcolor='#FFA07A')  \n",
    "\n",
    "# Subnodos para Áreas  \n",
    "graph.node('B1', 'Triángulo: $\\\\frac{b \\\\times h}{2}$')  \n",
    "graph.node('B2', 'Círculo: $\\\\pi r^2$')  \n",
    "graph.node('B3', 'Rectángulo: $b \\\\times h$')  \n",
    "\n",
    "# Subnodos para Perímetros  \n",
    "graph.node('C1', 'Triángulo: $a + b + c$')  \n",
    "graph.node('C2', 'Círculo: $2\\\\pi r$')  \n",
    "\n",
    "# Conexiones  \n",
    "graph.edges(['AB', 'AC', 'AD', 'AE'])  \n",
    "graph.edges(['BB1', 'BB2', 'BB3', 'CC1', 'CC2'])  \n",
    "\n",
    "# Renderizar  \n",
    "graph.render(directory='C:/Users/marco/Downloads', view=True)  \n",
    "```  \n",
    "**Salida:**  \n",
    "![Mapa Conceptual](C:/Users/marco/Downloads/Geometria_Plana.png)  \n",
    "\n",
    "---\n",
    "\n",
    "## **4. Historia Epistemológica (Cuento Antioqueño)**  \n",
    "*\"¡Uy, qué chévere, mijito!* Hace más de 2.000 años, **Euclides**, el papá de la geometría, andaba en Egipto midiendo tierras pa’ cobrar impuestos. ¡Imagínese! Luego, **Arquímedes** (mire al pelao’ gritando ¡Eureka!) descubrió el área del círculo con puras semillitas. Y así, con cuentos de reglas y compases, nacieron las fórmulas que hoy usamos pa’ el ICFES.\"  \n",
    "\n",
    "**Imágenes:**  \n",
    "- Euclides: ![Euclides](https://upload.wikimedia.org/wikipedia/commons/thumb/7/7f/Euclid.jpg/220px-Euclid.jpg)  \n",
    "- Arquímedes: ![Arquímedes](https://upload.wikimedia.org/wikipedia/commons/thumb/e/e7/Archimedes_Palazzo_Massimo_alle_Terme.jpg/220px-Archimedes_Palazzo_Massimo_alle_Terme.jpg)  \n",
    "\n",
    "---\n",
    "\n",
    "## **5. Contenido de Clase (Enfoque ICFES)**  \n",
    "### **Fórmulas Clave:**  \n",
    "- **Triángulo:**  \n",
    "  - Área: $A = \\frac{b \\times h}{2}$  \n",
    "  - Perímetro: $P = a + b + c$  \n",
    "- **Círculo:**  \n",
    "  - Área: $A = \\pi r^2$  \n",
    "  - Perímetro (circunferencia): $P = 2\\pi r$  \n",
    "\n",
    "### **Estrategias ICFES:**  \n",
    "1. **Identificar la figura** rápidamente (ej: \"un jardín circular\").  \n",
    "2. **Usar Python para verificar cálculos** (SymPy para álgebra simbólica).  \n",
    "3. **Visualizar problemas** con Matplotlib.  \n",
    "\n",
    "### **Ejemplo en Python:**  \n",
    "```python  \n",
    "import numpy as np  \n",
    "import matplotlib.pyplot as plt  \n",
    "from matplotlib.patches import Circle, Rectangle  \n",
    "\n",
    "# Crear figura  \n",
    "fig, ax = plt.subplots()  \n",
    "\n",
    "# Dibujar un círculo y un rectángulo  \n",
    "circle = Circle((2, 2), 1, fill=False, color='blue')  \n",
    "rect = Rectangle((4, 1), 3, 2, fill=False, color='red')  \n",
    "\n",
    "ax.add_patch(circle)  \n",
    "ax.add_patch(rect)  \n",
    "ax.set_xlim(0, 8), ax.set_ylim(0, 5)  \n",
    "ax.set_aspect('equal')  \n",
    "plt.title('Figuras para el ICFES')  \n",
    "plt.grid(True)  \n",
    "plt.show()  \n",
    "```  \n",
    "\n",
    "---\n",
    "\n",
    "## **6. Actividades de Aprendizaje**  \n",
    "1. **Laboratorio Python:**  \n",
    "   - Crear una función que calcule el área de cualquier polígono regular.  \n",
    "   ```python  \n",
    "   def area_poligono_regular(n_lados, longitud):  \n",
    "       apotema = longitud / (2 * np.tan(np.pi / n_lados))  \n",
    "       return (n_lados * longitud * apotema) / 2  \n",
    "   ```  \n",
    "2. **Problema ICFES:**  \n",
    "   > *\"Un terreno rectangular tiene un área de 120 m² y un lado mide 10 m. ¿Cuánto mide el otro lado?\"*  \n",
    "\n",
    "---\n",
    "\n",
    "## **7. Canción/Poema**  \n",
    "*\"Área es base por altura,  \n",
    "y el círculo es pi por radio al cuadrado.  \n",
    "Perímetro es la suma de lados,  \n",
    "¡Geometría pa’l ICFES hay que dominar!\"*  \n",
    "\n",
    "---\n",
    "\n",
    "## **8. Tareas**  \n",
    "- **Ejercicios ICFES:** 10 problemas con tiempo límite (20 minutos).  \n",
    "- **Proyecto Mini:** Diseñar un parque con áreas verdes (usando Plotly para 3D).  \n",
    "\n",
    "---\n",
    "\n",
    "## **9. Evaluación**  \n",
    "### **Proyectos STEAM:**  \n",
    "1. Calcular el área de un mapa de Colombia usando integración numérica.  \n",
    "2. Optimizar el perímetro de una cerca para un terreno.  \n",
    "\n",
    "### **Quiz (3 Preguntas):**  \n",
    "1. ¿Cuál es el área de un triángulo con base 6 cm y altura 4 cm?  \n",
    "\n",
    "### **Parcial (5 Puntos):**  \n",
    "- Resolver 2 problemas de geometría híbrida (ej: área sombreada).  \n",
    "\n",
    "---\n",
    "\n",
    "## **10. Retroalimentación**  \n",
    "- **Rúbrica con ipywidgets:**  \n",
    "  ```python  \n",
    "  slider = widgets.IntSlider(value=7, min=0, max=10, description='Autoevaluación:')  \n",
    "  display(slider)  \n",
    "  ```  \n",
    "\n",
    "---\n",
    "\n",
    "## **11. Vocabulario en Inglés**  \n",
    "- **Area:** Área.  \n",
    "- **Perimeter:** Perímetro.  \n",
    "- **Right triangle:** Triángulo rectángulo.  \n",
    "\n",
    "---\n",
    "\n",
    "## **12. Apéndice: Habilidades Blandas**  \n",
    "- **Trabajo en Equipo:** Roles en proyectos STEAM (ej: \"calculista\", \"diseñador\").  \n",
    "- **Argumentación:** Debates sobre métodos de solución.  \n",
    "\n",
    "---\n",
    "\n",
    "## **13. Referentes APA**  \n",
    "1. Duval, R. (2006). *Representaciones y cambios de representación en matemáticas*.  \n",
    "2. Wing, J. (2006). *Computational Thinking*.  \n",
    "3. National Council of Teachers of Mathematics. (2000). *Principles and Standards*.  \n",
    "\n",
    "--- \n",
    "\n",
    "**Nota:** Todos los ejemplos de código están diseñados para ejecutarse en Jupyter Notebook con `%matplotlib inline`. ¡Manos a la obra! 📐🐍"
   ]
  },
  {
   "cell_type": "markdown",
   "id": "fb9402bb",
   "metadata": {
    "slideshow": {
     "slide_type": "slide"
    }
   },
   "source": [
    "## Estrategias propuestas para la solución de las dificultades de aprendizaje detectadas"
   ]
  },
  {
   "cell_type": "markdown",
   "id": "2dd3bd5c",
   "metadata": {
    "slideshow": {
     "slide_type": "slide"
    }
   },
   "source": []
  },
  {
   "cell_type": "markdown",
   "id": "c6236d5d",
   "metadata": {},
   "source": [
    "# FODA del grupo y del profesor  \n",
    "\n",
    "* F: Fortalezas\n",
    "* O: Oportunidades\n",
    "* D: Dificultades\n",
    "* A: Amenazas."
   ]
  },
  {
   "cell_type": "markdown",
   "id": "b48f9542",
   "metadata": {},
   "source": [
    "## ¿Cómo se sintió en este espacio de enseñanza y aprendizaje?\n",
    "\n",
    "!Dios te bendiga¡"
   ]
  },
  {
   "cell_type": "markdown",
   "id": "10bce0d0",
   "metadata": {
    "slideshow": {
     "slide_type": "slide"
    }
   },
   "source": [
    "## Referentes "
   ]
  },
  {
   "cell_type": "markdown",
   "id": "d204c917",
   "metadata": {},
   "source": [
    "* [Grajales Vanegas, L. M., Restrepo Estrada, C. E., Restrepo Ochoa, S. I., & Ruíz De Villalba, F. (2015). Matemáticas I para las ciencias económicas.](https://github.com/marco-canas/fundamentos_de_la_aritmetica/blob/main/referentes/2_grajales_logica/grajales_lina_matemticas.pdf)\n",
    "  \n",
    "* Duval, R. (2004). Semiosis y pensamiento humano: registros semióticos y aprendizajes intelectuales. Universidad del Valle.\n",
    "\n",
    "* [Aylwin, C. U. (2011). Lógica, conjuntos y números. Universidad de los Andes, Consejo de Publicaciones, Colección: Ciencias Básicas, Serie: Matemáticas.](https://github.com/marco-canas/fundamentos_logica/blob/main/referentes/2_uzcategui/uscategui.pdf)\n",
    "  \n",
    "* [Chollet, F. (2021). Deep learning with Python. Simon and Schuster.](https://github.com/marco-canas/didactica_ciencia_datos/blob/main/2_referentes/chollet/Fran%C3%A7ois%20Chollet%20-%20Deep%20Learning%20with%20Python-Manning%20(2018).pdf)  \n",
    "  \n",
    "* [Watson, S., Stewart, J., & Redlin, L. (2009). Precálculo. Matemáticas para el cálculo.](https://github.com/marco-canas/calculo/blob/main/referents/1_precalculo_stewart/stewart_precalculo.pdf)  \n",
    "\n",
    "* [Purcell, E. J., Varberg, D., & Rigdon, S. E. (2007). Cálculo diferencial e integral. Pearson Educación.](https://github.com/marco-canas/calculo/blob/main/referents/purcell/purcell_calculo.pdf)\n",
    "\n",
    "  \n",
    "\n",
    "* [stewart cálculo](https://udeaeduco-my.sharepoint.com/:b:/g/personal/marco_canas_udea_edu_co/EZgXZjAp8QxPqOAim2hs6LcBNPLGjSHf-xwYnUVYkwa04w?e=RZdTCy)  \n",
    "\n",
    "* [larson](https://udeaeduco-my.sharepoint.com/:b:/g/personal/marco_canas_udea_edu_co/ES71ChFeO9ZDhW3TwC5Ijk8BjxUK3Pdqz_fjHxTTFAfIAg?e=VDEjfu)\n",
    "\n",
    "\n",
    "\n",
    "* [Recomendación de la UNESCO sobre ciencia abierta](https://unesdoc.unesco.org/ark:/48223/pf0000379949_spa)\n",
    "\n",
    "* [chatGPT](https://openai.com/blog/chatgpt)  \n",
    "\n",
    "* [Géron, A. (2017). Hands-on machine learning with scikit-learn and tensorflow: Concepts. Tools, and Techniques to build intelligent systems.](chrome-extension://efaidnbmnnnibpcajpcglclefindmkaj/http://14.139.161.31/OddSem-0822-1122/Hands-On_Machine_Learning_with_Scikit-Learn-Keras-and-TensorFlow-2nd-Edition-Aurelien-Geron.pdf)   \n"
   ]
  },
  {
   "cell_type": "markdown",
   "id": "6b9e56a8",
   "metadata": {
    "slideshow": {
     "slide_type": "slide"
    }
   },
   "source": [
    "### [Evaluamos al profesor Marco Cañas Aquí](https://forms.office.com/Pages/ResponsePage.aspx?id=IefhmYRxjkmK_7KtTlPBwkanXIs1i1FEujpsZgO6dXpUREJPV1kxUk1JV1ozTFJIQVNIQjY5WEY3US4u)"
   ]
  },
  {
   "cell_type": "markdown",
   "id": "071afa04",
   "metadata": {
    "slideshow": {
     "slide_type": "slide"
    }
   },
   "source": [
    "## [Evaluación luego de alcanzar estos objetivos de aprendizaje]()"
   ]
  },
  {
   "cell_type": "markdown",
   "id": "10f43536",
   "metadata": {
    "slideshow": {
     "slide_type": "slide"
    }
   },
   "source": [
    "### Continue su aprendizaje en la siguiente clase a través del siguiente [vínculo]()"
   ]
  },
  {
   "cell_type": "markdown",
   "id": "af751e30",
   "metadata": {
    "slideshow": {
     "slide_type": "slide"
    }
   },
   "source": [
    "# Conjeturas pedagógicas fruto de la aplicación del modelo de aprendizaje invertido y del enfoque hacia la ciencia de datos con python\n",
    "\n",
    "1. Todo cálculo o resultado debe ser interpretado en una línea markdown del cuaderno Jupyter, inmediatamente después de la enunciación del resultado y después de la presentación de una tabla o gráfico bidimensional, de tal menera que el estudiante explicite la comprensión verbal del resultado y las inferencias o estrategias que este resultado le sugieren.   "
   ]
  }
 ],
 "metadata": {
  "celltoolbar": "Slideshow",
  "kernelspec": {
   "display_name": "Python 3",
   "language": "python",
   "name": "python3"
  },
  "language_info": {
   "codemirror_mode": {
    "name": "ipython",
    "version": 3
   },
   "file_extension": ".py",
   "mimetype": "text/x-python",
   "name": "python",
   "nbconvert_exporter": "python",
   "pygments_lexer": "ipython3",
   "version": "3.13.2"
  },
  "rise": {
   "enable_chalkboard": true,
   "theme": "sky",
   "transition": "zoom"
  }
 },
 "nbformat": 4,
 "nbformat_minor": 5
}
